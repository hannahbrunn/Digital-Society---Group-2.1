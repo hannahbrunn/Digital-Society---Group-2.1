{
 "cells": [
  {
   "cell_type": "code",
   "execution_count": 270,
   "id": "e8eca5fd-8b0d-47e5-a7c2-36fe34cf0c53",
   "metadata": {},
   "outputs": [],
   "source": [
    "import pandas as pd\n",
    "import seaborn as sns\n",
    "from statsmodels.formula.api import ols\n",
    "import numpy as np\n",
    "import psython as psy\n",
    "import pingouin as pg\n",
    "from scipy.stats import contingency \n",
    "from factor_analyzer import FactorAnalyzer\n",
    "from factor_analyzer.factor_analyzer import calculate_bartlett_sphericity\n",
    "from factor_analyzer.factor_analyzer import calculate_kmo"
   ]
  },
  {
   "cell_type": "code",
   "execution_count": 271,
   "id": "07dd5125-749f-4ec6-a2e5-44a249647d19",
   "metadata": {},
   "outputs": [],
   "source": [
    "data = \"group21_alltogether.csv\"\n",
    "\n",
    "df = pd.read_csv(data)"
   ]
  },
  {
   "cell_type": "code",
   "execution_count": 272,
   "id": "8f5bfcfd-51e2-49f8-baf1-08206a54f062",
   "metadata": {},
   "outputs": [
    {
     "data": {
      "text/html": [
       "<div>\n",
       "<style scoped>\n",
       "    .dataframe tbody tr th:only-of-type {\n",
       "        vertical-align: middle;\n",
       "    }\n",
       "\n",
       "    .dataframe tbody tr th {\n",
       "        vertical-align: top;\n",
       "    }\n",
       "\n",
       "    .dataframe thead th {\n",
       "        text-align: right;\n",
       "    }\n",
       "</style>\n",
       "<table border=\"1\" class=\"dataframe\">\n",
       "  <thead>\n",
       "    <tr style=\"text-align: right;\">\n",
       "      <th></th>\n",
       "      <th>userid</th>\n",
       "      <th>Q2</th>\n",
       "      <th>Q3</th>\n",
       "      <th>Q4</th>\n",
       "      <th>Q5</th>\n",
       "      <th>Q6</th>\n",
       "      <th>Q7</th>\n",
       "      <th>Q8</th>\n",
       "      <th>Q9</th>\n",
       "      <th>Q10</th>\n",
       "      <th>...</th>\n",
       "      <th>condition</th>\n",
       "      <th>prolific</th>\n",
       "      <th>timestart</th>\n",
       "      <th>genre</th>\n",
       "      <th>consent</th>\n",
       "      <th>mancheck1</th>\n",
       "      <th>mancheck2</th>\n",
       "      <th>calibrationid</th>\n",
       "      <th>recommendationid</th>\n",
       "      <th>_merge</th>\n",
       "    </tr>\n",
       "  </thead>\n",
       "  <tbody>\n",
       "    <tr>\n",
       "      <th>0</th>\n",
       "      <td>485</td>\n",
       "      <td>2</td>\n",
       "      <td>2</td>\n",
       "      <td>2</td>\n",
       "      <td>2</td>\n",
       "      <td>NaN</td>\n",
       "      <td>NaN</td>\n",
       "      <td>NaN</td>\n",
       "      <td>NaN</td>\n",
       "      <td>NaN</td>\n",
       "      <td>...</td>\n",
       "      <td>1</td>\n",
       "      <td>http://localhost/group11/</td>\n",
       "      <td>2024-06-14 16:57:47</td>\n",
       "      <td>NaN</td>\n",
       "      <td>NaN</td>\n",
       "      <td>NaN</td>\n",
       "      <td>NaN</td>\n",
       "      <td>NaN</td>\n",
       "      <td>NaN</td>\n",
       "      <td>both in master and using data</td>\n",
       "    </tr>\n",
       "    <tr>\n",
       "      <th>1</th>\n",
       "      <td>488</td>\n",
       "      <td>2</td>\n",
       "      <td>2</td>\n",
       "      <td>2</td>\n",
       "      <td>2</td>\n",
       "      <td>NaN</td>\n",
       "      <td>NaN</td>\n",
       "      <td>NaN</td>\n",
       "      <td>NaN</td>\n",
       "      <td>NaN</td>\n",
       "      <td>...</td>\n",
       "      <td>0</td>\n",
       "      <td>http://localhost/group11/</td>\n",
       "      <td>2024-06-14 17:04:36</td>\n",
       "      <td>NaN</td>\n",
       "      <td>NaN</td>\n",
       "      <td>NaN</td>\n",
       "      <td>NaN</td>\n",
       "      <td>NaN</td>\n",
       "      <td>NaN</td>\n",
       "      <td>both in master and using data</td>\n",
       "    </tr>\n",
       "    <tr>\n",
       "      <th>2</th>\n",
       "      <td>489</td>\n",
       "      <td>2</td>\n",
       "      <td>2</td>\n",
       "      <td>2</td>\n",
       "      <td>2</td>\n",
       "      <td>NaN</td>\n",
       "      <td>NaN</td>\n",
       "      <td>NaN</td>\n",
       "      <td>NaN</td>\n",
       "      <td>NaN</td>\n",
       "      <td>...</td>\n",
       "      <td>1</td>\n",
       "      <td>http://localhost/group11/</td>\n",
       "      <td>2024-06-14 17:17:38</td>\n",
       "      <td>NaN</td>\n",
       "      <td>NaN</td>\n",
       "      <td>NaN</td>\n",
       "      <td>NaN</td>\n",
       "      <td>NaN</td>\n",
       "      <td>NaN</td>\n",
       "      <td>both in master and using data</td>\n",
       "    </tr>\n",
       "    <tr>\n",
       "      <th>3</th>\n",
       "      <td>492</td>\n",
       "      <td>2</td>\n",
       "      <td>2</td>\n",
       "      <td>2</td>\n",
       "      <td>2</td>\n",
       "      <td>NaN</td>\n",
       "      <td>NaN</td>\n",
       "      <td>NaN</td>\n",
       "      <td>NaN</td>\n",
       "      <td>NaN</td>\n",
       "      <td>...</td>\n",
       "      <td>1</td>\n",
       "      <td>http://localhost/group11/</td>\n",
       "      <td>2024-06-14 17:19:24</td>\n",
       "      <td>NaN</td>\n",
       "      <td>NaN</td>\n",
       "      <td>NaN</td>\n",
       "      <td>NaN</td>\n",
       "      <td>NaN</td>\n",
       "      <td>NaN</td>\n",
       "      <td>both in master and using data</td>\n",
       "    </tr>\n",
       "    <tr>\n",
       "      <th>4</th>\n",
       "      <td>497</td>\n",
       "      <td>3</td>\n",
       "      <td>2</td>\n",
       "      <td>2</td>\n",
       "      <td>2</td>\n",
       "      <td>NaN</td>\n",
       "      <td>NaN</td>\n",
       "      <td>NaN</td>\n",
       "      <td>NaN</td>\n",
       "      <td>NaN</td>\n",
       "      <td>...</td>\n",
       "      <td>0</td>\n",
       "      <td>1.5</td>\n",
       "      <td>2024-06-15 20:56:12</td>\n",
       "      <td>NaN</td>\n",
       "      <td>NaN</td>\n",
       "      <td>NaN</td>\n",
       "      <td>NaN</td>\n",
       "      <td>NaN</td>\n",
       "      <td>NaN</td>\n",
       "      <td>both in master and using data</td>\n",
       "    </tr>\n",
       "  </tbody>\n",
       "</table>\n",
       "<p>5 rows × 57 columns</p>\n",
       "</div>"
      ],
      "text/plain": [
       "   userid  Q2  Q3  Q4  Q5  Q6  Q7  Q8  Q9  Q10  ...  condition  \\\n",
       "0     485   2   2   2   2 NaN NaN NaN NaN  NaN  ...          1   \n",
       "1     488   2   2   2   2 NaN NaN NaN NaN  NaN  ...          0   \n",
       "2     489   2   2   2   2 NaN NaN NaN NaN  NaN  ...          1   \n",
       "3     492   2   2   2   2 NaN NaN NaN NaN  NaN  ...          1   \n",
       "4     497   3   2   2   2 NaN NaN NaN NaN  NaN  ...          0   \n",
       "\n",
       "                    prolific            timestart  genre  consent  mancheck1  \\\n",
       "0  http://localhost/group11/  2024-06-14 16:57:47    NaN      NaN        NaN   \n",
       "1  http://localhost/group11/  2024-06-14 17:04:36    NaN      NaN        NaN   \n",
       "2  http://localhost/group11/  2024-06-14 17:17:38    NaN      NaN        NaN   \n",
       "3  http://localhost/group11/  2024-06-14 17:19:24    NaN      NaN        NaN   \n",
       "4                        1.5  2024-06-15 20:56:12    NaN      NaN        NaN   \n",
       "\n",
       "   mancheck2  calibrationid  recommendationid                         _merge  \n",
       "0        NaN            NaN               NaN  both in master and using data  \n",
       "1        NaN            NaN               NaN  both in master and using data  \n",
       "2        NaN            NaN               NaN  both in master and using data  \n",
       "3        NaN            NaN               NaN  both in master and using data  \n",
       "4        NaN            NaN               NaN  both in master and using data  \n",
       "\n",
       "[5 rows x 57 columns]"
      ]
     },
     "execution_count": 272,
     "metadata": {},
     "output_type": "execute_result"
    }
   ],
   "source": [
    "df.head()"
   ]
  },
  {
   "cell_type": "code",
   "execution_count": 273,
   "id": "c611e8cd-4f46-4e5f-bd32-f51a375eae6f",
   "metadata": {},
   "outputs": [
    {
     "data": {
      "text/plain": [
       "(136, 57)"
      ]
     },
     "execution_count": 273,
     "metadata": {},
     "output_type": "execute_result"
    }
   ],
   "source": [
    "df.shape"
   ]
  },
  {
   "cell_type": "code",
   "execution_count": 274,
   "id": "671a5a76-f998-4f37-8387-1f68e64b4e14",
   "metadata": {},
   "outputs": [
    {
     "data": {
      "text/plain": [
       "Index(['userid', 'Q2', 'Q3', 'Q4', 'Q5', 'Q6', 'Q7', 'Q8', 'Q9', 'Q10', 'Q11',\n",
       "       'Q12', 'Q13', 'Q14', 'Q15', 'Q16', 'Q17', 'Q18', 'Q19', 'Q20', 'Q21',\n",
       "       'Q22', 'Q23', 'Q24', 'Q25', 'Q26', 'Q27', 'Q28', 'Q29', 'Q30', 'Q31',\n",
       "       'Q32', 'Q33', 'Q34', 'Q35', 'Q36', 'Q37', 'Q38', 'Q39', 'Q40', 'Q41',\n",
       "       'Q42', 'age', 'gender', 'device', 'education', 'time', 'condition',\n",
       "       'prolific', 'timestart', 'genre', 'consent', 'mancheck1', 'mancheck2',\n",
       "       'calibrationid', 'recommendationid', '_merge'],\n",
       "      dtype='object')"
      ]
     },
     "execution_count": 274,
     "metadata": {},
     "output_type": "execute_result"
    }
   ],
   "source": [
    "df.columns"
   ]
  },
  {
   "cell_type": "code",
   "execution_count": 275,
   "id": "aca6cc76-315c-4186-bfb5-aa7e487f827f",
   "metadata": {},
   "outputs": [
    {
     "data": {
      "text/plain": [
       "userid                int64\n",
       "Q2                    int64\n",
       "Q3                    int64\n",
       "Q4                    int64\n",
       "Q5                    int64\n",
       "Q6                  float64\n",
       "Q7                  float64\n",
       "Q8                  float64\n",
       "Q9                  float64\n",
       "Q10                 float64\n",
       "Q11                 float64\n",
       "Q12                 float64\n",
       "Q13                 float64\n",
       "Q14                 float64\n",
       "Q15                 float64\n",
       "Q16                 float64\n",
       "Q17                 float64\n",
       "Q18                 float64\n",
       "Q19                 float64\n",
       "Q20                 float64\n",
       "Q21                 float64\n",
       "Q22                 float64\n",
       "Q23                 float64\n",
       "Q24                 float64\n",
       "Q25                 float64\n",
       "Q26                 float64\n",
       "Q27                 float64\n",
       "Q28                 float64\n",
       "Q29                 float64\n",
       "Q30                 float64\n",
       "Q31                 float64\n",
       "Q32                 float64\n",
       "Q33                 float64\n",
       "Q34                 float64\n",
       "Q35                 float64\n",
       "Q36                 float64\n",
       "Q37                 float64\n",
       "Q38                 float64\n",
       "Q39                 float64\n",
       "Q40                 float64\n",
       "Q41                 float64\n",
       "Q42                 float64\n",
       "age                 float64\n",
       "gender              float64\n",
       "device              float64\n",
       "education           float64\n",
       "time                 object\n",
       "condition             int64\n",
       "prolific             object\n",
       "timestart            object\n",
       "genre               float64\n",
       "consent             float64\n",
       "mancheck1           float64\n",
       "mancheck2           float64\n",
       "calibrationid       float64\n",
       "recommendationid    float64\n",
       "_merge               object\n",
       "dtype: object"
      ]
     },
     "execution_count": 275,
     "metadata": {},
     "output_type": "execute_result"
    }
   ],
   "source": [
    "df.dtypes"
   ]
  },
  {
   "cell_type": "markdown",
   "id": "db1cc782-75a9-49e7-916b-dbb0f45efa6d",
   "metadata": {},
   "source": [
    "## Dropping the users that answered before 2024-06-21 14:00"
   ]
  },
  {
   "cell_type": "code",
   "execution_count": 276,
   "id": "d1571227-b1c6-4220-acfe-c811bd8004d1",
   "metadata": {},
   "outputs": [
    {
     "data": {
      "text/plain": [
       "count                     136\n",
       "unique                    136\n",
       "top       2024-06-14 16:57:47\n",
       "freq                        1\n",
       "Name: timestart, dtype: object"
      ]
     },
     "execution_count": 276,
     "metadata": {},
     "output_type": "execute_result"
    }
   ],
   "source": [
    "#first checking the column\n",
    "df[\"timestart\"].describe()"
   ]
  },
  {
   "cell_type": "code",
   "execution_count": 277,
   "id": "74840f1f-7d3e-4277-9c44-a0b64454c3f2",
   "metadata": {},
   "outputs": [
    {
     "data": {
      "text/html": [
       "<div>\n",
       "<style scoped>\n",
       "    .dataframe tbody tr th:only-of-type {\n",
       "        vertical-align: middle;\n",
       "    }\n",
       "\n",
       "    .dataframe tbody tr th {\n",
       "        vertical-align: top;\n",
       "    }\n",
       "\n",
       "    .dataframe thead th {\n",
       "        text-align: right;\n",
       "    }\n",
       "</style>\n",
       "<table border=\"1\" class=\"dataframe\">\n",
       "  <thead>\n",
       "    <tr style=\"text-align: right;\">\n",
       "      <th></th>\n",
       "      <th>userid</th>\n",
       "      <th>Q2</th>\n",
       "      <th>Q3</th>\n",
       "      <th>Q4</th>\n",
       "      <th>Q5</th>\n",
       "      <th>Q6</th>\n",
       "      <th>Q7</th>\n",
       "      <th>Q8</th>\n",
       "      <th>Q9</th>\n",
       "      <th>Q10</th>\n",
       "      <th>...</th>\n",
       "      <th>condition</th>\n",
       "      <th>prolific</th>\n",
       "      <th>timestart</th>\n",
       "      <th>genre</th>\n",
       "      <th>consent</th>\n",
       "      <th>mancheck1</th>\n",
       "      <th>mancheck2</th>\n",
       "      <th>calibrationid</th>\n",
       "      <th>recommendationid</th>\n",
       "      <th>_merge</th>\n",
       "    </tr>\n",
       "  </thead>\n",
       "  <tbody>\n",
       "    <tr>\n",
       "      <th>0</th>\n",
       "      <td>485</td>\n",
       "      <td>2</td>\n",
       "      <td>2</td>\n",
       "      <td>2</td>\n",
       "      <td>2</td>\n",
       "      <td>NaN</td>\n",
       "      <td>NaN</td>\n",
       "      <td>NaN</td>\n",
       "      <td>NaN</td>\n",
       "      <td>NaN</td>\n",
       "      <td>...</td>\n",
       "      <td>1</td>\n",
       "      <td>http://localhost/group11/</td>\n",
       "      <td>2024-06-14 16:57:47</td>\n",
       "      <td>NaN</td>\n",
       "      <td>NaN</td>\n",
       "      <td>NaN</td>\n",
       "      <td>NaN</td>\n",
       "      <td>NaN</td>\n",
       "      <td>NaN</td>\n",
       "      <td>both in master and using data</td>\n",
       "    </tr>\n",
       "    <tr>\n",
       "      <th>1</th>\n",
       "      <td>488</td>\n",
       "      <td>2</td>\n",
       "      <td>2</td>\n",
       "      <td>2</td>\n",
       "      <td>2</td>\n",
       "      <td>NaN</td>\n",
       "      <td>NaN</td>\n",
       "      <td>NaN</td>\n",
       "      <td>NaN</td>\n",
       "      <td>NaN</td>\n",
       "      <td>...</td>\n",
       "      <td>0</td>\n",
       "      <td>http://localhost/group11/</td>\n",
       "      <td>2024-06-14 17:04:36</td>\n",
       "      <td>NaN</td>\n",
       "      <td>NaN</td>\n",
       "      <td>NaN</td>\n",
       "      <td>NaN</td>\n",
       "      <td>NaN</td>\n",
       "      <td>NaN</td>\n",
       "      <td>both in master and using data</td>\n",
       "    </tr>\n",
       "    <tr>\n",
       "      <th>2</th>\n",
       "      <td>489</td>\n",
       "      <td>2</td>\n",
       "      <td>2</td>\n",
       "      <td>2</td>\n",
       "      <td>2</td>\n",
       "      <td>NaN</td>\n",
       "      <td>NaN</td>\n",
       "      <td>NaN</td>\n",
       "      <td>NaN</td>\n",
       "      <td>NaN</td>\n",
       "      <td>...</td>\n",
       "      <td>1</td>\n",
       "      <td>http://localhost/group11/</td>\n",
       "      <td>2024-06-14 17:17:38</td>\n",
       "      <td>NaN</td>\n",
       "      <td>NaN</td>\n",
       "      <td>NaN</td>\n",
       "      <td>NaN</td>\n",
       "      <td>NaN</td>\n",
       "      <td>NaN</td>\n",
       "      <td>both in master and using data</td>\n",
       "    </tr>\n",
       "    <tr>\n",
       "      <th>3</th>\n",
       "      <td>492</td>\n",
       "      <td>2</td>\n",
       "      <td>2</td>\n",
       "      <td>2</td>\n",
       "      <td>2</td>\n",
       "      <td>NaN</td>\n",
       "      <td>NaN</td>\n",
       "      <td>NaN</td>\n",
       "      <td>NaN</td>\n",
       "      <td>NaN</td>\n",
       "      <td>...</td>\n",
       "      <td>1</td>\n",
       "      <td>http://localhost/group11/</td>\n",
       "      <td>2024-06-14 17:19:24</td>\n",
       "      <td>NaN</td>\n",
       "      <td>NaN</td>\n",
       "      <td>NaN</td>\n",
       "      <td>NaN</td>\n",
       "      <td>NaN</td>\n",
       "      <td>NaN</td>\n",
       "      <td>both in master and using data</td>\n",
       "    </tr>\n",
       "    <tr>\n",
       "      <th>4</th>\n",
       "      <td>497</td>\n",
       "      <td>3</td>\n",
       "      <td>2</td>\n",
       "      <td>2</td>\n",
       "      <td>2</td>\n",
       "      <td>NaN</td>\n",
       "      <td>NaN</td>\n",
       "      <td>NaN</td>\n",
       "      <td>NaN</td>\n",
       "      <td>NaN</td>\n",
       "      <td>...</td>\n",
       "      <td>0</td>\n",
       "      <td>1.5</td>\n",
       "      <td>2024-06-15 20:56:12</td>\n",
       "      <td>NaN</td>\n",
       "      <td>NaN</td>\n",
       "      <td>NaN</td>\n",
       "      <td>NaN</td>\n",
       "      <td>NaN</td>\n",
       "      <td>NaN</td>\n",
       "      <td>both in master and using data</td>\n",
       "    </tr>\n",
       "    <tr>\n",
       "      <th>...</th>\n",
       "      <td>...</td>\n",
       "      <td>...</td>\n",
       "      <td>...</td>\n",
       "      <td>...</td>\n",
       "      <td>...</td>\n",
       "      <td>...</td>\n",
       "      <td>...</td>\n",
       "      <td>...</td>\n",
       "      <td>...</td>\n",
       "      <td>...</td>\n",
       "      <td>...</td>\n",
       "      <td>...</td>\n",
       "      <td>...</td>\n",
       "      <td>...</td>\n",
       "      <td>...</td>\n",
       "      <td>...</td>\n",
       "      <td>...</td>\n",
       "      <td>...</td>\n",
       "      <td>...</td>\n",
       "      <td>...</td>\n",
       "      <td>...</td>\n",
       "    </tr>\n",
       "    <tr>\n",
       "      <th>131</th>\n",
       "      <td>716</td>\n",
       "      <td>1</td>\n",
       "      <td>1</td>\n",
       "      <td>1</td>\n",
       "      <td>1</td>\n",
       "      <td>1.0</td>\n",
       "      <td>1.0</td>\n",
       "      <td>1.0</td>\n",
       "      <td>1.0</td>\n",
       "      <td>1.0</td>\n",
       "      <td>...</td>\n",
       "      <td>1</td>\n",
       "      <td>https://recipe-study.wur.nl/group21_bookrecomm...</td>\n",
       "      <td>2024-06-22 21:18:03</td>\n",
       "      <td>1.0</td>\n",
       "      <td>1.0</td>\n",
       "      <td>1.0</td>\n",
       "      <td>1.0</td>\n",
       "      <td>305.0</td>\n",
       "      <td>543.0</td>\n",
       "      <td>both in master and using data</td>\n",
       "    </tr>\n",
       "    <tr>\n",
       "      <th>132</th>\n",
       "      <td>721</td>\n",
       "      <td>4</td>\n",
       "      <td>7</td>\n",
       "      <td>5</td>\n",
       "      <td>5</td>\n",
       "      <td>5.0</td>\n",
       "      <td>5.0</td>\n",
       "      <td>5.0</td>\n",
       "      <td>5.0</td>\n",
       "      <td>3.0</td>\n",
       "      <td>...</td>\n",
       "      <td>1</td>\n",
       "      <td>https://recipe-study.wur.nl/group21_bookrecomm...</td>\n",
       "      <td>2024-06-23 01:38:36</td>\n",
       "      <td>4.0</td>\n",
       "      <td>1.0</td>\n",
       "      <td>0.0</td>\n",
       "      <td>5.0</td>\n",
       "      <td>1914.0</td>\n",
       "      <td>414.0</td>\n",
       "      <td>both in master and using data</td>\n",
       "    </tr>\n",
       "    <tr>\n",
       "      <th>133</th>\n",
       "      <td>722</td>\n",
       "      <td>6</td>\n",
       "      <td>5</td>\n",
       "      <td>5</td>\n",
       "      <td>4</td>\n",
       "      <td>4.0</td>\n",
       "      <td>6.0</td>\n",
       "      <td>6.0</td>\n",
       "      <td>6.0</td>\n",
       "      <td>6.0</td>\n",
       "      <td>...</td>\n",
       "      <td>0</td>\n",
       "      <td>https://recipe-study.wur.nl/group21_bookrecomm...</td>\n",
       "      <td>2024-06-23 15:17:58</td>\n",
       "      <td>2.0</td>\n",
       "      <td>1.0</td>\n",
       "      <td>0.0</td>\n",
       "      <td>2.0</td>\n",
       "      <td>929.0</td>\n",
       "      <td>2262.0</td>\n",
       "      <td>both in master and using data</td>\n",
       "    </tr>\n",
       "    <tr>\n",
       "      <th>134</th>\n",
       "      <td>723</td>\n",
       "      <td>7</td>\n",
       "      <td>7</td>\n",
       "      <td>7</td>\n",
       "      <td>6</td>\n",
       "      <td>6.0</td>\n",
       "      <td>6.0</td>\n",
       "      <td>5.0</td>\n",
       "      <td>5.0</td>\n",
       "      <td>4.0</td>\n",
       "      <td>...</td>\n",
       "      <td>0</td>\n",
       "      <td>https://recipe-study.wur.nl/group21_bookrecomm...</td>\n",
       "      <td>2024-06-23 16:17:09</td>\n",
       "      <td>1.0</td>\n",
       "      <td>1.0</td>\n",
       "      <td>1.0</td>\n",
       "      <td>6.0</td>\n",
       "      <td>151.0</td>\n",
       "      <td>132.0</td>\n",
       "      <td>both in master and using data</td>\n",
       "    </tr>\n",
       "    <tr>\n",
       "      <th>135</th>\n",
       "      <td>724</td>\n",
       "      <td>7</td>\n",
       "      <td>7</td>\n",
       "      <td>7</td>\n",
       "      <td>4</td>\n",
       "      <td>4.0</td>\n",
       "      <td>7.0</td>\n",
       "      <td>NaN</td>\n",
       "      <td>NaN</td>\n",
       "      <td>NaN</td>\n",
       "      <td>...</td>\n",
       "      <td>1</td>\n",
       "      <td>https://recipe-study.wur.nl/group21_bookrecomm...</td>\n",
       "      <td>2024-06-23 23:47:10</td>\n",
       "      <td>4.0</td>\n",
       "      <td>NaN</td>\n",
       "      <td>1.0</td>\n",
       "      <td>4.0</td>\n",
       "      <td>1295.0</td>\n",
       "      <td>1715.0</td>\n",
       "      <td>both in master and using data</td>\n",
       "    </tr>\n",
       "  </tbody>\n",
       "</table>\n",
       "<p>136 rows × 57 columns</p>\n",
       "</div>"
      ],
      "text/plain": [
       "     userid  Q2  Q3  Q4  Q5   Q6   Q7   Q8   Q9  Q10  ...  condition  \\\n",
       "0       485   2   2   2   2  NaN  NaN  NaN  NaN  NaN  ...          1   \n",
       "1       488   2   2   2   2  NaN  NaN  NaN  NaN  NaN  ...          0   \n",
       "2       489   2   2   2   2  NaN  NaN  NaN  NaN  NaN  ...          1   \n",
       "3       492   2   2   2   2  NaN  NaN  NaN  NaN  NaN  ...          1   \n",
       "4       497   3   2   2   2  NaN  NaN  NaN  NaN  NaN  ...          0   \n",
       "..      ...  ..  ..  ..  ..  ...  ...  ...  ...  ...  ...        ...   \n",
       "131     716   1   1   1   1  1.0  1.0  1.0  1.0  1.0  ...          1   \n",
       "132     721   4   7   5   5  5.0  5.0  5.0  5.0  3.0  ...          1   \n",
       "133     722   6   5   5   4  4.0  6.0  6.0  6.0  6.0  ...          0   \n",
       "134     723   7   7   7   6  6.0  6.0  5.0  5.0  4.0  ...          0   \n",
       "135     724   7   7   7   4  4.0  7.0  NaN  NaN  NaN  ...          1   \n",
       "\n",
       "                                              prolific            timestart  \\\n",
       "0                            http://localhost/group11/  2024-06-14 16:57:47   \n",
       "1                            http://localhost/group11/  2024-06-14 17:04:36   \n",
       "2                            http://localhost/group11/  2024-06-14 17:17:38   \n",
       "3                            http://localhost/group11/  2024-06-14 17:19:24   \n",
       "4                                                  1.5  2024-06-15 20:56:12   \n",
       "..                                                 ...                  ...   \n",
       "131  https://recipe-study.wur.nl/group21_bookrecomm...  2024-06-22 21:18:03   \n",
       "132  https://recipe-study.wur.nl/group21_bookrecomm...  2024-06-23 01:38:36   \n",
       "133  https://recipe-study.wur.nl/group21_bookrecomm...  2024-06-23 15:17:58   \n",
       "134  https://recipe-study.wur.nl/group21_bookrecomm...  2024-06-23 16:17:09   \n",
       "135  https://recipe-study.wur.nl/group21_bookrecomm...  2024-06-23 23:47:10   \n",
       "\n",
       "     genre  consent  mancheck1  mancheck2  calibrationid  recommendationid  \\\n",
       "0      NaN      NaN        NaN        NaN            NaN               NaN   \n",
       "1      NaN      NaN        NaN        NaN            NaN               NaN   \n",
       "2      NaN      NaN        NaN        NaN            NaN               NaN   \n",
       "3      NaN      NaN        NaN        NaN            NaN               NaN   \n",
       "4      NaN      NaN        NaN        NaN            NaN               NaN   \n",
       "..     ...      ...        ...        ...            ...               ...   \n",
       "131    1.0      1.0        1.0        1.0          305.0             543.0   \n",
       "132    4.0      1.0        0.0        5.0         1914.0             414.0   \n",
       "133    2.0      1.0        0.0        2.0          929.0            2262.0   \n",
       "134    1.0      1.0        1.0        6.0          151.0             132.0   \n",
       "135    4.0      NaN        1.0        4.0         1295.0            1715.0   \n",
       "\n",
       "                            _merge  \n",
       "0    both in master and using data  \n",
       "1    both in master and using data  \n",
       "2    both in master and using data  \n",
       "3    both in master and using data  \n",
       "4    both in master and using data  \n",
       "..                             ...  \n",
       "131  both in master and using data  \n",
       "132  both in master and using data  \n",
       "133  both in master and using data  \n",
       "134  both in master and using data  \n",
       "135  both in master and using data  \n",
       "\n",
       "[136 rows x 57 columns]"
      ]
     },
     "execution_count": 277,
     "metadata": {},
     "output_type": "execute_result"
    }
   ],
   "source": [
    "df"
   ]
  },
  {
   "cell_type": "code",
   "execution_count": 278,
   "id": "f8d69c56-3eb6-47a6-a353-3820ca8a2d69",
   "metadata": {},
   "outputs": [
    {
     "data": {
      "text/plain": [
       "'2024-06-23 23:47:10'"
      ]
     },
     "execution_count": 278,
     "metadata": {},
     "output_type": "execute_result"
    }
   ],
   "source": [
    "df[\"timestart\"].max()"
   ]
  },
  {
   "cell_type": "code",
   "execution_count": 279,
   "id": "0fd38977-fd2c-44ae-b24a-9b5d0c685b6b",
   "metadata": {},
   "outputs": [
    {
     "data": {
      "text/plain": [
       "'2024-06-14 16:57:47'"
      ]
     },
     "execution_count": 279,
     "metadata": {},
     "output_type": "execute_result"
    }
   ],
   "source": [
    "df[\"timestart\"].min()"
   ]
  },
  {
   "cell_type": "code",
   "execution_count": 280,
   "id": "bc3bf8d9-e75c-4229-88b5-c559af7c8a6f",
   "metadata": {},
   "outputs": [],
   "source": [
    "#Convert the date\n",
    "df['timestart'] = pd.to_datetime(df['timestart'])"
   ]
  },
  {
   "cell_type": "code",
   "execution_count": 281,
   "id": "b58d2354-86e5-47c4-8885-7c8c70e7cb84",
   "metadata": {},
   "outputs": [
    {
     "data": {
      "text/plain": [
       "0     2024-06-14 16:57:47\n",
       "1     2024-06-14 17:04:36\n",
       "2     2024-06-14 17:17:38\n",
       "3     2024-06-14 17:19:24\n",
       "4     2024-06-15 20:56:12\n",
       "              ...        \n",
       "131   2024-06-22 21:18:03\n",
       "132   2024-06-23 01:38:36\n",
       "133   2024-06-23 15:17:58\n",
       "134   2024-06-23 16:17:09\n",
       "135   2024-06-23 23:47:10\n",
       "Name: timestart, Length: 136, dtype: datetime64[ns]"
      ]
     },
     "execution_count": 281,
     "metadata": {},
     "output_type": "execute_result"
    }
   ],
   "source": [
    "df['timestart']"
   ]
  },
  {
   "cell_type": "code",
   "execution_count": 282,
   "id": "9792f7a1-4a74-4a8b-ab15-795ea6874472",
   "metadata": {},
   "outputs": [],
   "source": [
    " # Filter data between two dates -> used this https://www.geeksforgeeks.org/how-to-filter-dataframe-rows-based-on-the-date-in-pandas/\n",
    "filtered_df = df.loc[(df['timestart'] >= '2024-06-21 14:00')\n",
    "                     & (df['timestart'] <= '2024-06-23 23:47:10')]"
   ]
  },
  {
   "cell_type": "code",
   "execution_count": 283,
   "id": "e6ba94cb-3ca1-4680-bb3e-32118d914e0c",
   "metadata": {},
   "outputs": [
    {
     "data": {
      "text/html": [
       "<div>\n",
       "<style scoped>\n",
       "    .dataframe tbody tr th:only-of-type {\n",
       "        vertical-align: middle;\n",
       "    }\n",
       "\n",
       "    .dataframe tbody tr th {\n",
       "        vertical-align: top;\n",
       "    }\n",
       "\n",
       "    .dataframe thead th {\n",
       "        text-align: right;\n",
       "    }\n",
       "</style>\n",
       "<table border=\"1\" class=\"dataframe\">\n",
       "  <thead>\n",
       "    <tr style=\"text-align: right;\">\n",
       "      <th></th>\n",
       "      <th>userid</th>\n",
       "      <th>Q2</th>\n",
       "      <th>Q3</th>\n",
       "      <th>Q4</th>\n",
       "      <th>Q5</th>\n",
       "      <th>Q6</th>\n",
       "      <th>Q7</th>\n",
       "      <th>Q8</th>\n",
       "      <th>Q9</th>\n",
       "      <th>Q10</th>\n",
       "      <th>...</th>\n",
       "      <th>condition</th>\n",
       "      <th>prolific</th>\n",
       "      <th>timestart</th>\n",
       "      <th>genre</th>\n",
       "      <th>consent</th>\n",
       "      <th>mancheck1</th>\n",
       "      <th>mancheck2</th>\n",
       "      <th>calibrationid</th>\n",
       "      <th>recommendationid</th>\n",
       "      <th>_merge</th>\n",
       "    </tr>\n",
       "  </thead>\n",
       "  <tbody>\n",
       "    <tr>\n",
       "      <th>50</th>\n",
       "      <td>599</td>\n",
       "      <td>4</td>\n",
       "      <td>2</td>\n",
       "      <td>2</td>\n",
       "      <td>2</td>\n",
       "      <td>2.0</td>\n",
       "      <td>2.0</td>\n",
       "      <td>4.0</td>\n",
       "      <td>2.0</td>\n",
       "      <td>2.0</td>\n",
       "      <td>...</td>\n",
       "      <td>1</td>\n",
       "      <td>https://recipe-study.wur.nl/gr</td>\n",
       "      <td>2024-06-21 14:06:27</td>\n",
       "      <td>3.0</td>\n",
       "      <td>1.0</td>\n",
       "      <td>0.0</td>\n",
       "      <td>2.0</td>\n",
       "      <td>683.0</td>\n",
       "      <td>2017.0</td>\n",
       "      <td>both in master and using data</td>\n",
       "    </tr>\n",
       "    <tr>\n",
       "      <th>51</th>\n",
       "      <td>600</td>\n",
       "      <td>7</td>\n",
       "      <td>7</td>\n",
       "      <td>7</td>\n",
       "      <td>7</td>\n",
       "      <td>7.0</td>\n",
       "      <td>7.0</td>\n",
       "      <td>5.0</td>\n",
       "      <td>5.0</td>\n",
       "      <td>5.0</td>\n",
       "      <td>...</td>\n",
       "      <td>1</td>\n",
       "      <td>https://recipe-study.wur.nl/gr</td>\n",
       "      <td>2024-06-21 14:29:48</td>\n",
       "      <td>1.0</td>\n",
       "      <td>1.0</td>\n",
       "      <td>0.0</td>\n",
       "      <td>4.0</td>\n",
       "      <td>769.0</td>\n",
       "      <td>1841.0</td>\n",
       "      <td>both in master and using data</td>\n",
       "    </tr>\n",
       "    <tr>\n",
       "      <th>52</th>\n",
       "      <td>601</td>\n",
       "      <td>4</td>\n",
       "      <td>4</td>\n",
       "      <td>4</td>\n",
       "      <td>4</td>\n",
       "      <td>4.0</td>\n",
       "      <td>4.0</td>\n",
       "      <td>7.0</td>\n",
       "      <td>7.0</td>\n",
       "      <td>7.0</td>\n",
       "      <td>...</td>\n",
       "      <td>0</td>\n",
       "      <td>https://recipe-study.wur.nl/gr</td>\n",
       "      <td>2024-06-21 14:33:58</td>\n",
       "      <td>1.0</td>\n",
       "      <td>1.0</td>\n",
       "      <td>1.0</td>\n",
       "      <td>4.0</td>\n",
       "      <td>305.0</td>\n",
       "      <td>304.0</td>\n",
       "      <td>both in master and using data</td>\n",
       "    </tr>\n",
       "    <tr>\n",
       "      <th>53</th>\n",
       "      <td>602</td>\n",
       "      <td>6</td>\n",
       "      <td>7</td>\n",
       "      <td>6</td>\n",
       "      <td>5</td>\n",
       "      <td>5.0</td>\n",
       "      <td>7.0</td>\n",
       "      <td>7.0</td>\n",
       "      <td>4.0</td>\n",
       "      <td>5.0</td>\n",
       "      <td>...</td>\n",
       "      <td>1</td>\n",
       "      <td>https://recipe-study.wur.nl/gr</td>\n",
       "      <td>2024-06-21 14:35:16</td>\n",
       "      <td>1.0</td>\n",
       "      <td>1.0</td>\n",
       "      <td>1.0</td>\n",
       "      <td>4.0</td>\n",
       "      <td>417.0</td>\n",
       "      <td>418.0</td>\n",
       "      <td>both in master and using data</td>\n",
       "    </tr>\n",
       "    <tr>\n",
       "      <th>54</th>\n",
       "      <td>603</td>\n",
       "      <td>6</td>\n",
       "      <td>7</td>\n",
       "      <td>7</td>\n",
       "      <td>7</td>\n",
       "      <td>6.0</td>\n",
       "      <td>7.0</td>\n",
       "      <td>6.0</td>\n",
       "      <td>7.0</td>\n",
       "      <td>7.0</td>\n",
       "      <td>...</td>\n",
       "      <td>1</td>\n",
       "      <td>https://recipe-study.wur.nl/gr</td>\n",
       "      <td>2024-06-21 14:39:19</td>\n",
       "      <td>1.0</td>\n",
       "      <td>1.0</td>\n",
       "      <td>1.0</td>\n",
       "      <td>3.0</td>\n",
       "      <td>1277.0</td>\n",
       "      <td>1276.0</td>\n",
       "      <td>both in master and using data</td>\n",
       "    </tr>\n",
       "  </tbody>\n",
       "</table>\n",
       "<p>5 rows × 57 columns</p>\n",
       "</div>"
      ],
      "text/plain": [
       "    userid  Q2  Q3  Q4  Q5   Q6   Q7   Q8   Q9  Q10  ...  condition  \\\n",
       "50     599   4   2   2   2  2.0  2.0  4.0  2.0  2.0  ...          1   \n",
       "51     600   7   7   7   7  7.0  7.0  5.0  5.0  5.0  ...          1   \n",
       "52     601   4   4   4   4  4.0  4.0  7.0  7.0  7.0  ...          0   \n",
       "53     602   6   7   6   5  5.0  7.0  7.0  4.0  5.0  ...          1   \n",
       "54     603   6   7   7   7  6.0  7.0  6.0  7.0  7.0  ...          1   \n",
       "\n",
       "                          prolific           timestart  genre  consent  \\\n",
       "50  https://recipe-study.wur.nl/gr 2024-06-21 14:06:27    3.0      1.0   \n",
       "51  https://recipe-study.wur.nl/gr 2024-06-21 14:29:48    1.0      1.0   \n",
       "52  https://recipe-study.wur.nl/gr 2024-06-21 14:33:58    1.0      1.0   \n",
       "53  https://recipe-study.wur.nl/gr 2024-06-21 14:35:16    1.0      1.0   \n",
       "54  https://recipe-study.wur.nl/gr 2024-06-21 14:39:19    1.0      1.0   \n",
       "\n",
       "    mancheck1  mancheck2  calibrationid  recommendationid  \\\n",
       "50        0.0        2.0          683.0            2017.0   \n",
       "51        0.0        4.0          769.0            1841.0   \n",
       "52        1.0        4.0          305.0             304.0   \n",
       "53        1.0        4.0          417.0             418.0   \n",
       "54        1.0        3.0         1277.0            1276.0   \n",
       "\n",
       "                           _merge  \n",
       "50  both in master and using data  \n",
       "51  both in master and using data  \n",
       "52  both in master and using data  \n",
       "53  both in master and using data  \n",
       "54  both in master and using data  \n",
       "\n",
       "[5 rows x 57 columns]"
      ]
     },
     "execution_count": 283,
     "metadata": {},
     "output_type": "execute_result"
    }
   ],
   "source": [
    "filtered_df.head()"
   ]
  },
  {
   "cell_type": "code",
   "execution_count": 284,
   "id": "08ab253d-77d0-4e2c-bd23-ac390f8d5b36",
   "metadata": {},
   "outputs": [
    {
     "name": "stdout",
     "output_type": "stream",
     "text": [
      "Original df was (136, 57)\n",
      "Filtered df is (86, 57)\n"
     ]
    }
   ],
   "source": [
    "print(f'Original df was {df.shape}')\n",
    "print(f'Filtered df is {filtered_df.shape}')"
   ]
  },
  {
   "cell_type": "code",
   "execution_count": 285,
   "id": "292484ad-41eb-41aa-acf1-5cba56007f6b",
   "metadata": {},
   "outputs": [
    {
     "name": "stdout",
     "output_type": "stream",
     "text": [
      "Removed 50 values from the original DF\n"
     ]
    }
   ],
   "source": [
    "print(f'Removed {len(df)-len(filtered_df)} values from the original DF')"
   ]
  },
  {
   "cell_type": "markdown",
   "id": "276d9791-8cf7-4bd8-93fa-2d7fa6ef3275",
   "metadata": {},
   "source": [
    "## Removing Data based on Prolific"
   ]
  },
  {
   "cell_type": "code",
   "execution_count": 286,
   "id": "32151565-802c-4e4c-8d1c-940a3d793ece",
   "metadata": {},
   "outputs": [
    {
     "data": {
      "text/plain": [
       "prolific\n",
       "https://recipe-study.wur.nl/gr                          76\n",
       "https://recipe-study.wur.nl/group21_bookrecommender/     6\n",
       "fbclid=PAZXh0bgNhZW0CMTEAAab6i                           1\n",
       "fbclid=PAZXh0bgNhZW0CMTEAAabVk                           1\n",
       "fbclid=PAZXh0bgNhZW0CMTEAAaZaA                           1\n",
       "fbclid=PAZXh0bgNhZW0CMTEAAaY85                           1\n",
       "Name: count, dtype: int64"
      ]
     },
     "execution_count": 286,
     "metadata": {},
     "output_type": "execute_result"
    }
   ],
   "source": [
    "filtered_df['prolific'].value_counts()"
   ]
  },
  {
   "cell_type": "code",
   "execution_count": 287,
   "id": "76548431-f2d7-49e7-886f-a74acf025f5e",
   "metadata": {},
   "outputs": [],
   "source": [
    "values_to_keep = ['https://recipe-study.wur.nl/gr']\n",
    "\n",
    "filtered_df2 = filtered_df[filtered_df['prolific'].isin(values_to_keep)]"
   ]
  },
  {
   "cell_type": "code",
   "execution_count": 288,
   "id": "e38fe847-2261-4074-8f50-30f9abd657df",
   "metadata": {},
   "outputs": [
    {
     "data": {
      "text/plain": [
       "prolific\n",
       "https://recipe-study.wur.nl/gr    76\n",
       "Name: count, dtype: int64"
      ]
     },
     "execution_count": 288,
     "metadata": {},
     "output_type": "execute_result"
    }
   ],
   "source": [
    "filtered_df2['prolific'].value_counts()"
   ]
  },
  {
   "cell_type": "code",
   "execution_count": 289,
   "id": "06ba9c24-e244-4b02-917b-42a9993c68e0",
   "metadata": {},
   "outputs": [
    {
     "data": {
      "text/plain": [
       "(76, 57)"
      ]
     },
     "execution_count": 289,
     "metadata": {},
     "output_type": "execute_result"
    }
   ],
   "source": [
    "filtered_df2.shape"
   ]
  },
  {
   "cell_type": "code",
   "execution_count": 290,
   "id": "ae040ef8-7742-439f-aec0-25374fe90e2d",
   "metadata": {},
   "outputs": [
    {
     "name": "stdout",
     "output_type": "stream",
     "text": [
      "Original df was (86, 57)\n",
      "Filtered df is (76, 57)\n"
     ]
    }
   ],
   "source": [
    "print(f'Original df was {filtered_df.shape}')\n",
    "print(f'Filtered df is {filtered_df2.shape}')"
   ]
  },
  {
   "cell_type": "markdown",
   "id": "a9575e43-67f6-4636-a9dd-06103af5788b",
   "metadata": {},
   "source": [
    "## Dropping Nan Results"
   ]
  },
  {
   "cell_type": "code",
   "execution_count": 291,
   "id": "7eff60b3-ddd4-4000-9582-e67598c09212",
   "metadata": {},
   "outputs": [],
   "source": [
    "filtered_df3=filtered_df2.dropna()"
   ]
  },
  {
   "cell_type": "code",
   "execution_count": 292,
   "id": "c7305da1-a0b3-4906-8cf0-1527e33999a9",
   "metadata": {},
   "outputs": [
    {
     "data": {
      "text/html": [
       "<div>\n",
       "<style scoped>\n",
       "    .dataframe tbody tr th:only-of-type {\n",
       "        vertical-align: middle;\n",
       "    }\n",
       "\n",
       "    .dataframe tbody tr th {\n",
       "        vertical-align: top;\n",
       "    }\n",
       "\n",
       "    .dataframe thead th {\n",
       "        text-align: right;\n",
       "    }\n",
       "</style>\n",
       "<table border=\"1\" class=\"dataframe\">\n",
       "  <thead>\n",
       "    <tr style=\"text-align: right;\">\n",
       "      <th></th>\n",
       "      <th>userid</th>\n",
       "      <th>Q2</th>\n",
       "      <th>Q3</th>\n",
       "      <th>Q4</th>\n",
       "      <th>Q5</th>\n",
       "      <th>Q6</th>\n",
       "      <th>Q7</th>\n",
       "      <th>Q8</th>\n",
       "      <th>Q9</th>\n",
       "      <th>Q10</th>\n",
       "      <th>...</th>\n",
       "      <th>condition</th>\n",
       "      <th>prolific</th>\n",
       "      <th>timestart</th>\n",
       "      <th>genre</th>\n",
       "      <th>consent</th>\n",
       "      <th>mancheck1</th>\n",
       "      <th>mancheck2</th>\n",
       "      <th>calibrationid</th>\n",
       "      <th>recommendationid</th>\n",
       "      <th>_merge</th>\n",
       "    </tr>\n",
       "  </thead>\n",
       "  <tbody>\n",
       "    <tr>\n",
       "      <th>50</th>\n",
       "      <td>599</td>\n",
       "      <td>4</td>\n",
       "      <td>2</td>\n",
       "      <td>2</td>\n",
       "      <td>2</td>\n",
       "      <td>2.0</td>\n",
       "      <td>2.0</td>\n",
       "      <td>4.0</td>\n",
       "      <td>2.0</td>\n",
       "      <td>2.0</td>\n",
       "      <td>...</td>\n",
       "      <td>1</td>\n",
       "      <td>https://recipe-study.wur.nl/gr</td>\n",
       "      <td>2024-06-21 14:06:27</td>\n",
       "      <td>3.0</td>\n",
       "      <td>1.0</td>\n",
       "      <td>0.0</td>\n",
       "      <td>2.0</td>\n",
       "      <td>683.0</td>\n",
       "      <td>2017.0</td>\n",
       "      <td>both in master and using data</td>\n",
       "    </tr>\n",
       "    <tr>\n",
       "      <th>51</th>\n",
       "      <td>600</td>\n",
       "      <td>7</td>\n",
       "      <td>7</td>\n",
       "      <td>7</td>\n",
       "      <td>7</td>\n",
       "      <td>7.0</td>\n",
       "      <td>7.0</td>\n",
       "      <td>5.0</td>\n",
       "      <td>5.0</td>\n",
       "      <td>5.0</td>\n",
       "      <td>...</td>\n",
       "      <td>1</td>\n",
       "      <td>https://recipe-study.wur.nl/gr</td>\n",
       "      <td>2024-06-21 14:29:48</td>\n",
       "      <td>1.0</td>\n",
       "      <td>1.0</td>\n",
       "      <td>0.0</td>\n",
       "      <td>4.0</td>\n",
       "      <td>769.0</td>\n",
       "      <td>1841.0</td>\n",
       "      <td>both in master and using data</td>\n",
       "    </tr>\n",
       "    <tr>\n",
       "      <th>52</th>\n",
       "      <td>601</td>\n",
       "      <td>4</td>\n",
       "      <td>4</td>\n",
       "      <td>4</td>\n",
       "      <td>4</td>\n",
       "      <td>4.0</td>\n",
       "      <td>4.0</td>\n",
       "      <td>7.0</td>\n",
       "      <td>7.0</td>\n",
       "      <td>7.0</td>\n",
       "      <td>...</td>\n",
       "      <td>0</td>\n",
       "      <td>https://recipe-study.wur.nl/gr</td>\n",
       "      <td>2024-06-21 14:33:58</td>\n",
       "      <td>1.0</td>\n",
       "      <td>1.0</td>\n",
       "      <td>1.0</td>\n",
       "      <td>4.0</td>\n",
       "      <td>305.0</td>\n",
       "      <td>304.0</td>\n",
       "      <td>both in master and using data</td>\n",
       "    </tr>\n",
       "    <tr>\n",
       "      <th>53</th>\n",
       "      <td>602</td>\n",
       "      <td>6</td>\n",
       "      <td>7</td>\n",
       "      <td>6</td>\n",
       "      <td>5</td>\n",
       "      <td>5.0</td>\n",
       "      <td>7.0</td>\n",
       "      <td>7.0</td>\n",
       "      <td>4.0</td>\n",
       "      <td>5.0</td>\n",
       "      <td>...</td>\n",
       "      <td>1</td>\n",
       "      <td>https://recipe-study.wur.nl/gr</td>\n",
       "      <td>2024-06-21 14:35:16</td>\n",
       "      <td>1.0</td>\n",
       "      <td>1.0</td>\n",
       "      <td>1.0</td>\n",
       "      <td>4.0</td>\n",
       "      <td>417.0</td>\n",
       "      <td>418.0</td>\n",
       "      <td>both in master and using data</td>\n",
       "    </tr>\n",
       "    <tr>\n",
       "      <th>54</th>\n",
       "      <td>603</td>\n",
       "      <td>6</td>\n",
       "      <td>7</td>\n",
       "      <td>7</td>\n",
       "      <td>7</td>\n",
       "      <td>6.0</td>\n",
       "      <td>7.0</td>\n",
       "      <td>6.0</td>\n",
       "      <td>7.0</td>\n",
       "      <td>7.0</td>\n",
       "      <td>...</td>\n",
       "      <td>1</td>\n",
       "      <td>https://recipe-study.wur.nl/gr</td>\n",
       "      <td>2024-06-21 14:39:19</td>\n",
       "      <td>1.0</td>\n",
       "      <td>1.0</td>\n",
       "      <td>1.0</td>\n",
       "      <td>3.0</td>\n",
       "      <td>1277.0</td>\n",
       "      <td>1276.0</td>\n",
       "      <td>both in master and using data</td>\n",
       "    </tr>\n",
       "  </tbody>\n",
       "</table>\n",
       "<p>5 rows × 57 columns</p>\n",
       "</div>"
      ],
      "text/plain": [
       "    userid  Q2  Q3  Q4  Q5   Q6   Q7   Q8   Q9  Q10  ...  condition  \\\n",
       "50     599   4   2   2   2  2.0  2.0  4.0  2.0  2.0  ...          1   \n",
       "51     600   7   7   7   7  7.0  7.0  5.0  5.0  5.0  ...          1   \n",
       "52     601   4   4   4   4  4.0  4.0  7.0  7.0  7.0  ...          0   \n",
       "53     602   6   7   6   5  5.0  7.0  7.0  4.0  5.0  ...          1   \n",
       "54     603   6   7   7   7  6.0  7.0  6.0  7.0  7.0  ...          1   \n",
       "\n",
       "                          prolific           timestart  genre  consent  \\\n",
       "50  https://recipe-study.wur.nl/gr 2024-06-21 14:06:27    3.0      1.0   \n",
       "51  https://recipe-study.wur.nl/gr 2024-06-21 14:29:48    1.0      1.0   \n",
       "52  https://recipe-study.wur.nl/gr 2024-06-21 14:33:58    1.0      1.0   \n",
       "53  https://recipe-study.wur.nl/gr 2024-06-21 14:35:16    1.0      1.0   \n",
       "54  https://recipe-study.wur.nl/gr 2024-06-21 14:39:19    1.0      1.0   \n",
       "\n",
       "    mancheck1  mancheck2  calibrationid  recommendationid  \\\n",
       "50        0.0        2.0          683.0            2017.0   \n",
       "51        0.0        4.0          769.0            1841.0   \n",
       "52        1.0        4.0          305.0             304.0   \n",
       "53        1.0        4.0          417.0             418.0   \n",
       "54        1.0        3.0         1277.0            1276.0   \n",
       "\n",
       "                           _merge  \n",
       "50  both in master and using data  \n",
       "51  both in master and using data  \n",
       "52  both in master and using data  \n",
       "53  both in master and using data  \n",
       "54  both in master and using data  \n",
       "\n",
       "[5 rows x 57 columns]"
      ]
     },
     "execution_count": 292,
     "metadata": {},
     "output_type": "execute_result"
    }
   ],
   "source": [
    "filtered_df3.head()"
   ]
  },
  {
   "cell_type": "code",
   "execution_count": 293,
   "id": "28ceb235-d19b-4b0d-87df-eacfd27ccb83",
   "metadata": {},
   "outputs": [
    {
     "data": {
      "text/plain": [
       "(66, 57)"
      ]
     },
     "execution_count": 293,
     "metadata": {},
     "output_type": "execute_result"
    }
   ],
   "source": [
    "filtered_df3.shape"
   ]
  },
  {
   "cell_type": "code",
   "execution_count": 294,
   "id": "15ef98e4-bfe2-4d6d-abbe-4022956a415b",
   "metadata": {},
   "outputs": [
    {
     "name": "stdout",
     "output_type": "stream",
     "text": [
      "Original df was (76, 57)\n",
      "Filtered df is (66, 57)\n"
     ]
    }
   ],
   "source": [
    "print(f'Original df was {filtered_df2.shape}')\n",
    "print(f'Filtered df is {filtered_df3.shape}')"
   ]
  },
  {
   "cell_type": "markdown",
   "id": "454ab846-f221-4769-88c5-28786ae85e97",
   "metadata": {},
   "source": [
    "## Renaming Columns"
   ]
  },
  {
   "cell_type": "code",
   "execution_count": 295,
   "id": "c2fba7e1-5f1b-46ba-b0a2-f3acefbe8068",
   "metadata": {},
   "outputs": [
    {
     "name": "stderr",
     "output_type": "stream",
     "text": [
      "/var/folders/_x/jys788n170bd0v9kyh8bscfw0000gn/T/ipykernel_32958/2120619129.py:1: SettingWithCopyWarning: \n",
      "A value is trying to be set on a copy of a slice from a DataFrame\n",
      "\n",
      "See the caveats in the documentation: https://pandas.pydata.org/pandas-docs/stable/user_guide/indexing.html#returning-a-view-versus-a-copy\n",
      "  filtered_df3.rename(columns={'Q2': 'satisfaction_1', 'Q3': 'satisfaction_2', 'Q4': 'satisfaction_3', 'Q5': 'satisfaction_4', 'Q6': 'satisfaction_5', 'Q7': 'satisfaction_6'}, inplace=True)\n"
     ]
    }
   ],
   "source": [
    "filtered_df3.rename(columns={'Q2': 'satisfaction_1', 'Q3': 'satisfaction_2', 'Q4': 'satisfaction_3', 'Q5': 'satisfaction_4', 'Q6': 'satisfaction_5', 'Q7': 'satisfaction_6'}, inplace=True)"
   ]
  },
  {
   "cell_type": "code",
   "execution_count": 296,
   "id": "65743959-5858-4fa0-b924-8bf5c35850b0",
   "metadata": {},
   "outputs": [
    {
     "name": "stderr",
     "output_type": "stream",
     "text": [
      "/var/folders/_x/jys788n170bd0v9kyh8bscfw0000gn/T/ipykernel_32958/1841839145.py:1: SettingWithCopyWarning: \n",
      "A value is trying to be set on a copy of a slice from a DataFrame\n",
      "\n",
      "See the caveats in the documentation: https://pandas.pydata.org/pandas-docs/stable/user_guide/indexing.html#returning-a-view-versus-a-copy\n",
      "  filtered_df3.rename(columns={'Q8': 'credibility_1', 'Q9': 'credibility_2', 'Q10': 'credibility_3', 'Q11': 'credibility_4', 'Q12': 'credibility_5', 'Q13': 'credibility_6', 'Q14': 'credibility_7', 'Q15': 'credibility_8', 'Q16': 'credibility_9', 'Q17': 'credibility_10', 'Q18': 'credibility_11', 'Q19': 'credibility_12'}, inplace=True)\n"
     ]
    }
   ],
   "source": [
    "filtered_df3.rename(columns={'Q8': 'credibility_1', 'Q9': 'credibility_2', 'Q10': 'credibility_3', 'Q11': 'credibility_4', 'Q12': 'credibility_5', 'Q13': 'credibility_6', 'Q14': 'credibility_7', 'Q15': 'credibility_8', 'Q16': 'credibility_9', 'Q17': 'credibility_10', 'Q18': 'credibility_11', 'Q19': 'credibility_12'}, inplace=True)"
   ]
  },
  {
   "cell_type": "code",
   "execution_count": 297,
   "id": "decc76ed-c5e8-4d14-8e85-b213ec7a85d5",
   "metadata": {},
   "outputs": [
    {
     "name": "stderr",
     "output_type": "stream",
     "text": [
      "/var/folders/_x/jys788n170bd0v9kyh8bscfw0000gn/T/ipykernel_32958/4024581968.py:1: SettingWithCopyWarning: \n",
      "A value is trying to be set on a copy of a slice from a DataFrame\n",
      "\n",
      "See the caveats in the documentation: https://pandas.pydata.org/pandas-docs/stable/user_guide/indexing.html#returning-a-view-versus-a-copy\n",
      "  filtered_df3.rename(columns={'Q20': 'motivation_1', 'Q21': 'motivation_2', 'Q22': 'motivation_3', 'Q23': 'motivation_4', 'Q24': 'motivation_5', 'Q25': 'motivation_6', 'Q26': 'motivation_7', 'Q27': 'motivation_8', 'Q28': 'motivation_9', 'Q29': 'motivation_10', 'Q30': 'motivation_11', 'Q31': 'motivation_12'}, inplace=True)\n"
     ]
    }
   ],
   "source": [
    "filtered_df3.rename(columns={'Q20': 'motivation_1', 'Q21': 'motivation_2', 'Q22': 'motivation_3', 'Q23': 'motivation_4', 'Q24': 'motivation_5', 'Q25': 'motivation_6', 'Q26': 'motivation_7', 'Q27': 'motivation_8', 'Q28': 'motivation_9', 'Q29': 'motivation_10', 'Q30': 'motivation_11', 'Q31': 'motivation_12'}, inplace=True)"
   ]
  },
  {
   "cell_type": "code",
   "execution_count": 298,
   "id": "56811220-29d0-4b61-b4c2-dc70568bcaa6",
   "metadata": {},
   "outputs": [
    {
     "name": "stderr",
     "output_type": "stream",
     "text": [
      "/var/folders/_x/jys788n170bd0v9kyh8bscfw0000gn/T/ipykernel_32958/2626641718.py:1: SettingWithCopyWarning: \n",
      "A value is trying to be set on a copy of a slice from a DataFrame\n",
      "\n",
      "See the caveats in the documentation: https://pandas.pydata.org/pandas-docs/stable/user_guide/indexing.html#returning-a-view-versus-a-copy\n",
      "  filtered_df3.rename(columns={'Q32': 'anthropomorphism_1', 'Q33': 'anthropomorphism_2', 'Q34': 'anthropomorphism_3', 'Q35': 'anthropomorphism_4'}, inplace=True)\n"
     ]
    }
   ],
   "source": [
    "filtered_df3.rename(columns={'Q32': 'anthropomorphism_1', 'Q33': 'anthropomorphism_2', 'Q34': 'anthropomorphism_3', 'Q35': 'anthropomorphism_4'}, inplace=True)"
   ]
  },
  {
   "cell_type": "code",
   "execution_count": 299,
   "id": "44cd3e3d-a7a4-4b70-85fe-10faf6cda039",
   "metadata": {},
   "outputs": [
    {
     "name": "stderr",
     "output_type": "stream",
     "text": [
      "/var/folders/_x/jys788n170bd0v9kyh8bscfw0000gn/T/ipykernel_32958/1940005018.py:1: SettingWithCopyWarning: \n",
      "A value is trying to be set on a copy of a slice from a DataFrame\n",
      "\n",
      "See the caveats in the documentation: https://pandas.pydata.org/pandas-docs/stable/user_guide/indexing.html#returning-a-view-versus-a-copy\n",
      "  filtered_df3.rename(columns={'Q36': 'control(reading_habits)', 'Q37': 'control(previous_experience_with_RS)'}, inplace=True)\n"
     ]
    }
   ],
   "source": [
    "filtered_df3.rename(columns={'Q36': 'control(reading_habits)', 'Q37': 'control(previous_experience_with_RS)'}, inplace=True)"
   ]
  },
  {
   "cell_type": "code",
   "execution_count": 300,
   "id": "4d4da5cc-0bf3-4714-bbb9-0c93b1f36544",
   "metadata": {},
   "outputs": [
    {
     "name": "stderr",
     "output_type": "stream",
     "text": [
      "/var/folders/_x/jys788n170bd0v9kyh8bscfw0000gn/T/ipykernel_32958/3687310035.py:1: SettingWithCopyWarning: \n",
      "A value is trying to be set on a copy of a slice from a DataFrame\n",
      "\n",
      "See the caveats in the documentation: https://pandas.pydata.org/pandas-docs/stable/user_guide/indexing.html#returning-a-view-versus-a-copy\n",
      "  filtered_df3.rename(columns={'Q38': 'conscientiousness_1', 'Q39': 'conscientiousness_2', 'Q40': 'conscientiousness_3', 'Q41': 'conscientiousness_4', 'Q42': 'conscientiousness_5'}, inplace=True)\n"
     ]
    }
   ],
   "source": [
    "filtered_df3.rename(columns={'Q38': 'conscientiousness_1', 'Q39': 'conscientiousness_2', 'Q40': 'conscientiousness_3', 'Q41': 'conscientiousness_4', 'Q42': 'conscientiousness_5'}, inplace=True)"
   ]
  },
  {
   "cell_type": "code",
   "execution_count": 301,
   "id": "06b8c86d-a523-47bb-b679-c9145ac68a2a",
   "metadata": {},
   "outputs": [
    {
     "data": {
      "text/plain": [
       "Index(['userid', 'satisfaction_1', 'satisfaction_2', 'satisfaction_3',\n",
       "       'satisfaction_4', 'satisfaction_5', 'satisfaction_6', 'credibility_1',\n",
       "       'credibility_2', 'credibility_3', 'credibility_4', 'credibility_5',\n",
       "       'credibility_6', 'credibility_7', 'credibility_8', 'credibility_9',\n",
       "       'credibility_10', 'credibility_11', 'credibility_12', 'motivation_1',\n",
       "       'motivation_2', 'motivation_3', 'motivation_4', 'motivation_5',\n",
       "       'motivation_6', 'motivation_7', 'motivation_8', 'motivation_9',\n",
       "       'motivation_10', 'motivation_11', 'motivation_12', 'anthropomorphism_1',\n",
       "       'anthropomorphism_2', 'anthropomorphism_3', 'anthropomorphism_4',\n",
       "       'control(reading_habits)', 'control(previous_experience_with_RS)',\n",
       "       'conscientiousness_1', 'conscientiousness_2', 'conscientiousness_3',\n",
       "       'conscientiousness_4', 'conscientiousness_5', 'age', 'gender', 'device',\n",
       "       'education', 'time', 'condition', 'prolific', 'timestart', 'genre',\n",
       "       'consent', 'mancheck1', 'mancheck2', 'calibrationid',\n",
       "       'recommendationid', '_merge'],\n",
       "      dtype='object')"
      ]
     },
     "execution_count": 301,
     "metadata": {},
     "output_type": "execute_result"
    }
   ],
   "source": [
    "filtered_df3.columns"
   ]
  },
  {
   "cell_type": "markdown",
   "id": "9f0e01c7-0aa4-40a6-8091-247487850d4c",
   "metadata": {},
   "source": [
    "## Saving CSV"
   ]
  },
  {
   "cell_type": "code",
   "execution_count": 302,
   "id": "a1b1449a-037f-4526-801a-769d281f9707",
   "metadata": {},
   "outputs": [],
   "source": [
    "filtered_df3.to_csv(\"results.csv\", index = False)"
   ]
  },
  {
   "cell_type": "markdown",
   "id": "e5a40433-3451-4dcd-b491-ed470fa8922a",
   "metadata": {},
   "source": [
    "## Removing those who did not consent and are under 18"
   ]
  },
  {
   "cell_type": "code",
   "execution_count": 303,
   "id": "fbc062e8-007d-48f3-b2e3-0b8a231a21a2",
   "metadata": {},
   "outputs": [],
   "source": [
    "data = \"results.csv\"\n",
    "\n",
    "df = pd.read_csv(data)"
   ]
  },
  {
   "cell_type": "code",
   "execution_count": 304,
   "id": "bd100e54-1b4a-4bc9-b362-20a4911f0e7d",
   "metadata": {},
   "outputs": [],
   "source": [
    "df = df[(df[\"consent\"] == 1) & (df[\"age\"] >= 18)]"
   ]
  },
  {
   "cell_type": "code",
   "execution_count": 305,
   "id": "642a8b5e-3d50-4f35-9e18-462bc64d636a",
   "metadata": {},
   "outputs": [
    {
     "data": {
      "text/plain": [
       "consent\n",
       "1.0    66\n",
       "Name: count, dtype: int64"
      ]
     },
     "execution_count": 305,
     "metadata": {},
     "output_type": "execute_result"
    }
   ],
   "source": [
    "df['consent'].value_counts()"
   ]
  },
  {
   "cell_type": "code",
   "execution_count": 306,
   "id": "472d2966-e4e1-472c-a8be-b820175e2715",
   "metadata": {},
   "outputs": [
    {
     "data": {
      "text/plain": [
       "count    66.000000\n",
       "mean     29.742424\n",
       "std      17.133243\n",
       "min      18.000000\n",
       "25%      20.000000\n",
       "50%      21.000000\n",
       "75%      26.750000\n",
       "max      74.000000\n",
       "Name: age, dtype: float64"
      ]
     },
     "execution_count": 306,
     "metadata": {},
     "output_type": "execute_result"
    }
   ],
   "source": [
    "df['age'].describe()"
   ]
  },
  {
   "cell_type": "code",
   "execution_count": 307,
   "id": "fe50311b-f0b5-472d-86f4-176a501b672c",
   "metadata": {},
   "outputs": [],
   "source": [
    "#saving those that consented, and are above 18 to a csv\n",
    "df.to_csv(\"filtered.csv\", index = False)"
   ]
  },
  {
   "cell_type": "code",
   "execution_count": 308,
   "id": "2e501dc0-7ad8-43d6-9286-b9504cfd0fd2",
   "metadata": {},
   "outputs": [],
   "source": [
    "df = pd.read_csv(\"filtered.csv\")"
   ]
  },
  {
   "cell_type": "markdown",
   "id": "9e1346c3-9899-466b-9dbd-99dc05f5fb89",
   "metadata": {},
   "source": [
    "# Removing -1 results"
   ]
  },
  {
   "cell_type": "code",
   "execution_count": 309,
   "id": "0430f1ef-d41a-44d4-beed-b947b36edb15",
   "metadata": {},
   "outputs": [],
   "source": [
    "df = df[df[\"mancheck1\"]!= -1]"
   ]
  },
  {
   "cell_type": "code",
   "execution_count": 310,
   "id": "8863591f-d34f-4bb8-a837-02964f85a23f",
   "metadata": {},
   "outputs": [],
   "source": [
    "#saving those that consented, and are above 18 to a csv\n",
    "df.to_csv(\"filtered.csv\", index=False)"
   ]
  },
  {
   "cell_type": "code",
   "execution_count": 311,
   "id": "54b7ae34-8ada-48fa-bf26-290e10341c68",
   "metadata": {},
   "outputs": [],
   "source": [
    "data = pd.read_csv(\"filtered.csv\")"
   ]
  },
  {
   "cell_type": "markdown",
   "id": "8fb6f2b6-21fc-408b-b704-a0abbe0c8d91",
   "metadata": {},
   "source": [
    "# Let's look at what we have:"
   ]
  },
  {
   "cell_type": "code",
   "execution_count": 312,
   "id": "0404f1be-a10b-4bde-b266-10348eaca888",
   "metadata": {},
   "outputs": [
    {
     "data": {
      "text/html": [
       "<div>\n",
       "<style scoped>\n",
       "    .dataframe tbody tr th:only-of-type {\n",
       "        vertical-align: middle;\n",
       "    }\n",
       "\n",
       "    .dataframe tbody tr th {\n",
       "        vertical-align: top;\n",
       "    }\n",
       "\n",
       "    .dataframe thead th {\n",
       "        text-align: right;\n",
       "    }\n",
       "</style>\n",
       "<table border=\"1\" class=\"dataframe\">\n",
       "  <thead>\n",
       "    <tr style=\"text-align: right;\">\n",
       "      <th></th>\n",
       "      <th>userid</th>\n",
       "      <th>satisfaction_1</th>\n",
       "      <th>satisfaction_2</th>\n",
       "      <th>satisfaction_3</th>\n",
       "      <th>satisfaction_4</th>\n",
       "      <th>satisfaction_5</th>\n",
       "      <th>satisfaction_6</th>\n",
       "      <th>credibility_1</th>\n",
       "      <th>credibility_2</th>\n",
       "      <th>credibility_3</th>\n",
       "      <th>...</th>\n",
       "      <th>condition</th>\n",
       "      <th>prolific</th>\n",
       "      <th>timestart</th>\n",
       "      <th>genre</th>\n",
       "      <th>consent</th>\n",
       "      <th>mancheck1</th>\n",
       "      <th>mancheck2</th>\n",
       "      <th>calibrationid</th>\n",
       "      <th>recommendationid</th>\n",
       "      <th>_merge</th>\n",
       "    </tr>\n",
       "  </thead>\n",
       "  <tbody>\n",
       "    <tr>\n",
       "      <th>0</th>\n",
       "      <td>599</td>\n",
       "      <td>4</td>\n",
       "      <td>2</td>\n",
       "      <td>2</td>\n",
       "      <td>2</td>\n",
       "      <td>2.0</td>\n",
       "      <td>2.0</td>\n",
       "      <td>4.0</td>\n",
       "      <td>2.0</td>\n",
       "      <td>2.0</td>\n",
       "      <td>...</td>\n",
       "      <td>1</td>\n",
       "      <td>https://recipe-study.wur.nl/gr</td>\n",
       "      <td>2024-06-21 14:06:27</td>\n",
       "      <td>3.0</td>\n",
       "      <td>1.0</td>\n",
       "      <td>0.0</td>\n",
       "      <td>2.0</td>\n",
       "      <td>683.0</td>\n",
       "      <td>2017.0</td>\n",
       "      <td>both in master and using data</td>\n",
       "    </tr>\n",
       "    <tr>\n",
       "      <th>1</th>\n",
       "      <td>600</td>\n",
       "      <td>7</td>\n",
       "      <td>7</td>\n",
       "      <td>7</td>\n",
       "      <td>7</td>\n",
       "      <td>7.0</td>\n",
       "      <td>7.0</td>\n",
       "      <td>5.0</td>\n",
       "      <td>5.0</td>\n",
       "      <td>5.0</td>\n",
       "      <td>...</td>\n",
       "      <td>1</td>\n",
       "      <td>https://recipe-study.wur.nl/gr</td>\n",
       "      <td>2024-06-21 14:29:48</td>\n",
       "      <td>1.0</td>\n",
       "      <td>1.0</td>\n",
       "      <td>0.0</td>\n",
       "      <td>4.0</td>\n",
       "      <td>769.0</td>\n",
       "      <td>1841.0</td>\n",
       "      <td>both in master and using data</td>\n",
       "    </tr>\n",
       "    <tr>\n",
       "      <th>2</th>\n",
       "      <td>601</td>\n",
       "      <td>4</td>\n",
       "      <td>4</td>\n",
       "      <td>4</td>\n",
       "      <td>4</td>\n",
       "      <td>4.0</td>\n",
       "      <td>4.0</td>\n",
       "      <td>7.0</td>\n",
       "      <td>7.0</td>\n",
       "      <td>7.0</td>\n",
       "      <td>...</td>\n",
       "      <td>0</td>\n",
       "      <td>https://recipe-study.wur.nl/gr</td>\n",
       "      <td>2024-06-21 14:33:58</td>\n",
       "      <td>1.0</td>\n",
       "      <td>1.0</td>\n",
       "      <td>1.0</td>\n",
       "      <td>4.0</td>\n",
       "      <td>305.0</td>\n",
       "      <td>304.0</td>\n",
       "      <td>both in master and using data</td>\n",
       "    </tr>\n",
       "    <tr>\n",
       "      <th>3</th>\n",
       "      <td>602</td>\n",
       "      <td>6</td>\n",
       "      <td>7</td>\n",
       "      <td>6</td>\n",
       "      <td>5</td>\n",
       "      <td>5.0</td>\n",
       "      <td>7.0</td>\n",
       "      <td>7.0</td>\n",
       "      <td>4.0</td>\n",
       "      <td>5.0</td>\n",
       "      <td>...</td>\n",
       "      <td>1</td>\n",
       "      <td>https://recipe-study.wur.nl/gr</td>\n",
       "      <td>2024-06-21 14:35:16</td>\n",
       "      <td>1.0</td>\n",
       "      <td>1.0</td>\n",
       "      <td>1.0</td>\n",
       "      <td>4.0</td>\n",
       "      <td>417.0</td>\n",
       "      <td>418.0</td>\n",
       "      <td>both in master and using data</td>\n",
       "    </tr>\n",
       "    <tr>\n",
       "      <th>4</th>\n",
       "      <td>603</td>\n",
       "      <td>6</td>\n",
       "      <td>7</td>\n",
       "      <td>7</td>\n",
       "      <td>7</td>\n",
       "      <td>6.0</td>\n",
       "      <td>7.0</td>\n",
       "      <td>6.0</td>\n",
       "      <td>7.0</td>\n",
       "      <td>7.0</td>\n",
       "      <td>...</td>\n",
       "      <td>1</td>\n",
       "      <td>https://recipe-study.wur.nl/gr</td>\n",
       "      <td>2024-06-21 14:39:19</td>\n",
       "      <td>1.0</td>\n",
       "      <td>1.0</td>\n",
       "      <td>1.0</td>\n",
       "      <td>3.0</td>\n",
       "      <td>1277.0</td>\n",
       "      <td>1276.0</td>\n",
       "      <td>both in master and using data</td>\n",
       "    </tr>\n",
       "  </tbody>\n",
       "</table>\n",
       "<p>5 rows × 57 columns</p>\n",
       "</div>"
      ],
      "text/plain": [
       "   userid  satisfaction_1  satisfaction_2  satisfaction_3  satisfaction_4  \\\n",
       "0     599               4               2               2               2   \n",
       "1     600               7               7               7               7   \n",
       "2     601               4               4               4               4   \n",
       "3     602               6               7               6               5   \n",
       "4     603               6               7               7               7   \n",
       "\n",
       "   satisfaction_5  satisfaction_6  credibility_1  credibility_2  \\\n",
       "0             2.0             2.0            4.0            2.0   \n",
       "1             7.0             7.0            5.0            5.0   \n",
       "2             4.0             4.0            7.0            7.0   \n",
       "3             5.0             7.0            7.0            4.0   \n",
       "4             6.0             7.0            6.0            7.0   \n",
       "\n",
       "   credibility_3  ...  condition                        prolific  \\\n",
       "0            2.0  ...          1  https://recipe-study.wur.nl/gr   \n",
       "1            5.0  ...          1  https://recipe-study.wur.nl/gr   \n",
       "2            7.0  ...          0  https://recipe-study.wur.nl/gr   \n",
       "3            5.0  ...          1  https://recipe-study.wur.nl/gr   \n",
       "4            7.0  ...          1  https://recipe-study.wur.nl/gr   \n",
       "\n",
       "             timestart  genre  consent  mancheck1  mancheck2  calibrationid  \\\n",
       "0  2024-06-21 14:06:27    3.0      1.0        0.0        2.0          683.0   \n",
       "1  2024-06-21 14:29:48    1.0      1.0        0.0        4.0          769.0   \n",
       "2  2024-06-21 14:33:58    1.0      1.0        1.0        4.0          305.0   \n",
       "3  2024-06-21 14:35:16    1.0      1.0        1.0        4.0          417.0   \n",
       "4  2024-06-21 14:39:19    1.0      1.0        1.0        3.0         1277.0   \n",
       "\n",
       "   recommendationid                         _merge  \n",
       "0            2017.0  both in master and using data  \n",
       "1            1841.0  both in master and using data  \n",
       "2             304.0  both in master and using data  \n",
       "3             418.0  both in master and using data  \n",
       "4            1276.0  both in master and using data  \n",
       "\n",
       "[5 rows x 57 columns]"
      ]
     },
     "execution_count": 312,
     "metadata": {},
     "output_type": "execute_result"
    }
   ],
   "source": [
    "data.head()"
   ]
  },
  {
   "cell_type": "code",
   "execution_count": 313,
   "id": "91bb029f-652e-4cdd-ba78-030cc8fb034c",
   "metadata": {},
   "outputs": [
    {
     "data": {
      "text/plain": [
       "condition\n",
       "1    42\n",
       "0    23\n",
       "Name: count, dtype: int64"
      ]
     },
     "execution_count": 313,
     "metadata": {},
     "output_type": "execute_result"
    }
   ],
   "source": [
    "df['condition'].value_counts(sort=False)"
   ]
  },
  {
   "cell_type": "code",
   "execution_count": 314,
   "id": "a77f2904-d89d-4a27-abb8-3e88edf07f18",
   "metadata": {},
   "outputs": [
    {
     "data": {
      "text/plain": [
       "(65, 57)"
      ]
     },
     "execution_count": 314,
     "metadata": {},
     "output_type": "execute_result"
    }
   ],
   "source": [
    "df.shape"
   ]
  },
  {
   "cell_type": "code",
   "execution_count": 315,
   "id": "8635e504-80e8-437f-8f18-7798db6b8e90",
   "metadata": {},
   "outputs": [
    {
     "data": {
      "text/plain": [
       "<Axes: xlabel='condition', ylabel='count'>"
      ]
     },
     "execution_count": 315,
     "metadata": {},
     "output_type": "execute_result"
    },
    {
     "data": {
      "image/png": "[encoded data removed]",
      "text/plain": [
       "<Figure size 640x480 with 1 Axes>"
      ]
     },
     "metadata": {},
     "output_type": "display_data"
    }
   ],
   "source": [
    "#visualization\n",
    "sns.countplot(x='condition', data=df)"
   ]
  },
  {
   "cell_type": "code",
   "execution_count": 316,
   "id": "10e6249a-7405-4dd6-a746-e2f3d088cdce",
   "metadata": {},
   "outputs": [
    {
     "data": {
      "text/plain": [
       "gender\n",
       "2.0    17\n",
       "1.0    48\n",
       "Name: count, dtype: int64"
      ]
     },
     "execution_count": 316,
     "metadata": {},
     "output_type": "execute_result"
    }
   ],
   "source": [
    "df['gender'].value_counts(sort=False)"
   ]
  },
  {
   "cell_type": "code",
   "execution_count": 317,
   "id": "84e2f56b-8769-4f6f-a8b4-5c50fbd3c506",
   "metadata": {},
   "outputs": [
    {
     "data": {
      "text/plain": [
       "<Axes: xlabel='gender', ylabel='Count'>"
      ]
     },
     "execution_count": 317,
     "metadata": {},
     "output_type": "execute_result"
    },
    {
     "data": {
      "image/png": "[encoded data removed]",
      "text/plain": [
       "<Figure size 640x480 with 1 Axes>"
      ]
     },
     "metadata": {},
     "output_type": "display_data"
    }
   ],
   "source": [
    "sns.histplot(x = 'gender', data = df)"
   ]
  },
  {
   "cell_type": "code",
   "execution_count": 318,
   "id": "70606f98-6339-4b35-8047-3566d06a4ff2",
   "metadata": {},
   "outputs": [
    {
     "data": {
      "text/plain": [
       "count    65.000000\n",
       "mean     29.200000\n",
       "std      16.685697\n",
       "min      18.000000\n",
       "25%      20.000000\n",
       "50%      21.000000\n",
       "75%      23.000000\n",
       "max      74.000000\n",
       "Name: age, dtype: float64"
      ]
     },
     "execution_count": 318,
     "metadata": {},
     "output_type": "execute_result"
    }
   ],
   "source": [
    "df['age'].describe()"
   ]
  },
  {
   "cell_type": "code",
   "execution_count": 319,
   "id": "d5d40423-8d3c-4dbe-83d9-ab5892e981d1",
   "metadata": {},
   "outputs": [
    {
     "data": {
      "text/plain": [
       "<Axes: xlabel='age', ylabel='Count'>"
      ]
     },
     "execution_count": 319,
     "metadata": {},
     "output_type": "execute_result"
    },
    {
     "data": {
      "image/png": "[encoded data removed]",
      "text/plain": [
       "<Figure size 640x480 with 1 Axes>"
      ]
     },
     "metadata": {},
     "output_type": "display_data"
    }
   ],
   "source": [
    "sns.histplot(x = 'age', data = df)"
   ]
  },
  {
   "cell_type": "code",
   "execution_count": 320,
   "id": "367a97a6-4e91-443f-a364-9eaa5cbe58b2",
   "metadata": {},
   "outputs": [
    {
     "data": {
      "text/plain": [
       "count    65.000000\n",
       "mean      2.846154\n",
       "std       1.201962\n",
       "min       1.000000\n",
       "25%       2.000000\n",
       "50%       2.000000\n",
       "75%       4.000000\n",
       "max       5.000000\n",
       "Name: education, dtype: float64"
      ]
     },
     "execution_count": 320,
     "metadata": {},
     "output_type": "execute_result"
    }
   ],
   "source": [
    "df['education'].describe()"
   ]
  },
  {
   "cell_type": "code",
   "execution_count": 321,
   "id": "7feea713-e7f2-40e3-9fba-c510d8a35e9f",
   "metadata": {},
   "outputs": [
    {
     "data": {
      "text/plain": [
       "<Axes: xlabel='education', ylabel='Count'>"
      ]
     },
     "execution_count": 321,
     "metadata": {},
     "output_type": "execute_result"
    },
    {
     "data": {
      "image/png": "[encoded data removed]",
      "text/plain": [
       "<Figure size 640x480 with 1 Axes>"
      ]
     },
     "metadata": {},
     "output_type": "display_data"
    }
   ],
   "source": [
    "sns.histplot(x = 'education', data = df)"
   ]
  },
  {
   "cell_type": "markdown",
   "id": "be8f99b8-efaf-4c5d-8cd0-04eb1e04dc75",
   "metadata": {},
   "source": [
    "# Randomization check - should NOT be sig"
   ]
  },
  {
   "cell_type": "markdown",
   "id": "f0c1303d-0bc4-452a-9e8e-b43bec6b2fb0",
   "metadata": {},
   "source": [
    "## GENDER"
   ]
  },
  {
   "cell_type": "code",
   "execution_count": 322,
   "id": "6863f043-5c9f-4fb3-8e8c-241747816c80",
   "metadata": {},
   "outputs": [
    {
     "data": {
      "text/html": [
       "<div>\n",
       "<style scoped>\n",
       "    .dataframe tbody tr th:only-of-type {\n",
       "        vertical-align: middle;\n",
       "    }\n",
       "\n",
       "    .dataframe tbody tr th {\n",
       "        vertical-align: top;\n",
       "    }\n",
       "\n",
       "    .dataframe thead th {\n",
       "        text-align: right;\n",
       "    }\n",
       "</style>\n",
       "<table border=\"1\" class=\"dataframe\">\n",
       "  <thead>\n",
       "    <tr style=\"text-align: right;\">\n",
       "      <th>condition</th>\n",
       "      <th>0</th>\n",
       "      <th>1</th>\n",
       "    </tr>\n",
       "    <tr>\n",
       "      <th>gender</th>\n",
       "      <th></th>\n",
       "      <th></th>\n",
       "    </tr>\n",
       "  </thead>\n",
       "  <tbody>\n",
       "    <tr>\n",
       "      <th>1.0</th>\n",
       "      <td>15</td>\n",
       "      <td>33</td>\n",
       "    </tr>\n",
       "    <tr>\n",
       "      <th>2.0</th>\n",
       "      <td>8</td>\n",
       "      <td>9</td>\n",
       "    </tr>\n",
       "  </tbody>\n",
       "</table>\n",
       "</div>"
      ],
      "text/plain": [
       "condition   0   1\n",
       "gender           \n",
       "1.0        15  33\n",
       "2.0         8   9"
      ]
     },
     "execution_count": 322,
     "metadata": {},
     "output_type": "execute_result"
    }
   ],
   "source": [
    "#let's look at the crosstab\n",
    "mycrosstab = pd.crosstab(df['gender'], df[\"condition\"])\n",
    "mycrosstab"
   ]
  },
  {
   "cell_type": "code",
   "execution_count": 323,
   "id": "a8de89a7-3cc6-4514-a1f9-bf11860056c2",
   "metadata": {},
   "outputs": [
    {
     "name": "stdout",
     "output_type": "stream",
     "text": [
      "𝜒²(1) = 0.768, p = 0.381 \n",
      "V = 0.145\n"
     ]
    }
   ],
   "source": [
    "# and then get the chi2 test for that table\n",
    "c, p, dof, expected = contingency.chi2_contingency(mycrosstab)\n",
    "print(f\"𝜒²({dof:.0f}) = {c:.3f}, p = {p:.3f} \")\n",
    "\n",
    "# maybe Cramer's V as well?\n",
    "print(f\"V = {contingency.association(mycrosstab,method='cramer'):.3f}\")"
   ]
  },
  {
   "cell_type": "markdown",
   "id": "3ffa035b-916e-4867-92b9-6fa593355a50",
   "metadata": {},
   "source": [
    "## EDUCATION"
   ]
  },
  {
   "cell_type": "code",
   "execution_count": 324,
   "id": "47edd26e-1cf8-46d3-86c0-63c8972daf81",
   "metadata": {},
   "outputs": [
    {
     "data": {
      "text/html": [
       "<div>\n",
       "<style scoped>\n",
       "    .dataframe tbody tr th:only-of-type {\n",
       "        vertical-align: middle;\n",
       "    }\n",
       "\n",
       "    .dataframe tbody tr th {\n",
       "        vertical-align: top;\n",
       "    }\n",
       "\n",
       "    .dataframe thead th {\n",
       "        text-align: right;\n",
       "    }\n",
       "</style>\n",
       "<table border=\"1\" class=\"dataframe\">\n",
       "  <thead>\n",
       "    <tr style=\"text-align: right;\">\n",
       "      <th>condition</th>\n",
       "      <th>0</th>\n",
       "      <th>1</th>\n",
       "    </tr>\n",
       "    <tr>\n",
       "      <th>education</th>\n",
       "      <th></th>\n",
       "      <th></th>\n",
       "    </tr>\n",
       "  </thead>\n",
       "  <tbody>\n",
       "    <tr>\n",
       "      <th>1.0</th>\n",
       "      <td>1</td>\n",
       "      <td>0</td>\n",
       "    </tr>\n",
       "    <tr>\n",
       "      <th>2.0</th>\n",
       "      <td>14</td>\n",
       "      <td>26</td>\n",
       "    </tr>\n",
       "    <tr>\n",
       "      <th>3.0</th>\n",
       "      <td>1</td>\n",
       "      <td>0</td>\n",
       "    </tr>\n",
       "    <tr>\n",
       "      <th>4.0</th>\n",
       "      <td>2</td>\n",
       "      <td>12</td>\n",
       "    </tr>\n",
       "    <tr>\n",
       "      <th>5.0</th>\n",
       "      <td>5</td>\n",
       "      <td>4</td>\n",
       "    </tr>\n",
       "  </tbody>\n",
       "</table>\n",
       "</div>"
      ],
      "text/plain": [
       "condition   0   1\n",
       "education        \n",
       "1.0         1   0\n",
       "2.0        14  26\n",
       "3.0         1   0\n",
       "4.0         2  12\n",
       "5.0         5   4"
      ]
     },
     "execution_count": 324,
     "metadata": {},
     "output_type": "execute_result"
    }
   ],
   "source": [
    "#let's look at the crosstab\n",
    "mycrosstab = pd.crosstab(df['education'], df[\"condition\"])\n",
    "mycrosstab"
   ]
  },
  {
   "cell_type": "code",
   "execution_count": 325,
   "id": "e992bf91-7a1d-4254-9ebc-37ee5108e2dd",
   "metadata": {},
   "outputs": [
    {
     "name": "stdout",
     "output_type": "stream",
     "text": [
      "𝜒²(4) = 7.982, p = 0.092 \n",
      "V = 0.350\n"
     ]
    }
   ],
   "source": [
    "# and then get the chi2 test for that table\n",
    "c, p, dof, expected = contingency.chi2_contingency(mycrosstab)\n",
    "print(f\"𝜒²({dof:.0f}) = {c:.3f}, p = {p:.3f} \")\n",
    "\n",
    "# maybe Cramer's V as well?\n",
    "print(f\"V = {contingency.association(mycrosstab,method='cramer'):.3f}\")"
   ]
  },
  {
   "cell_type": "markdown",
   "id": "a80eaf02-c78e-4591-838e-76b2bb09a27e",
   "metadata": {},
   "source": [
    "## AGE"
   ]
  },
  {
   "cell_type": "code",
   "execution_count": 326,
   "id": "d0275c70-f837-482c-be04-48a44dd850e2",
   "metadata": {},
   "outputs": [
    {
     "name": "stdout",
     "output_type": "stream",
     "text": [
      "We compare 0 (M=31.52, SD=18.443) with 1 (M=27.93, SD=15.277), t(38.38950800495643)=0.781, p=0.4395.\n"
     ]
    },
    {
     "data": {
      "text/html": [
       "<div>\n",
       "<style scoped>\n",
       "    .dataframe tbody tr th:only-of-type {\n",
       "        vertical-align: middle;\n",
       "    }\n",
       "\n",
       "    .dataframe tbody tr th {\n",
       "        vertical-align: top;\n",
       "    }\n",
       "\n",
       "    .dataframe thead th {\n",
       "        text-align: right;\n",
       "    }\n",
       "</style>\n",
       "<table border=\"1\" class=\"dataframe\">\n",
       "  <thead>\n",
       "    <tr style=\"text-align: right;\">\n",
       "      <th></th>\n",
       "      <th>T</th>\n",
       "      <th>dof</th>\n",
       "      <th>alternative</th>\n",
       "      <th>p-val</th>\n",
       "      <th>CI95%</th>\n",
       "      <th>cohen-d</th>\n",
       "      <th>BF10</th>\n",
       "      <th>power</th>\n",
       "    </tr>\n",
       "  </thead>\n",
       "  <tbody>\n",
       "    <tr>\n",
       "      <th>T-test</th>\n",
       "      <td>0.781223</td>\n",
       "      <td>38.389508</td>\n",
       "      <td>two-sided</td>\n",
       "      <td>0.439463</td>\n",
       "      <td>[-5.71, 12.9]</td>\n",
       "      <td>0.214815</td>\n",
       "      <td>0.34</td>\n",
       "      <td>0.128983</td>\n",
       "    </tr>\n",
       "  </tbody>\n",
       "</table>\n",
       "</div>"
      ],
      "text/plain": [
       "               T        dof alternative     p-val          CI95%   cohen-d  \\\n",
       "T-test  0.781223  38.389508   two-sided  0.439463  [-5.71, 12.9]  0.214815   \n",
       "\n",
       "        BF10     power  \n",
       "T-test  0.34  0.128983  "
      ]
     },
     "execution_count": 326,
     "metadata": {},
     "output_type": "execute_result"
    }
   ],
   "source": [
    "(label1, values1), (label2, values2) = df.groupby('condition')['age']\n",
    "\n",
    "testresult = pg.ttest(values1, values2)\n",
    "\n",
    "print(f\"We compare {label1} (M={np.mean(values1):.2f}, SD={np.std(values1):.3f}) \"\n",
    "     f\"with {label2} (M={np.mean(values2):.2f}, SD={np.std(values2):.3f}), \"\n",
    "     f\"t({testresult.iloc[0,1]})={testresult.iloc[0,0]:.3f}, \"\n",
    "     f\"p={testresult.iloc[0,3]:.4f}.\")\n",
    "\n",
    "testresult"
   ]
  },
  {
   "cell_type": "markdown",
   "id": "b7785adf-1ccc-44d0-b18a-08d9c12b1706",
   "metadata": {},
   "source": [
    "# Control variables - Reading freq"
   ]
  },
  {
   "cell_type": "code",
   "execution_count": 327,
   "id": "18bb1e86-5a8d-4f1d-9bfa-b1ce1cb77f8d",
   "metadata": {},
   "outputs": [
    {
     "name": "stdout",
     "output_type": "stream",
     "text": [
      "We compare 0 (M=4.22, SD=1.768) with 1 (M=4.21, SD=1.641), t(42.192386366028295)=0.007, p=0.9946.\n"
     ]
    },
    {
     "data": {
      "text/html": [
       "<div>\n",
       "<style scoped>\n",
       "    .dataframe tbody tr th:only-of-type {\n",
       "        vertical-align: middle;\n",
       "    }\n",
       "\n",
       "    .dataframe tbody tr th {\n",
       "        vertical-align: top;\n",
       "    }\n",
       "\n",
       "    .dataframe thead th {\n",
       "        text-align: right;\n",
       "    }\n",
       "</style>\n",
       "<table border=\"1\" class=\"dataframe\">\n",
       "  <thead>\n",
       "    <tr style=\"text-align: right;\">\n",
       "      <th></th>\n",
       "      <th>T</th>\n",
       "      <th>dof</th>\n",
       "      <th>alternative</th>\n",
       "      <th>p-val</th>\n",
       "      <th>CI95%</th>\n",
       "      <th>cohen-d</th>\n",
       "      <th>BF10</th>\n",
       "      <th>power</th>\n",
       "    </tr>\n",
       "  </thead>\n",
       "  <tbody>\n",
       "    <tr>\n",
       "      <th>T-test</th>\n",
       "      <td>0.006813</td>\n",
       "      <td>42.192386</td>\n",
       "      <td>two-sided</td>\n",
       "      <td>0.994596</td>\n",
       "      <td>[-0.92, 0.92]</td>\n",
       "      <td>0.001812</td>\n",
       "      <td>0.263</td>\n",
       "      <td>0.050005</td>\n",
       "    </tr>\n",
       "  </tbody>\n",
       "</table>\n",
       "</div>"
      ],
      "text/plain": [
       "               T        dof alternative     p-val          CI95%   cohen-d  \\\n",
       "T-test  0.006813  42.192386   two-sided  0.994596  [-0.92, 0.92]  0.001812   \n",
       "\n",
       "         BF10     power  \n",
       "T-test  0.263  0.050005  "
      ]
     },
     "execution_count": 327,
     "metadata": {},
     "output_type": "execute_result"
    }
   ],
   "source": [
    "(label1, values1), (label2, values2) = df.groupby('condition')['control(reading_habits)']\n",
    "\n",
    "testresult = pg.ttest(values1, values2)\n",
    "\n",
    "print(f\"We compare {label1} (M={np.mean(values1):.2f}, SD={np.std(values1):.3f}) \"\n",
    "     f\"with {label2} (M={np.mean(values2):.2f}, SD={np.std(values2):.3f}), \"\n",
    "     f\"t({testresult.iloc[0,1]})={testresult.iloc[0,0]:.3f}, \"\n",
    "     f\"p={testresult.iloc[0,3]:.4f}.\")\n",
    "\n",
    "testresult"
   ]
  },
  {
   "cell_type": "markdown",
   "id": "45433d69-c954-45f9-b77a-27f8418ac32f",
   "metadata": {},
   "source": [
    "# Control variables - Previous exp w/ RS"
   ]
  },
  {
   "cell_type": "code",
   "execution_count": 328,
   "id": "51d9dc96-27d9-463f-a638-33425d6330a4",
   "metadata": {},
   "outputs": [
    {
     "name": "stdout",
     "output_type": "stream",
     "text": [
      "We compare 0 (M=3.65, SD=1.991) with 1 (M=3.57, SD=1.941), t(44.0148213756047)=0.155, p=0.8777.\n"
     ]
    },
    {
     "data": {
      "text/html": [
       "<div>\n",
       "<style scoped>\n",
       "    .dataframe tbody tr th:only-of-type {\n",
       "        vertical-align: middle;\n",
       "    }\n",
       "\n",
       "    .dataframe tbody tr th {\n",
       "        vertical-align: top;\n",
       "    }\n",
       "\n",
       "    .dataframe thead th {\n",
       "        text-align: right;\n",
       "    }\n",
       "</style>\n",
       "<table border=\"1\" class=\"dataframe\">\n",
       "  <thead>\n",
       "    <tr style=\"text-align: right;\">\n",
       "      <th></th>\n",
       "      <th>T</th>\n",
       "      <th>dof</th>\n",
       "      <th>alternative</th>\n",
       "      <th>p-val</th>\n",
       "      <th>CI95%</th>\n",
       "      <th>cohen-d</th>\n",
       "      <th>BF10</th>\n",
       "      <th>power</th>\n",
       "    </tr>\n",
       "  </thead>\n",
       "  <tbody>\n",
       "    <tr>\n",
       "      <th>T-test</th>\n",
       "      <td>0.154768</td>\n",
       "      <td>44.014821</td>\n",
       "      <td>two-sided</td>\n",
       "      <td>0.877712</td>\n",
       "      <td>[-0.97, 1.13]</td>\n",
       "      <td>0.040574</td>\n",
       "      <td>0.266</td>\n",
       "      <td>0.052723</td>\n",
       "    </tr>\n",
       "  </tbody>\n",
       "</table>\n",
       "</div>"
      ],
      "text/plain": [
       "               T        dof alternative     p-val          CI95%   cohen-d  \\\n",
       "T-test  0.154768  44.014821   two-sided  0.877712  [-0.97, 1.13]  0.040574   \n",
       "\n",
       "         BF10     power  \n",
       "T-test  0.266  0.052723  "
      ]
     },
     "execution_count": 328,
     "metadata": {},
     "output_type": "execute_result"
    }
   ],
   "source": [
    "(label1, values1), (label2, values2) = df.groupby('condition')['control(previous_experience_with_RS)']\n",
    "\n",
    "testresult = pg.ttest(values1, values2)\n",
    "\n",
    "print(f\"We compare {label1} (M={np.mean(values1):.2f}, SD={np.std(values1):.3f}) \"\n",
    "     f\"with {label2} (M={np.mean(values2):.2f}, SD={np.std(values2):.3f}), \"\n",
    "     f\"t({testresult.iloc[0,1]})={testresult.iloc[0,0]:.3f}, \"\n",
    "     f\"p={testresult.iloc[0,3]:.4f}.\")\n",
    "\n",
    "testresult"
   ]
  },
  {
   "cell_type": "markdown",
   "id": "28619492-b085-414e-aae0-ab9d36e859d0",
   "metadata": {},
   "source": [
    "# Manipulation check - mancheck1, mancheck2"
   ]
  },
  {
   "cell_type": "markdown",
   "id": "7e6f96be-9d27-4c8b-8ccb-b3ba725fb1ab",
   "metadata": {},
   "source": [
    "MANIPULATION CHECK 1"
   ]
  },
  {
   "cell_type": "code",
   "execution_count": 329,
   "id": "76eaea61-1520-4be4-a7bd-cb35a2d654bb",
   "metadata": {},
   "outputs": [
    {
     "data": {
      "text/html": [
       "<div>\n",
       "<style scoped>\n",
       "    .dataframe tbody tr th:only-of-type {\n",
       "        vertical-align: middle;\n",
       "    }\n",
       "\n",
       "    .dataframe tbody tr th {\n",
       "        vertical-align: top;\n",
       "    }\n",
       "\n",
       "    .dataframe thead th {\n",
       "        text-align: right;\n",
       "    }\n",
       "</style>\n",
       "<table border=\"1\" class=\"dataframe\">\n",
       "  <thead>\n",
       "    <tr style=\"text-align: right;\">\n",
       "      <th>mancheck1</th>\n",
       "      <th>0.0</th>\n",
       "      <th>1.0</th>\n",
       "    </tr>\n",
       "    <tr>\n",
       "      <th>condition</th>\n",
       "      <th></th>\n",
       "      <th></th>\n",
       "    </tr>\n",
       "  </thead>\n",
       "  <tbody>\n",
       "    <tr>\n",
       "      <th>0</th>\n",
       "      <td>11</td>\n",
       "      <td>12</td>\n",
       "    </tr>\n",
       "    <tr>\n",
       "      <th>1</th>\n",
       "      <td>8</td>\n",
       "      <td>34</td>\n",
       "    </tr>\n",
       "  </tbody>\n",
       "</table>\n",
       "</div>"
      ],
      "text/plain": [
       "mancheck1  0.0  1.0\n",
       "condition          \n",
       "0           11   12\n",
       "1            8   34"
      ]
     },
     "execution_count": 329,
     "metadata": {},
     "output_type": "execute_result"
    }
   ],
   "source": [
    "#let's look at the crosstab\n",
    "mycrosstab = pd.crosstab(df['condition'], df[\"mancheck1\"])\n",
    "mycrosstab"
   ]
  },
  {
   "cell_type": "code",
   "execution_count": 330,
   "id": "44cbc7fb-b2f8-4909-9bb8-81048f6c56dc",
   "metadata": {},
   "outputs": [
    {
     "name": "stdout",
     "output_type": "stream",
     "text": [
      "𝜒²(1) = 4.640, p = 0.031 \n",
      "V = 0.303\n"
     ]
    }
   ],
   "source": [
    "# and then get the chi2 test for that table\n",
    "c, p, dof, expected = contingency.chi2_contingency(mycrosstab)\n",
    "print(f\"𝜒²({dof:.0f}) = {c:.3f}, p = {p:.3f} \")\n",
    "\n",
    "# maybe Cramer's V as well?\n",
    "print(f\"V = {contingency.association(mycrosstab,method='cramer'):.3f}\")"
   ]
  },
  {
   "cell_type": "markdown",
   "id": "2a3a5287-3406-4856-bc2a-eb8cfb2b4814",
   "metadata": {},
   "source": [
    "MANIPULATION CHECK 2"
   ]
  },
  {
   "cell_type": "code",
   "execution_count": 331,
   "id": "f87e2a7b-919e-41e5-be5b-59f58376c7a0",
   "metadata": {},
   "outputs": [
    {
     "name": "stdout",
     "output_type": "stream",
     "text": [
      "We compare 0 (M=3.65, SD=1.902) with 1 (M=4.12, SD=1.815), t(43.21900774469187)=-0.944, p=0.3506.\n"
     ]
    },
    {
     "data": {
      "text/html": [
       "<div>\n",
       "<style scoped>\n",
       "    .dataframe tbody tr th:only-of-type {\n",
       "        vertical-align: middle;\n",
       "    }\n",
       "\n",
       "    .dataframe tbody tr th {\n",
       "        vertical-align: top;\n",
       "    }\n",
       "\n",
       "    .dataframe thead th {\n",
       "        text-align: right;\n",
       "    }\n",
       "</style>\n",
       "<table border=\"1\" class=\"dataframe\">\n",
       "  <thead>\n",
       "    <tr style=\"text-align: right;\">\n",
       "      <th></th>\n",
       "      <th>T</th>\n",
       "      <th>dof</th>\n",
       "      <th>alternative</th>\n",
       "      <th>p-val</th>\n",
       "      <th>CI95%</th>\n",
       "      <th>cohen-d</th>\n",
       "      <th>BF10</th>\n",
       "      <th>power</th>\n",
       "    </tr>\n",
       "  </thead>\n",
       "  <tbody>\n",
       "    <tr>\n",
       "      <th>T-test</th>\n",
       "      <td>-0.943544</td>\n",
       "      <td>43.219008</td>\n",
       "      <td>two-sided</td>\n",
       "      <td>0.350648</td>\n",
       "      <td>[-1.46, 0.53]</td>\n",
       "      <td>0.248922</td>\n",
       "      <td>0.382</td>\n",
       "      <td>0.156906</td>\n",
       "    </tr>\n",
       "  </tbody>\n",
       "</table>\n",
       "</div>"
      ],
      "text/plain": [
       "               T        dof alternative     p-val          CI95%   cohen-d  \\\n",
       "T-test -0.943544  43.219008   two-sided  0.350648  [-1.46, 0.53]  0.248922   \n",
       "\n",
       "         BF10     power  \n",
       "T-test  0.382  0.156906  "
      ]
     },
     "execution_count": 331,
     "metadata": {},
     "output_type": "execute_result"
    }
   ],
   "source": [
    "(label1, values1), (label2, values2) = df.groupby('condition')['mancheck2']\n",
    "\n",
    "testresult = pg.ttest(values1, values2)\n",
    "\n",
    "print(f\"We compare {label1} (M={np.mean(values1):.2f}, SD={np.std(values1):.3f}) \"\n",
    "     f\"with {label2} (M={np.mean(values2):.2f}, SD={np.std(values2):.3f}), \"\n",
    "     f\"t({testresult.iloc[0,1]})={testresult.iloc[0,0]:.3f}, \"\n",
    "     f\"p={testresult.iloc[0,3]:.4f}.\")\n",
    "\n",
    "testresult"
   ]
  },
  {
   "cell_type": "markdown",
   "id": "ef59230c-27a7-4c9f-9bee-7cbc977352b8",
   "metadata": {},
   "source": [
    "## Some recoding "
   ]
  },
  {
   "cell_type": "code",
   "execution_count": 332,
   "id": "868f72e8-218b-4f9f-8d42-7050498c4c92",
   "metadata": {},
   "outputs": [],
   "source": [
    "#conscientiousness_2\n",
    "df['conscientiousness2_reverse'] = df['conscientiousness_2'].map({7:1, 6:2, 5:3, 4:4, 3:5, 2:6, 1:7})"
   ]
  },
  {
   "cell_type": "code",
   "execution_count": 333,
   "id": "7cf31def-dfee-4878-984c-f03df45369b6",
   "metadata": {},
   "outputs": [],
   "source": [
    "#conscientiousness_3\n",
    "df['conscientiousness3_reverse'] = df['conscientiousness_3'].map({7:1, 6:2, 5:3, 4:4, 3:5, 2:6, 1:7})"
   ]
  },
  {
   "cell_type": "code",
   "execution_count": 334,
   "id": "4db5295b-0398-405b-b565-57d835962d76",
   "metadata": {},
   "outputs": [],
   "source": [
    "#motivation_10\n",
    "df['motivation10_reverse'] = df['motivation_10'].map({7:1, 6:2, 5:3, 4:4, 3:5, 2:6, 1:7})"
   ]
  },
  {
   "cell_type": "code",
   "execution_count": 335,
   "id": "ff109160-a15a-4649-ab03-04a1c6cd276e",
   "metadata": {},
   "outputs": [],
   "source": [
    "#motivation_11\n",
    "df['motivation11_reverse'] = df['motivation_11'].map({7:1, 6:2, 5:3, 4:4, 3:5, 2:6, 1:7})"
   ]
  },
  {
   "cell_type": "code",
   "execution_count": 336,
   "id": "de91795c-0e6b-4c1d-838a-c6fa90c71f4b",
   "metadata": {},
   "outputs": [
    {
     "data": {
      "text/plain": [
       "motivation11_reverse\n",
       "6    14\n",
       "5    13\n",
       "4    12\n",
       "7    11\n",
       "2     9\n",
       "1     4\n",
       "3     2\n",
       "Name: count, dtype: int64"
      ]
     },
     "execution_count": 336,
     "metadata": {},
     "output_type": "execute_result"
    }
   ],
   "source": [
    "#checking if it worked\n",
    "df['motivation11_reverse'].value_counts()"
   ]
  },
  {
   "cell_type": "code",
   "execution_count": 337,
   "id": "6db3e7d6-42bd-4ef1-a582-ac9beb3ca442",
   "metadata": {},
   "outputs": [
    {
     "data": {
      "text/plain": [
       "motivation_11\n",
       "2.0    14\n",
       "3.0    13\n",
       "4.0    12\n",
       "1.0    11\n",
       "6.0     9\n",
       "7.0     4\n",
       "5.0     2\n",
       "Name: count, dtype: int64"
      ]
     },
     "execution_count": 337,
     "metadata": {},
     "output_type": "execute_result"
    }
   ],
   "source": [
    "df['motivation_11'].value_counts()"
   ]
  },
  {
   "cell_type": "markdown",
   "id": "3fd2b0be-0011-405a-9397-5f0bb0447289",
   "metadata": {},
   "source": [
    "# Analysis "
   ]
  },
  {
   "cell_type": "markdown",
   "id": "edebeeb1-3f66-4fd5-9211-30f1fda4ac66",
   "metadata": {},
   "source": [
    "## Check validity"
   ]
  },
  {
   "cell_type": "markdown",
   "id": "f58520de-dff6-4b81-86f6-57589ee82174",
   "metadata": {},
   "source": [
    "## Enjoyment (DV) Factor Analysis"
   ]
  },
  {
   "cell_type": "code",
   "execution_count": 338,
   "id": "cb571280-4163-44ce-ac3c-f3f48c51253d",
   "metadata": {
    "scrolled": true
   },
   "outputs": [
    {
     "name": "stdout",
     "output_type": "stream",
     "text": [
      "164.64880219614372 3.549978059026786e-30\n",
      "0.6015782989127093\n"
     ]
    }
   ],
   "source": [
    "items = df[['motivation_8','motivation_9','motivation10_reverse','motivation11_reverse','motivation_12']]\n",
    "\n",
    "#CHECK ADEQUACY\n",
    "#Bartlett\n",
    "#p-value should be 0 (statistically sig.)\n",
    "chi_square_value,p_value=calculate_bartlett_sphericity(items)\n",
    "print(chi_square_value, p_value)\n",
    "\n",
    "#KMO\n",
    "#Value should be 0.6<\n",
    "kmo_all,kmo_model=calculate_kmo(items)\n",
    "print(kmo_model)"
   ]
  },
  {
   "cell_type": "code",
   "execution_count": 339,
   "id": "77698492-ddad-48e5-95e8-27df0628e4d1",
   "metadata": {},
   "outputs": [
    {
     "name": "stderr",
     "output_type": "stream",
     "text": [
      "/Users/alessiamoro/Library/jupyterlab-desktop/jlab_server/lib/python3.12/site-packages/factor_analyzer/factor_analyzer.py:663: UserWarning: No rotation will be performed when the number of factors equals 1.\n",
      "  warnings.warn(\n"
     ]
    },
    {
     "data": {
      "text/html": [
       "<style>#sk-container-id-8 {\n",
       "  /* Definition of color scheme common for light and dark mode */\n",
       "  --sklearn-color-text: black;\n",
       "  --sklearn-color-line: gray;\n",
       "  /* Definition of color scheme for unfitted estimators */\n",
       "  --sklearn-color-unfitted-level-0: #fff5e6;\n",
       "  --sklearn-color-unfitted-level-1: #f6e4d2;\n",
       "  --sklearn-color-unfitted-level-2: #ffe0b3;\n",
       "  --sklearn-color-unfitted-level-3: chocolate;\n",
       "  /* Definition of color scheme for fitted estimators */\n",
       "  --sklearn-color-fitted-level-0: #f0f8ff;\n",
       "  --sklearn-color-fitted-level-1: #d4ebff;\n",
       "  --sklearn-color-fitted-level-2: #b3dbfd;\n",
       "  --sklearn-color-fitted-level-3: cornflowerblue;\n",
       "\n",
       "  /* Specific color for light theme */\n",
       "  --sklearn-color-text-on-default-background: var(--sg-text-color, var(--theme-code-foreground, var(--jp-content-font-color1, black)));\n",
       "  --sklearn-color-background: var(--sg-background-color, var(--theme-background, var(--jp-layout-color0, white)));\n",
       "  --sklearn-color-border-box: var(--sg-text-color, var(--theme-code-foreground, var(--jp-content-font-color1, black)));\n",
       "  --sklearn-color-icon: #696969;\n",
       "\n",
       "  @media (prefers-color-scheme: dark) {\n",
       "    /* Redefinition of color scheme for dark theme */\n",
       "    --sklearn-color-text-on-default-background: var(--sg-text-color, var(--theme-code-foreground, var(--jp-content-font-color1, white)));\n",
       "    --sklearn-color-background: var(--sg-background-color, var(--theme-background, var(--jp-layout-color0, #111)));\n",
       "    --sklearn-color-border-box: var(--sg-text-color, var(--theme-code-foreground, var(--jp-content-font-color1, white)));\n",
       "    --sklearn-color-icon: #878787;\n",
       "  }\n",
       "}\n",
       "\n",
       "#sk-container-id-8 {\n",
       "  color: var(--sklearn-color-text);\n",
       "}\n",
       "\n",
       "#sk-container-id-8 pre {\n",
       "  padding: 0;\n",
       "}\n",
       "\n",
       "#sk-container-id-8 input.sk-hidden--visually {\n",
       "  border: 0;\n",
       "  clip: rect(1px 1px 1px 1px);\n",
       "  clip: rect(1px, 1px, 1px, 1px);\n",
       "  height: 1px;\n",
       "  margin: -1px;\n",
       "  overflow: hidden;\n",
       "  padding: 0;\n",
       "  position: absolute;\n",
       "  width: 1px;\n",
       "}\n",
       "\n",
       "#sk-container-id-8 div.sk-dashed-wrapped {\n",
       "  border: 1px dashed var(--sklearn-color-line);\n",
       "  margin: 0 0.4em 0.5em 0.4em;\n",
       "  box-sizing: border-box;\n",
       "  padding-bottom: 0.4em;\n",
       "  background-color: var(--sklearn-color-background);\n",
       "}\n",
       "\n",
       "#sk-container-id-8 div.sk-container {\n",
       "  /* jupyter's `normalize.less` sets `[hidden] { display: none; }`\n",
       "     but bootstrap.min.css set `[hidden] { display: none !important; }`\n",
       "     so we also need the `!important` here to be able to override the\n",
       "     default hidden behavior on the sphinx rendered scikit-learn.org.\n",
       "     See: https://github.com/scikit-learn/scikit-learn/issues/21755 */\n",
       "  display: inline-block !important;\n",
       "  position: relative;\n",
       "}\n",
       "\n",
       "#sk-container-id-8 div.sk-text-repr-fallback {\n",
       "  display: none;\n",
       "}\n",
       "\n",
       "div.sk-parallel-item,\n",
       "div.sk-serial,\n",
       "div.sk-item {\n",
       "  /* draw centered vertical line to link estimators */\n",
       "  background-image: linear-gradient(var(--sklearn-color-text-on-default-background), var(--sklearn-color-text-on-default-background));\n",
       "  background-size: 2px 100%;\n",
       "  background-repeat: no-repeat;\n",
       "  background-position: center center;\n",
       "}\n",
       "\n",
       "/* Parallel-specific style estimator block */\n",
       "\n",
       "#sk-container-id-8 div.sk-parallel-item::after {\n",
       "  content: \"\";\n",
       "  width: 100%;\n",
       "  border-bottom: 2px solid var(--sklearn-color-text-on-default-background);\n",
       "  flex-grow: 1;\n",
       "}\n",
       "\n",
       "#sk-container-id-8 div.sk-parallel {\n",
       "  display: flex;\n",
       "  align-items: stretch;\n",
       "  justify-content: center;\n",
       "  background-color: var(--sklearn-color-background);\n",
       "  position: relative;\n",
       "}\n",
       "\n",
       "#sk-container-id-8 div.sk-parallel-item {\n",
       "  display: flex;\n",
       "  flex-direction: column;\n",
       "}\n",
       "\n",
       "#sk-container-id-8 div.sk-parallel-item:first-child::after {\n",
       "  align-self: flex-end;\n",
       "  width: 50%;\n",
       "}\n",
       "\n",
       "#sk-container-id-8 div.sk-parallel-item:last-child::after {\n",
       "  align-self: flex-start;\n",
       "  width: 50%;\n",
       "}\n",
       "\n",
       "#sk-container-id-8 div.sk-parallel-item:only-child::after {\n",
       "  width: 0;\n",
       "}\n",
       "\n",
       "/* Serial-specific style estimator block */\n",
       "\n",
       "#sk-container-id-8 div.sk-serial {\n",
       "  display: flex;\n",
       "  flex-direction: column;\n",
       "  align-items: center;\n",
       "  background-color: var(--sklearn-color-background);\n",
       "  padding-right: 1em;\n",
       "  padding-left: 1em;\n",
       "}\n",
       "\n",
       "\n",
       "/* Toggleable style: style used for estimator/Pipeline/ColumnTransformer box that is\n",
       "clickable and can be expanded/collapsed.\n",
       "- Pipeline and ColumnTransformer use this feature and define the default style\n",
       "- Estimators will overwrite some part of the style using the `sk-estimator` class\n",
       "*/\n",
       "\n",
       "/* Pipeline and ColumnTransformer style (default) */\n",
       "\n",
       "#sk-container-id-8 div.sk-toggleable {\n",
       "  /* Default theme specific background. It is overwritten whether we have a\n",
       "  specific estimator or a Pipeline/ColumnTransformer */\n",
       "  background-color: var(--sklearn-color-background);\n",
       "}\n",
       "\n",
       "/* Toggleable label */\n",
       "#sk-container-id-8 label.sk-toggleable__label {\n",
       "  cursor: pointer;\n",
       "  display: block;\n",
       "  width: 100%;\n",
       "  margin-bottom: 0;\n",
       "  padding: 0.5em;\n",
       "  box-sizing: border-box;\n",
       "  text-align: center;\n",
       "}\n",
       "\n",
       "#sk-container-id-8 label.sk-toggleable__label-arrow:before {\n",
       "  /* Arrow on the left of the label */\n",
       "  content: \"▸\";\n",
       "  float: left;\n",
       "  margin-right: 0.25em;\n",
       "  color: var(--sklearn-color-icon);\n",
       "}\n",
       "\n",
       "#sk-container-id-8 label.sk-toggleable__label-arrow:hover:before {\n",
       "  color: var(--sklearn-color-text);\n",
       "}\n",
       "\n",
       "/* Toggleable content - dropdown */\n",
       "\n",
       "#sk-container-id-8 div.sk-toggleable__content {\n",
       "  max-height: 0;\n",
       "  max-width: 0;\n",
       "  overflow: hidden;\n",
       "  text-align: left;\n",
       "  /* unfitted */\n",
       "  background-color: var(--sklearn-color-unfitted-level-0);\n",
       "}\n",
       "\n",
       "#sk-container-id-8 div.sk-toggleable__content.fitted {\n",
       "  /* fitted */\n",
       "  background-color: var(--sklearn-color-fitted-level-0);\n",
       "}\n",
       "\n",
       "#sk-container-id-8 div.sk-toggleable__content pre {\n",
       "  margin: 0.2em;\n",
       "  border-radius: 0.25em;\n",
       "  color: var(--sklearn-color-text);\n",
       "  /* unfitted */\n",
       "  background-color: var(--sklearn-color-unfitted-level-0);\n",
       "}\n",
       "\n",
       "#sk-container-id-8 div.sk-toggleable__content.fitted pre {\n",
       "  /* unfitted */\n",
       "  background-color: var(--sklearn-color-fitted-level-0);\n",
       "}\n",
       "\n",
       "#sk-container-id-8 input.sk-toggleable__control:checked~div.sk-toggleable__content {\n",
       "  /* Expand drop-down */\n",
       "  max-height: 200px;\n",
       "  max-width: 100%;\n",
       "  overflow: auto;\n",
       "}\n",
       "\n",
       "#sk-container-id-8 input.sk-toggleable__control:checked~label.sk-toggleable__label-arrow:before {\n",
       "  content: \"▾\";\n",
       "}\n",
       "\n",
       "/* Pipeline/ColumnTransformer-specific style */\n",
       "\n",
       "#sk-container-id-8 div.sk-label input.sk-toggleable__control:checked~label.sk-toggleable__label {\n",
       "  color: var(--sklearn-color-text);\n",
       "  background-color: var(--sklearn-color-unfitted-level-2);\n",
       "}\n",
       "\n",
       "#sk-container-id-8 div.sk-label.fitted input.sk-toggleable__control:checked~label.sk-toggleable__label {\n",
       "  background-color: var(--sklearn-color-fitted-level-2);\n",
       "}\n",
       "\n",
       "/* Estimator-specific style */\n",
       "\n",
       "/* Colorize estimator box */\n",
       "#sk-container-id-8 div.sk-estimator input.sk-toggleable__control:checked~label.sk-toggleable__label {\n",
       "  /* unfitted */\n",
       "  background-color: var(--sklearn-color-unfitted-level-2);\n",
       "}\n",
       "\n",
       "#sk-container-id-8 div.sk-estimator.fitted input.sk-toggleable__control:checked~label.sk-toggleable__label {\n",
       "  /* fitted */\n",
       "  background-color: var(--sklearn-color-fitted-level-2);\n",
       "}\n",
       "\n",
       "#sk-container-id-8 div.sk-label label.sk-toggleable__label,\n",
       "#sk-container-id-8 div.sk-label label {\n",
       "  /* The background is the default theme color */\n",
       "  color: var(--sklearn-color-text-on-default-background);\n",
       "}\n",
       "\n",
       "/* On hover, darken the color of the background */\n",
       "#sk-container-id-8 div.sk-label:hover label.sk-toggleable__label {\n",
       "  color: var(--sklearn-color-text);\n",
       "  background-color: var(--sklearn-color-unfitted-level-2);\n",
       "}\n",
       "\n",
       "/* Label box, darken color on hover, fitted */\n",
       "#sk-container-id-8 div.sk-label.fitted:hover label.sk-toggleable__label.fitted {\n",
       "  color: var(--sklearn-color-text);\n",
       "  background-color: var(--sklearn-color-fitted-level-2);\n",
       "}\n",
       "\n",
       "/* Estimator label */\n",
       "\n",
       "#sk-container-id-8 div.sk-label label {\n",
       "  font-family: monospace;\n",
       "  font-weight: bold;\n",
       "  display: inline-block;\n",
       "  line-height: 1.2em;\n",
       "}\n",
       "\n",
       "#sk-container-id-8 div.sk-label-container {\n",
       "  text-align: center;\n",
       "}\n",
       "\n",
       "/* Estimator-specific */\n",
       "#sk-container-id-8 div.sk-estimator {\n",
       "  font-family: monospace;\n",
       "  border: 1px dotted var(--sklearn-color-border-box);\n",
       "  border-radius: 0.25em;\n",
       "  box-sizing: border-box;\n",
       "  margin-bottom: 0.5em;\n",
       "  /* unfitted */\n",
       "  background-color: var(--sklearn-color-unfitted-level-0);\n",
       "}\n",
       "\n",
       "#sk-container-id-8 div.sk-estimator.fitted {\n",
       "  /* fitted */\n",
       "  background-color: var(--sklearn-color-fitted-level-0);\n",
       "}\n",
       "\n",
       "/* on hover */\n",
       "#sk-container-id-8 div.sk-estimator:hover {\n",
       "  /* unfitted */\n",
       "  background-color: var(--sklearn-color-unfitted-level-2);\n",
       "}\n",
       "\n",
       "#sk-container-id-8 div.sk-estimator.fitted:hover {\n",
       "  /* fitted */\n",
       "  background-color: var(--sklearn-color-fitted-level-2);\n",
       "}\n",
       "\n",
       "/* Specification for estimator info (e.g. \"i\" and \"?\") */\n",
       "\n",
       "/* Common style for \"i\" and \"?\" */\n",
       "\n",
       ".sk-estimator-doc-link,\n",
       "a:link.sk-estimator-doc-link,\n",
       "a:visited.sk-estimator-doc-link {\n",
       "  float: right;\n",
       "  font-size: smaller;\n",
       "  line-height: 1em;\n",
       "  font-family: monospace;\n",
       "  background-color: var(--sklearn-color-background);\n",
       "  border-radius: 1em;\n",
       "  height: 1em;\n",
       "  width: 1em;\n",
       "  text-decoration: none !important;\n",
       "  margin-left: 1ex;\n",
       "  /* unfitted */\n",
       "  border: var(--sklearn-color-unfitted-level-1) 1pt solid;\n",
       "  color: var(--sklearn-color-unfitted-level-1);\n",
       "}\n",
       "\n",
       ".sk-estimator-doc-link.fitted,\n",
       "a:link.sk-estimator-doc-link.fitted,\n",
       "a:visited.sk-estimator-doc-link.fitted {\n",
       "  /* fitted */\n",
       "  border: var(--sklearn-color-fitted-level-1) 1pt solid;\n",
       "  color: var(--sklearn-color-fitted-level-1);\n",
       "}\n",
       "\n",
       "/* On hover */\n",
       "div.sk-estimator:hover .sk-estimator-doc-link:hover,\n",
       ".sk-estimator-doc-link:hover,\n",
       "div.sk-label-container:hover .sk-estimator-doc-link:hover,\n",
       ".sk-estimator-doc-link:hover {\n",
       "  /* unfitted */\n",
       "  background-color: var(--sklearn-color-unfitted-level-3);\n",
       "  color: var(--sklearn-color-background);\n",
       "  text-decoration: none;\n",
       "}\n",
       "\n",
       "div.sk-estimator.fitted:hover .sk-estimator-doc-link.fitted:hover,\n",
       ".sk-estimator-doc-link.fitted:hover,\n",
       "div.sk-label-container:hover .sk-estimator-doc-link.fitted:hover,\n",
       ".sk-estimator-doc-link.fitted:hover {\n",
       "  /* fitted */\n",
       "  background-color: var(--sklearn-color-fitted-level-3);\n",
       "  color: var(--sklearn-color-background);\n",
       "  text-decoration: none;\n",
       "}\n",
       "\n",
       "/* Span, style for the box shown on hovering the info icon */\n",
       ".sk-estimator-doc-link span {\n",
       "  display: none;\n",
       "  z-index: 9999;\n",
       "  position: relative;\n",
       "  font-weight: normal;\n",
       "  right: .2ex;\n",
       "  padding: .5ex;\n",
       "  margin: .5ex;\n",
       "  width: min-content;\n",
       "  min-width: 20ex;\n",
       "  max-width: 50ex;\n",
       "  color: var(--sklearn-color-text);\n",
       "  box-shadow: 2pt 2pt 4pt #999;\n",
       "  /* unfitted */\n",
       "  background: var(--sklearn-color-unfitted-level-0);\n",
       "  border: .5pt solid var(--sklearn-color-unfitted-level-3);\n",
       "}\n",
       "\n",
       ".sk-estimator-doc-link.fitted span {\n",
       "  /* fitted */\n",
       "  background: var(--sklearn-color-fitted-level-0);\n",
       "  border: var(--sklearn-color-fitted-level-3);\n",
       "}\n",
       "\n",
       ".sk-estimator-doc-link:hover span {\n",
       "  display: block;\n",
       "}\n",
       "\n",
       "/* \"?\"-specific style due to the `<a>` HTML tag */\n",
       "\n",
       "#sk-container-id-8 a.estimator_doc_link {\n",
       "  float: right;\n",
       "  font-size: 1rem;\n",
       "  line-height: 1em;\n",
       "  font-family: monospace;\n",
       "  background-color: var(--sklearn-color-background);\n",
       "  border-radius: 1rem;\n",
       "  height: 1rem;\n",
       "  width: 1rem;\n",
       "  text-decoration: none;\n",
       "  /* unfitted */\n",
       "  color: var(--sklearn-color-unfitted-level-1);\n",
       "  border: var(--sklearn-color-unfitted-level-1) 1pt solid;\n",
       "}\n",
       "\n",
       "#sk-container-id-8 a.estimator_doc_link.fitted {\n",
       "  /* fitted */\n",
       "  border: var(--sklearn-color-fitted-level-1) 1pt solid;\n",
       "  color: var(--sklearn-color-fitted-level-1);\n",
       "}\n",
       "\n",
       "/* On hover */\n",
       "#sk-container-id-8 a.estimator_doc_link:hover {\n",
       "  /* unfitted */\n",
       "  background-color: var(--sklearn-color-unfitted-level-3);\n",
       "  color: var(--sklearn-color-background);\n",
       "  text-decoration: none;\n",
       "}\n",
       "\n",
       "#sk-container-id-8 a.estimator_doc_link.fitted:hover {\n",
       "  /* fitted */\n",
       "  background-color: var(--sklearn-color-fitted-level-3);\n",
       "}\n",
       "</style><div id=\"sk-container-id-8\" class=\"sk-top-container\"><div class=\"sk-text-repr-fallback\"><pre>FactorAnalyzer(n_factors=1, rotation_kwargs={})</pre><b>In a Jupyter environment, please rerun this cell to show the HTML representation or trust the notebook. <br />On GitHub, the HTML representation is unable to render, please try loading this page with nbviewer.org.</b></div><div class=\"sk-container\" hidden><div class=\"sk-item\"><div class=\"sk-estimator fitted sk-toggleable\"><input class=\"sk-toggleable__control sk-hidden--visually\" id=\"sk-estimator-id-8\" type=\"checkbox\" checked><label for=\"sk-estimator-id-8\" class=\"sk-toggleable__label fitted sk-toggleable__label-arrow fitted\">&nbsp;FactorAnalyzer<span class=\"sk-estimator-doc-link fitted\">i<span>Fitted</span></span></label><div class=\"sk-toggleable__content fitted\"><pre>FactorAnalyzer(n_factors=1, rotation_kwargs={})</pre></div> </div></div></div></div>"
      ],
      "text/plain": [
       "FactorAnalyzer(n_factors=1, rotation_kwargs={})"
      ]
     },
     "execution_count": 339,
     "metadata": {},
     "output_type": "execute_result"
    }
   ],
   "source": [
    "# perform the factor analysis using the FactorAnalyzer class. You can specify the number of factors you want to extract using the n_factors parameter:\n",
    "fa = FactorAnalyzer(n_factors = 1)\n",
    "\n",
    "# fit the factor analysis model to your data\n",
    "fa.fit(df[['motivation_8','motivation_9','motivation10_reverse','motivation11_reverse','motivation_12']])"
   ]
  },
  {
   "cell_type": "code",
   "execution_count": 340,
   "id": "ad217720-3963-4587-80f4-5dc5327bac7e",
   "metadata": {},
   "outputs": [
    {
     "data": {
      "text/plain": [
       "array([[-0.84618694],\n",
       "       [-0.94893024],\n",
       "       [-0.41483638],\n",
       "       [-0.31865977],\n",
       "       [-0.66946954]])"
      ]
     },
     "execution_count": 340,
     "metadata": {},
     "output_type": "execute_result"
    }
   ],
   "source": [
    "# Get the factor loadings\n",
    "loadings = fa.loadings_\n",
    "\n",
    "loadings"
   ]
  },
  {
   "cell_type": "code",
   "execution_count": 341,
   "id": "c4bbd905-6e75-4022-ba8c-b3d6164ac281",
   "metadata": {},
   "outputs": [
    {
     "data": {
      "text/plain": [
       "array([0.71603234, 0.90046859, 0.17208922, 0.10154405, 0.44818947])"
      ]
     },
     "execution_count": 341,
     "metadata": {},
     "output_type": "execute_result"
    }
   ],
   "source": [
    "# Get the communalities\n",
    "communalities = fa.get_communalities()\n",
    "communalities"
   ]
  },
  {
   "cell_type": "code",
   "execution_count": 342,
   "id": "923f51d3-1af2-417b-9aac-237d0f2020b6",
   "metadata": {},
   "outputs": [
    {
     "data": {
      "text/plain": [
       "array([[ 2.71,  1.33,  0.54,  0.31,  0.11],\n",
       "       [ 2.34,  0.56,  0.04, -0.08, -0.52]])"
      ]
     },
     "execution_count": 342,
     "metadata": {},
     "output_type": "execute_result"
    }
   ],
   "source": [
    "# Get the eigenvalues\n",
    "#         Returns\n",
    "#         -------\n",
    "#         original_eigen_values : :obj:`numpy.ndarray`\n",
    "#             The original eigenvalues\n",
    "#         common_factor_eigen_values : :obj:`numpy.ndarray`\n",
    "#             The common factor eigenvalues\n",
    "eigenvalues = fa.get_eigenvalues()\n",
    "\n",
    "np.round(eigenvalues, decimals = 2)"
   ]
  },
  {
   "cell_type": "code",
   "execution_count": 343,
   "id": "e717e448-ccd2-4235-aaae-677483b96855",
   "metadata": {},
   "outputs": [
    {
     "data": {
      "text/plain": [
       "(array([2.33832367]), array([0.46766473]), array([0.46766473]))"
      ]
     },
     "execution_count": 343,
     "metadata": {},
     "output_type": "execute_result"
    }
   ],
   "source": [
    "# Get the variance explained by each factor;  \n",
    "#         Returns\n",
    "#         -------\n",
    "#         variance : :obj:`numpy.ndarray`\n",
    "#             The factor variances.\n",
    "#         proportional_variance : :obj:`numpy.ndarray`\n",
    "#             The proportional factor variances.\n",
    "#         cumulative_variances : :obj:`numpy.ndarray`\n",
    "#             The cumulative factor variances.\n",
    "variance_explained = fa.get_factor_variance()\n",
    "\n",
    "variance_explained"
   ]
  },
  {
   "cell_type": "code",
   "execution_count": 344,
   "id": "e6548c93-91b1-496a-a6d0-8e40810edee4",
   "metadata": {},
   "outputs": [],
   "source": [
    "# Check reliability (Cronbach's Alpha)"
   ]
  },
  {
   "cell_type": "code",
   "execution_count": 345,
   "id": "9f24d449-27b2-4c15-a04e-51aced34963a",
   "metadata": {},
   "outputs": [
    {
     "data": {
      "text/plain": [
       "(0.7731904909733499, array([0.673, 0.85 ]))"
      ]
     },
     "execution_count": 345,
     "metadata": {},
     "output_type": "execute_result"
    }
   ],
   "source": [
    "# Calculate the initial Cronbach's alpha\n",
    "pg.cronbach_alpha(items)"
   ]
  },
  {
   "cell_type": "code",
   "execution_count": 346,
   "id": "cc3a3ce6-4675-42d3-9251-dcf156028dc4",
   "metadata": {},
   "outputs": [
    {
     "name": "stdout",
     "output_type": "stream",
     "text": [
      "Item removed: motivation_8\n",
      "Cronbach's alpha: (0.6946285658172534, array([0.552, 0.8  ]))\n",
      "\n",
      "Item removed: motivation_9\n",
      "Cronbach's alpha: (0.6803669584203167, array([0.531, 0.791]))\n",
      "\n",
      "Item removed: motivation10_reverse\n",
      "Cronbach's alpha: (0.7490636704119851, array([0.632, 0.836]))\n",
      "\n",
      "Item removed: motivation11_reverse\n",
      "Cronbach's alpha: (0.7887256345648309, array([0.69 , 0.862]))\n",
      "\n",
      "Item removed: motivation_12\n",
      "Cronbach's alpha: (0.7354906030601018, array([0.612, 0.827]))\n",
      "\n"
     ]
    }
   ],
   "source": [
    "# calculate the alpha value without each item\n",
    "alpha_deleted_items = []\n",
    "for item in items.columns:\n",
    "    reduced_data = items.drop(item, axis=1)\n",
    "    alpha = pg.cronbach_alpha(reduced_data)\n",
    "    alpha_deleted_items.append((item, alpha))\n",
    "\n",
    "for item, alpha in alpha_deleted_items:\n",
    "    print(\"Item removed:\", item)\n",
    "    print(\"Cronbach's alpha:\", alpha)\n",
    "    print()"
   ]
  },
  {
   "cell_type": "code",
   "execution_count": 347,
   "id": "017c916e-82d8-44dc-9162-20c412f79b3e",
   "metadata": {},
   "outputs": [],
   "source": [
    "#If we are satisfied, maybe make a new variable by calculating the mean\n",
    "df['dv_e'] = df[['motivation_8','motivation_9','motivation10_reverse','motivation_12']].mean(axis=1)   # of course, only select those you're interested in"
   ]
  },
  {
   "cell_type": "code",
   "execution_count": 348,
   "id": "d0a9e4e9-47fc-4946-b6d2-9790b814f26d",
   "metadata": {},
   "outputs": [
    {
     "data": {
      "text/plain": [
       "<Axes: xlabel='dv_e', ylabel='Count'>"
      ]
     },
     "execution_count": 348,
     "metadata": {},
     "output_type": "execute_result"
    },
    {
     "data": {
      "image/png": "[encoded data removed]",
      "text/plain": [
       "<Figure size 640x480 with 1 Axes>"
      ]
     },
     "metadata": {},
     "output_type": "display_data"
    }
   ],
   "source": [
    "# visualization enjoyment\n",
    "sns.histplot(x = 'dv_e', data=df)"
   ]
  },
  {
   "cell_type": "markdown",
   "id": "f411cdad-c45b-4bcd-a3d2-fe7e9c0675a8",
   "metadata": {},
   "source": [
    "## Conscientiousness (Mediator) Factor Analysis"
   ]
  },
  {
   "cell_type": "code",
   "execution_count": 349,
   "id": "eec62e49-3658-4772-b396-9868ff476358",
   "metadata": {},
   "outputs": [
    {
     "name": "stdout",
     "output_type": "stream",
     "text": [
      "65.7815713053044 2.871991095090997e-10\n",
      "0.47501689910202055\n"
     ]
    }
   ],
   "source": [
    "items2 = df[['conscientiousness_1','conscientiousness2_reverse','conscientiousness3_reverse','conscientiousness_4','conscientiousness_5']]\n",
    "\n",
    "#CHECK ADEQUACY\n",
    "#Bartlett\n",
    "#p-value should be 0 (statistically sig.)\n",
    "chi_square_value,p_value=calculate_bartlett_sphericity(items2)\n",
    "print(chi_square_value, p_value)\n",
    "\n",
    "#KMO\n",
    "#Value should be 0.6<\n",
    "kmo_all,kmo_model=calculate_kmo(items2)\n",
    "print(kmo_model)"
   ]
  },
  {
   "cell_type": "code",
   "execution_count": 350,
   "id": "750a1420-68ca-49c7-876f-0366f8fafe6a",
   "metadata": {},
   "outputs": [
    {
     "name": "stderr",
     "output_type": "stream",
     "text": [
      "/Users/alessiamoro/Library/jupyterlab-desktop/jlab_server/lib/python3.12/site-packages/factor_analyzer/factor_analyzer.py:663: UserWarning: No rotation will be performed when the number of factors equals 1.\n",
      "  warnings.warn(\n"
     ]
    },
    {
     "data": {
      "text/html": [
       "<style>#sk-container-id-9 {\n",
       "  /* Definition of color scheme common for light and dark mode */\n",
       "  --sklearn-color-text: black;\n",
       "  --sklearn-color-line: gray;\n",
       "  /* Definition of color scheme for unfitted estimators */\n",
       "  --sklearn-color-unfitted-level-0: #fff5e6;\n",
       "  --sklearn-color-unfitted-level-1: #f6e4d2;\n",
       "  --sklearn-color-unfitted-level-2: #ffe0b3;\n",
       "  --sklearn-color-unfitted-level-3: chocolate;\n",
       "  /* Definition of color scheme for fitted estimators */\n",
       "  --sklearn-color-fitted-level-0: #f0f8ff;\n",
       "  --sklearn-color-fitted-level-1: #d4ebff;\n",
       "  --sklearn-color-fitted-level-2: #b3dbfd;\n",
       "  --sklearn-color-fitted-level-3: cornflowerblue;\n",
       "\n",
       "  /* Specific color for light theme */\n",
       "  --sklearn-color-text-on-default-background: var(--sg-text-color, var(--theme-code-foreground, var(--jp-content-font-color1, black)));\n",
       "  --sklearn-color-background: var(--sg-background-color, var(--theme-background, var(--jp-layout-color0, white)));\n",
       "  --sklearn-color-border-box: var(--sg-text-color, var(--theme-code-foreground, var(--jp-content-font-color1, black)));\n",
       "  --sklearn-color-icon: #696969;\n",
       "\n",
       "  @media (prefers-color-scheme: dark) {\n",
       "    /* Redefinition of color scheme for dark theme */\n",
       "    --sklearn-color-text-on-default-background: var(--sg-text-color, var(--theme-code-foreground, var(--jp-content-font-color1, white)));\n",
       "    --sklearn-color-background: var(--sg-background-color, var(--theme-background, var(--jp-layout-color0, #111)));\n",
       "    --sklearn-color-border-box: var(--sg-text-color, var(--theme-code-foreground, var(--jp-content-font-color1, white)));\n",
       "    --sklearn-color-icon: #878787;\n",
       "  }\n",
       "}\n",
       "\n",
       "#sk-container-id-9 {\n",
       "  color: var(--sklearn-color-text);\n",
       "}\n",
       "\n",
       "#sk-container-id-9 pre {\n",
       "  padding: 0;\n",
       "}\n",
       "\n",
       "#sk-container-id-9 input.sk-hidden--visually {\n",
       "  border: 0;\n",
       "  clip: rect(1px 1px 1px 1px);\n",
       "  clip: rect(1px, 1px, 1px, 1px);\n",
       "  height: 1px;\n",
       "  margin: -1px;\n",
       "  overflow: hidden;\n",
       "  padding: 0;\n",
       "  position: absolute;\n",
       "  width: 1px;\n",
       "}\n",
       "\n",
       "#sk-container-id-9 div.sk-dashed-wrapped {\n",
       "  border: 1px dashed var(--sklearn-color-line);\n",
       "  margin: 0 0.4em 0.5em 0.4em;\n",
       "  box-sizing: border-box;\n",
       "  padding-bottom: 0.4em;\n",
       "  background-color: var(--sklearn-color-background);\n",
       "}\n",
       "\n",
       "#sk-container-id-9 div.sk-container {\n",
       "  /* jupyter's `normalize.less` sets `[hidden] { display: none; }`\n",
       "     but bootstrap.min.css set `[hidden] { display: none !important; }`\n",
       "     so we also need the `!important` here to be able to override the\n",
       "     default hidden behavior on the sphinx rendered scikit-learn.org.\n",
       "     See: https://github.com/scikit-learn/scikit-learn/issues/21755 */\n",
       "  display: inline-block !important;\n",
       "  position: relative;\n",
       "}\n",
       "\n",
       "#sk-container-id-9 div.sk-text-repr-fallback {\n",
       "  display: none;\n",
       "}\n",
       "\n",
       "div.sk-parallel-item,\n",
       "div.sk-serial,\n",
       "div.sk-item {\n",
       "  /* draw centered vertical line to link estimators */\n",
       "  background-image: linear-gradient(var(--sklearn-color-text-on-default-background), var(--sklearn-color-text-on-default-background));\n",
       "  background-size: 2px 100%;\n",
       "  background-repeat: no-repeat;\n",
       "  background-position: center center;\n",
       "}\n",
       "\n",
       "/* Parallel-specific style estimator block */\n",
       "\n",
       "#sk-container-id-9 div.sk-parallel-item::after {\n",
       "  content: \"\";\n",
       "  width: 100%;\n",
       "  border-bottom: 2px solid var(--sklearn-color-text-on-default-background);\n",
       "  flex-grow: 1;\n",
       "}\n",
       "\n",
       "#sk-container-id-9 div.sk-parallel {\n",
       "  display: flex;\n",
       "  align-items: stretch;\n",
       "  justify-content: center;\n",
       "  background-color: var(--sklearn-color-background);\n",
       "  position: relative;\n",
       "}\n",
       "\n",
       "#sk-container-id-9 div.sk-parallel-item {\n",
       "  display: flex;\n",
       "  flex-direction: column;\n",
       "}\n",
       "\n",
       "#sk-container-id-9 div.sk-parallel-item:first-child::after {\n",
       "  align-self: flex-end;\n",
       "  width: 50%;\n",
       "}\n",
       "\n",
       "#sk-container-id-9 div.sk-parallel-item:last-child::after {\n",
       "  align-self: flex-start;\n",
       "  width: 50%;\n",
       "}\n",
       "\n",
       "#sk-container-id-9 div.sk-parallel-item:only-child::after {\n",
       "  width: 0;\n",
       "}\n",
       "\n",
       "/* Serial-specific style estimator block */\n",
       "\n",
       "#sk-container-id-9 div.sk-serial {\n",
       "  display: flex;\n",
       "  flex-direction: column;\n",
       "  align-items: center;\n",
       "  background-color: var(--sklearn-color-background);\n",
       "  padding-right: 1em;\n",
       "  padding-left: 1em;\n",
       "}\n",
       "\n",
       "\n",
       "/* Toggleable style: style used for estimator/Pipeline/ColumnTransformer box that is\n",
       "clickable and can be expanded/collapsed.\n",
       "- Pipeline and ColumnTransformer use this feature and define the default style\n",
       "- Estimators will overwrite some part of the style using the `sk-estimator` class\n",
       "*/\n",
       "\n",
       "/* Pipeline and ColumnTransformer style (default) */\n",
       "\n",
       "#sk-container-id-9 div.sk-toggleable {\n",
       "  /* Default theme specific background. It is overwritten whether we have a\n",
       "  specific estimator or a Pipeline/ColumnTransformer */\n",
       "  background-color: var(--sklearn-color-background);\n",
       "}\n",
       "\n",
       "/* Toggleable label */\n",
       "#sk-container-id-9 label.sk-toggleable__label {\n",
       "  cursor: pointer;\n",
       "  display: block;\n",
       "  width: 100%;\n",
       "  margin-bottom: 0;\n",
       "  padding: 0.5em;\n",
       "  box-sizing: border-box;\n",
       "  text-align: center;\n",
       "}\n",
       "\n",
       "#sk-container-id-9 label.sk-toggleable__label-arrow:before {\n",
       "  /* Arrow on the left of the label */\n",
       "  content: \"▸\";\n",
       "  float: left;\n",
       "  margin-right: 0.25em;\n",
       "  color: var(--sklearn-color-icon);\n",
       "}\n",
       "\n",
       "#sk-container-id-9 label.sk-toggleable__label-arrow:hover:before {\n",
       "  color: var(--sklearn-color-text);\n",
       "}\n",
       "\n",
       "/* Toggleable content - dropdown */\n",
       "\n",
       "#sk-container-id-9 div.sk-toggleable__content {\n",
       "  max-height: 0;\n",
       "  max-width: 0;\n",
       "  overflow: hidden;\n",
       "  text-align: left;\n",
       "  /* unfitted */\n",
       "  background-color: var(--sklearn-color-unfitted-level-0);\n",
       "}\n",
       "\n",
       "#sk-container-id-9 div.sk-toggleable__content.fitted {\n",
       "  /* fitted */\n",
       "  background-color: var(--sklearn-color-fitted-level-0);\n",
       "}\n",
       "\n",
       "#sk-container-id-9 div.sk-toggleable__content pre {\n",
       "  margin: 0.2em;\n",
       "  border-radius: 0.25em;\n",
       "  color: var(--sklearn-color-text);\n",
       "  /* unfitted */\n",
       "  background-color: var(--sklearn-color-unfitted-level-0);\n",
       "}\n",
       "\n",
       "#sk-container-id-9 div.sk-toggleable__content.fitted pre {\n",
       "  /* unfitted */\n",
       "  background-color: var(--sklearn-color-fitted-level-0);\n",
       "}\n",
       "\n",
       "#sk-container-id-9 input.sk-toggleable__control:checked~div.sk-toggleable__content {\n",
       "  /* Expand drop-down */\n",
       "  max-height: 200px;\n",
       "  max-width: 100%;\n",
       "  overflow: auto;\n",
       "}\n",
       "\n",
       "#sk-container-id-9 input.sk-toggleable__control:checked~label.sk-toggleable__label-arrow:before {\n",
       "  content: \"▾\";\n",
       "}\n",
       "\n",
       "/* Pipeline/ColumnTransformer-specific style */\n",
       "\n",
       "#sk-container-id-9 div.sk-label input.sk-toggleable__control:checked~label.sk-toggleable__label {\n",
       "  color: var(--sklearn-color-text);\n",
       "  background-color: var(--sklearn-color-unfitted-level-2);\n",
       "}\n",
       "\n",
       "#sk-container-id-9 div.sk-label.fitted input.sk-toggleable__control:checked~label.sk-toggleable__label {\n",
       "  background-color: var(--sklearn-color-fitted-level-2);\n",
       "}\n",
       "\n",
       "/* Estimator-specific style */\n",
       "\n",
       "/* Colorize estimator box */\n",
       "#sk-container-id-9 div.sk-estimator input.sk-toggleable__control:checked~label.sk-toggleable__label {\n",
       "  /* unfitted */\n",
       "  background-color: var(--sklearn-color-unfitted-level-2);\n",
       "}\n",
       "\n",
       "#sk-container-id-9 div.sk-estimator.fitted input.sk-toggleable__control:checked~label.sk-toggleable__label {\n",
       "  /* fitted */\n",
       "  background-color: var(--sklearn-color-fitted-level-2);\n",
       "}\n",
       "\n",
       "#sk-container-id-9 div.sk-label label.sk-toggleable__label,\n",
       "#sk-container-id-9 div.sk-label label {\n",
       "  /* The background is the default theme color */\n",
       "  color: var(--sklearn-color-text-on-default-background);\n",
       "}\n",
       "\n",
       "/* On hover, darken the color of the background */\n",
       "#sk-container-id-9 div.sk-label:hover label.sk-toggleable__label {\n",
       "  color: var(--sklearn-color-text);\n",
       "  background-color: var(--sklearn-color-unfitted-level-2);\n",
       "}\n",
       "\n",
       "/* Label box, darken color on hover, fitted */\n",
       "#sk-container-id-9 div.sk-label.fitted:hover label.sk-toggleable__label.fitted {\n",
       "  color: var(--sklearn-color-text);\n",
       "  background-color: var(--sklearn-color-fitted-level-2);\n",
       "}\n",
       "\n",
       "/* Estimator label */\n",
       "\n",
       "#sk-container-id-9 div.sk-label label {\n",
       "  font-family: monospace;\n",
       "  font-weight: bold;\n",
       "  display: inline-block;\n",
       "  line-height: 1.2em;\n",
       "}\n",
       "\n",
       "#sk-container-id-9 div.sk-label-container {\n",
       "  text-align: center;\n",
       "}\n",
       "\n",
       "/* Estimator-specific */\n",
       "#sk-container-id-9 div.sk-estimator {\n",
       "  font-family: monospace;\n",
       "  border: 1px dotted var(--sklearn-color-border-box);\n",
       "  border-radius: 0.25em;\n",
       "  box-sizing: border-box;\n",
       "  margin-bottom: 0.5em;\n",
       "  /* unfitted */\n",
       "  background-color: var(--sklearn-color-unfitted-level-0);\n",
       "}\n",
       "\n",
       "#sk-container-id-9 div.sk-estimator.fitted {\n",
       "  /* fitted */\n",
       "  background-color: var(--sklearn-color-fitted-level-0);\n",
       "}\n",
       "\n",
       "/* on hover */\n",
       "#sk-container-id-9 div.sk-estimator:hover {\n",
       "  /* unfitted */\n",
       "  background-color: var(--sklearn-color-unfitted-level-2);\n",
       "}\n",
       "\n",
       "#sk-container-id-9 div.sk-estimator.fitted:hover {\n",
       "  /* fitted */\n",
       "  background-color: var(--sklearn-color-fitted-level-2);\n",
       "}\n",
       "\n",
       "/* Specification for estimator info (e.g. \"i\" and \"?\") */\n",
       "\n",
       "/* Common style for \"i\" and \"?\" */\n",
       "\n",
       ".sk-estimator-doc-link,\n",
       "a:link.sk-estimator-doc-link,\n",
       "a:visited.sk-estimator-doc-link {\n",
       "  float: right;\n",
       "  font-size: smaller;\n",
       "  line-height: 1em;\n",
       "  font-family: monospace;\n",
       "  background-color: var(--sklearn-color-background);\n",
       "  border-radius: 1em;\n",
       "  height: 1em;\n",
       "  width: 1em;\n",
       "  text-decoration: none !important;\n",
       "  margin-left: 1ex;\n",
       "  /* unfitted */\n",
       "  border: var(--sklearn-color-unfitted-level-1) 1pt solid;\n",
       "  color: var(--sklearn-color-unfitted-level-1);\n",
       "}\n",
       "\n",
       ".sk-estimator-doc-link.fitted,\n",
       "a:link.sk-estimator-doc-link.fitted,\n",
       "a:visited.sk-estimator-doc-link.fitted {\n",
       "  /* fitted */\n",
       "  border: var(--sklearn-color-fitted-level-1) 1pt solid;\n",
       "  color: var(--sklearn-color-fitted-level-1);\n",
       "}\n",
       "\n",
       "/* On hover */\n",
       "div.sk-estimator:hover .sk-estimator-doc-link:hover,\n",
       ".sk-estimator-doc-link:hover,\n",
       "div.sk-label-container:hover .sk-estimator-doc-link:hover,\n",
       ".sk-estimator-doc-link:hover {\n",
       "  /* unfitted */\n",
       "  background-color: var(--sklearn-color-unfitted-level-3);\n",
       "  color: var(--sklearn-color-background);\n",
       "  text-decoration: none;\n",
       "}\n",
       "\n",
       "div.sk-estimator.fitted:hover .sk-estimator-doc-link.fitted:hover,\n",
       ".sk-estimator-doc-link.fitted:hover,\n",
       "div.sk-label-container:hover .sk-estimator-doc-link.fitted:hover,\n",
       ".sk-estimator-doc-link.fitted:hover {\n",
       "  /* fitted */\n",
       "  background-color: var(--sklearn-color-fitted-level-3);\n",
       "  color: var(--sklearn-color-background);\n",
       "  text-decoration: none;\n",
       "}\n",
       "\n",
       "/* Span, style for the box shown on hovering the info icon */\n",
       ".sk-estimator-doc-link span {\n",
       "  display: none;\n",
       "  z-index: 9999;\n",
       "  position: relative;\n",
       "  font-weight: normal;\n",
       "  right: .2ex;\n",
       "  padding: .5ex;\n",
       "  margin: .5ex;\n",
       "  width: min-content;\n",
       "  min-width: 20ex;\n",
       "  max-width: 50ex;\n",
       "  color: var(--sklearn-color-text);\n",
       "  box-shadow: 2pt 2pt 4pt #999;\n",
       "  /* unfitted */\n",
       "  background: var(--sklearn-color-unfitted-level-0);\n",
       "  border: .5pt solid var(--sklearn-color-unfitted-level-3);\n",
       "}\n",
       "\n",
       ".sk-estimator-doc-link.fitted span {\n",
       "  /* fitted */\n",
       "  background: var(--sklearn-color-fitted-level-0);\n",
       "  border: var(--sklearn-color-fitted-level-3);\n",
       "}\n",
       "\n",
       ".sk-estimator-doc-link:hover span {\n",
       "  display: block;\n",
       "}\n",
       "\n",
       "/* \"?\"-specific style due to the `<a>` HTML tag */\n",
       "\n",
       "#sk-container-id-9 a.estimator_doc_link {\n",
       "  float: right;\n",
       "  font-size: 1rem;\n",
       "  line-height: 1em;\n",
       "  font-family: monospace;\n",
       "  background-color: var(--sklearn-color-background);\n",
       "  border-radius: 1rem;\n",
       "  height: 1rem;\n",
       "  width: 1rem;\n",
       "  text-decoration: none;\n",
       "  /* unfitted */\n",
       "  color: var(--sklearn-color-unfitted-level-1);\n",
       "  border: var(--sklearn-color-unfitted-level-1) 1pt solid;\n",
       "}\n",
       "\n",
       "#sk-container-id-9 a.estimator_doc_link.fitted {\n",
       "  /* fitted */\n",
       "  border: var(--sklearn-color-fitted-level-1) 1pt solid;\n",
       "  color: var(--sklearn-color-fitted-level-1);\n",
       "}\n",
       "\n",
       "/* On hover */\n",
       "#sk-container-id-9 a.estimator_doc_link:hover {\n",
       "  /* unfitted */\n",
       "  background-color: var(--sklearn-color-unfitted-level-3);\n",
       "  color: var(--sklearn-color-background);\n",
       "  text-decoration: none;\n",
       "}\n",
       "\n",
       "#sk-container-id-9 a.estimator_doc_link.fitted:hover {\n",
       "  /* fitted */\n",
       "  background-color: var(--sklearn-color-fitted-level-3);\n",
       "}\n",
       "</style><div id=\"sk-container-id-9\" class=\"sk-top-container\"><div class=\"sk-text-repr-fallback\"><pre>FactorAnalyzer(n_factors=1, rotation_kwargs={})</pre><b>In a Jupyter environment, please rerun this cell to show the HTML representation or trust the notebook. <br />On GitHub, the HTML representation is unable to render, please try loading this page with nbviewer.org.</b></div><div class=\"sk-container\" hidden><div class=\"sk-item\"><div class=\"sk-estimator fitted sk-toggleable\"><input class=\"sk-toggleable__control sk-hidden--visually\" id=\"sk-estimator-id-9\" type=\"checkbox\" checked><label for=\"sk-estimator-id-9\" class=\"sk-toggleable__label fitted sk-toggleable__label-arrow fitted\">&nbsp;FactorAnalyzer<span class=\"sk-estimator-doc-link fitted\">i<span>Fitted</span></span></label><div class=\"sk-toggleable__content fitted\"><pre>FactorAnalyzer(n_factors=1, rotation_kwargs={})</pre></div> </div></div></div></div>"
      ],
      "text/plain": [
       "FactorAnalyzer(n_factors=1, rotation_kwargs={})"
      ]
     },
     "execution_count": 350,
     "metadata": {},
     "output_type": "execute_result"
    }
   ],
   "source": [
    "# perform the factor analysis using the FactorAnalyzer class. You can specify the number of factors you want to extract using the n_factors parameter:\n",
    "fa = FactorAnalyzer(n_factors = 1)\n",
    "\n",
    "# fit the factor analysis model to your data\n",
    "fa.fit(df[['conscientiousness_1','conscientiousness2_reverse','conscientiousness3_reverse','conscientiousness_4','conscientiousness_5']])"
   ]
  },
  {
   "cell_type": "code",
   "execution_count": 351,
   "id": "19d7c6d3-75af-491f-902a-7586f8dfd229",
   "metadata": {},
   "outputs": [
    {
     "data": {
      "text/plain": [
       "array([[0.3946783 ],\n",
       "       [0.23542706],\n",
       "       [0.22352367],\n",
       "       [0.47329993],\n",
       "       [0.97760856]])"
      ]
     },
     "execution_count": 351,
     "metadata": {},
     "output_type": "execute_result"
    }
   ],
   "source": [
    "# Get the factor loadings\n",
    "loadings = fa.loadings_\n",
    "loadings"
   ]
  },
  {
   "cell_type": "code",
   "execution_count": 352,
   "id": "f82d03fb-415a-476e-958e-a93086a33f11",
   "metadata": {},
   "outputs": [
    {
     "data": {
      "text/plain": [
       "array([0.15577096, 0.0554259 , 0.04996283, 0.22401283, 0.9557185 ])"
      ]
     },
     "execution_count": 352,
     "metadata": {},
     "output_type": "execute_result"
    }
   ],
   "source": [
    "# Get the communalities\n",
    "communalities = fa.get_communalities()\n",
    "communalities"
   ]
  },
  {
   "cell_type": "code",
   "execution_count": 353,
   "id": "dd33c3d0-2142-4d77-827b-c3c9ccaf6f48",
   "metadata": {},
   "outputs": [
    {
     "data": {
      "text/plain": [
       "array([[ 1.87,  1.5 ,  0.85,  0.46,  0.31],\n",
       "       [ 1.44,  0.6 ,  0.15, -0.22, -0.54]])"
      ]
     },
     "execution_count": 353,
     "metadata": {},
     "output_type": "execute_result"
    }
   ],
   "source": [
    "# Get the eigenvalues\n",
    "#         Returns\n",
    "#         -------\n",
    "#         original_eigen_values : :obj:`numpy.ndarray`\n",
    "#             The original eigenvalues\n",
    "#         common_factor_eigen_values : :obj:`numpy.ndarray`\n",
    "#             The common factor eigenvalues\n",
    "eigenvalues = fa.get_eigenvalues()\n",
    "\n",
    "np.round(eigenvalues, decimals = 2)"
   ]
  },
  {
   "cell_type": "code",
   "execution_count": 354,
   "id": "2e031edd-0903-4323-84d1-ce1ae0c2aa5b",
   "metadata": {},
   "outputs": [
    {
     "data": {
      "text/plain": [
       "(array([1.44089102]), array([0.2881782]), array([0.2881782]))"
      ]
     },
     "execution_count": 354,
     "metadata": {},
     "output_type": "execute_result"
    }
   ],
   "source": [
    "# Get the variance explained by each factor;  \n",
    "#         Returns\n",
    "#         -------\n",
    "#         variance : :obj:`numpy.ndarray`\n",
    "#             The factor variances.\n",
    "#         proportional_variance : :obj:`numpy.ndarray`\n",
    "#             The proportional factor variances.\n",
    "#         cumulative_variances : :obj:`numpy.ndarray`\n",
    "#             The cumulative factor variances.\n",
    "variance_explained = fa.get_factor_variance()\n",
    "\n",
    "variance_explained"
   ]
  },
  {
   "cell_type": "code",
   "execution_count": 355,
   "id": "90e17fad-9414-444c-9cae-7e1ad8241ac8",
   "metadata": {},
   "outputs": [],
   "source": [
    "#Cronbach's Alpha"
   ]
  },
  {
   "cell_type": "code",
   "execution_count": 356,
   "id": "95046cd1-1262-4600-bfc9-eeee8bf67769",
   "metadata": {},
   "outputs": [
    {
     "data": {
      "text/plain": [
       "(0.5493483897379913, array([0.349, 0.702]))"
      ]
     },
     "execution_count": 356,
     "metadata": {},
     "output_type": "execute_result"
    }
   ],
   "source": [
    "# Calculate the initial Cronbach's alpha\n",
    "pg.cronbach_alpha(items2)"
   ]
  },
  {
   "cell_type": "code",
   "execution_count": 357,
   "id": "ee2c5de3-5a80-4cf3-bff3-a6b0c0f62a06",
   "metadata": {},
   "outputs": [
    {
     "name": "stdout",
     "output_type": "stream",
     "text": [
      "Item removed: conscientiousness_1\n",
      "Cronbach's alpha: (0.5084099041961864, array([0.279, 0.678]))\n",
      "\n",
      "Item removed: conscientiousness2_reverse\n",
      "Cronbach's alpha: (0.5283721775475898, array([0.309, 0.691]))\n",
      "\n",
      "Item removed: conscientiousness3_reverse\n",
      "Cronbach's alpha: (0.46082731946606315, array([0.21 , 0.647]))\n",
      "\n",
      "Item removed: conscientiousness_4\n",
      "Cronbach's alpha: (0.5591231890049517, array([0.354, 0.711]))\n",
      "\n",
      "Item removed: conscientiousness_5\n",
      "Cronbach's alpha: (0.396962003055583, array([0.116, 0.605]))\n",
      "\n"
     ]
    }
   ],
   "source": [
    "# calculate the alpha value without each item\n",
    "alpha_deleted_items = []\n",
    "for item in items2.columns:\n",
    "    reduced_data = items2.drop(item, axis=1)\n",
    "    alpha = pg.cronbach_alpha(reduced_data)\n",
    "    alpha_deleted_items.append((item, alpha))\n",
    "\n",
    "for item, alpha in alpha_deleted_items:\n",
    "    print(\"Item removed:\", item)\n",
    "    print(\"Cronbach's alpha:\", alpha)\n",
    "    print()"
   ]
  },
  {
   "cell_type": "code",
   "execution_count": 358,
   "id": "c9c847ec-a643-4af2-a067-b7eed06f9764",
   "metadata": {},
   "outputs": [],
   "source": [
    "#If we are satisfied, maybe make a new variable by calculating the mean\n",
    "df['dv_c'] = df[['conscientiousness_1','conscientiousness2_reverse','conscientiousness3_reverse','conscientiousness_4','conscientiousness_5']].mean(axis=1)   # of course, only select those you're interested in"
   ]
  },
  {
   "cell_type": "code",
   "execution_count": 359,
   "id": "381c53d1-f274-4c86-b3b5-52e4856045c1",
   "metadata": {},
   "outputs": [
    {
     "data": {
      "text/plain": [
       "<Axes: xlabel='dv_c', ylabel='Count'>"
      ]
     },
     "execution_count": 359,
     "metadata": {},
     "output_type": "execute_result"
    },
    {
     "data": {
      "image/png": "[encoded data removed]",
      "text/plain": [
       "<Figure size 640x480 with 1 Axes>"
      ]
     },
     "metadata": {},
     "output_type": "display_data"
    }
   ],
   "source": [
    "#visualization conscientiousness\n",
    "sns.histplot(x = 'dv_c', data=df)"
   ]
  },
  {
   "cell_type": "markdown",
   "id": "a6e72476-6600-40c6-9ae8-a7e751412ac8",
   "metadata": {},
   "source": [
    "# T-test\n",
    "\n",
    "Hypothesis 1: Participants experiencing no delay in the recommender system's response will report higher enjoyment compared to those experiencing a delay.\n",
    "\n",
    "You only need to specify the variable you group by (gender) and the variable you want to test (dv) in the first line of the code and we'll print a nicely formated sentence! (plus the table)"
   ]
  },
  {
   "cell_type": "code",
   "execution_count": 360,
   "id": "946b46ee-45dc-43dc-be52-cd2cb56d1a10",
   "metadata": {},
   "outputs": [
    {
     "name": "stdout",
     "output_type": "stream",
     "text": [
      "We compare 0 (M=4.52, SD=1.168) with 1 (M=4.23, SD=1.422), t(52.94915784558725)=0.868, p=0.3893.\n"
     ]
    },
    {
     "data": {
      "text/html": [
       "<div>\n",
       "<style scoped>\n",
       "    .dataframe tbody tr th:only-of-type {\n",
       "        vertical-align: middle;\n",
       "    }\n",
       "\n",
       "    .dataframe tbody tr th {\n",
       "        vertical-align: top;\n",
       "    }\n",
       "\n",
       "    .dataframe thead th {\n",
       "        text-align: right;\n",
       "    }\n",
       "</style>\n",
       "<table border=\"1\" class=\"dataframe\">\n",
       "  <thead>\n",
       "    <tr style=\"text-align: right;\">\n",
       "      <th></th>\n",
       "      <th>T</th>\n",
       "      <th>dof</th>\n",
       "      <th>alternative</th>\n",
       "      <th>p-val</th>\n",
       "      <th>CI95%</th>\n",
       "      <th>cohen-d</th>\n",
       "      <th>BF10</th>\n",
       "      <th>power</th>\n",
       "    </tr>\n",
       "  </thead>\n",
       "  <tbody>\n",
       "    <tr>\n",
       "      <th>T-test</th>\n",
       "      <td>0.868045</td>\n",
       "      <td>52.949158</td>\n",
       "      <td>two-sided</td>\n",
       "      <td>0.389287</td>\n",
       "      <td>[-0.38, 0.96]</td>\n",
       "      <td>0.213155</td>\n",
       "      <td>0.361</td>\n",
       "      <td>0.127735</td>\n",
       "    </tr>\n",
       "  </tbody>\n",
       "</table>\n",
       "</div>"
      ],
      "text/plain": [
       "               T        dof alternative     p-val          CI95%   cohen-d  \\\n",
       "T-test  0.868045  52.949158   two-sided  0.389287  [-0.38, 0.96]  0.213155   \n",
       "\n",
       "         BF10     power  \n",
       "T-test  0.361  0.127735  "
      ]
     },
     "execution_count": 360,
     "metadata": {},
     "output_type": "execute_result"
    }
   ],
   "source": [
    "(label1, values1), (label2, values2) = df.groupby('condition')['dv_e']\n",
    "\n",
    "testresult = pg.ttest(values1, values2)\n",
    "\n",
    "print(f\"We compare {label1} (M={np.mean(values1):.2f}, SD={np.std(values1):.3f}) \"\n",
    "     f\"with {label2} (M={np.mean(values2):.2f}, SD={np.std(values2):.3f}), \"\n",
    "     f\"t({testresult.iloc[0,1]})={testresult.iloc[0,0]:.3f}, \"\n",
    "     f\"p={testresult.iloc[0,3]:.4f}.\")\n",
    "\n",
    "testresult"
   ]
  },
  {
   "cell_type": "markdown",
   "id": "8ebb3252-11b2-4ed4-94ee-c61e1d627b0e",
   "metadata": {},
   "source": [
    "# Mediation Analysis\n",
    "\n",
    "Hypothesis 2: The influence of response latency on users' enjoyment will be mediated by their level of conscientiousness, with higher conscientiousness amplifying the effect of no delay on enjoyment.\n",
    "\n",
    "Let's assume that we want to recode `x1, x2, ... x5` from the dataframe above into `some_mediator` (see Cronbach's alpha above) and test the model `age --> some_mediator --> dv`:"
   ]
  },
  {
   "cell_type": "code",
   "execution_count": 361,
   "id": "f8908326-57e1-4592-9bc7-a610ad9757bd",
   "metadata": {},
   "outputs": [],
   "source": [
    "df['dv_c'] = df[['conscientiousness_1','conscientiousness2_reverse','conscientiousness3_reverse','conscientiousness_4','conscientiousness_5']].mean(axis=1) "
   ]
  },
  {
   "cell_type": "code",
   "execution_count": 362,
   "id": "ea440f07-12de-4bb7-ac33-21d182afb6b3",
   "metadata": {},
   "outputs": [
    {
     "data": {
      "text/html": [
       "<div>\n",
       "<style scoped>\n",
       "    .dataframe tbody tr th:only-of-type {\n",
       "        vertical-align: middle;\n",
       "    }\n",
       "\n",
       "    .dataframe tbody tr th {\n",
       "        vertical-align: top;\n",
       "    }\n",
       "\n",
       "    .dataframe thead th {\n",
       "        text-align: right;\n",
       "    }\n",
       "</style>\n",
       "<table border=\"1\" class=\"dataframe\">\n",
       "  <thead>\n",
       "    <tr style=\"text-align: right;\">\n",
       "      <th></th>\n",
       "      <th>path</th>\n",
       "      <th>coef</th>\n",
       "      <th>se</th>\n",
       "      <th>pval</th>\n",
       "      <th>CI[2.5%]</th>\n",
       "      <th>CI[97.5%]</th>\n",
       "      <th>sig</th>\n",
       "    </tr>\n",
       "  </thead>\n",
       "  <tbody>\n",
       "    <tr>\n",
       "      <th>0</th>\n",
       "      <td>dv_c ~ X</td>\n",
       "      <td>0.012306</td>\n",
       "      <td>0.006768</td>\n",
       "      <td>0.073759</td>\n",
       "      <td>-0.001218</td>\n",
       "      <td>0.025831</td>\n",
       "      <td>No</td>\n",
       "    </tr>\n",
       "    <tr>\n",
       "      <th>1</th>\n",
       "      <td>Y ~ dv_c</td>\n",
       "      <td>0.124721</td>\n",
       "      <td>0.185010</td>\n",
       "      <td>0.502693</td>\n",
       "      <td>-0.244992</td>\n",
       "      <td>0.494434</td>\n",
       "      <td>No</td>\n",
       "    </tr>\n",
       "    <tr>\n",
       "      <th>2</th>\n",
       "      <td>Total</td>\n",
       "      <td>0.009086</td>\n",
       "      <td>0.010168</td>\n",
       "      <td>0.374946</td>\n",
       "      <td>-0.011233</td>\n",
       "      <td>0.029406</td>\n",
       "      <td>No</td>\n",
       "    </tr>\n",
       "    <tr>\n",
       "      <th>3</th>\n",
       "      <td>Direct</td>\n",
       "      <td>0.007948</td>\n",
       "      <td>0.010495</td>\n",
       "      <td>0.451774</td>\n",
       "      <td>-0.013033</td>\n",
       "      <td>0.028928</td>\n",
       "      <td>No</td>\n",
       "    </tr>\n",
       "    <tr>\n",
       "      <th>4</th>\n",
       "      <td>Indirect</td>\n",
       "      <td>0.001139</td>\n",
       "      <td>0.002879</td>\n",
       "      <td>0.638000</td>\n",
       "      <td>-0.003524</td>\n",
       "      <td>0.007611</td>\n",
       "      <td>No</td>\n",
       "    </tr>\n",
       "  </tbody>\n",
       "</table>\n",
       "</div>"
      ],
      "text/plain": [
       "       path      coef        se      pval  CI[2.5%]  CI[97.5%] sig\n",
       "0  dv_c ~ X  0.012306  0.006768  0.073759 -0.001218   0.025831  No\n",
       "1  Y ~ dv_c  0.124721  0.185010  0.502693 -0.244992   0.494434  No\n",
       "2     Total  0.009086  0.010168  0.374946 -0.011233   0.029406  No\n",
       "3    Direct  0.007948  0.010495  0.451774 -0.013033   0.028928  No\n",
       "4  Indirect  0.001139  0.002879  0.638000 -0.003524   0.007611  No"
      ]
     },
     "execution_count": 362,
     "metadata": {},
     "output_type": "execute_result"
    }
   ],
   "source": [
    "pg.mediation_analysis(data=df, x='age', m='dv_c', y='dv_e', seed=42, n_boot=1000)"
   ]
  },
  {
   "cell_type": "code",
   "execution_count": null,
   "id": "c11b387a-ef15-4619-87a9-666e1636e8f8",
   "metadata": {},
   "outputs": [],
   "source": []
  }
 ],
 "metadata": {
  "kernelspec": {
   "display_name": "Python 3 (ipykernel)",
   "language": "python",
   "name": "python3"
  },
  "language_info": {
   "codemirror_mode": {
    "name": "ipython",
    "version": 3
   },
   "file_extension": ".py",
   "mimetype": "text/x-python",
   "name": "python",
   "nbconvert_exporter": "python",
   "pygments_lexer": "ipython3",
   "version": "3.12.2"
  }
 },
 "nbformat": 4,
 "nbformat_minor": 5
}
