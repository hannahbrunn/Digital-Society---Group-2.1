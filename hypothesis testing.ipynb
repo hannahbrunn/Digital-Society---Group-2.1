{
 "cells": [
  {
   "cell_type": "markdown",
   "id": "bf5249af-406f-4bc9-a3e3-6edafa9ab4b8",
   "metadata": {},
   "source": [
    "# Descriptives"
   ]
  },
  {
   "cell_type": "code",
   "execution_count": 1,
   "id": "84025a4a-60d7-41e4-8409-da15234977e1",
   "metadata": {},
   "outputs": [],
   "source": [
    "# # only need to install this once, it's for some SPSSy stuff used in Psychology but not often used in Python\n",
    "#!pip3 install psython\n",
    "#!pip3 install pingouin\n",
    "#!pip3 install prettytable\n",
    "#!pip3 install factor_analyzer"
   ]
  },
  {
   "cell_type": "code",
   "execution_count": 2,
   "id": "df839149-393b-48b4-b6a6-4c446d771fc4",
   "metadata": {},
   "outputs": [],
   "source": [
    "import pandas as pd\n",
    "import seaborn as sns\n",
    "import matplotlib.pyplot as plt\n",
    "from statsmodels.formula.api import ols\n",
    "import numpy as np\n",
    "import psython as psy\n",
    "import pingouin as pg\n",
    "from scipy.stats import contingency \n",
    "from factor_analyzer import FactorAnalyzer\n",
    "from factor_analyzer.factor_analyzer import calculate_bartlett_sphericity\n",
    "from factor_analyzer.factor_analyzer import calculate_kmo\n",
    "from scipy.stats import levene"
   ]
  },
  {
   "cell_type": "code",
   "execution_count": 3,
   "id": "f58954fe-8e3c-4a83-88f6-624ef99f05a2",
   "metadata": {},
   "outputs": [],
   "source": [
    "df = pd.read_csv(\"final_cleaned.csv\")"
   ]
  },
  {
   "cell_type": "code",
   "execution_count": 4,
   "id": "c890f69e-4e88-4aaf-a89a-ab39ece91364",
   "metadata": {},
   "outputs": [],
   "source": [
    "#removing time start column bc it is not necessary for analysis now\n",
    "df = df.drop(columns = \"timestart\")"
   ]
  },
  {
   "cell_type": "code",
   "execution_count": 5,
   "id": "45a0df12-5a52-4eb9-80d1-1ee1a69de1a9",
   "metadata": {},
   "outputs": [
    {
     "data": {
      "text/html": [
       "<div>\n",
       "<style scoped>\n",
       "    .dataframe tbody tr th:only-of-type {\n",
       "        vertical-align: middle;\n",
       "    }\n",
       "\n",
       "    .dataframe tbody tr th {\n",
       "        vertical-align: top;\n",
       "    }\n",
       "\n",
       "    .dataframe thead th {\n",
       "        text-align: right;\n",
       "    }\n",
       "</style>\n",
       "<table border=\"1\" class=\"dataframe\">\n",
       "  <thead>\n",
       "    <tr style=\"text-align: right;\">\n",
       "      <th></th>\n",
       "      <th>userid</th>\n",
       "      <th>satisfaction_1</th>\n",
       "      <th>satisfaction_2</th>\n",
       "      <th>satisfaction_3</th>\n",
       "      <th>satisfaction_4</th>\n",
       "      <th>satisfaction_5</th>\n",
       "      <th>satisfaction_6</th>\n",
       "      <th>credibility_1</th>\n",
       "      <th>credibility_2</th>\n",
       "      <th>credibility_3</th>\n",
       "      <th>...</th>\n",
       "      <th>condition</th>\n",
       "      <th>prolific</th>\n",
       "      <th>genre</th>\n",
       "      <th>consent</th>\n",
       "      <th>mancheck1</th>\n",
       "      <th>mancheck2</th>\n",
       "      <th>calibrationid</th>\n",
       "      <th>recommendationid</th>\n",
       "      <th>_merge</th>\n",
       "      <th>device_type</th>\n",
       "    </tr>\n",
       "  </thead>\n",
       "  <tbody>\n",
       "    <tr>\n",
       "      <th>0</th>\n",
       "      <td>599</td>\n",
       "      <td>4</td>\n",
       "      <td>2</td>\n",
       "      <td>2</td>\n",
       "      <td>2</td>\n",
       "      <td>2.0</td>\n",
       "      <td>2.0</td>\n",
       "      <td>4.0</td>\n",
       "      <td>2.0</td>\n",
       "      <td>2.0</td>\n",
       "      <td>...</td>\n",
       "      <td>1</td>\n",
       "      <td>https://recipe-study.wur.nl/gr</td>\n",
       "      <td>3.0</td>\n",
       "      <td>1.0</td>\n",
       "      <td>0.0</td>\n",
       "      <td>2.0</td>\n",
       "      <td>683.0</td>\n",
       "      <td>2017.0</td>\n",
       "      <td>both in master and using data</td>\n",
       "      <td>non-computer</td>\n",
       "    </tr>\n",
       "    <tr>\n",
       "      <th>1</th>\n",
       "      <td>600</td>\n",
       "      <td>7</td>\n",
       "      <td>7</td>\n",
       "      <td>7</td>\n",
       "      <td>7</td>\n",
       "      <td>7.0</td>\n",
       "      <td>7.0</td>\n",
       "      <td>5.0</td>\n",
       "      <td>5.0</td>\n",
       "      <td>5.0</td>\n",
       "      <td>...</td>\n",
       "      <td>1</td>\n",
       "      <td>https://recipe-study.wur.nl/gr</td>\n",
       "      <td>1.0</td>\n",
       "      <td>1.0</td>\n",
       "      <td>0.0</td>\n",
       "      <td>4.0</td>\n",
       "      <td>769.0</td>\n",
       "      <td>1841.0</td>\n",
       "      <td>both in master and using data</td>\n",
       "      <td>non-computer</td>\n",
       "    </tr>\n",
       "    <tr>\n",
       "      <th>2</th>\n",
       "      <td>601</td>\n",
       "      <td>4</td>\n",
       "      <td>4</td>\n",
       "      <td>4</td>\n",
       "      <td>4</td>\n",
       "      <td>4.0</td>\n",
       "      <td>4.0</td>\n",
       "      <td>7.0</td>\n",
       "      <td>7.0</td>\n",
       "      <td>7.0</td>\n",
       "      <td>...</td>\n",
       "      <td>0</td>\n",
       "      <td>https://recipe-study.wur.nl/gr</td>\n",
       "      <td>1.0</td>\n",
       "      <td>1.0</td>\n",
       "      <td>1.0</td>\n",
       "      <td>4.0</td>\n",
       "      <td>305.0</td>\n",
       "      <td>304.0</td>\n",
       "      <td>both in master and using data</td>\n",
       "      <td>non-computer</td>\n",
       "    </tr>\n",
       "    <tr>\n",
       "      <th>3</th>\n",
       "      <td>602</td>\n",
       "      <td>6</td>\n",
       "      <td>7</td>\n",
       "      <td>6</td>\n",
       "      <td>5</td>\n",
       "      <td>5.0</td>\n",
       "      <td>7.0</td>\n",
       "      <td>7.0</td>\n",
       "      <td>4.0</td>\n",
       "      <td>5.0</td>\n",
       "      <td>...</td>\n",
       "      <td>1</td>\n",
       "      <td>https://recipe-study.wur.nl/gr</td>\n",
       "      <td>1.0</td>\n",
       "      <td>1.0</td>\n",
       "      <td>1.0</td>\n",
       "      <td>4.0</td>\n",
       "      <td>417.0</td>\n",
       "      <td>418.0</td>\n",
       "      <td>both in master and using data</td>\n",
       "      <td>non-computer</td>\n",
       "    </tr>\n",
       "    <tr>\n",
       "      <th>4</th>\n",
       "      <td>603</td>\n",
       "      <td>6</td>\n",
       "      <td>7</td>\n",
       "      <td>7</td>\n",
       "      <td>7</td>\n",
       "      <td>6.0</td>\n",
       "      <td>7.0</td>\n",
       "      <td>6.0</td>\n",
       "      <td>7.0</td>\n",
       "      <td>7.0</td>\n",
       "      <td>...</td>\n",
       "      <td>1</td>\n",
       "      <td>https://recipe-study.wur.nl/gr</td>\n",
       "      <td>1.0</td>\n",
       "      <td>1.0</td>\n",
       "      <td>1.0</td>\n",
       "      <td>3.0</td>\n",
       "      <td>1277.0</td>\n",
       "      <td>1276.0</td>\n",
       "      <td>both in master and using data</td>\n",
       "      <td>computer</td>\n",
       "    </tr>\n",
       "  </tbody>\n",
       "</table>\n",
       "<p>5 rows × 57 columns</p>\n",
       "</div>"
      ],
      "text/plain": [
       "   userid  satisfaction_1  satisfaction_2  satisfaction_3  satisfaction_4  \\\n",
       "0     599               4               2               2               2   \n",
       "1     600               7               7               7               7   \n",
       "2     601               4               4               4               4   \n",
       "3     602               6               7               6               5   \n",
       "4     603               6               7               7               7   \n",
       "\n",
       "   satisfaction_5  satisfaction_6  credibility_1  credibility_2  \\\n",
       "0             2.0             2.0            4.0            2.0   \n",
       "1             7.0             7.0            5.0            5.0   \n",
       "2             4.0             4.0            7.0            7.0   \n",
       "3             5.0             7.0            7.0            4.0   \n",
       "4             6.0             7.0            6.0            7.0   \n",
       "\n",
       "   credibility_3  ...  condition                        prolific  genre  \\\n",
       "0            2.0  ...          1  https://recipe-study.wur.nl/gr    3.0   \n",
       "1            5.0  ...          1  https://recipe-study.wur.nl/gr    1.0   \n",
       "2            7.0  ...          0  https://recipe-study.wur.nl/gr    1.0   \n",
       "3            5.0  ...          1  https://recipe-study.wur.nl/gr    1.0   \n",
       "4            7.0  ...          1  https://recipe-study.wur.nl/gr    1.0   \n",
       "\n",
       "   consent  mancheck1  mancheck2  calibrationid  recommendationid  \\\n",
       "0      1.0        0.0        2.0          683.0            2017.0   \n",
       "1      1.0        0.0        4.0          769.0            1841.0   \n",
       "2      1.0        1.0        4.0          305.0             304.0   \n",
       "3      1.0        1.0        4.0          417.0             418.0   \n",
       "4      1.0        1.0        3.0         1277.0            1276.0   \n",
       "\n",
       "                          _merge   device_type  \n",
       "0  both in master and using data  non-computer  \n",
       "1  both in master and using data  non-computer  \n",
       "2  both in master and using data  non-computer  \n",
       "3  both in master and using data  non-computer  \n",
       "4  both in master and using data      computer  \n",
       "\n",
       "[5 rows x 57 columns]"
      ]
     },
     "execution_count": 5,
     "metadata": {},
     "output_type": "execute_result"
    }
   ],
   "source": [
    "df.head()"
   ]
  },
  {
   "cell_type": "code",
   "execution_count": 6,
   "id": "f1d4f066-49e0-4e58-a855-2f1dbd8df47f",
   "metadata": {},
   "outputs": [
    {
     "data": {
      "text/plain": [
       "(65, 57)"
      ]
     },
     "execution_count": 6,
     "metadata": {},
     "output_type": "execute_result"
    }
   ],
   "source": [
    "df.shape"
   ]
  },
  {
   "cell_type": "code",
   "execution_count": 7,
   "id": "ead68e21-c8a9-460e-bb45-59885c5f22f9",
   "metadata": {},
   "outputs": [
    {
     "data": {
      "text/plain": [
       "Index(['userid', 'satisfaction_1', 'satisfaction_2', 'satisfaction_3',\n",
       "       'satisfaction_4', 'satisfaction_5', 'satisfaction_6', 'credibility_1',\n",
       "       'credibility_2', 'credibility_3', 'credibility_4', 'credibility_5',\n",
       "       'credibility_6', 'credibility_7', 'credibility_8', 'credibility_9',\n",
       "       'credibility_10', 'credibility_11', 'credibility_12', 'motivation_1',\n",
       "       'motivation_2', 'motivation_3', 'motivation_4', 'motivation_5',\n",
       "       'motivation_6', 'motivation_7', 'motivation_8', 'motivation_9',\n",
       "       'motivation_10', 'motivation_11', 'motivation_12', 'anthropomorphism_1',\n",
       "       'anthropomorphism_2', 'anthropomorphism_3', 'anthropomorphism_4',\n",
       "       'control(reading_habits)', 'control(previous_experience_with_RS)',\n",
       "       'conscientiousness_1', 'conscientiousness_2', 'conscientiousness_3',\n",
       "       'conscientiousness_4', 'conscientiousness_5', 'age', 'gender', 'device',\n",
       "       'education', 'time', 'condition', 'prolific', 'genre', 'consent',\n",
       "       'mancheck1', 'mancheck2', 'calibrationid', 'recommendationid', '_merge',\n",
       "       'device_type'],\n",
       "      dtype='object')"
      ]
     },
     "execution_count": 7,
     "metadata": {},
     "output_type": "execute_result"
    }
   ],
   "source": [
    "df.columns"
   ]
  },
  {
   "cell_type": "code",
   "execution_count": 8,
   "id": "5191e52a-9924-43b3-9a5a-16fea957d584",
   "metadata": {},
   "outputs": [
    {
     "data": {
      "text/plain": [
       "condition\n",
       "1    42\n",
       "0    23\n",
       "Name: count, dtype: int64"
      ]
     },
     "execution_count": 8,
     "metadata": {},
     "output_type": "execute_result"
    }
   ],
   "source": [
    "df[\"condition\"].value_counts()"
   ]
  },
  {
   "cell_type": "code",
   "execution_count": 9,
   "id": "7d477687-c846-4e6b-ba4e-3ee5558dc6dd",
   "metadata": {},
   "outputs": [
    {
     "data": {
      "text/plain": [
       "<Axes: xlabel='condition', ylabel='count'>"
      ]
     },
     "execution_count": 9,
     "metadata": {},
     "output_type": "execute_result"
    },
    {
     "data": {
      "image/png": "[encoded data removed]",
      "text/plain": [
       "<Figure size 640x480 with 1 Axes>"
      ]
     },
     "metadata": {},
     "output_type": "display_data"
    }
   ],
   "source": [
    "sns.countplot(data = df, x = \"condition\", hue = \"condition\")"
   ]
  },
  {
   "cell_type": "code",
   "execution_count": 10,
   "id": "ddefeeba-8d63-44ce-a694-01f1aaa52e23",
   "metadata": {},
   "outputs": [
    {
     "data": {
      "text/plain": [
       "genre\n",
       "1.0    38\n",
       "3.0    12\n",
       "4.0     8\n",
       "5.0     4\n",
       "2.0     3\n",
       "Name: count, dtype: int64"
      ]
     },
     "execution_count": 10,
     "metadata": {},
     "output_type": "execute_result"
    }
   ],
   "source": [
    "df[\"genre\"].value_counts()"
   ]
  },
  {
   "cell_type": "code",
   "execution_count": 11,
   "id": "ee702211-8e90-4f64-83b5-e4a614c4af57",
   "metadata": {},
   "outputs": [
    {
     "data": {
      "text/plain": [
       "<Axes: xlabel='genre', ylabel='count'>"
      ]
     },
     "execution_count": 11,
     "metadata": {},
     "output_type": "execute_result"
    },
    {
     "data": {
      "image/png": "[encoded data removed]",
      "text/plain": [
       "<Figure size 640x480 with 1 Axes>"
      ]
     },
     "metadata": {},
     "output_type": "display_data"
    }
   ],
   "source": [
    "sns.countplot(data = df, x = \"genre\",  hue = \"genre\")"
   ]
  },
  {
   "cell_type": "code",
   "execution_count": 12,
   "id": "bd676f6b-d1f2-4aeb-8e51-af951c67ade3",
   "metadata": {},
   "outputs": [
    {
     "data": {
      "text/plain": [
       "gender\n",
       "1.0    73.846154\n",
       "2.0    26.153846\n",
       "Name: proportion, dtype: float64"
      ]
     },
     "execution_count": 12,
     "metadata": {},
     "output_type": "execute_result"
    }
   ],
   "source": [
    "df[\"gender\"].value_counts(normalize = True)*100"
   ]
  },
  {
   "cell_type": "code",
   "execution_count": 13,
   "id": "87f13b98-d3f4-4b22-9cdc-cc4793d61d72",
   "metadata": {},
   "outputs": [
    {
     "data": {
      "text/plain": [
       "gender\n",
       "1.0    48\n",
       "2.0    17\n",
       "Name: count, dtype: int64"
      ]
     },
     "execution_count": 13,
     "metadata": {},
     "output_type": "execute_result"
    }
   ],
   "source": [
    "df[\"gender\"].value_counts()"
   ]
  },
  {
   "cell_type": "code",
   "execution_count": 14,
   "id": "8bce8485-c927-414d-b50c-775a7ce46e5c",
   "metadata": {},
   "outputs": [
    {
     "data": {
      "text/plain": [
       "<Axes: xlabel='gender', ylabel='count'>"
      ]
     },
     "execution_count": 14,
     "metadata": {},
     "output_type": "execute_result"
    },
    {
     "data": {
      "image/png": "[encoded data removed]",
      "text/plain": [
       "<Figure size 640x480 with 1 Axes>"
      ]
     },
     "metadata": {},
     "output_type": "display_data"
    }
   ],
   "source": [
    "sns.countplot(data = df, x = \"gender\",  hue = \"gender\")"
   ]
  },
  {
   "cell_type": "code",
   "execution_count": 15,
   "id": "7a3e0785-f69b-4a37-9972-f74734936558",
   "metadata": {},
   "outputs": [
    {
     "data": {
      "text/plain": [
       "education\n",
       "2.0    40\n",
       "4.0    14\n",
       "5.0     9\n",
       "3.0     1\n",
       "1.0     1\n",
       "Name: count, dtype: int64"
      ]
     },
     "execution_count": 15,
     "metadata": {},
     "output_type": "execute_result"
    }
   ],
   "source": [
    "df[\"education\"].value_counts()"
   ]
  },
  {
   "cell_type": "code",
   "execution_count": 16,
   "id": "3429de14-19c4-4dae-b4d1-7b31801adf7c",
   "metadata": {},
   "outputs": [
    {
     "data": {
      "text/plain": [
       "<Axes: xlabel='education', ylabel='count'>"
      ]
     },
     "execution_count": 16,
     "metadata": {},
     "output_type": "execute_result"
    },
    {
     "data": {
      "image/png": "[encoded data removed]",
      "text/plain": [
       "<Figure size 640x480 with 1 Axes>"
      ]
     },
     "metadata": {},
     "output_type": "display_data"
    }
   ],
   "source": [
    "sns.countplot(data = df, x = \"education\",  hue = \"education\")"
   ]
  },
  {
   "cell_type": "code",
   "execution_count": 17,
   "id": "ae20c8ae-4b25-43e5-bf31-0562a6632f9b",
   "metadata": {},
   "outputs": [
    {
     "data": {
      "text/plain": [
       "count    65.000000\n",
       "mean     29.200000\n",
       "std      16.685697\n",
       "min      18.000000\n",
       "25%      20.000000\n",
       "50%      21.000000\n",
       "75%      23.000000\n",
       "max      74.000000\n",
       "Name: age, dtype: float64"
      ]
     },
     "execution_count": 17,
     "metadata": {},
     "output_type": "execute_result"
    }
   ],
   "source": [
    "df[\"age\"].describe()"
   ]
  },
  {
   "cell_type": "code",
   "execution_count": 18,
   "id": "0df68fa3-e9c8-48a3-8adb-33b44abae081",
   "metadata": {},
   "outputs": [
    {
     "data": {
      "text/plain": [
       "age\n",
       "20.0    18\n",
       "Name: count, dtype: int64"
      ]
     },
     "execution_count": 18,
     "metadata": {},
     "output_type": "execute_result"
    }
   ],
   "source": [
    "df[\"age\"].value_counts().head(1)"
   ]
  },
  {
   "cell_type": "code",
   "execution_count": 19,
   "id": "2ecc8caf-384d-4206-963f-76eb41cf3773",
   "metadata": {},
   "outputs": [
    {
     "data": {
      "text/plain": [
       "<Axes: xlabel='age', ylabel='Count'>"
      ]
     },
     "execution_count": 19,
     "metadata": {},
     "output_type": "execute_result"
    },
    {
     "data": {
      "image/png": "[encoded data removed]",
      "text/plain": [
       "<Figure size 640x480 with 1 Axes>"
      ]
     },
     "metadata": {},
     "output_type": "display_data"
    }
   ],
   "source": [
    "sns.histplot(data = df, x = \"age\", bins = 50)"
   ]
  },
  {
   "cell_type": "code",
   "execution_count": 20,
   "id": "0839891c-ebce-4b3b-8960-e7ab1d5f4a96",
   "metadata": {},
   "outputs": [
    {
     "data": {
      "image/png": "[encoded data removed]",
      "text/plain": [
       "<Figure size 1000x600 with 1 Axes>"
      ]
     },
     "metadata": {},
     "output_type": "display_data"
    }
   ],
   "source": [
    "#save image to png code from here -> https://stackoverflow.com/questions/7906365/matplotlib-savefig-plots-different-from-show\n",
    "fig = plt.figure(figsize=(10, 6))\n",
    "sns.histplot(data=df, x='age', bins=30, color='#003f5c')\n",
    "plt.title('Distribution of Age', font = \"Arial\", fontsize = 20)\n",
    "plt.xlabel('Age (years)', font = \"Arial\", fontsize = 16)\n",
    "plt.ylabel('Frequency', font = \"Arial\", fontsize = 16)\n",
    "\n",
    "#https://seaborn.pydata.org/generated/seaborn.despine.html\n",
    "sns.despine(top=True, right=True)\n",
    "plt.grid(False)\n",
    "plt.show()\n",
    "fig.savefig('histogram_age.png', dpi=300)"
   ]
  },
  {
   "cell_type": "code",
   "execution_count": 21,
   "id": "0a0e9b3d-d800-4a90-900a-c20a11f36548",
   "metadata": {},
   "outputs": [
    {
     "data": {
      "text/plain": [
       "device_type\n",
       "non-computer    58\n",
       "computer         7\n",
       "Name: count, dtype: int64"
      ]
     },
     "execution_count": 21,
     "metadata": {},
     "output_type": "execute_result"
    }
   ],
   "source": [
    "df[\"device_type\"].value_counts()"
   ]
  },
  {
   "cell_type": "code",
   "execution_count": 22,
   "id": "d6a2207e-a68a-429c-830d-8a7b617eed93",
   "metadata": {},
   "outputs": [
    {
     "data": {
      "text/plain": [
       "<Axes: xlabel='device_type', ylabel='count'>"
      ]
     },
     "execution_count": 22,
     "metadata": {},
     "output_type": "execute_result"
    },
    {
     "data": {
      "image/png": "[encoded data removed]",
      "text/plain": [
       "<Figure size 640x480 with 1 Axes>"
      ]
     },
     "metadata": {},
     "output_type": "display_data"
    }
   ],
   "source": [
    "sns.countplot(data = df, x = \"device_type\", hue = \"device_type\")"
   ]
  },
  {
   "cell_type": "markdown",
   "id": "a251d6c4-9b77-4c9b-8477-d27573bde975",
   "metadata": {},
   "source": [
    "# Check reliability (Cronbach's Alpha)"
   ]
  },
  {
   "cell_type": "code",
   "execution_count": 23,
   "id": "6a3c6117-2b65-4737-b17b-727d4ff0f6a8",
   "metadata": {},
   "outputs": [
    {
     "data": {
      "text/plain": [
       "(0.951866315985229, array([0.931, 0.968]))"
      ]
     },
     "execution_count": 23,
     "metadata": {},
     "output_type": "execute_result"
    }
   ],
   "source": [
    "# Calculate the initial Cronbach's alpha\n",
    "items = df[['satisfaction_1', 'satisfaction_2', 'satisfaction_3',\n",
    "       'satisfaction_4', 'satisfaction_5', 'satisfaction_6']]\n",
    "pg.cronbach_alpha(items)"
   ]
  },
  {
   "cell_type": "code",
   "execution_count": 24,
   "id": "9f1a7e4f-f19c-4298-816c-db91bf3ed325",
   "metadata": {},
   "outputs": [
    {
     "name": "stdout",
     "output_type": "stream",
     "text": [
      "Item removed: satisfaction_1\n",
      "Cronbach's alpha: (0.9484138048076807, array([0.926, 0.966]))\n",
      "\n",
      "Item removed: satisfaction_2\n",
      "Cronbach's alpha: (0.944693844785852, array([0.92 , 0.963]))\n",
      "\n",
      "Item removed: satisfaction_3\n",
      "Cronbach's alpha: (0.9377523772306893, array([0.91 , 0.959]))\n",
      "\n",
      "Item removed: satisfaction_4\n",
      "Cronbach's alpha: (0.9442131902036031, array([0.919, 0.963]))\n",
      "\n",
      "Item removed: satisfaction_5\n",
      "Cronbach's alpha: (0.9419299912885088, array([0.916, 0.962]))\n",
      "\n",
      "Item removed: satisfaction_6\n",
      "Cronbach's alpha: (0.9393453503374355, array([0.912, 0.96 ]))\n",
      "\n"
     ]
    }
   ],
   "source": [
    "# calculate the alpha value without each item\n",
    "alpha_deleted_items = []\n",
    "for item in items.columns:\n",
    "    reduced_data = items.drop(item, axis=1)\n",
    "    alpha = pg.cronbach_alpha(reduced_data)\n",
    "    alpha_deleted_items.append((item, alpha))\n",
    "\n",
    "for item, alpha in alpha_deleted_items:\n",
    "    print(\"Item removed:\", item)\n",
    "    print(\"Cronbach's alpha:\", alpha)\n",
    "    print()"
   ]
  },
  {
   "cell_type": "code",
   "execution_count": 25,
   "id": "c532bdc8-c53a-4166-b98e-d3c2d5b046bd",
   "metadata": {},
   "outputs": [],
   "source": [
    "#making new variable\n",
    "df['dv'] = df[['satisfaction_1', 'satisfaction_2', 'satisfaction_3',\n",
    "       'satisfaction_4', 'satisfaction_5', 'satisfaction_6']].mean(axis=1)"
   ]
  },
  {
   "cell_type": "code",
   "execution_count": 26,
   "id": "60d3333a-b88b-4250-aef1-5466918bae45",
   "metadata": {},
   "outputs": [
    {
     "data": {
      "text/plain": [
       "count    65.000000\n",
       "mean      5.710256\n",
       "std       1.228028\n",
       "min       1.000000\n",
       "25%       5.166667\n",
       "50%       6.000000\n",
       "75%       6.666667\n",
       "max       7.000000\n",
       "Name: dv, dtype: float64"
      ]
     },
     "execution_count": 26,
     "metadata": {},
     "output_type": "execute_result"
    }
   ],
   "source": [
    "df[\"dv\"].describe()"
   ]
  },
  {
   "cell_type": "code",
   "execution_count": 27,
   "id": "4bc7511f-f4fd-455c-bc1a-8c394d766511",
   "metadata": {},
   "outputs": [],
   "source": [
    "#saving to csv\n",
    "\n",
    "df.to_csv(\"analysis.csv\", index = False)"
   ]
  },
  {
   "cell_type": "markdown",
   "id": "84ae4c3c-4f94-436d-89d5-a89b6737f59a",
   "metadata": {},
   "source": [
    "# Randomization check - should NOT be sig"
   ]
  },
  {
   "cell_type": "code",
   "execution_count": 28,
   "id": "938dd26f-b1b4-4a39-a889-0b00a9ec6490",
   "metadata": {},
   "outputs": [],
   "source": [
    "df = pd.read_csv(\"analysis.csv\")"
   ]
  },
  {
   "cell_type": "code",
   "execution_count": 29,
   "id": "46a1d5a9-c990-4f88-a106-fce0811bfe5f",
   "metadata": {},
   "outputs": [
    {
     "data": {
      "text/plain": [
       "65"
      ]
     },
     "execution_count": 29,
     "metadata": {},
     "output_type": "execute_result"
    }
   ],
   "source": [
    "len(df)"
   ]
  },
  {
   "cell_type": "markdown",
   "id": "561bd05c-e59d-426b-8add-f4508bd31fee",
   "metadata": {},
   "source": [
    "## Gender"
   ]
  },
  {
   "cell_type": "code",
   "execution_count": 30,
   "id": "e3826ddc-1151-4c3d-877d-ac803ba07ed9",
   "metadata": {},
   "outputs": [
    {
     "data": {
      "text/html": [
       "<div>\n",
       "<style scoped>\n",
       "    .dataframe tbody tr th:only-of-type {\n",
       "        vertical-align: middle;\n",
       "    }\n",
       "\n",
       "    .dataframe tbody tr th {\n",
       "        vertical-align: top;\n",
       "    }\n",
       "\n",
       "    .dataframe thead th {\n",
       "        text-align: right;\n",
       "    }\n",
       "</style>\n",
       "<table border=\"1\" class=\"dataframe\">\n",
       "  <thead>\n",
       "    <tr style=\"text-align: right;\">\n",
       "      <th>gender</th>\n",
       "      <th>1.0</th>\n",
       "      <th>2.0</th>\n",
       "    </tr>\n",
       "    <tr>\n",
       "      <th>condition</th>\n",
       "      <th></th>\n",
       "      <th></th>\n",
       "    </tr>\n",
       "  </thead>\n",
       "  <tbody>\n",
       "    <tr>\n",
       "      <th>0</th>\n",
       "      <td>15</td>\n",
       "      <td>8</td>\n",
       "    </tr>\n",
       "    <tr>\n",
       "      <th>1</th>\n",
       "      <td>33</td>\n",
       "      <td>9</td>\n",
       "    </tr>\n",
       "  </tbody>\n",
       "</table>\n",
       "</div>"
      ],
      "text/plain": [
       "gender     1.0  2.0\n",
       "condition          \n",
       "0           15    8\n",
       "1           33    9"
      ]
     },
     "execution_count": 30,
     "metadata": {},
     "output_type": "execute_result"
    }
   ],
   "source": [
    "#let's look at the crosstab\n",
    "mycrosstab = pd.crosstab(df['condition'], df[\"gender\"])\n",
    "mycrosstab"
   ]
  },
  {
   "cell_type": "code",
   "execution_count": 31,
   "id": "d540958e-282b-444f-966c-7417be571532",
   "metadata": {},
   "outputs": [
    {
     "name": "stdout",
     "output_type": "stream",
     "text": [
      "𝜒²(1) = 0.768, p = 0.381 \n",
      "V = 0.145\n"
     ]
    }
   ],
   "source": [
    "# and then get the chi2 test for that table\n",
    "c, p, dof, expected = contingency.chi2_contingency(mycrosstab)\n",
    "print(f\"𝜒²({dof:.0f}) = {c:.3f}, p = {p:.3f} \")\n",
    "\n",
    "# maybe Cramer's V as well?\n",
    "print(f\"V = {contingency.association(mycrosstab,method='cramer'):.3f}\")"
   ]
  },
  {
   "cell_type": "markdown",
   "id": "a4197d1d-4c98-4e13-8a1a-2d8538f0b301",
   "metadata": {},
   "source": [
    "## Education"
   ]
  },
  {
   "cell_type": "code",
   "execution_count": 32,
   "id": "35161ecb-f7ea-4b41-8db2-cfdaed006ebc",
   "metadata": {},
   "outputs": [
    {
     "data": {
      "text/html": [
       "<div>\n",
       "<style scoped>\n",
       "    .dataframe tbody tr th:only-of-type {\n",
       "        vertical-align: middle;\n",
       "    }\n",
       "\n",
       "    .dataframe tbody tr th {\n",
       "        vertical-align: top;\n",
       "    }\n",
       "\n",
       "    .dataframe thead th {\n",
       "        text-align: right;\n",
       "    }\n",
       "</style>\n",
       "<table border=\"1\" class=\"dataframe\">\n",
       "  <thead>\n",
       "    <tr style=\"text-align: right;\">\n",
       "      <th>education</th>\n",
       "      <th>1.0</th>\n",
       "      <th>2.0</th>\n",
       "      <th>3.0</th>\n",
       "      <th>4.0</th>\n",
       "      <th>5.0</th>\n",
       "    </tr>\n",
       "    <tr>\n",
       "      <th>condition</th>\n",
       "      <th></th>\n",
       "      <th></th>\n",
       "      <th></th>\n",
       "      <th></th>\n",
       "      <th></th>\n",
       "    </tr>\n",
       "  </thead>\n",
       "  <tbody>\n",
       "    <tr>\n",
       "      <th>0</th>\n",
       "      <td>1</td>\n",
       "      <td>14</td>\n",
       "      <td>1</td>\n",
       "      <td>2</td>\n",
       "      <td>5</td>\n",
       "    </tr>\n",
       "    <tr>\n",
       "      <th>1</th>\n",
       "      <td>0</td>\n",
       "      <td>26</td>\n",
       "      <td>0</td>\n",
       "      <td>12</td>\n",
       "      <td>4</td>\n",
       "    </tr>\n",
       "  </tbody>\n",
       "</table>\n",
       "</div>"
      ],
      "text/plain": [
       "education  1.0  2.0  3.0  4.0  5.0\n",
       "condition                         \n",
       "0            1   14    1    2    5\n",
       "1            0   26    0   12    4"
      ]
     },
     "execution_count": 32,
     "metadata": {},
     "output_type": "execute_result"
    }
   ],
   "source": [
    "#let's look at the crosstab\n",
    "mycrosstab = pd.crosstab(df['condition'], df[\"education\"])\n",
    "mycrosstab"
   ]
  },
  {
   "cell_type": "code",
   "execution_count": 33,
   "id": "5f770a8c-b65f-4746-b4f6-7ef0cb918ea3",
   "metadata": {},
   "outputs": [
    {
     "name": "stdout",
     "output_type": "stream",
     "text": [
      "𝜒²(4) = 7.982, p = 0.092 \n",
      "V = 0.350\n"
     ]
    }
   ],
   "source": [
    "# and then get the chi2 test for that table\n",
    "c, p, dof, expected = contingency.chi2_contingency(mycrosstab)\n",
    "print(f\"𝜒²({dof:.0f}) = {c:.3f}, p = {p:.3f} \")\n",
    "\n",
    "# maybe Cramer's V as well?\n",
    "print(f\"V = {contingency.association(mycrosstab,method='cramer'):.3f}\")"
   ]
  },
  {
   "cell_type": "markdown",
   "id": "ea322fcb-f66b-419e-bbc1-4e18100c82a5",
   "metadata": {},
   "source": [
    "## Age"
   ]
  },
  {
   "cell_type": "code",
   "execution_count": 34,
   "id": "4c80ba1e-b64f-427b-8bf2-85220a03237d",
   "metadata": {},
   "outputs": [
    {
     "name": "stdout",
     "output_type": "stream",
     "text": [
      "We compare no delay = 0 (M=31.52, SD=18.443) with delay = 1 (M=27.93, SD=15.277), t(38.38950800495643)=0.781, p=0.4395.\n"
     ]
    },
    {
     "data": {
      "text/html": [
       "<div>\n",
       "<style scoped>\n",
       "    .dataframe tbody tr th:only-of-type {\n",
       "        vertical-align: middle;\n",
       "    }\n",
       "\n",
       "    .dataframe tbody tr th {\n",
       "        vertical-align: top;\n",
       "    }\n",
       "\n",
       "    .dataframe thead th {\n",
       "        text-align: right;\n",
       "    }\n",
       "</style>\n",
       "<table border=\"1\" class=\"dataframe\">\n",
       "  <thead>\n",
       "    <tr style=\"text-align: right;\">\n",
       "      <th></th>\n",
       "      <th>T</th>\n",
       "      <th>dof</th>\n",
       "      <th>alternative</th>\n",
       "      <th>p-val</th>\n",
       "      <th>CI95%</th>\n",
       "      <th>cohen-d</th>\n",
       "      <th>BF10</th>\n",
       "      <th>power</th>\n",
       "    </tr>\n",
       "  </thead>\n",
       "  <tbody>\n",
       "    <tr>\n",
       "      <th>T-test</th>\n",
       "      <td>0.781223</td>\n",
       "      <td>38.389508</td>\n",
       "      <td>two-sided</td>\n",
       "      <td>0.439463</td>\n",
       "      <td>[-5.71, 12.9]</td>\n",
       "      <td>0.214815</td>\n",
       "      <td>0.34</td>\n",
       "      <td>0.128983</td>\n",
       "    </tr>\n",
       "  </tbody>\n",
       "</table>\n",
       "</div>"
      ],
      "text/plain": [
       "               T        dof alternative     p-val          CI95%   cohen-d  \\\n",
       "T-test  0.781223  38.389508   two-sided  0.439463  [-5.71, 12.9]  0.214815   \n",
       "\n",
       "        BF10     power  \n",
       "T-test  0.34  0.128983  "
      ]
     },
     "execution_count": 34,
     "metadata": {},
     "output_type": "execute_result"
    }
   ],
   "source": [
    "(label1, values1), (label2, values2) = df.groupby('condition')['age']\n",
    "\n",
    "testresult = pg.ttest(values1, values2)\n",
    "\n",
    "print(f\"We compare no delay = {label1} (M={np.mean(values1):.2f}, SD={np.std(values1):.3f}) \"\n",
    "     f\"with delay = {label2} (M={np.mean(values2):.2f}, SD={np.std(values2):.3f}), \"\n",
    "     f\"t({testresult.iloc[0,1]})={testresult.iloc[0,0]:.3f}, \"\n",
    "     f\"p={testresult.iloc[0,3]:.4f}.\")\n",
    "\n",
    "testresult"
   ]
  },
  {
   "cell_type": "markdown",
   "id": "e3d92d6d-af49-4082-8a43-a0943da02e68",
   "metadata": {},
   "source": [
    "## Control variables - Reading freq"
   ]
  },
  {
   "cell_type": "code",
   "execution_count": 35,
   "id": "58d96116-3627-425b-8f86-89a981fc96a0",
   "metadata": {},
   "outputs": [
    {
     "name": "stdout",
     "output_type": "stream",
     "text": [
      "We compare 0 (M=4.22, SD=1.768) with 1 (M=4.21, SD=1.641), t(42.192386366028295)=0.007, p=0.9946.\n"
     ]
    },
    {
     "data": {
      "text/html": [
       "<div>\n",
       "<style scoped>\n",
       "    .dataframe tbody tr th:only-of-type {\n",
       "        vertical-align: middle;\n",
       "    }\n",
       "\n",
       "    .dataframe tbody tr th {\n",
       "        vertical-align: top;\n",
       "    }\n",
       "\n",
       "    .dataframe thead th {\n",
       "        text-align: right;\n",
       "    }\n",
       "</style>\n",
       "<table border=\"1\" class=\"dataframe\">\n",
       "  <thead>\n",
       "    <tr style=\"text-align: right;\">\n",
       "      <th></th>\n",
       "      <th>T</th>\n",
       "      <th>dof</th>\n",
       "      <th>alternative</th>\n",
       "      <th>p-val</th>\n",
       "      <th>CI95%</th>\n",
       "      <th>cohen-d</th>\n",
       "      <th>BF10</th>\n",
       "      <th>power</th>\n",
       "    </tr>\n",
       "  </thead>\n",
       "  <tbody>\n",
       "    <tr>\n",
       "      <th>T-test</th>\n",
       "      <td>0.006813</td>\n",
       "      <td>42.192386</td>\n",
       "      <td>two-sided</td>\n",
       "      <td>0.994596</td>\n",
       "      <td>[-0.92, 0.92]</td>\n",
       "      <td>0.001812</td>\n",
       "      <td>0.263</td>\n",
       "      <td>0.050005</td>\n",
       "    </tr>\n",
       "  </tbody>\n",
       "</table>\n",
       "</div>"
      ],
      "text/plain": [
       "               T        dof alternative     p-val          CI95%   cohen-d  \\\n",
       "T-test  0.006813  42.192386   two-sided  0.994596  [-0.92, 0.92]  0.001812   \n",
       "\n",
       "         BF10     power  \n",
       "T-test  0.263  0.050005  "
      ]
     },
     "execution_count": 35,
     "metadata": {},
     "output_type": "execute_result"
    }
   ],
   "source": [
    "(label1, values1), (label2, values2) = df.groupby('condition')['control(reading_habits)']\n",
    "\n",
    "testresult = pg.ttest(values1, values2)\n",
    "\n",
    "print(f\"We compare {label1} (M={np.mean(values1):.2f}, SD={np.std(values1):.3f}) \"\n",
    "     f\"with {label2} (M={np.mean(values2):.2f}, SD={np.std(values2):.3f}), \"\n",
    "     f\"t({testresult.iloc[0,1]})={testresult.iloc[0,0]:.3f}, \"\n",
    "     f\"p={testresult.iloc[0,3]:.4f}.\")\n",
    "\n",
    "testresult"
   ]
  },
  {
   "cell_type": "markdown",
   "id": "048e78a5-9a0e-4487-8972-7dd03bdf0e10",
   "metadata": {},
   "source": [
    "## Control variables - Previous exp w/ RS (should be not sig)"
   ]
  },
  {
   "cell_type": "code",
   "execution_count": 36,
   "id": "1513bbf4-d7f1-4471-8514-9129fc63e26e",
   "metadata": {},
   "outputs": [
    {
     "name": "stdout",
     "output_type": "stream",
     "text": [
      "We compare 0 (M=3.65, SD=1.991) with 1 (M=3.57, SD=1.941), t(44.0148213756047)=0.155, p=0.8777.\n"
     ]
    },
    {
     "data": {
      "text/html": [
       "<div>\n",
       "<style scoped>\n",
       "    .dataframe tbody tr th:only-of-type {\n",
       "        vertical-align: middle;\n",
       "    }\n",
       "\n",
       "    .dataframe tbody tr th {\n",
       "        vertical-align: top;\n",
       "    }\n",
       "\n",
       "    .dataframe thead th {\n",
       "        text-align: right;\n",
       "    }\n",
       "</style>\n",
       "<table border=\"1\" class=\"dataframe\">\n",
       "  <thead>\n",
       "    <tr style=\"text-align: right;\">\n",
       "      <th></th>\n",
       "      <th>T</th>\n",
       "      <th>dof</th>\n",
       "      <th>alternative</th>\n",
       "      <th>p-val</th>\n",
       "      <th>CI95%</th>\n",
       "      <th>cohen-d</th>\n",
       "      <th>BF10</th>\n",
       "      <th>power</th>\n",
       "    </tr>\n",
       "  </thead>\n",
       "  <tbody>\n",
       "    <tr>\n",
       "      <th>T-test</th>\n",
       "      <td>0.154768</td>\n",
       "      <td>44.014821</td>\n",
       "      <td>two-sided</td>\n",
       "      <td>0.877712</td>\n",
       "      <td>[-0.97, 1.13]</td>\n",
       "      <td>0.040574</td>\n",
       "      <td>0.266</td>\n",
       "      <td>0.052723</td>\n",
       "    </tr>\n",
       "  </tbody>\n",
       "</table>\n",
       "</div>"
      ],
      "text/plain": [
       "               T        dof alternative     p-val          CI95%   cohen-d  \\\n",
       "T-test  0.154768  44.014821   two-sided  0.877712  [-0.97, 1.13]  0.040574   \n",
       "\n",
       "         BF10     power  \n",
       "T-test  0.266  0.052723  "
      ]
     },
     "execution_count": 36,
     "metadata": {},
     "output_type": "execute_result"
    }
   ],
   "source": [
    "(label1, values1), (label2, values2) = df.groupby('condition')['control(previous_experience_with_RS)']\n",
    "\n",
    "testresult = pg.ttest(values1, values2)\n",
    "\n",
    "print(f\"We compare {label1} (M={np.mean(values1):.2f}, SD={np.std(values1):.3f}) \"\n",
    "     f\"with {label2} (M={np.mean(values2):.2f}, SD={np.std(values2):.3f}), \"\n",
    "     f\"t({testresult.iloc[0,1]})={testresult.iloc[0,0]:.3f}, \"\n",
    "     f\"p={testresult.iloc[0,3]:.4f}.\")\n",
    "\n",
    "testresult"
   ]
  },
  {
   "cell_type": "markdown",
   "id": "56f88778-515e-4d09-ac26-fd539f346813",
   "metadata": {},
   "source": [
    "# Manipulation check -  mancheck1, mancheck2 (should BE sig)"
   ]
  },
  {
   "cell_type": "markdown",
   "id": "d25a0b7b-13dd-4ff4-bdf5-ec01a5238d37",
   "metadata": {},
   "source": [
    "## Mancheck 1"
   ]
  },
  {
   "cell_type": "code",
   "execution_count": 37,
   "id": "1aed5f96-de99-45c9-b402-c4355330d9b4",
   "metadata": {},
   "outputs": [
    {
     "data": {
      "text/html": [
       "<div>\n",
       "<style scoped>\n",
       "    .dataframe tbody tr th:only-of-type {\n",
       "        vertical-align: middle;\n",
       "    }\n",
       "\n",
       "    .dataframe tbody tr th {\n",
       "        vertical-align: top;\n",
       "    }\n",
       "\n",
       "    .dataframe thead th {\n",
       "        text-align: right;\n",
       "    }\n",
       "</style>\n",
       "<table border=\"1\" class=\"dataframe\">\n",
       "  <thead>\n",
       "    <tr style=\"text-align: right;\">\n",
       "      <th>mancheck1</th>\n",
       "      <th>0.0</th>\n",
       "      <th>1.0</th>\n",
       "    </tr>\n",
       "    <tr>\n",
       "      <th>condition</th>\n",
       "      <th></th>\n",
       "      <th></th>\n",
       "    </tr>\n",
       "  </thead>\n",
       "  <tbody>\n",
       "    <tr>\n",
       "      <th>0</th>\n",
       "      <td>11</td>\n",
       "      <td>12</td>\n",
       "    </tr>\n",
       "    <tr>\n",
       "      <th>1</th>\n",
       "      <td>8</td>\n",
       "      <td>34</td>\n",
       "    </tr>\n",
       "  </tbody>\n",
       "</table>\n",
       "</div>"
      ],
      "text/plain": [
       "mancheck1  0.0  1.0\n",
       "condition          \n",
       "0           11   12\n",
       "1            8   34"
      ]
     },
     "execution_count": 37,
     "metadata": {},
     "output_type": "execute_result"
    }
   ],
   "source": [
    "#let's look at the crosstab\n",
    "mycrosstab = pd.crosstab(df['condition'], df[\"mancheck1\"])\n",
    "mycrosstab"
   ]
  },
  {
   "cell_type": "code",
   "execution_count": 38,
   "id": "508ad23f-32a1-4e9a-86a9-310a33fb5877",
   "metadata": {},
   "outputs": [
    {
     "name": "stdout",
     "output_type": "stream",
     "text": [
      "𝜒²(1) = 4.640, p = 0.031 \n",
      "V = 0.303\n"
     ]
    }
   ],
   "source": [
    "# and then get the chi2 test for that table\n",
    "c, p, dof, expected = contingency.chi2_contingency(mycrosstab)\n",
    "print(f\"𝜒²({dof:.0f}) = {c:.3f}, p = {p:.3f} \")\n",
    "\n",
    "# maybe Cramer's V as well?\n",
    "print(f\"V = {contingency.association(mycrosstab,method='cramer'):.3f}\")"
   ]
  },
  {
   "cell_type": "markdown",
   "id": "7b363810-7434-4c9d-8bd5-d36223e39d58",
   "metadata": {},
   "source": [
    "## Mancheck 2"
   ]
  },
  {
   "cell_type": "code",
   "execution_count": 39,
   "id": "82d22b6f-7d10-4f54-b986-d26edec2d423",
   "metadata": {},
   "outputs": [
    {
     "name": "stdout",
     "output_type": "stream",
     "text": [
      "We compare 0 (M=3.65, SD=1.902) with 1 (M=4.12, SD=1.815), t(43.21900774469187)=-0.944, p=0.3506.\n"
     ]
    },
    {
     "data": {
      "text/html": [
       "<div>\n",
       "<style scoped>\n",
       "    .dataframe tbody tr th:only-of-type {\n",
       "        vertical-align: middle;\n",
       "    }\n",
       "\n",
       "    .dataframe tbody tr th {\n",
       "        vertical-align: top;\n",
       "    }\n",
       "\n",
       "    .dataframe thead th {\n",
       "        text-align: right;\n",
       "    }\n",
       "</style>\n",
       "<table border=\"1\" class=\"dataframe\">\n",
       "  <thead>\n",
       "    <tr style=\"text-align: right;\">\n",
       "      <th></th>\n",
       "      <th>T</th>\n",
       "      <th>dof</th>\n",
       "      <th>alternative</th>\n",
       "      <th>p-val</th>\n",
       "      <th>CI95%</th>\n",
       "      <th>cohen-d</th>\n",
       "      <th>BF10</th>\n",
       "      <th>power</th>\n",
       "    </tr>\n",
       "  </thead>\n",
       "  <tbody>\n",
       "    <tr>\n",
       "      <th>T-test</th>\n",
       "      <td>-0.943544</td>\n",
       "      <td>43.219008</td>\n",
       "      <td>two-sided</td>\n",
       "      <td>0.350648</td>\n",
       "      <td>[-1.46, 0.53]</td>\n",
       "      <td>0.248922</td>\n",
       "      <td>0.382</td>\n",
       "      <td>0.156906</td>\n",
       "    </tr>\n",
       "  </tbody>\n",
       "</table>\n",
       "</div>"
      ],
      "text/plain": [
       "               T        dof alternative     p-val          CI95%   cohen-d  \\\n",
       "T-test -0.943544  43.219008   two-sided  0.350648  [-1.46, 0.53]  0.248922   \n",
       "\n",
       "         BF10     power  \n",
       "T-test  0.382  0.156906  "
      ]
     },
     "execution_count": 39,
     "metadata": {},
     "output_type": "execute_result"
    }
   ],
   "source": [
    "(label1, values1), (label2, values2) = df.groupby('condition')['mancheck2']\n",
    "\n",
    "testresult = pg.ttest(values1, values2)\n",
    "\n",
    "print(f\"We compare {label1} (M={np.mean(values1):.2f}, SD={np.std(values1):.3f}) \"\n",
    "     f\"with {label2} (M={np.mean(values2):.2f}, SD={np.std(values2):.3f}), \"\n",
    "     f\"t({testresult.iloc[0,1]})={testresult.iloc[0,0]:.3f}, \"\n",
    "     f\"p={testresult.iloc[0,3]:.4f}.\")\n",
    "\n",
    "testresult"
   ]
  },
  {
   "cell_type": "markdown",
   "id": "a6185a33-b9aa-4f13-bcd7-b508687c69a3",
   "metadata": {},
   "source": [
    "# Hypothesis 1"
   ]
  },
  {
   "cell_type": "markdown",
   "id": "86225845-91c5-4916-a7ab-422cb7e3e5e1",
   "metadata": {},
   "source": [
    "Levenes test should NOT be sig - there are equal variances"
   ]
  },
  {
   "cell_type": "code",
   "execution_count": 40,
   "id": "aeaa0e3c-9276-4269-a16b-8b8c74ab641c",
   "metadata": {},
   "outputs": [],
   "source": [
    "# Create three arrays for each sample:\n",
    "group0 = df.query(\"condition == 0\")['dv']\n",
    "group1 = df.query(\"condition == 1\")['dv']"
   ]
  },
  {
   "cell_type": "code",
   "execution_count": 41,
   "id": "76b3213a-a931-4f5c-9f1f-294950c1a5a1",
   "metadata": {},
   "outputs": [
    {
     "name": "stdout",
     "output_type": "stream",
     "text": [
      "1.1610965689576356 0.28534700344335034\n"
     ]
    }
   ],
   "source": [
    "# Levene's Test in Python with Scipy:\n",
    "stat, p = levene(group0, group1)\n",
    "\n",
    "print(stat, p)"
   ]
  },
  {
   "cell_type": "markdown",
   "id": "3adc7092-e710-4b96-9863-d6bd9412d913",
   "metadata": {},
   "source": [
    "t-test"
   ]
  },
  {
   "cell_type": "code",
   "execution_count": 42,
   "id": "cc13a889-4966-47b2-bf31-2b5c2304f44f",
   "metadata": {},
   "outputs": [
    {
     "name": "stdout",
     "output_type": "stream",
     "text": [
      "We compare 0 (M=5.68, SD=0.915) with 1 (M=5.73, SD=1.356), t(59.80999242820018)=-0.156, p=0.8763.\n"
     ]
    },
    {
     "data": {
      "text/html": [
       "<div>\n",
       "<style scoped>\n",
       "    .dataframe tbody tr th:only-of-type {\n",
       "        vertical-align: middle;\n",
       "    }\n",
       "\n",
       "    .dataframe tbody tr th {\n",
       "        vertical-align: top;\n",
       "    }\n",
       "\n",
       "    .dataframe thead th {\n",
       "        text-align: right;\n",
       "    }\n",
       "</style>\n",
       "<table border=\"1\" class=\"dataframe\">\n",
       "  <thead>\n",
       "    <tr style=\"text-align: right;\">\n",
       "      <th></th>\n",
       "      <th>T</th>\n",
       "      <th>dof</th>\n",
       "      <th>alternative</th>\n",
       "      <th>p-val</th>\n",
       "      <th>CI95%</th>\n",
       "      <th>cohen-d</th>\n",
       "      <th>BF10</th>\n",
       "      <th>power</th>\n",
       "    </tr>\n",
       "  </thead>\n",
       "  <tbody>\n",
       "    <tr>\n",
       "      <th>T-test</th>\n",
       "      <td>-0.156373</td>\n",
       "      <td>59.809992</td>\n",
       "      <td>two-sided</td>\n",
       "      <td>0.876265</td>\n",
       "      <td>[-0.62, 0.53]</td>\n",
       "      <td>0.036387</td>\n",
       "      <td>0.266</td>\n",
       "      <td>0.052189</td>\n",
       "    </tr>\n",
       "  </tbody>\n",
       "</table>\n",
       "</div>"
      ],
      "text/plain": [
       "               T        dof alternative     p-val          CI95%   cohen-d  \\\n",
       "T-test -0.156373  59.809992   two-sided  0.876265  [-0.62, 0.53]  0.036387   \n",
       "\n",
       "         BF10     power  \n",
       "T-test  0.266  0.052189  "
      ]
     },
     "execution_count": 42,
     "metadata": {},
     "output_type": "execute_result"
    }
   ],
   "source": [
    "(label1, values1), (label2, values2) = df.groupby('condition')['dv']\n",
    "\n",
    "testresult = pg.ttest(values1, values2)\n",
    "\n",
    "print(f\"We compare {label1} (M={np.mean(values1):.2f}, SD={np.std(values1):.3f}) \"\n",
    "     f\"with {label2} (M={np.mean(values2):.2f}, SD={np.std(values2):.3f}), \"\n",
    "     f\"t({testresult.iloc[0,1]})={testresult.iloc[0,0]:.3f}, \"\n",
    "     f\"p={testresult.iloc[0,3]:.4f}.\")\n",
    "\n",
    "testresult"
   ]
  },
  {
   "cell_type": "markdown",
   "id": "6f1a81dc-b767-4190-b499-2a3a53a2c4f2",
   "metadata": {},
   "source": [
    "# Hypothesis 2"
   ]
  },
  {
   "cell_type": "code",
   "execution_count": 43,
   "id": "6906a9b0-eacb-4858-a983-eefea5771f51",
   "metadata": {},
   "outputs": [],
   "source": [
    "#creating groups for each condition\n",
    "group0 = df.query(\"condition == 0 and device_type == 'computer'\")['dv']"
   ]
  },
  {
   "cell_type": "code",
   "execution_count": 44,
   "id": "efb22958-d758-42c9-a206-4d029e0aece8",
   "metadata": {},
   "outputs": [
    {
     "data": {
      "text/plain": [
       "20    5.666667\n",
       "54    6.500000\n",
       "Name: dv, dtype: float64"
      ]
     },
     "execution_count": 44,
     "metadata": {},
     "output_type": "execute_result"
    }
   ],
   "source": [
    "#checking it worked\n",
    "group0"
   ]
  },
  {
   "cell_type": "code",
   "execution_count": 45,
   "id": "4ba71a4c-0a06-48e2-8bf2-ed6d4528f9ec",
   "metadata": {},
   "outputs": [
    {
     "data": {
      "text/plain": [
       "condition             0\n",
       "device_type    computer\n",
       "Name: 20, dtype: object"
      ]
     },
     "execution_count": 45,
     "metadata": {},
     "output_type": "execute_result"
    }
   ],
   "source": [
    "df.iloc[20][[\"condition\", \"device_type\"]]"
   ]
  },
  {
   "cell_type": "code",
   "execution_count": 46,
   "id": "a42d9772-19cd-43bc-89a4-9b5b39035281",
   "metadata": {},
   "outputs": [],
   "source": [
    "#making the rest of the groups\n",
    "group1 = df.query(\"condition == 0 and device_type == 'non-computer'\")['dv']\n",
    "group2 = df.query(\"condition == 1 and device_type == 'computer'\")['dv']\n",
    "group3 = df.query(\"condition == 1 and device_type == 'non-computer'\")['dv']"
   ]
  },
  {
   "cell_type": "code",
   "execution_count": 47,
   "id": "b5830c04-5281-403c-9e47-f9866680f4f0",
   "metadata": {},
   "outputs": [
    {
     "name": "stdout",
     "output_type": "stream",
     "text": [
      "group 1: \n",
      "2    4.000000\n",
      "7    4.000000\n",
      "8    6.166667\n",
      "Name: dv, dtype: float64\n",
      "group 2: \n",
      "4     6.666667\n",
      "15    5.333333\n",
      "23    6.166667\n",
      "Name: dv, dtype: float64\n",
      "group 3: \n",
      "0    2.333333\n",
      "1    7.000000\n",
      "3    6.000000\n",
      "Name: dv, dtype: float64\n"
     ]
    }
   ],
   "source": [
    "#checking the rest\n",
    "print(f\"group 1: \\n{group1[:3]}\")\n",
    "print(f\"group 2: \\n{group2[:3]}\")\n",
    "print(f\"group 3: \\n{group3[:3]}\")"
   ]
  },
  {
   "cell_type": "code",
   "execution_count": 48,
   "id": "d30286a8-6641-41f6-962a-06e7383ec6dd",
   "metadata": {},
   "outputs": [
    {
     "name": "stdout",
     "output_type": "stream",
     "text": [
      "group 1 (non computer, condition 0) \n",
      "condition                 0\n",
      "device_type    non-computer\n",
      "Name: 2, dtype: object\n",
      "\n",
      " --------\n",
      "group 2 (computer, condition 1) \n",
      "condition             1\n",
      "device_type    computer\n",
      "Name: 4, dtype: object\n",
      "\n",
      " --------\n",
      "group 3 (non computer, condition 1) \n",
      "condition                 1\n",
      "device_type    non-computer\n",
      "Name: 0, dtype: object\n"
     ]
    }
   ],
   "source": [
    "#checking it worked\n",
    "print(f\"group 1 (non computer, condition 0) \\n{df.iloc[2][[\"condition\", \"device_type\"]]}\")\n",
    "print(\"\\n --------\")\n",
    "print(f\"group 2 (computer, condition 1) \\n{df.iloc[4][[\"condition\", \"device_type\"]]}\")\n",
    "print(\"\\n --------\")\n",
    "print(f\"group 3 (non computer, condition 1) \\n{df.iloc[0][[\"condition\", \"device_type\"]]}\")\n"
   ]
  },
  {
   "cell_type": "code",
   "execution_count": 49,
   "id": "24c115a5-2aba-4d42-b276-306c5a1bdbb8",
   "metadata": {},
   "outputs": [
    {
     "name": "stdout",
     "output_type": "stream",
     "text": [
      "1.6749970830130416 0.18173912391686736\n"
     ]
    }
   ],
   "source": [
    "#worked! checking levene's test\n",
    "stat, p = levene(group0, group1, group2, group3)\n",
    "\n",
    "print(stat, p)"
   ]
  },
  {
   "cell_type": "code",
   "execution_count": 50,
   "id": "d1da8cfd-5b3e-4077-9513-d8db62e9c954",
   "metadata": {},
   "outputs": [
    {
     "data": {
      "text/html": [
       "<div>\n",
       "<style scoped>\n",
       "    .dataframe tbody tr th:only-of-type {\n",
       "        vertical-align: middle;\n",
       "    }\n",
       "\n",
       "    .dataframe tbody tr th {\n",
       "        vertical-align: top;\n",
       "    }\n",
       "\n",
       "    .dataframe thead th {\n",
       "        text-align: right;\n",
       "    }\n",
       "</style>\n",
       "<table border=\"1\" class=\"dataframe\">\n",
       "  <thead>\n",
       "    <tr style=\"text-align: right;\">\n",
       "      <th></th>\n",
       "      <th>Source</th>\n",
       "      <th>SS</th>\n",
       "      <th>DF</th>\n",
       "      <th>MS</th>\n",
       "      <th>F</th>\n",
       "      <th>p-unc</th>\n",
       "      <th>n2</th>\n",
       "    </tr>\n",
       "  </thead>\n",
       "  <tbody>\n",
       "    <tr>\n",
       "      <th>0</th>\n",
       "      <td>condition</td>\n",
       "      <td>0.015</td>\n",
       "      <td>1.0</td>\n",
       "      <td>0.015</td>\n",
       "      <td>0.010</td>\n",
       "      <td>0.922</td>\n",
       "      <td>0.00</td>\n",
       "    </tr>\n",
       "    <tr>\n",
       "      <th>1</th>\n",
       "      <td>device_type</td>\n",
       "      <td>1.008</td>\n",
       "      <td>1.0</td>\n",
       "      <td>1.008</td>\n",
       "      <td>0.644</td>\n",
       "      <td>0.425</td>\n",
       "      <td>0.01</td>\n",
       "    </tr>\n",
       "    <tr>\n",
       "      <th>2</th>\n",
       "      <td>condition * device_type</td>\n",
       "      <td>0.004</td>\n",
       "      <td>1.0</td>\n",
       "      <td>0.004</td>\n",
       "      <td>0.002</td>\n",
       "      <td>0.961</td>\n",
       "      <td>0.00</td>\n",
       "    </tr>\n",
       "    <tr>\n",
       "      <th>3</th>\n",
       "      <td>Residual</td>\n",
       "      <td>95.473</td>\n",
       "      <td>61.0</td>\n",
       "      <td>1.565</td>\n",
       "      <td>NaN</td>\n",
       "      <td>NaN</td>\n",
       "      <td>NaN</td>\n",
       "    </tr>\n",
       "  </tbody>\n",
       "</table>\n",
       "</div>"
      ],
      "text/plain": [
       "                    Source      SS    DF     MS      F  p-unc    n2\n",
       "0                condition   0.015   1.0  0.015  0.010  0.922  0.00\n",
       "1              device_type   1.008   1.0  1.008  0.644  0.425  0.01\n",
       "2  condition * device_type   0.004   1.0  0.004  0.002  0.961  0.00\n",
       "3                 Residual  95.473  61.0  1.565    NaN    NaN   NaN"
      ]
     },
     "execution_count": 50,
     "metadata": {},
     "output_type": "execute_result"
    }
   ],
   "source": [
    "df.anova(dv=\"dv\", between=[\"condition\", \"device_type\"],effsize=\"n2\").round(3)"
   ]
  },
  {
   "cell_type": "code",
   "execution_count": 51,
   "id": "47740dd7-724e-4223-9ad2-c7a75ab99081",
   "metadata": {},
   "outputs": [
    {
     "data": {
      "text/plain": [
       "<seaborn.axisgrid.FacetGrid at 0x139628050>"
      ]
     },
     "execution_count": 51,
     "metadata": {},
     "output_type": "execute_result"
    },
    {
     "data": {
      "image/png": "[encoded data removed]",
      "text/plain": [
       "<Figure size 647.875x500 with 1 Axes>"
      ]
     },
     "metadata": {},
     "output_type": "display_data"
    }
   ],
   "source": [
    "sns.catplot(x='condition', y='dv', hue='device_type', kind='bar', data=df)"
   ]
  },
  {
   "cell_type": "code",
   "execution_count": 52,
   "id": "e1de6446-367a-4857-9f79-67f4825b1d58",
   "metadata": {},
   "outputs": [
    {
     "data": {
      "text/html": [
       "<div>\n",
       "<style scoped>\n",
       "    .dataframe tbody tr th:only-of-type {\n",
       "        vertical-align: middle;\n",
       "    }\n",
       "\n",
       "    .dataframe tbody tr th {\n",
       "        vertical-align: top;\n",
       "    }\n",
       "\n",
       "    .dataframe thead th {\n",
       "        text-align: right;\n",
       "    }\n",
       "</style>\n",
       "<table border=\"1\" class=\"dataframe\">\n",
       "  <thead>\n",
       "    <tr style=\"text-align: right;\">\n",
       "      <th></th>\n",
       "      <th></th>\n",
       "      <th>mean</th>\n",
       "      <th>std</th>\n",
       "    </tr>\n",
       "    <tr>\n",
       "      <th>condition</th>\n",
       "      <th>device_type</th>\n",
       "      <th></th>\n",
       "      <th></th>\n",
       "    </tr>\n",
       "  </thead>\n",
       "  <tbody>\n",
       "    <tr>\n",
       "      <th rowspan=\"2\" valign=\"top\">0</th>\n",
       "      <th>computer</th>\n",
       "      <td>6.083</td>\n",
       "      <td>0.589</td>\n",
       "    </tr>\n",
       "    <tr>\n",
       "      <th>non-computer</th>\n",
       "      <td>5.643</td>\n",
       "      <td>0.964</td>\n",
       "    </tr>\n",
       "    <tr>\n",
       "      <th rowspan=\"2\" valign=\"top\">1</th>\n",
       "      <th>computer</th>\n",
       "      <td>6.067</td>\n",
       "      <td>0.480</td>\n",
       "    </tr>\n",
       "    <tr>\n",
       "      <th>non-computer</th>\n",
       "      <td>5.680</td>\n",
       "      <td>1.449</td>\n",
       "    </tr>\n",
       "  </tbody>\n",
       "</table>\n",
       "</div>"
      ],
      "text/plain": [
       "                         mean    std\n",
       "condition device_type               \n",
       "0         computer      6.083  0.589\n",
       "          non-computer  5.643  0.964\n",
       "1         computer      6.067  0.480\n",
       "          non-computer  5.680  1.449"
      ]
     },
     "execution_count": 52,
     "metadata": {},
     "output_type": "execute_result"
    }
   ],
   "source": [
    "#means of each condition\n",
    "df.groupby(['condition', 'device_type']).dv.agg(['mean', 'std']).round(3)"
   ]
  },
  {
   "cell_type": "code",
   "execution_count": null,
   "id": "c9a92126-1eae-4d14-9f6d-318f70d51e8b",
   "metadata": {},
   "outputs": [],
   "source": []
  }
 ],
 "metadata": {
  "kernelspec": {
   "display_name": "Python 3 (ipykernel)",
   "language": "python",
   "name": "python3"
  },
  "language_info": {
   "codemirror_mode": {
    "name": "ipython",
    "version": 3
   },
   "file_extension": ".py",
   "mimetype": "text/x-python",
   "name": "python",
   "nbconvert_exporter": "python",
   "pygments_lexer": "ipython3",
   "version": "3.12.2"
  }
 },
 "nbformat": 4,
 "nbformat_minor": 5
}
