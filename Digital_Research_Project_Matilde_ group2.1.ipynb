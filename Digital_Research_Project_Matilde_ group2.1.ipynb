{
 "cells": [
  {
   "cell_type": "markdown",
   "id": "ed5c9fbd-2bc2-4234-b447-3e4cc46b6559",
   "metadata": {},
   "source": [
    "# Digital Society Research Project: Python code for analysis\n",
    "Matilde de Conciliis (13940708)"
   ]
  },
  {
   "cell_type": "code",
   "execution_count": 1,
   "id": "257ba206-970c-459a-9ff1-f09a22eae752",
   "metadata": {},
   "outputs": [
    {
     "name": "stdout",
     "output_type": "stream",
     "text": [
      "Requirement already satisfied: psython in /Users/matilde/Library/jupyterlab-desktop/jlab_server/lib/python3.8/site-packages (0.0.16)\n",
      "Requirement already satisfied: pingouin in /Users/matilde/Library/jupyterlab-desktop/jlab_server/lib/python3.8/site-packages (0.5.4)\n",
      "Requirement already satisfied: numpy in /Users/matilde/Library/jupyterlab-desktop/jlab_server/lib/python3.8/site-packages (from pingouin) (1.24.4)\n",
      "Requirement already satisfied: scipy in /Users/matilde/Library/jupyterlab-desktop/jlab_server/lib/python3.8/site-packages (from pingouin) (1.10.1)\n",
      "Requirement already satisfied: pandas>=1.5 in /Users/matilde/Library/jupyterlab-desktop/jlab_server/lib/python3.8/site-packages (from pingouin) (2.0.3)\n",
      "Requirement already satisfied: matplotlib in /Users/matilde/Library/jupyterlab-desktop/jlab_server/lib/python3.8/site-packages (from pingouin) (3.7.3)\n",
      "Requirement already satisfied: seaborn in /Users/matilde/Library/jupyterlab-desktop/jlab_server/lib/python3.8/site-packages (from pingouin) (0.13.2)\n",
      "Requirement already satisfied: statsmodels in /Users/matilde/Library/jupyterlab-desktop/jlab_server/lib/python3.8/site-packages (from pingouin) (0.14.1)\n",
      "Requirement already satisfied: scikit-learn in /Users/matilde/Library/jupyterlab-desktop/jlab_server/lib/python3.8/site-packages (from pingouin) (1.3.2)\n",
      "Requirement already satisfied: pandas-flavor in /Users/matilde/Library/jupyterlab-desktop/jlab_server/lib/python3.8/site-packages (from pingouin) (0.6.0)\n",
      "Requirement already satisfied: tabulate in /Users/matilde/Library/jupyterlab-desktop/jlab_server/lib/python3.8/site-packages (from pingouin) (0.9.0)\n",
      "Requirement already satisfied: python-dateutil>=2.8.2 in /Users/matilde/Library/jupyterlab-desktop/jlab_server/lib/python3.8/site-packages (from pandas>=1.5->pingouin) (2.8.2)\n",
      "Requirement already satisfied: pytz>=2020.1 in /Users/matilde/Library/jupyterlab-desktop/jlab_server/lib/python3.8/site-packages (from pandas>=1.5->pingouin) (2023.4)\n",
      "Requirement already satisfied: tzdata>=2022.1 in /Users/matilde/Library/jupyterlab-desktop/jlab_server/lib/python3.8/site-packages (from pandas>=1.5->pingouin) (2023.4)\n",
      "Requirement already satisfied: contourpy>=1.0.1 in /Users/matilde/Library/jupyterlab-desktop/jlab_server/lib/python3.8/site-packages (from matplotlib->pingouin) (1.1.1)\n",
      "Requirement already satisfied: cycler>=0.10 in /Users/matilde/Library/jupyterlab-desktop/jlab_server/lib/python3.8/site-packages (from matplotlib->pingouin) (0.12.1)\n",
      "Requirement already satisfied: fonttools>=4.22.0 in /Users/matilde/Library/jupyterlab-desktop/jlab_server/lib/python3.8/site-packages (from matplotlib->pingouin) (4.47.2)\n",
      "Requirement already satisfied: kiwisolver>=1.0.1 in /Users/matilde/Library/jupyterlab-desktop/jlab_server/lib/python3.8/site-packages (from matplotlib->pingouin) (1.4.5)\n",
      "Requirement already satisfied: packaging>=20.0 in /Users/matilde/Library/jupyterlab-desktop/jlab_server/lib/python3.8/site-packages (from matplotlib->pingouin) (23.2)\n",
      "Requirement already satisfied: pillow>=6.2.0 in /Users/matilde/Library/jupyterlab-desktop/jlab_server/lib/python3.8/site-packages (from matplotlib->pingouin) (10.2.0)\n",
      "Requirement already satisfied: pyparsing>=2.3.1 in /Users/matilde/Library/jupyterlab-desktop/jlab_server/lib/python3.8/site-packages (from matplotlib->pingouin) (3.1.1)\n",
      "Requirement already satisfied: importlib-resources>=3.2.0 in /Users/matilde/Library/jupyterlab-desktop/jlab_server/lib/python3.8/site-packages (from matplotlib->pingouin) (6.1.1)\n",
      "Requirement already satisfied: xarray in /Users/matilde/Library/jupyterlab-desktop/jlab_server/lib/python3.8/site-packages (from pandas-flavor->pingouin) (2023.1.0)\n",
      "Requirement already satisfied: joblib>=1.1.1 in /Users/matilde/Library/jupyterlab-desktop/jlab_server/lib/python3.8/site-packages (from scikit-learn->pingouin) (1.3.2)\n",
      "Requirement already satisfied: threadpoolctl>=2.0.0 in /Users/matilde/Library/jupyterlab-desktop/jlab_server/lib/python3.8/site-packages (from scikit-learn->pingouin) (3.3.0)\n",
      "Requirement already satisfied: patsy>=0.5.4 in /Users/matilde/Library/jupyterlab-desktop/jlab_server/lib/python3.8/site-packages (from statsmodels->pingouin) (0.5.6)\n",
      "Requirement already satisfied: zipp>=3.1.0 in /Users/matilde/Library/jupyterlab-desktop/jlab_server/lib/python3.8/site-packages (from importlib-resources>=3.2.0->matplotlib->pingouin) (3.17.0)\n",
      "Requirement already satisfied: six in /Users/matilde/Library/jupyterlab-desktop/jlab_server/lib/python3.8/site-packages (from patsy>=0.5.4->statsmodels->pingouin) (1.16.0)\n",
      "Requirement already satisfied: prettytable in /Users/matilde/Library/jupyterlab-desktop/jlab_server/lib/python3.8/site-packages (3.10.0)\n",
      "Requirement already satisfied: wcwidth in /Users/matilde/Library/jupyterlab-desktop/jlab_server/lib/python3.8/site-packages (from prettytable) (0.2.13)\n",
      "Requirement already satisfied: factor_analyzer in /Users/matilde/Library/jupyterlab-desktop/jlab_server/lib/python3.8/site-packages (0.5.1)\n",
      "Requirement already satisfied: pandas in /Users/matilde/Library/jupyterlab-desktop/jlab_server/lib/python3.8/site-packages (from factor_analyzer) (2.0.3)\n",
      "Requirement already satisfied: scipy in /Users/matilde/Library/jupyterlab-desktop/jlab_server/lib/python3.8/site-packages (from factor_analyzer) (1.10.1)\n",
      "Requirement already satisfied: numpy in /Users/matilde/Library/jupyterlab-desktop/jlab_server/lib/python3.8/site-packages (from factor_analyzer) (1.24.4)\n",
      "Requirement already satisfied: scikit-learn in /Users/matilde/Library/jupyterlab-desktop/jlab_server/lib/python3.8/site-packages (from factor_analyzer) (1.3.2)\n",
      "Requirement already satisfied: python-dateutil>=2.8.2 in /Users/matilde/Library/jupyterlab-desktop/jlab_server/lib/python3.8/site-packages (from pandas->factor_analyzer) (2.8.2)\n",
      "Requirement already satisfied: pytz>=2020.1 in /Users/matilde/Library/jupyterlab-desktop/jlab_server/lib/python3.8/site-packages (from pandas->factor_analyzer) (2023.4)\n",
      "Requirement already satisfied: tzdata>=2022.1 in /Users/matilde/Library/jupyterlab-desktop/jlab_server/lib/python3.8/site-packages (from pandas->factor_analyzer) (2023.4)\n",
      "Requirement already satisfied: joblib>=1.1.1 in /Users/matilde/Library/jupyterlab-desktop/jlab_server/lib/python3.8/site-packages (from scikit-learn->factor_analyzer) (1.3.2)\n",
      "Requirement already satisfied: threadpoolctl>=2.0.0 in /Users/matilde/Library/jupyterlab-desktop/jlab_server/lib/python3.8/site-packages (from scikit-learn->factor_analyzer) (3.3.0)\n",
      "Requirement already satisfied: six>=1.5 in /Users/matilde/Library/jupyterlab-desktop/jlab_server/lib/python3.8/site-packages (from python-dateutil>=2.8.2->pandas->factor_analyzer) (1.16.0)\n"
     ]
    }
   ],
   "source": [
    "!pip3 install psython\n",
    "!pip3 install pingouin\n",
    "!pip3 install prettytable\n",
    "!pip3 install factor_analyzer"
   ]
  },
  {
   "cell_type": "code",
   "execution_count": 2,
   "id": "ea7f9dce-2da6-4c64-96bb-63643a229478",
   "metadata": {},
   "outputs": [],
   "source": [
    "#importing needed packages\n",
    "import pandas as pd\n",
    "import seaborn as sns\n",
    "from statsmodels.formula.api import ols\n",
    "import numpy as np\n",
    "import psython as psy\n",
    "import pingouin as pg\n",
    "from scipy.stats import contingency \n",
    "from factor_analyzer import FactorAnalyzer\n",
    "from factor_analyzer.factor_analyzer import calculate_bartlett_sphericity\n",
    "from factor_analyzer.factor_analyzer import calculate_kmo"
   ]
  },
  {
   "cell_type": "code",
   "execution_count": 3,
   "id": "d246d018-a578-4d27-b6a1-a652dfed047d",
   "metadata": {},
   "outputs": [],
   "source": [
    "#reading in the data\n",
    "data = \"group21_alltogether.csv\"\n",
    "\n",
    "df = pd.read_csv(data)"
   ]
  },
  {
   "cell_type": "code",
   "execution_count": 4,
   "id": "f6168a62-4ee3-4891-82fe-d8bdf9d879d0",
   "metadata": {},
   "outputs": [
    {
     "data": {
      "text/html": [
       "<div>\n",
       "<style scoped>\n",
       "    .dataframe tbody tr th:only-of-type {\n",
       "        vertical-align: middle;\n",
       "    }\n",
       "\n",
       "    .dataframe tbody tr th {\n",
       "        vertical-align: top;\n",
       "    }\n",
       "\n",
       "    .dataframe thead th {\n",
       "        text-align: right;\n",
       "    }\n",
       "</style>\n",
       "<table border=\"1\" class=\"dataframe\">\n",
       "  <thead>\n",
       "    <tr style=\"text-align: right;\">\n",
       "      <th></th>\n",
       "      <th>userid</th>\n",
       "      <th>Q2</th>\n",
       "      <th>Q3</th>\n",
       "      <th>Q4</th>\n",
       "      <th>Q5</th>\n",
       "      <th>Q6</th>\n",
       "      <th>Q7</th>\n",
       "      <th>Q8</th>\n",
       "      <th>Q9</th>\n",
       "      <th>Q10</th>\n",
       "      <th>...</th>\n",
       "      <th>condition</th>\n",
       "      <th>prolific</th>\n",
       "      <th>timestart</th>\n",
       "      <th>genre</th>\n",
       "      <th>consent</th>\n",
       "      <th>mancheck1</th>\n",
       "      <th>mancheck2</th>\n",
       "      <th>calibrationid</th>\n",
       "      <th>recommendationid</th>\n",
       "      <th>_merge</th>\n",
       "    </tr>\n",
       "  </thead>\n",
       "  <tbody>\n",
       "    <tr>\n",
       "      <th>0</th>\n",
       "      <td>485</td>\n",
       "      <td>2</td>\n",
       "      <td>2</td>\n",
       "      <td>2</td>\n",
       "      <td>2</td>\n",
       "      <td>NaN</td>\n",
       "      <td>NaN</td>\n",
       "      <td>NaN</td>\n",
       "      <td>NaN</td>\n",
       "      <td>NaN</td>\n",
       "      <td>...</td>\n",
       "      <td>1</td>\n",
       "      <td>http://localhost/group11/</td>\n",
       "      <td>2024-06-14 16:57:47</td>\n",
       "      <td>NaN</td>\n",
       "      <td>NaN</td>\n",
       "      <td>NaN</td>\n",
       "      <td>NaN</td>\n",
       "      <td>NaN</td>\n",
       "      <td>NaN</td>\n",
       "      <td>both in master and using data</td>\n",
       "    </tr>\n",
       "    <tr>\n",
       "      <th>1</th>\n",
       "      <td>488</td>\n",
       "      <td>2</td>\n",
       "      <td>2</td>\n",
       "      <td>2</td>\n",
       "      <td>2</td>\n",
       "      <td>NaN</td>\n",
       "      <td>NaN</td>\n",
       "      <td>NaN</td>\n",
       "      <td>NaN</td>\n",
       "      <td>NaN</td>\n",
       "      <td>...</td>\n",
       "      <td>0</td>\n",
       "      <td>http://localhost/group11/</td>\n",
       "      <td>2024-06-14 17:04:36</td>\n",
       "      <td>NaN</td>\n",
       "      <td>NaN</td>\n",
       "      <td>NaN</td>\n",
       "      <td>NaN</td>\n",
       "      <td>NaN</td>\n",
       "      <td>NaN</td>\n",
       "      <td>both in master and using data</td>\n",
       "    </tr>\n",
       "    <tr>\n",
       "      <th>2</th>\n",
       "      <td>489</td>\n",
       "      <td>2</td>\n",
       "      <td>2</td>\n",
       "      <td>2</td>\n",
       "      <td>2</td>\n",
       "      <td>NaN</td>\n",
       "      <td>NaN</td>\n",
       "      <td>NaN</td>\n",
       "      <td>NaN</td>\n",
       "      <td>NaN</td>\n",
       "      <td>...</td>\n",
       "      <td>1</td>\n",
       "      <td>http://localhost/group11/</td>\n",
       "      <td>2024-06-14 17:17:38</td>\n",
       "      <td>NaN</td>\n",
       "      <td>NaN</td>\n",
       "      <td>NaN</td>\n",
       "      <td>NaN</td>\n",
       "      <td>NaN</td>\n",
       "      <td>NaN</td>\n",
       "      <td>both in master and using data</td>\n",
       "    </tr>\n",
       "    <tr>\n",
       "      <th>3</th>\n",
       "      <td>492</td>\n",
       "      <td>2</td>\n",
       "      <td>2</td>\n",
       "      <td>2</td>\n",
       "      <td>2</td>\n",
       "      <td>NaN</td>\n",
       "      <td>NaN</td>\n",
       "      <td>NaN</td>\n",
       "      <td>NaN</td>\n",
       "      <td>NaN</td>\n",
       "      <td>...</td>\n",
       "      <td>1</td>\n",
       "      <td>http://localhost/group11/</td>\n",
       "      <td>2024-06-14 17:19:24</td>\n",
       "      <td>NaN</td>\n",
       "      <td>NaN</td>\n",
       "      <td>NaN</td>\n",
       "      <td>NaN</td>\n",
       "      <td>NaN</td>\n",
       "      <td>NaN</td>\n",
       "      <td>both in master and using data</td>\n",
       "    </tr>\n",
       "    <tr>\n",
       "      <th>4</th>\n",
       "      <td>497</td>\n",
       "      <td>3</td>\n",
       "      <td>2</td>\n",
       "      <td>2</td>\n",
       "      <td>2</td>\n",
       "      <td>NaN</td>\n",
       "      <td>NaN</td>\n",
       "      <td>NaN</td>\n",
       "      <td>NaN</td>\n",
       "      <td>NaN</td>\n",
       "      <td>...</td>\n",
       "      <td>0</td>\n",
       "      <td>1.5</td>\n",
       "      <td>2024-06-15 20:56:12</td>\n",
       "      <td>NaN</td>\n",
       "      <td>NaN</td>\n",
       "      <td>NaN</td>\n",
       "      <td>NaN</td>\n",
       "      <td>NaN</td>\n",
       "      <td>NaN</td>\n",
       "      <td>both in master and using data</td>\n",
       "    </tr>\n",
       "  </tbody>\n",
       "</table>\n",
       "<p>5 rows × 57 columns</p>\n",
       "</div>"
      ],
      "text/plain": [
       "   userid  Q2  Q3  Q4  Q5  Q6  Q7  Q8  Q9  Q10  ...  condition  \\\n",
       "0     485   2   2   2   2 NaN NaN NaN NaN  NaN  ...          1   \n",
       "1     488   2   2   2   2 NaN NaN NaN NaN  NaN  ...          0   \n",
       "2     489   2   2   2   2 NaN NaN NaN NaN  NaN  ...          1   \n",
       "3     492   2   2   2   2 NaN NaN NaN NaN  NaN  ...          1   \n",
       "4     497   3   2   2   2 NaN NaN NaN NaN  NaN  ...          0   \n",
       "\n",
       "                    prolific            timestart  genre  consent  mancheck1  \\\n",
       "0  http://localhost/group11/  2024-06-14 16:57:47    NaN      NaN        NaN   \n",
       "1  http://localhost/group11/  2024-06-14 17:04:36    NaN      NaN        NaN   \n",
       "2  http://localhost/group11/  2024-06-14 17:17:38    NaN      NaN        NaN   \n",
       "3  http://localhost/group11/  2024-06-14 17:19:24    NaN      NaN        NaN   \n",
       "4                        1.5  2024-06-15 20:56:12    NaN      NaN        NaN   \n",
       "\n",
       "   mancheck2  calibrationid  recommendationid                         _merge  \n",
       "0        NaN            NaN               NaN  both in master and using data  \n",
       "1        NaN            NaN               NaN  both in master and using data  \n",
       "2        NaN            NaN               NaN  both in master and using data  \n",
       "3        NaN            NaN               NaN  both in master and using data  \n",
       "4        NaN            NaN               NaN  both in master and using data  \n",
       "\n",
       "[5 rows x 57 columns]"
      ]
     },
     "execution_count": 4,
     "metadata": {},
     "output_type": "execute_result"
    }
   ],
   "source": [
    "#firts five rows of the dataset\n",
    "df.head()"
   ]
  },
  {
   "cell_type": "code",
   "execution_count": 5,
   "id": "d5c2d64c-39ef-41e4-8f31-3236d0d6e288",
   "metadata": {},
   "outputs": [
    {
     "data": {
      "text/plain": [
       "(136, 57)"
      ]
     },
     "execution_count": 5,
     "metadata": {},
     "output_type": "execute_result"
    }
   ],
   "source": [
    "df.shape"
   ]
  },
  {
   "cell_type": "code",
   "execution_count": 6,
   "id": "067db197-10ee-4e5f-8a6b-359a425cce22",
   "metadata": {},
   "outputs": [
    {
     "data": {
      "text/plain": [
       "Index(['userid', 'Q2', 'Q3', 'Q4', 'Q5', 'Q6', 'Q7', 'Q8', 'Q9', 'Q10', 'Q11',\n",
       "       'Q12', 'Q13', 'Q14', 'Q15', 'Q16', 'Q17', 'Q18', 'Q19', 'Q20', 'Q21',\n",
       "       'Q22', 'Q23', 'Q24', 'Q25', 'Q26', 'Q27', 'Q28', 'Q29', 'Q30', 'Q31',\n",
       "       'Q32', 'Q33', 'Q34', 'Q35', 'Q36', 'Q37', 'Q38', 'Q39', 'Q40', 'Q41',\n",
       "       'Q42', 'age', 'gender', 'device', 'education', 'time', 'condition',\n",
       "       'prolific', 'timestart', 'genre', 'consent', 'mancheck1', 'mancheck2',\n",
       "       'calibrationid', 'recommendationid', '_merge'],\n",
       "      dtype='object')"
      ]
     },
     "execution_count": 6,
     "metadata": {},
     "output_type": "execute_result"
    }
   ],
   "source": [
    "df.columns"
   ]
  },
  {
   "cell_type": "code",
   "execution_count": 7,
   "id": "802e8fb1-d6bc-4ddc-b03c-e29b1037d7cd",
   "metadata": {},
   "outputs": [
    {
     "data": {
      "text/plain": [
       "userid                int64\n",
       "Q2                    int64\n",
       "Q3                    int64\n",
       "Q4                    int64\n",
       "Q5                    int64\n",
       "Q6                  float64\n",
       "Q7                  float64\n",
       "Q8                  float64\n",
       "Q9                  float64\n",
       "Q10                 float64\n",
       "Q11                 float64\n",
       "Q12                 float64\n",
       "Q13                 float64\n",
       "Q14                 float64\n",
       "Q15                 float64\n",
       "Q16                 float64\n",
       "Q17                 float64\n",
       "Q18                 float64\n",
       "Q19                 float64\n",
       "Q20                 float64\n",
       "Q21                 float64\n",
       "Q22                 float64\n",
       "Q23                 float64\n",
       "Q24                 float64\n",
       "Q25                 float64\n",
       "Q26                 float64\n",
       "Q27                 float64\n",
       "Q28                 float64\n",
       "Q29                 float64\n",
       "Q30                 float64\n",
       "Q31                 float64\n",
       "Q32                 float64\n",
       "Q33                 float64\n",
       "Q34                 float64\n",
       "Q35                 float64\n",
       "Q36                 float64\n",
       "Q37                 float64\n",
       "Q38                 float64\n",
       "Q39                 float64\n",
       "Q40                 float64\n",
       "Q41                 float64\n",
       "Q42                 float64\n",
       "age                 float64\n",
       "gender              float64\n",
       "device              float64\n",
       "education           float64\n",
       "time                 object\n",
       "condition             int64\n",
       "prolific             object\n",
       "timestart            object\n",
       "genre               float64\n",
       "consent             float64\n",
       "mancheck1           float64\n",
       "mancheck2           float64\n",
       "calibrationid       float64\n",
       "recommendationid    float64\n",
       "_merge               object\n",
       "dtype: object"
      ]
     },
     "execution_count": 7,
     "metadata": {},
     "output_type": "execute_result"
    }
   ],
   "source": [
    "df.dtypes"
   ]
  },
  {
   "cell_type": "markdown",
   "id": "f55fc8f3-5a35-4eb0-a699-f6068b0a61fd",
   "metadata": {},
   "source": [
    "The dataset counts 57 columns and 136 rows, which indicates that the questionnaire has been answered 136 times. However there is the need to clean it and eliminate the test responses that were run before data collection started."
   ]
  },
  {
   "cell_type": "markdown",
   "id": "e8494efd-083f-4f21-a0f1-f12bc8e38044",
   "metadata": {},
   "source": [
    "## Dropping the users that answered before 2024-06-21 14:00"
   ]
  },
  {
   "cell_type": "code",
   "execution_count": 8,
   "id": "0da9241b-51b2-4731-80fa-60bbcfc9aa1e",
   "metadata": {},
   "outputs": [
    {
     "data": {
      "text/plain": [
       "count                     136\n",
       "unique                    136\n",
       "top       2024-06-14 16:57:47\n",
       "freq                        1\n",
       "Name: timestart, dtype: object"
      ]
     },
     "execution_count": 8,
     "metadata": {},
     "output_type": "execute_result"
    }
   ],
   "source": [
    "#first checking the column\n",
    "df[\"timestart\"].describe()"
   ]
  },
  {
   "cell_type": "code",
   "execution_count": 9,
   "id": "c9ab4924-386a-46e1-b8ba-ebf2dc42a8ce",
   "metadata": {},
   "outputs": [
    {
     "data": {
      "text/html": [
       "<div>\n",
       "<style scoped>\n",
       "    .dataframe tbody tr th:only-of-type {\n",
       "        vertical-align: middle;\n",
       "    }\n",
       "\n",
       "    .dataframe tbody tr th {\n",
       "        vertical-align: top;\n",
       "    }\n",
       "\n",
       "    .dataframe thead th {\n",
       "        text-align: right;\n",
       "    }\n",
       "</style>\n",
       "<table border=\"1\" class=\"dataframe\">\n",
       "  <thead>\n",
       "    <tr style=\"text-align: right;\">\n",
       "      <th></th>\n",
       "      <th>userid</th>\n",
       "      <th>Q2</th>\n",
       "      <th>Q3</th>\n",
       "      <th>Q4</th>\n",
       "      <th>Q5</th>\n",
       "      <th>Q6</th>\n",
       "      <th>Q7</th>\n",
       "      <th>Q8</th>\n",
       "      <th>Q9</th>\n",
       "      <th>Q10</th>\n",
       "      <th>...</th>\n",
       "      <th>condition</th>\n",
       "      <th>prolific</th>\n",
       "      <th>timestart</th>\n",
       "      <th>genre</th>\n",
       "      <th>consent</th>\n",
       "      <th>mancheck1</th>\n",
       "      <th>mancheck2</th>\n",
       "      <th>calibrationid</th>\n",
       "      <th>recommendationid</th>\n",
       "      <th>_merge</th>\n",
       "    </tr>\n",
       "  </thead>\n",
       "  <tbody>\n",
       "    <tr>\n",
       "      <th>0</th>\n",
       "      <td>485</td>\n",
       "      <td>2</td>\n",
       "      <td>2</td>\n",
       "      <td>2</td>\n",
       "      <td>2</td>\n",
       "      <td>NaN</td>\n",
       "      <td>NaN</td>\n",
       "      <td>NaN</td>\n",
       "      <td>NaN</td>\n",
       "      <td>NaN</td>\n",
       "      <td>...</td>\n",
       "      <td>1</td>\n",
       "      <td>http://localhost/group11/</td>\n",
       "      <td>2024-06-14 16:57:47</td>\n",
       "      <td>NaN</td>\n",
       "      <td>NaN</td>\n",
       "      <td>NaN</td>\n",
       "      <td>NaN</td>\n",
       "      <td>NaN</td>\n",
       "      <td>NaN</td>\n",
       "      <td>both in master and using data</td>\n",
       "    </tr>\n",
       "    <tr>\n",
       "      <th>1</th>\n",
       "      <td>488</td>\n",
       "      <td>2</td>\n",
       "      <td>2</td>\n",
       "      <td>2</td>\n",
       "      <td>2</td>\n",
       "      <td>NaN</td>\n",
       "      <td>NaN</td>\n",
       "      <td>NaN</td>\n",
       "      <td>NaN</td>\n",
       "      <td>NaN</td>\n",
       "      <td>...</td>\n",
       "      <td>0</td>\n",
       "      <td>http://localhost/group11/</td>\n",
       "      <td>2024-06-14 17:04:36</td>\n",
       "      <td>NaN</td>\n",
       "      <td>NaN</td>\n",
       "      <td>NaN</td>\n",
       "      <td>NaN</td>\n",
       "      <td>NaN</td>\n",
       "      <td>NaN</td>\n",
       "      <td>both in master and using data</td>\n",
       "    </tr>\n",
       "    <tr>\n",
       "      <th>2</th>\n",
       "      <td>489</td>\n",
       "      <td>2</td>\n",
       "      <td>2</td>\n",
       "      <td>2</td>\n",
       "      <td>2</td>\n",
       "      <td>NaN</td>\n",
       "      <td>NaN</td>\n",
       "      <td>NaN</td>\n",
       "      <td>NaN</td>\n",
       "      <td>NaN</td>\n",
       "      <td>...</td>\n",
       "      <td>1</td>\n",
       "      <td>http://localhost/group11/</td>\n",
       "      <td>2024-06-14 17:17:38</td>\n",
       "      <td>NaN</td>\n",
       "      <td>NaN</td>\n",
       "      <td>NaN</td>\n",
       "      <td>NaN</td>\n",
       "      <td>NaN</td>\n",
       "      <td>NaN</td>\n",
       "      <td>both in master and using data</td>\n",
       "    </tr>\n",
       "    <tr>\n",
       "      <th>3</th>\n",
       "      <td>492</td>\n",
       "      <td>2</td>\n",
       "      <td>2</td>\n",
       "      <td>2</td>\n",
       "      <td>2</td>\n",
       "      <td>NaN</td>\n",
       "      <td>NaN</td>\n",
       "      <td>NaN</td>\n",
       "      <td>NaN</td>\n",
       "      <td>NaN</td>\n",
       "      <td>...</td>\n",
       "      <td>1</td>\n",
       "      <td>http://localhost/group11/</td>\n",
       "      <td>2024-06-14 17:19:24</td>\n",
       "      <td>NaN</td>\n",
       "      <td>NaN</td>\n",
       "      <td>NaN</td>\n",
       "      <td>NaN</td>\n",
       "      <td>NaN</td>\n",
       "      <td>NaN</td>\n",
       "      <td>both in master and using data</td>\n",
       "    </tr>\n",
       "    <tr>\n",
       "      <th>4</th>\n",
       "      <td>497</td>\n",
       "      <td>3</td>\n",
       "      <td>2</td>\n",
       "      <td>2</td>\n",
       "      <td>2</td>\n",
       "      <td>NaN</td>\n",
       "      <td>NaN</td>\n",
       "      <td>NaN</td>\n",
       "      <td>NaN</td>\n",
       "      <td>NaN</td>\n",
       "      <td>...</td>\n",
       "      <td>0</td>\n",
       "      <td>1.5</td>\n",
       "      <td>2024-06-15 20:56:12</td>\n",
       "      <td>NaN</td>\n",
       "      <td>NaN</td>\n",
       "      <td>NaN</td>\n",
       "      <td>NaN</td>\n",
       "      <td>NaN</td>\n",
       "      <td>NaN</td>\n",
       "      <td>both in master and using data</td>\n",
       "    </tr>\n",
       "    <tr>\n",
       "      <th>...</th>\n",
       "      <td>...</td>\n",
       "      <td>...</td>\n",
       "      <td>...</td>\n",
       "      <td>...</td>\n",
       "      <td>...</td>\n",
       "      <td>...</td>\n",
       "      <td>...</td>\n",
       "      <td>...</td>\n",
       "      <td>...</td>\n",
       "      <td>...</td>\n",
       "      <td>...</td>\n",
       "      <td>...</td>\n",
       "      <td>...</td>\n",
       "      <td>...</td>\n",
       "      <td>...</td>\n",
       "      <td>...</td>\n",
       "      <td>...</td>\n",
       "      <td>...</td>\n",
       "      <td>...</td>\n",
       "      <td>...</td>\n",
       "      <td>...</td>\n",
       "    </tr>\n",
       "    <tr>\n",
       "      <th>131</th>\n",
       "      <td>716</td>\n",
       "      <td>1</td>\n",
       "      <td>1</td>\n",
       "      <td>1</td>\n",
       "      <td>1</td>\n",
       "      <td>1.0</td>\n",
       "      <td>1.0</td>\n",
       "      <td>1.0</td>\n",
       "      <td>1.0</td>\n",
       "      <td>1.0</td>\n",
       "      <td>...</td>\n",
       "      <td>1</td>\n",
       "      <td>https://recipe-study.wur.nl/group21_bookrecomm...</td>\n",
       "      <td>2024-06-22 21:18:03</td>\n",
       "      <td>1.0</td>\n",
       "      <td>1.0</td>\n",
       "      <td>1.0</td>\n",
       "      <td>1.0</td>\n",
       "      <td>305.0</td>\n",
       "      <td>543.0</td>\n",
       "      <td>both in master and using data</td>\n",
       "    </tr>\n",
       "    <tr>\n",
       "      <th>132</th>\n",
       "      <td>721</td>\n",
       "      <td>4</td>\n",
       "      <td>7</td>\n",
       "      <td>5</td>\n",
       "      <td>5</td>\n",
       "      <td>5.0</td>\n",
       "      <td>5.0</td>\n",
       "      <td>5.0</td>\n",
       "      <td>5.0</td>\n",
       "      <td>3.0</td>\n",
       "      <td>...</td>\n",
       "      <td>1</td>\n",
       "      <td>https://recipe-study.wur.nl/group21_bookrecomm...</td>\n",
       "      <td>2024-06-23 01:38:36</td>\n",
       "      <td>4.0</td>\n",
       "      <td>1.0</td>\n",
       "      <td>0.0</td>\n",
       "      <td>5.0</td>\n",
       "      <td>1914.0</td>\n",
       "      <td>414.0</td>\n",
       "      <td>both in master and using data</td>\n",
       "    </tr>\n",
       "    <tr>\n",
       "      <th>133</th>\n",
       "      <td>722</td>\n",
       "      <td>6</td>\n",
       "      <td>5</td>\n",
       "      <td>5</td>\n",
       "      <td>4</td>\n",
       "      <td>4.0</td>\n",
       "      <td>6.0</td>\n",
       "      <td>6.0</td>\n",
       "      <td>6.0</td>\n",
       "      <td>6.0</td>\n",
       "      <td>...</td>\n",
       "      <td>0</td>\n",
       "      <td>https://recipe-study.wur.nl/group21_bookrecomm...</td>\n",
       "      <td>2024-06-23 15:17:58</td>\n",
       "      <td>2.0</td>\n",
       "      <td>1.0</td>\n",
       "      <td>0.0</td>\n",
       "      <td>2.0</td>\n",
       "      <td>929.0</td>\n",
       "      <td>2262.0</td>\n",
       "      <td>both in master and using data</td>\n",
       "    </tr>\n",
       "    <tr>\n",
       "      <th>134</th>\n",
       "      <td>723</td>\n",
       "      <td>7</td>\n",
       "      <td>7</td>\n",
       "      <td>7</td>\n",
       "      <td>6</td>\n",
       "      <td>6.0</td>\n",
       "      <td>6.0</td>\n",
       "      <td>5.0</td>\n",
       "      <td>5.0</td>\n",
       "      <td>4.0</td>\n",
       "      <td>...</td>\n",
       "      <td>0</td>\n",
       "      <td>https://recipe-study.wur.nl/group21_bookrecomm...</td>\n",
       "      <td>2024-06-23 16:17:09</td>\n",
       "      <td>1.0</td>\n",
       "      <td>1.0</td>\n",
       "      <td>1.0</td>\n",
       "      <td>6.0</td>\n",
       "      <td>151.0</td>\n",
       "      <td>132.0</td>\n",
       "      <td>both in master and using data</td>\n",
       "    </tr>\n",
       "    <tr>\n",
       "      <th>135</th>\n",
       "      <td>724</td>\n",
       "      <td>7</td>\n",
       "      <td>7</td>\n",
       "      <td>7</td>\n",
       "      <td>4</td>\n",
       "      <td>4.0</td>\n",
       "      <td>7.0</td>\n",
       "      <td>NaN</td>\n",
       "      <td>NaN</td>\n",
       "      <td>NaN</td>\n",
       "      <td>...</td>\n",
       "      <td>1</td>\n",
       "      <td>https://recipe-study.wur.nl/group21_bookrecomm...</td>\n",
       "      <td>2024-06-23 23:47:10</td>\n",
       "      <td>4.0</td>\n",
       "      <td>NaN</td>\n",
       "      <td>1.0</td>\n",
       "      <td>4.0</td>\n",
       "      <td>1295.0</td>\n",
       "      <td>1715.0</td>\n",
       "      <td>both in master and using data</td>\n",
       "    </tr>\n",
       "  </tbody>\n",
       "</table>\n",
       "<p>136 rows × 57 columns</p>\n",
       "</div>"
      ],
      "text/plain": [
       "     userid  Q2  Q3  Q4  Q5   Q6   Q7   Q8   Q9  Q10  ...  condition  \\\n",
       "0       485   2   2   2   2  NaN  NaN  NaN  NaN  NaN  ...          1   \n",
       "1       488   2   2   2   2  NaN  NaN  NaN  NaN  NaN  ...          0   \n",
       "2       489   2   2   2   2  NaN  NaN  NaN  NaN  NaN  ...          1   \n",
       "3       492   2   2   2   2  NaN  NaN  NaN  NaN  NaN  ...          1   \n",
       "4       497   3   2   2   2  NaN  NaN  NaN  NaN  NaN  ...          0   \n",
       "..      ...  ..  ..  ..  ..  ...  ...  ...  ...  ...  ...        ...   \n",
       "131     716   1   1   1   1  1.0  1.0  1.0  1.0  1.0  ...          1   \n",
       "132     721   4   7   5   5  5.0  5.0  5.0  5.0  3.0  ...          1   \n",
       "133     722   6   5   5   4  4.0  6.0  6.0  6.0  6.0  ...          0   \n",
       "134     723   7   7   7   6  6.0  6.0  5.0  5.0  4.0  ...          0   \n",
       "135     724   7   7   7   4  4.0  7.0  NaN  NaN  NaN  ...          1   \n",
       "\n",
       "                                              prolific            timestart  \\\n",
       "0                            http://localhost/group11/  2024-06-14 16:57:47   \n",
       "1                            http://localhost/group11/  2024-06-14 17:04:36   \n",
       "2                            http://localhost/group11/  2024-06-14 17:17:38   \n",
       "3                            http://localhost/group11/  2024-06-14 17:19:24   \n",
       "4                                                  1.5  2024-06-15 20:56:12   \n",
       "..                                                 ...                  ...   \n",
       "131  https://recipe-study.wur.nl/group21_bookrecomm...  2024-06-22 21:18:03   \n",
       "132  https://recipe-study.wur.nl/group21_bookrecomm...  2024-06-23 01:38:36   \n",
       "133  https://recipe-study.wur.nl/group21_bookrecomm...  2024-06-23 15:17:58   \n",
       "134  https://recipe-study.wur.nl/group21_bookrecomm...  2024-06-23 16:17:09   \n",
       "135  https://recipe-study.wur.nl/group21_bookrecomm...  2024-06-23 23:47:10   \n",
       "\n",
       "     genre  consent  mancheck1  mancheck2  calibrationid  recommendationid  \\\n",
       "0      NaN      NaN        NaN        NaN            NaN               NaN   \n",
       "1      NaN      NaN        NaN        NaN            NaN               NaN   \n",
       "2      NaN      NaN        NaN        NaN            NaN               NaN   \n",
       "3      NaN      NaN        NaN        NaN            NaN               NaN   \n",
       "4      NaN      NaN        NaN        NaN            NaN               NaN   \n",
       "..     ...      ...        ...        ...            ...               ...   \n",
       "131    1.0      1.0        1.0        1.0          305.0             543.0   \n",
       "132    4.0      1.0        0.0        5.0         1914.0             414.0   \n",
       "133    2.0      1.0        0.0        2.0          929.0            2262.0   \n",
       "134    1.0      1.0        1.0        6.0          151.0             132.0   \n",
       "135    4.0      NaN        1.0        4.0         1295.0            1715.0   \n",
       "\n",
       "                            _merge  \n",
       "0    both in master and using data  \n",
       "1    both in master and using data  \n",
       "2    both in master and using data  \n",
       "3    both in master and using data  \n",
       "4    both in master and using data  \n",
       "..                             ...  \n",
       "131  both in master and using data  \n",
       "132  both in master and using data  \n",
       "133  both in master and using data  \n",
       "134  both in master and using data  \n",
       "135  both in master and using data  \n",
       "\n",
       "[136 rows x 57 columns]"
      ]
     },
     "execution_count": 9,
     "metadata": {},
     "output_type": "execute_result"
    }
   ],
   "source": [
    "df"
   ]
  },
  {
   "cell_type": "code",
   "execution_count": 10,
   "id": "0eebb4c8-d955-4760-965f-a4489752cfe6",
   "metadata": {},
   "outputs": [
    {
     "data": {
      "text/plain": [
       "'2024-06-23 23:47:10'"
      ]
     },
     "execution_count": 10,
     "metadata": {},
     "output_type": "execute_result"
    }
   ],
   "source": [
    "#last time the questionnaire was answered\n",
    "df[\"timestart\"].max()"
   ]
  },
  {
   "cell_type": "code",
   "execution_count": 11,
   "id": "92a0b775-0b7c-42cd-a63c-c9b0b59e3c7a",
   "metadata": {},
   "outputs": [
    {
     "data": {
      "text/plain": [
       "'2024-06-14 16:57:47'"
      ]
     },
     "execution_count": 11,
     "metadata": {},
     "output_type": "execute_result"
    }
   ],
   "source": [
    "#first time the questionnaire was answered\n",
    "df[\"timestart\"].min()"
   ]
  },
  {
   "cell_type": "code",
   "execution_count": 12,
   "id": "6c1e3791-5690-495f-9a7a-591f6b994e63",
   "metadata": {},
   "outputs": [],
   "source": [
    "#Convert the date\n",
    "df['timestart'] = pd.to_datetime(df['timestart'])"
   ]
  },
  {
   "cell_type": "code",
   "execution_count": 13,
   "id": "06a03ddd-d3ea-4bf3-92ac-40d5877b057a",
   "metadata": {},
   "outputs": [
    {
     "data": {
      "text/plain": [
       "0     2024-06-14 16:57:47\n",
       "1     2024-06-14 17:04:36\n",
       "2     2024-06-14 17:17:38\n",
       "3     2024-06-14 17:19:24\n",
       "4     2024-06-15 20:56:12\n",
       "              ...        \n",
       "131   2024-06-22 21:18:03\n",
       "132   2024-06-23 01:38:36\n",
       "133   2024-06-23 15:17:58\n",
       "134   2024-06-23 16:17:09\n",
       "135   2024-06-23 23:47:10\n",
       "Name: timestart, Length: 136, dtype: datetime64[ns]"
      ]
     },
     "execution_count": 13,
     "metadata": {},
     "output_type": "execute_result"
    }
   ],
   "source": [
    "df['timestart']"
   ]
  },
  {
   "cell_type": "code",
   "execution_count": 14,
   "id": "4786c173-5028-4822-985f-0e72e4c0905b",
   "metadata": {},
   "outputs": [],
   "source": [
    " # Filter data between two dates -> used this https://www.geeksforgeeks.org/how-to-filter-dataframe-rows-based-on-the-date-in-pandas/\n",
    "filtered_df = df.loc[(df['timestart'] >= '2024-06-21 14:00')\n",
    "                     & (df['timestart'] <= '2024-06-23 23:47:10')]"
   ]
  },
  {
   "cell_type": "code",
   "execution_count": 15,
   "id": "9f205861-01c0-4c8f-9448-dae75aca72f4",
   "metadata": {},
   "outputs": [
    {
     "data": {
      "text/html": [
       "<div>\n",
       "<style scoped>\n",
       "    .dataframe tbody tr th:only-of-type {\n",
       "        vertical-align: middle;\n",
       "    }\n",
       "\n",
       "    .dataframe tbody tr th {\n",
       "        vertical-align: top;\n",
       "    }\n",
       "\n",
       "    .dataframe thead th {\n",
       "        text-align: right;\n",
       "    }\n",
       "</style>\n",
       "<table border=\"1\" class=\"dataframe\">\n",
       "  <thead>\n",
       "    <tr style=\"text-align: right;\">\n",
       "      <th></th>\n",
       "      <th>userid</th>\n",
       "      <th>Q2</th>\n",
       "      <th>Q3</th>\n",
       "      <th>Q4</th>\n",
       "      <th>Q5</th>\n",
       "      <th>Q6</th>\n",
       "      <th>Q7</th>\n",
       "      <th>Q8</th>\n",
       "      <th>Q9</th>\n",
       "      <th>Q10</th>\n",
       "      <th>...</th>\n",
       "      <th>condition</th>\n",
       "      <th>prolific</th>\n",
       "      <th>timestart</th>\n",
       "      <th>genre</th>\n",
       "      <th>consent</th>\n",
       "      <th>mancheck1</th>\n",
       "      <th>mancheck2</th>\n",
       "      <th>calibrationid</th>\n",
       "      <th>recommendationid</th>\n",
       "      <th>_merge</th>\n",
       "    </tr>\n",
       "  </thead>\n",
       "  <tbody>\n",
       "    <tr>\n",
       "      <th>50</th>\n",
       "      <td>599</td>\n",
       "      <td>4</td>\n",
       "      <td>2</td>\n",
       "      <td>2</td>\n",
       "      <td>2</td>\n",
       "      <td>2.0</td>\n",
       "      <td>2.0</td>\n",
       "      <td>4.0</td>\n",
       "      <td>2.0</td>\n",
       "      <td>2.0</td>\n",
       "      <td>...</td>\n",
       "      <td>1</td>\n",
       "      <td>https://recipe-study.wur.nl/gr</td>\n",
       "      <td>2024-06-21 14:06:27</td>\n",
       "      <td>3.0</td>\n",
       "      <td>1.0</td>\n",
       "      <td>0.0</td>\n",
       "      <td>2.0</td>\n",
       "      <td>683.0</td>\n",
       "      <td>2017.0</td>\n",
       "      <td>both in master and using data</td>\n",
       "    </tr>\n",
       "    <tr>\n",
       "      <th>51</th>\n",
       "      <td>600</td>\n",
       "      <td>7</td>\n",
       "      <td>7</td>\n",
       "      <td>7</td>\n",
       "      <td>7</td>\n",
       "      <td>7.0</td>\n",
       "      <td>7.0</td>\n",
       "      <td>5.0</td>\n",
       "      <td>5.0</td>\n",
       "      <td>5.0</td>\n",
       "      <td>...</td>\n",
       "      <td>1</td>\n",
       "      <td>https://recipe-study.wur.nl/gr</td>\n",
       "      <td>2024-06-21 14:29:48</td>\n",
       "      <td>1.0</td>\n",
       "      <td>1.0</td>\n",
       "      <td>0.0</td>\n",
       "      <td>4.0</td>\n",
       "      <td>769.0</td>\n",
       "      <td>1841.0</td>\n",
       "      <td>both in master and using data</td>\n",
       "    </tr>\n",
       "    <tr>\n",
       "      <th>52</th>\n",
       "      <td>601</td>\n",
       "      <td>4</td>\n",
       "      <td>4</td>\n",
       "      <td>4</td>\n",
       "      <td>4</td>\n",
       "      <td>4.0</td>\n",
       "      <td>4.0</td>\n",
       "      <td>7.0</td>\n",
       "      <td>7.0</td>\n",
       "      <td>7.0</td>\n",
       "      <td>...</td>\n",
       "      <td>0</td>\n",
       "      <td>https://recipe-study.wur.nl/gr</td>\n",
       "      <td>2024-06-21 14:33:58</td>\n",
       "      <td>1.0</td>\n",
       "      <td>1.0</td>\n",
       "      <td>1.0</td>\n",
       "      <td>4.0</td>\n",
       "      <td>305.0</td>\n",
       "      <td>304.0</td>\n",
       "      <td>both in master and using data</td>\n",
       "    </tr>\n",
       "    <tr>\n",
       "      <th>53</th>\n",
       "      <td>602</td>\n",
       "      <td>6</td>\n",
       "      <td>7</td>\n",
       "      <td>6</td>\n",
       "      <td>5</td>\n",
       "      <td>5.0</td>\n",
       "      <td>7.0</td>\n",
       "      <td>7.0</td>\n",
       "      <td>4.0</td>\n",
       "      <td>5.0</td>\n",
       "      <td>...</td>\n",
       "      <td>1</td>\n",
       "      <td>https://recipe-study.wur.nl/gr</td>\n",
       "      <td>2024-06-21 14:35:16</td>\n",
       "      <td>1.0</td>\n",
       "      <td>1.0</td>\n",
       "      <td>1.0</td>\n",
       "      <td>4.0</td>\n",
       "      <td>417.0</td>\n",
       "      <td>418.0</td>\n",
       "      <td>both in master and using data</td>\n",
       "    </tr>\n",
       "    <tr>\n",
       "      <th>54</th>\n",
       "      <td>603</td>\n",
       "      <td>6</td>\n",
       "      <td>7</td>\n",
       "      <td>7</td>\n",
       "      <td>7</td>\n",
       "      <td>6.0</td>\n",
       "      <td>7.0</td>\n",
       "      <td>6.0</td>\n",
       "      <td>7.0</td>\n",
       "      <td>7.0</td>\n",
       "      <td>...</td>\n",
       "      <td>1</td>\n",
       "      <td>https://recipe-study.wur.nl/gr</td>\n",
       "      <td>2024-06-21 14:39:19</td>\n",
       "      <td>1.0</td>\n",
       "      <td>1.0</td>\n",
       "      <td>1.0</td>\n",
       "      <td>3.0</td>\n",
       "      <td>1277.0</td>\n",
       "      <td>1276.0</td>\n",
       "      <td>both in master and using data</td>\n",
       "    </tr>\n",
       "  </tbody>\n",
       "</table>\n",
       "<p>5 rows × 57 columns</p>\n",
       "</div>"
      ],
      "text/plain": [
       "    userid  Q2  Q3  Q4  Q5   Q6   Q7   Q8   Q9  Q10  ...  condition  \\\n",
       "50     599   4   2   2   2  2.0  2.0  4.0  2.0  2.0  ...          1   \n",
       "51     600   7   7   7   7  7.0  7.0  5.0  5.0  5.0  ...          1   \n",
       "52     601   4   4   4   4  4.0  4.0  7.0  7.0  7.0  ...          0   \n",
       "53     602   6   7   6   5  5.0  7.0  7.0  4.0  5.0  ...          1   \n",
       "54     603   6   7   7   7  6.0  7.0  6.0  7.0  7.0  ...          1   \n",
       "\n",
       "                          prolific           timestart  genre  consent  \\\n",
       "50  https://recipe-study.wur.nl/gr 2024-06-21 14:06:27    3.0      1.0   \n",
       "51  https://recipe-study.wur.nl/gr 2024-06-21 14:29:48    1.0      1.0   \n",
       "52  https://recipe-study.wur.nl/gr 2024-06-21 14:33:58    1.0      1.0   \n",
       "53  https://recipe-study.wur.nl/gr 2024-06-21 14:35:16    1.0      1.0   \n",
       "54  https://recipe-study.wur.nl/gr 2024-06-21 14:39:19    1.0      1.0   \n",
       "\n",
       "    mancheck1  mancheck2  calibrationid  recommendationid  \\\n",
       "50        0.0        2.0          683.0            2017.0   \n",
       "51        0.0        4.0          769.0            1841.0   \n",
       "52        1.0        4.0          305.0             304.0   \n",
       "53        1.0        4.0          417.0             418.0   \n",
       "54        1.0        3.0         1277.0            1276.0   \n",
       "\n",
       "                           _merge  \n",
       "50  both in master and using data  \n",
       "51  both in master and using data  \n",
       "52  both in master and using data  \n",
       "53  both in master and using data  \n",
       "54  both in master and using data  \n",
       "\n",
       "[5 rows x 57 columns]"
      ]
     },
     "execution_count": 15,
     "metadata": {},
     "output_type": "execute_result"
    }
   ],
   "source": [
    "filtered_df.head()"
   ]
  },
  {
   "cell_type": "code",
   "execution_count": 16,
   "id": "6c5e964b-a16e-4a56-b7ad-0b3aa218e960",
   "metadata": {},
   "outputs": [
    {
     "name": "stdout",
     "output_type": "stream",
     "text": [
      "Original df was (136, 57)\n",
      "Filtered df is (86, 57)\n"
     ]
    }
   ],
   "source": [
    "print(f'Original df was {df.shape}')\n",
    "print(f'Filtered df is {filtered_df.shape}')"
   ]
  },
  {
   "cell_type": "markdown",
   "id": "6f920de4-52e6-44b9-a881-96ac15062e04",
   "metadata": {},
   "source": [
    "In total we have had 86 responses to the survey during the data collection period."
   ]
  },
  {
   "cell_type": "code",
   "execution_count": 17,
   "id": "91e35356-73b3-44af-98cd-263a3eba3fe0",
   "metadata": {},
   "outputs": [
    {
     "name": "stdout",
     "output_type": "stream",
     "text": [
      "Removed 50 values from the original DF\n"
     ]
    }
   ],
   "source": [
    "print(f'Removed {len(df)-len(filtered_df)} values from the original DF')"
   ]
  },
  {
   "cell_type": "markdown",
   "id": "2a4530ef-27a3-4533-a20d-86b0c4011d79",
   "metadata": {},
   "source": [
    "50 were the test responses removed from the dataset"
   ]
  },
  {
   "cell_type": "markdown",
   "id": "70661202-206d-49e0-8c3f-9c9ae0d31025",
   "metadata": {},
   "source": [
    "## Removing Data based on Prolific"
   ]
  },
  {
   "cell_type": "code",
   "execution_count": 18,
   "id": "8beef308-9cff-4843-8d85-705a8a60a05f",
   "metadata": {},
   "outputs": [
    {
     "data": {
      "text/plain": [
       "prolific\n",
       "https://recipe-study.wur.nl/gr                          76\n",
       "https://recipe-study.wur.nl/group21_bookrecommender/     6\n",
       "fbclid=PAZXh0bgNhZW0CMTEAAab6i                           1\n",
       "fbclid=PAZXh0bgNhZW0CMTEAAabVk                           1\n",
       "fbclid=PAZXh0bgNhZW0CMTEAAaZaA                           1\n",
       "fbclid=PAZXh0bgNhZW0CMTEAAaY85                           1\n",
       "Name: count, dtype: int64"
      ]
     },
     "execution_count": 18,
     "metadata": {},
     "output_type": "execute_result"
    }
   ],
   "source": [
    "filtered_df['prolific'].value_counts()"
   ]
  },
  {
   "cell_type": "code",
   "execution_count": 19,
   "id": "a51b6edf-c9ac-4c6a-a8da-9bbf35b4d92d",
   "metadata": {},
   "outputs": [],
   "source": [
    "values_to_keep = ['https://recipe-study.wur.nl/gr']\n",
    "\n",
    "filtered_df2 = filtered_df[filtered_df['prolific'].isin(values_to_keep)]"
   ]
  },
  {
   "cell_type": "code",
   "execution_count": 20,
   "id": "1a71b656-bb72-4240-8462-5487f6221078",
   "metadata": {},
   "outputs": [
    {
     "data": {
      "text/plain": [
       "prolific\n",
       "https://recipe-study.wur.nl/gr    76\n",
       "Name: count, dtype: int64"
      ]
     },
     "execution_count": 20,
     "metadata": {},
     "output_type": "execute_result"
    }
   ],
   "source": [
    "filtered_df2['prolific'].value_counts()"
   ]
  },
  {
   "cell_type": "code",
   "execution_count": 21,
   "id": "ac78c089-2ec9-4fe2-9980-1381561df582",
   "metadata": {},
   "outputs": [
    {
     "data": {
      "text/plain": [
       "(76, 57)"
      ]
     },
     "execution_count": 21,
     "metadata": {},
     "output_type": "execute_result"
    }
   ],
   "source": [
    "filtered_df2.shape"
   ]
  },
  {
   "cell_type": "code",
   "execution_count": 22,
   "id": "1398a663-511b-4c8c-98c4-3b519ca00d2c",
   "metadata": {},
   "outputs": [
    {
     "name": "stdout",
     "output_type": "stream",
     "text": [
      "Original df was (86, 57)\n",
      "Filtered df is (76, 57)\n"
     ]
    }
   ],
   "source": [
    "print(f'Original df was {filtered_df.shape}')\n",
    "print(f'Filtered df is {filtered_df2.shape}')"
   ]
  },
  {
   "cell_type": "markdown",
   "id": "b7363a81-71ef-4eef-a9a0-5b22194fbfc2",
   "metadata": {},
   "source": [
    "## Dropping Nan Results"
   ]
  },
  {
   "cell_type": "code",
   "execution_count": 23,
   "id": "c7d8fdbb-1efa-4f75-a1ab-b667d47761d9",
   "metadata": {},
   "outputs": [],
   "source": [
    "filtered_df3=filtered_df2.dropna()"
   ]
  },
  {
   "cell_type": "code",
   "execution_count": 24,
   "id": "66ffc9c6-68d9-4e38-80e2-90c6a8bbbee9",
   "metadata": {},
   "outputs": [
    {
     "data": {
      "text/html": [
       "<div>\n",
       "<style scoped>\n",
       "    .dataframe tbody tr th:only-of-type {\n",
       "        vertical-align: middle;\n",
       "    }\n",
       "\n",
       "    .dataframe tbody tr th {\n",
       "        vertical-align: top;\n",
       "    }\n",
       "\n",
       "    .dataframe thead th {\n",
       "        text-align: right;\n",
       "    }\n",
       "</style>\n",
       "<table border=\"1\" class=\"dataframe\">\n",
       "  <thead>\n",
       "    <tr style=\"text-align: right;\">\n",
       "      <th></th>\n",
       "      <th>userid</th>\n",
       "      <th>Q2</th>\n",
       "      <th>Q3</th>\n",
       "      <th>Q4</th>\n",
       "      <th>Q5</th>\n",
       "      <th>Q6</th>\n",
       "      <th>Q7</th>\n",
       "      <th>Q8</th>\n",
       "      <th>Q9</th>\n",
       "      <th>Q10</th>\n",
       "      <th>...</th>\n",
       "      <th>condition</th>\n",
       "      <th>prolific</th>\n",
       "      <th>timestart</th>\n",
       "      <th>genre</th>\n",
       "      <th>consent</th>\n",
       "      <th>mancheck1</th>\n",
       "      <th>mancheck2</th>\n",
       "      <th>calibrationid</th>\n",
       "      <th>recommendationid</th>\n",
       "      <th>_merge</th>\n",
       "    </tr>\n",
       "  </thead>\n",
       "  <tbody>\n",
       "    <tr>\n",
       "      <th>50</th>\n",
       "      <td>599</td>\n",
       "      <td>4</td>\n",
       "      <td>2</td>\n",
       "      <td>2</td>\n",
       "      <td>2</td>\n",
       "      <td>2.0</td>\n",
       "      <td>2.0</td>\n",
       "      <td>4.0</td>\n",
       "      <td>2.0</td>\n",
       "      <td>2.0</td>\n",
       "      <td>...</td>\n",
       "      <td>1</td>\n",
       "      <td>https://recipe-study.wur.nl/gr</td>\n",
       "      <td>2024-06-21 14:06:27</td>\n",
       "      <td>3.0</td>\n",
       "      <td>1.0</td>\n",
       "      <td>0.0</td>\n",
       "      <td>2.0</td>\n",
       "      <td>683.0</td>\n",
       "      <td>2017.0</td>\n",
       "      <td>both in master and using data</td>\n",
       "    </tr>\n",
       "    <tr>\n",
       "      <th>51</th>\n",
       "      <td>600</td>\n",
       "      <td>7</td>\n",
       "      <td>7</td>\n",
       "      <td>7</td>\n",
       "      <td>7</td>\n",
       "      <td>7.0</td>\n",
       "      <td>7.0</td>\n",
       "      <td>5.0</td>\n",
       "      <td>5.0</td>\n",
       "      <td>5.0</td>\n",
       "      <td>...</td>\n",
       "      <td>1</td>\n",
       "      <td>https://recipe-study.wur.nl/gr</td>\n",
       "      <td>2024-06-21 14:29:48</td>\n",
       "      <td>1.0</td>\n",
       "      <td>1.0</td>\n",
       "      <td>0.0</td>\n",
       "      <td>4.0</td>\n",
       "      <td>769.0</td>\n",
       "      <td>1841.0</td>\n",
       "      <td>both in master and using data</td>\n",
       "    </tr>\n",
       "    <tr>\n",
       "      <th>52</th>\n",
       "      <td>601</td>\n",
       "      <td>4</td>\n",
       "      <td>4</td>\n",
       "      <td>4</td>\n",
       "      <td>4</td>\n",
       "      <td>4.0</td>\n",
       "      <td>4.0</td>\n",
       "      <td>7.0</td>\n",
       "      <td>7.0</td>\n",
       "      <td>7.0</td>\n",
       "      <td>...</td>\n",
       "      <td>0</td>\n",
       "      <td>https://recipe-study.wur.nl/gr</td>\n",
       "      <td>2024-06-21 14:33:58</td>\n",
       "      <td>1.0</td>\n",
       "      <td>1.0</td>\n",
       "      <td>1.0</td>\n",
       "      <td>4.0</td>\n",
       "      <td>305.0</td>\n",
       "      <td>304.0</td>\n",
       "      <td>both in master and using data</td>\n",
       "    </tr>\n",
       "    <tr>\n",
       "      <th>53</th>\n",
       "      <td>602</td>\n",
       "      <td>6</td>\n",
       "      <td>7</td>\n",
       "      <td>6</td>\n",
       "      <td>5</td>\n",
       "      <td>5.0</td>\n",
       "      <td>7.0</td>\n",
       "      <td>7.0</td>\n",
       "      <td>4.0</td>\n",
       "      <td>5.0</td>\n",
       "      <td>...</td>\n",
       "      <td>1</td>\n",
       "      <td>https://recipe-study.wur.nl/gr</td>\n",
       "      <td>2024-06-21 14:35:16</td>\n",
       "      <td>1.0</td>\n",
       "      <td>1.0</td>\n",
       "      <td>1.0</td>\n",
       "      <td>4.0</td>\n",
       "      <td>417.0</td>\n",
       "      <td>418.0</td>\n",
       "      <td>both in master and using data</td>\n",
       "    </tr>\n",
       "    <tr>\n",
       "      <th>54</th>\n",
       "      <td>603</td>\n",
       "      <td>6</td>\n",
       "      <td>7</td>\n",
       "      <td>7</td>\n",
       "      <td>7</td>\n",
       "      <td>6.0</td>\n",
       "      <td>7.0</td>\n",
       "      <td>6.0</td>\n",
       "      <td>7.0</td>\n",
       "      <td>7.0</td>\n",
       "      <td>...</td>\n",
       "      <td>1</td>\n",
       "      <td>https://recipe-study.wur.nl/gr</td>\n",
       "      <td>2024-06-21 14:39:19</td>\n",
       "      <td>1.0</td>\n",
       "      <td>1.0</td>\n",
       "      <td>1.0</td>\n",
       "      <td>3.0</td>\n",
       "      <td>1277.0</td>\n",
       "      <td>1276.0</td>\n",
       "      <td>both in master and using data</td>\n",
       "    </tr>\n",
       "  </tbody>\n",
       "</table>\n",
       "<p>5 rows × 57 columns</p>\n",
       "</div>"
      ],
      "text/plain": [
       "    userid  Q2  Q3  Q4  Q5   Q6   Q7   Q8   Q9  Q10  ...  condition  \\\n",
       "50     599   4   2   2   2  2.0  2.0  4.0  2.0  2.0  ...          1   \n",
       "51     600   7   7   7   7  7.0  7.0  5.0  5.0  5.0  ...          1   \n",
       "52     601   4   4   4   4  4.0  4.0  7.0  7.0  7.0  ...          0   \n",
       "53     602   6   7   6   5  5.0  7.0  7.0  4.0  5.0  ...          1   \n",
       "54     603   6   7   7   7  6.0  7.0  6.0  7.0  7.0  ...          1   \n",
       "\n",
       "                          prolific           timestart  genre  consent  \\\n",
       "50  https://recipe-study.wur.nl/gr 2024-06-21 14:06:27    3.0      1.0   \n",
       "51  https://recipe-study.wur.nl/gr 2024-06-21 14:29:48    1.0      1.0   \n",
       "52  https://recipe-study.wur.nl/gr 2024-06-21 14:33:58    1.0      1.0   \n",
       "53  https://recipe-study.wur.nl/gr 2024-06-21 14:35:16    1.0      1.0   \n",
       "54  https://recipe-study.wur.nl/gr 2024-06-21 14:39:19    1.0      1.0   \n",
       "\n",
       "    mancheck1  mancheck2  calibrationid  recommendationid  \\\n",
       "50        0.0        2.0          683.0            2017.0   \n",
       "51        0.0        4.0          769.0            1841.0   \n",
       "52        1.0        4.0          305.0             304.0   \n",
       "53        1.0        4.0          417.0             418.0   \n",
       "54        1.0        3.0         1277.0            1276.0   \n",
       "\n",
       "                           _merge  \n",
       "50  both in master and using data  \n",
       "51  both in master and using data  \n",
       "52  both in master and using data  \n",
       "53  both in master and using data  \n",
       "54  both in master and using data  \n",
       "\n",
       "[5 rows x 57 columns]"
      ]
     },
     "execution_count": 24,
     "metadata": {},
     "output_type": "execute_result"
    }
   ],
   "source": [
    "filtered_df3.head()"
   ]
  },
  {
   "cell_type": "code",
   "execution_count": 25,
   "id": "44eba0c9-91de-4e07-bf0d-091b59234c69",
   "metadata": {},
   "outputs": [
    {
     "data": {
      "text/plain": [
       "(66, 57)"
      ]
     },
     "execution_count": 25,
     "metadata": {},
     "output_type": "execute_result"
    }
   ],
   "source": [
    "filtered_df3.shape"
   ]
  },
  {
   "cell_type": "code",
   "execution_count": 26,
   "id": "8af41fe1-bc07-4a19-ba41-e058f3455e0c",
   "metadata": {},
   "outputs": [
    {
     "name": "stdout",
     "output_type": "stream",
     "text": [
      "Original df was (76, 57)\n",
      "Filtered df is (66, 57)\n"
     ]
    }
   ],
   "source": [
    "print(f'Original df was {filtered_df2.shape}')\n",
    "print(f'Filtered df is {filtered_df3.shape}')"
   ]
  },
  {
   "cell_type": "markdown",
   "id": "50d956fe-dc90-4733-8a5f-f451e6d67de5",
   "metadata": {},
   "source": [
    "## Renaming Columns"
   ]
  },
  {
   "cell_type": "code",
   "execution_count": 27,
   "id": "044e1b1a-7f5c-45b9-8794-dbad53db95fa",
   "metadata": {},
   "outputs": [
    {
     "name": "stderr",
     "output_type": "stream",
     "text": [
      "/var/folders/9x/2h_pbf8141dfvhnx_wh8pr940000gq/T/ipykernel_7918/2120619129.py:1: SettingWithCopyWarning: \n",
      "A value is trying to be set on a copy of a slice from a DataFrame\n",
      "\n",
      "See the caveats in the documentation: https://pandas.pydata.org/pandas-docs/stable/user_guide/indexing.html#returning-a-view-versus-a-copy\n",
      "  filtered_df3.rename(columns={'Q2': 'satisfaction_1', 'Q3': 'satisfaction_2', 'Q4': 'satisfaction_3', 'Q5': 'satisfaction_4', 'Q6': 'satisfaction_5', 'Q7': 'satisfaction_6'}, inplace=True)\n"
     ]
    }
   ],
   "source": [
    "filtered_df3.rename(columns={'Q2': 'satisfaction_1', 'Q3': 'satisfaction_2', 'Q4': 'satisfaction_3', 'Q5': 'satisfaction_4', 'Q6': 'satisfaction_5', 'Q7': 'satisfaction_6'}, inplace=True)"
   ]
  },
  {
   "cell_type": "code",
   "execution_count": 28,
   "id": "dddf54d7-cdea-4dbb-aa1b-6227ecae2aad",
   "metadata": {},
   "outputs": [
    {
     "name": "stderr",
     "output_type": "stream",
     "text": [
      "/var/folders/9x/2h_pbf8141dfvhnx_wh8pr940000gq/T/ipykernel_7918/1841839145.py:1: SettingWithCopyWarning: \n",
      "A value is trying to be set on a copy of a slice from a DataFrame\n",
      "\n",
      "See the caveats in the documentation: https://pandas.pydata.org/pandas-docs/stable/user_guide/indexing.html#returning-a-view-versus-a-copy\n",
      "  filtered_df3.rename(columns={'Q8': 'credibility_1', 'Q9': 'credibility_2', 'Q10': 'credibility_3', 'Q11': 'credibility_4', 'Q12': 'credibility_5', 'Q13': 'credibility_6', 'Q14': 'credibility_7', 'Q15': 'credibility_8', 'Q16': 'credibility_9', 'Q17': 'credibility_10', 'Q18': 'credibility_11', 'Q19': 'credibility_12'}, inplace=True)\n"
     ]
    }
   ],
   "source": [
    "filtered_df3.rename(columns={'Q8': 'credibility_1', 'Q9': 'credibility_2', 'Q10': 'credibility_3', 'Q11': 'credibility_4', 'Q12': 'credibility_5', 'Q13': 'credibility_6', 'Q14': 'credibility_7', 'Q15': 'credibility_8', 'Q16': 'credibility_9', 'Q17': 'credibility_10', 'Q18': 'credibility_11', 'Q19': 'credibility_12'}, inplace=True)"
   ]
  },
  {
   "cell_type": "code",
   "execution_count": 29,
   "id": "a60267d0-c941-45a9-9e37-b9baa2fcee00",
   "metadata": {},
   "outputs": [
    {
     "name": "stderr",
     "output_type": "stream",
     "text": [
      "/var/folders/9x/2h_pbf8141dfvhnx_wh8pr940000gq/T/ipykernel_7918/4024581968.py:1: SettingWithCopyWarning: \n",
      "A value is trying to be set on a copy of a slice from a DataFrame\n",
      "\n",
      "See the caveats in the documentation: https://pandas.pydata.org/pandas-docs/stable/user_guide/indexing.html#returning-a-view-versus-a-copy\n",
      "  filtered_df3.rename(columns={'Q20': 'motivation_1', 'Q21': 'motivation_2', 'Q22': 'motivation_3', 'Q23': 'motivation_4', 'Q24': 'motivation_5', 'Q25': 'motivation_6', 'Q26': 'motivation_7', 'Q27': 'motivation_8', 'Q28': 'motivation_9', 'Q29': 'motivation_10', 'Q30': 'motivation_11', 'Q31': 'motivation_12'}, inplace=True)\n"
     ]
    }
   ],
   "source": [
    "filtered_df3.rename(columns={'Q20': 'motivation_1', 'Q21': 'motivation_2', 'Q22': 'motivation_3', 'Q23': 'motivation_4', 'Q24': 'motivation_5', 'Q25': 'motivation_6', 'Q26': 'motivation_7', 'Q27': 'motivation_8', 'Q28': 'motivation_9', 'Q29': 'motivation_10', 'Q30': 'motivation_11', 'Q31': 'motivation_12'}, inplace=True)"
   ]
  },
  {
   "cell_type": "code",
   "execution_count": 30,
   "id": "fa45563e-823e-4bc7-b7dc-57d94a385417",
   "metadata": {},
   "outputs": [
    {
     "name": "stderr",
     "output_type": "stream",
     "text": [
      "/var/folders/9x/2h_pbf8141dfvhnx_wh8pr940000gq/T/ipykernel_7918/2626641718.py:1: SettingWithCopyWarning: \n",
      "A value is trying to be set on a copy of a slice from a DataFrame\n",
      "\n",
      "See the caveats in the documentation: https://pandas.pydata.org/pandas-docs/stable/user_guide/indexing.html#returning-a-view-versus-a-copy\n",
      "  filtered_df3.rename(columns={'Q32': 'anthropomorphism_1', 'Q33': 'anthropomorphism_2', 'Q34': 'anthropomorphism_3', 'Q35': 'anthropomorphism_4'}, inplace=True)\n"
     ]
    }
   ],
   "source": [
    "filtered_df3.rename(columns={'Q32': 'anthropomorphism_1', 'Q33': 'anthropomorphism_2', 'Q34': 'anthropomorphism_3', 'Q35': 'anthropomorphism_4'}, inplace=True)"
   ]
  },
  {
   "cell_type": "code",
   "execution_count": 31,
   "id": "f9793000-e202-45dd-87f8-fbbc7f69e682",
   "metadata": {},
   "outputs": [
    {
     "name": "stderr",
     "output_type": "stream",
     "text": [
      "/var/folders/9x/2h_pbf8141dfvhnx_wh8pr940000gq/T/ipykernel_7918/1940005018.py:1: SettingWithCopyWarning: \n",
      "A value is trying to be set on a copy of a slice from a DataFrame\n",
      "\n",
      "See the caveats in the documentation: https://pandas.pydata.org/pandas-docs/stable/user_guide/indexing.html#returning-a-view-versus-a-copy\n",
      "  filtered_df3.rename(columns={'Q36': 'control(reading_habits)', 'Q37': 'control(previous_experience_with_RS)'}, inplace=True)\n"
     ]
    }
   ],
   "source": [
    "filtered_df3.rename(columns={'Q36': 'control(reading_habits)', 'Q37': 'control(previous_experience_with_RS)'}, inplace=True)"
   ]
  },
  {
   "cell_type": "code",
   "execution_count": 32,
   "id": "43892dc0-8919-46c8-8952-5d1e33a6423a",
   "metadata": {},
   "outputs": [
    {
     "name": "stderr",
     "output_type": "stream",
     "text": [
      "/var/folders/9x/2h_pbf8141dfvhnx_wh8pr940000gq/T/ipykernel_7918/3687310035.py:1: SettingWithCopyWarning: \n",
      "A value is trying to be set on a copy of a slice from a DataFrame\n",
      "\n",
      "See the caveats in the documentation: https://pandas.pydata.org/pandas-docs/stable/user_guide/indexing.html#returning-a-view-versus-a-copy\n",
      "  filtered_df3.rename(columns={'Q38': 'conscientiousness_1', 'Q39': 'conscientiousness_2', 'Q40': 'conscientiousness_3', 'Q41': 'conscientiousness_4', 'Q42': 'conscientiousness_5'}, inplace=True)\n"
     ]
    }
   ],
   "source": [
    "filtered_df3.rename(columns={'Q38': 'conscientiousness_1', 'Q39': 'conscientiousness_2', 'Q40': 'conscientiousness_3', 'Q41': 'conscientiousness_4', 'Q42': 'conscientiousness_5'}, inplace=True)"
   ]
  },
  {
   "cell_type": "code",
   "execution_count": 33,
   "id": "3d8d93e7-314b-4284-954c-295167a7c8a8",
   "metadata": {},
   "outputs": [
    {
     "data": {
      "text/plain": [
       "Index(['userid', 'satisfaction_1', 'satisfaction_2', 'satisfaction_3',\n",
       "       'satisfaction_4', 'satisfaction_5', 'satisfaction_6', 'credibility_1',\n",
       "       'credibility_2', 'credibility_3', 'credibility_4', 'credibility_5',\n",
       "       'credibility_6', 'credibility_7', 'credibility_8', 'credibility_9',\n",
       "       'credibility_10', 'credibility_11', 'credibility_12', 'motivation_1',\n",
       "       'motivation_2', 'motivation_3', 'motivation_4', 'motivation_5',\n",
       "       'motivation_6', 'motivation_7', 'motivation_8', 'motivation_9',\n",
       "       'motivation_10', 'motivation_11', 'motivation_12', 'anthropomorphism_1',\n",
       "       'anthropomorphism_2', 'anthropomorphism_3', 'anthropomorphism_4',\n",
       "       'control(reading_habits)', 'control(previous_experience_with_RS)',\n",
       "       'conscientiousness_1', 'conscientiousness_2', 'conscientiousness_3',\n",
       "       'conscientiousness_4', 'conscientiousness_5', 'age', 'gender', 'device',\n",
       "       'education', 'time', 'condition', 'prolific', 'timestart', 'genre',\n",
       "       'consent', 'mancheck1', 'mancheck2', 'calibrationid',\n",
       "       'recommendationid', '_merge'],\n",
       "      dtype='object')"
      ]
     },
     "execution_count": 33,
     "metadata": {},
     "output_type": "execute_result"
    }
   ],
   "source": [
    "filtered_df3.columns"
   ]
  },
  {
   "cell_type": "markdown",
   "id": "2fc71612-c67a-430d-9c15-0fbd0877eb27",
   "metadata": {},
   "source": [
    "## Saving CSV"
   ]
  },
  {
   "cell_type": "code",
   "execution_count": 34,
   "id": "879c8700-9f25-42b4-aa03-fecfab705687",
   "metadata": {},
   "outputs": [],
   "source": [
    "filtered_df3.to_csv(\"results.csv\", index = False)"
   ]
  },
  {
   "cell_type": "markdown",
   "id": "023fc72c-8958-4d55-b4ba-ee779a4e8be0",
   "metadata": {},
   "source": [
    "## Removing those who did not consent and are under 18"
   ]
  },
  {
   "cell_type": "code",
   "execution_count": 35,
   "id": "ded43e6d-53a8-4dcc-9a66-ea32e2f116e2",
   "metadata": {},
   "outputs": [],
   "source": [
    "data = \"results.csv\"\n",
    "\n",
    "df = pd.read_csv(data)"
   ]
  },
  {
   "cell_type": "code",
   "execution_count": 36,
   "id": "e78bf53c-8f7d-4d2e-b03f-48172e88afcc",
   "metadata": {},
   "outputs": [],
   "source": [
    "df = df[(df[\"consent\"] == 1) & (df[\"age\"] >= 18)]"
   ]
  },
  {
   "cell_type": "code",
   "execution_count": 37,
   "id": "4579e0b5-641c-4531-a12c-80317741bb51",
   "metadata": {},
   "outputs": [
    {
     "data": {
      "text/plain": [
       "consent\n",
       "1.0    66\n",
       "Name: count, dtype: int64"
      ]
     },
     "execution_count": 37,
     "metadata": {},
     "output_type": "execute_result"
    }
   ],
   "source": [
    "df['consent'].value_counts()"
   ]
  },
  {
   "cell_type": "code",
   "execution_count": 38,
   "id": "a423c7b3-f9b4-4447-80b8-7b7b896aa148",
   "metadata": {},
   "outputs": [
    {
     "data": {
      "text/plain": [
       "count    66.000000\n",
       "mean     29.742424\n",
       "std      17.133243\n",
       "min      18.000000\n",
       "25%      20.000000\n",
       "50%      21.000000\n",
       "75%      26.750000\n",
       "max      74.000000\n",
       "Name: age, dtype: float64"
      ]
     },
     "execution_count": 38,
     "metadata": {},
     "output_type": "execute_result"
    }
   ],
   "source": [
    "df['age'].describe()"
   ]
  },
  {
   "cell_type": "code",
   "execution_count": 39,
   "id": "dc34cf77-056e-47ee-9311-584a6edfea58",
   "metadata": {},
   "outputs": [],
   "source": [
    "#saving those that consented, and are above 18 to a csv\n",
    "df.to_csv(\"filtered.csv\", index = False)"
   ]
  },
  {
   "cell_type": "markdown",
   "id": "14a1d479-5d5a-43cf-a13b-f14deb2a12b9",
   "metadata": {},
   "source": [
    "##  Removing -1 Results"
   ]
  },
  {
   "cell_type": "code",
   "execution_count": 40,
   "id": "2882b1d7-1f4d-4eea-8f5a-fe6f68d1914a",
   "metadata": {},
   "outputs": [],
   "source": [
    "df= df[df['mancheck1'] != -1]"
   ]
  },
  {
   "cell_type": "code",
   "execution_count": 41,
   "id": "13f1f599-fccc-4f4d-957a-765d6d13e628",
   "metadata": {},
   "outputs": [],
   "source": [
    "df.to_csv(\"filtered.csv\", index = False)"
   ]
  },
  {
   "cell_type": "markdown",
   "id": "7b20385d-83af-4dd2-a5a8-7ff516634c43",
   "metadata": {},
   "source": [
    "## Overview of the dataset and cleaning ##"
   ]
  },
  {
   "cell_type": "code",
   "execution_count": 42,
   "id": "5e8cfe9a-55a8-4132-9bee-93a62fa56de4",
   "metadata": {},
   "outputs": [],
   "source": [
    "#importing the csv\n",
    "df = pd.read_csv(\"filtered.csv\")"
   ]
  },
  {
   "cell_type": "code",
   "execution_count": 43,
   "id": "b2ac6ac3-9b8c-4434-87fd-8710bdc82c81",
   "metadata": {},
   "outputs": [
    {
     "data": {
      "text/plain": [
       "(65, 57)"
      ]
     },
     "execution_count": 43,
     "metadata": {},
     "output_type": "execute_result"
    }
   ],
   "source": [
    "df.shape"
   ]
  },
  {
   "cell_type": "code",
   "execution_count": 44,
   "id": "c8c326ec-fcb4-48a4-b280-5f3d1f892fda",
   "metadata": {
    "scrolled": true
   },
   "outputs": [
    {
     "data": {
      "text/plain": [
       "consent\n",
       "1.0    65\n",
       "Name: count, dtype: int64"
      ]
     },
     "execution_count": 44,
     "metadata": {},
     "output_type": "execute_result"
    }
   ],
   "source": [
    "df.consent.value_counts()"
   ]
  },
  {
   "cell_type": "markdown",
   "id": "831d3bb6-6bc5-4fbe-a1e2-2dc84aaf58af",
   "metadata": {},
   "source": [
    "65 people consented to participate in the study, were aged over 18 years old and replied to all questions"
   ]
  },
  {
   "cell_type": "markdown",
   "id": "bcbbc494-5b28-4784-9f24-ff7259edd960",
   "metadata": {},
   "source": [
    "## Demographics"
   ]
  },
  {
   "cell_type": "markdown",
   "id": "6921f4a1-3e7f-4db5-bcba-5b9c22303c7c",
   "metadata": {},
   "source": [
    "### variable: condition (delay or no delay)"
   ]
  },
  {
   "cell_type": "code",
   "execution_count": 45,
   "id": "1e1556a5-4113-4c83-b34a-79b2554ddc99",
   "metadata": {},
   "outputs": [
    {
     "data": {
      "text/plain": [
       "condition\n",
       "1    42\n",
       "0    23\n",
       "Name: count, dtype: int64"
      ]
     },
     "execution_count": 45,
     "metadata": {},
     "output_type": "execute_result"
    }
   ],
   "source": [
    "df['condition'].value_counts(sort=False)"
   ]
  },
  {
   "cell_type": "markdown",
   "id": "4398c3a7-9c68-4acc-abdf-9e6c945f103f",
   "metadata": {},
   "source": [
    "42 participants were randomly assigned to the delay condition, 23 to the no delay condition"
   ]
  },
  {
   "cell_type": "code",
   "execution_count": 46,
   "id": "65b2d7a2-6d44-490a-8efa-dbf147ed5136",
   "metadata": {
    "scrolled": true
   },
   "outputs": [
    {
     "data": {
      "text/plain": [
       "<Axes: xlabel='condition', ylabel='count'>"
      ]
     },
     "execution_count": 46,
     "metadata": {},
     "output_type": "execute_result"
    },
    {
     "data": {
      "image/png": "[encoded data removed]",
      "text/plain": [
       "<Figure size 640x480 with 1 Axes>"
      ]
     },
     "metadata": {},
     "output_type": "display_data"
    }
   ],
   "source": [
    "#visualization of the condition variable\n",
    "sns.countplot(x = 'condition', data=df)"
   ]
  },
  {
   "cell_type": "markdown",
   "id": "8ed7498f-7cfb-4aa9-8207-3409e35db229",
   "metadata": {},
   "source": [
    "### variable: gender"
   ]
  },
  {
   "cell_type": "code",
   "execution_count": 47,
   "id": "22c5784c-fc05-4142-b94d-ebc9b2b457de",
   "metadata": {},
   "outputs": [
    {
     "data": {
      "text/plain": [
       "gender\n",
       "2.0    17\n",
       "1.0    48\n",
       "Name: count, dtype: int64"
      ]
     },
     "execution_count": 47,
     "metadata": {},
     "output_type": "execute_result"
    }
   ],
   "source": [
    "df['gender'].value_counts(sort=False)"
   ]
  },
  {
   "cell_type": "code",
   "execution_count": 48,
   "id": "f2b41c20-9281-4c69-8b59-45e9a3032197",
   "metadata": {},
   "outputs": [
    {
     "data": {
      "text/plain": [
       "<Axes: xlabel='gender', ylabel='count'>"
      ]
     },
     "execution_count": 48,
     "metadata": {},
     "output_type": "execute_result"
    },
    {
     "data": {
      "image/png": "[encoded data removed]",
      "text/plain": [
       "<Figure size 640x480 with 1 Axes>"
      ]
     },
     "metadata": {},
     "output_type": "display_data"
    }
   ],
   "source": [
    "#visualization\n",
    "sns.countplot(x = 'gender', data=df)"
   ]
  },
  {
   "cell_type": "markdown",
   "id": "8db3cf44-2461-4842-97bb-32aeffd82fef",
   "metadata": {},
   "source": [
    "### variable: Age"
   ]
  },
  {
   "cell_type": "code",
   "execution_count": 49,
   "id": "45432fd2-82b6-4462-ba93-1756e8b23725",
   "metadata": {},
   "outputs": [
    {
     "data": {
      "text/plain": [
       "count    65.000000\n",
       "mean     29.200000\n",
       "std      16.685697\n",
       "min      18.000000\n",
       "25%      20.000000\n",
       "50%      21.000000\n",
       "75%      23.000000\n",
       "max      74.000000\n",
       "Name: age, dtype: float64"
      ]
     },
     "execution_count": 49,
     "metadata": {},
     "output_type": "execute_result"
    }
   ],
   "source": [
    "df['age'].describe()"
   ]
  },
  {
   "cell_type": "code",
   "execution_count": 50,
   "id": "9fd690f2-c8aa-4b9f-b18e-cf61dfceecbe",
   "metadata": {},
   "outputs": [
    {
     "data": {
      "text/plain": [
       "<Axes: xlabel='age', ylabel='Count'>"
      ]
     },
     "execution_count": 50,
     "metadata": {},
     "output_type": "execute_result"
    },
    {
     "data": {
      "image/png": "[encoded data removed]",
      "text/plain": [
       "<Figure size 640x480 with 1 Axes>"
      ]
     },
     "metadata": {},
     "output_type": "display_data"
    }
   ],
   "source": [
    "sns.histplot(x = 'age', data=df)"
   ]
  },
  {
   "cell_type": "markdown",
   "id": "16c6d47f-46fa-4abe-abba-8d2656790343",
   "metadata": {},
   "source": [
    "The histogram shows clearly how most participants were aged below 25 years old, even if the mean age is 29."
   ]
  },
  {
   "cell_type": "markdown",
   "id": "6842b9f9-95c4-46cf-a3b5-fa221be91708",
   "metadata": {},
   "source": [
    "### variable: education"
   ]
  },
  {
   "cell_type": "code",
   "execution_count": 51,
   "id": "9d51934b-66c8-457d-9e3a-da346c64bc12",
   "metadata": {},
   "outputs": [
    {
     "data": {
      "text/plain": [
       "education\n",
       "2.0    40\n",
       "4.0    14\n",
       "3.0     1\n",
       "5.0     9\n",
       "1.0     1\n",
       "Name: count, dtype: int64"
      ]
     },
     "execution_count": 51,
     "metadata": {},
     "output_type": "execute_result"
    }
   ],
   "source": [
    "df['education'].value_counts(sort=False)"
   ]
  },
  {
   "cell_type": "code",
   "execution_count": 52,
   "id": "e3e4ded4-6776-47c4-8da8-ab5df1a57a35",
   "metadata": {
    "scrolled": true
   },
   "outputs": [
    {
     "data": {
      "text/plain": [
       "<Axes: xlabel='education', ylabel='count'>"
      ]
     },
     "execution_count": 52,
     "metadata": {},
     "output_type": "execute_result"
    },
    {
     "data": {
      "image/png": "[encoded data removed]",
      "text/plain": [
       "<Figure size 640x480 with 1 Axes>"
      ]
     },
     "metadata": {},
     "output_type": "display_data"
    }
   ],
   "source": [
    "#visualization\n",
    "sns.countplot(x = 'education', data=df)"
   ]
  },
  {
   "cell_type": "markdown",
   "id": "ff79286c-7e69-46fd-b5ea-e1ae2eb886f8",
   "metadata": {},
   "source": [
    "Most participants replied 2, meaning that their highest level of education was highschool."
   ]
  },
  {
   "cell_type": "markdown",
   "id": "2079a4d8-6405-48ec-a98a-15d8277c1216",
   "metadata": {},
   "source": [
    "## Manipulation Check"
   ]
  },
  {
   "cell_type": "markdown",
   "id": "dc0b0979-57d8-4f91-8441-57e698727eae",
   "metadata": {},
   "source": [
    "### Manipulation check for the scale question (\"The recommender took time to generate results\", 1-7 likert scale)"
   ]
  },
  {
   "cell_type": "code",
   "execution_count": 53,
   "id": "fc2e7f05-0b49-4f07-8108-383bb79932b8",
   "metadata": {},
   "outputs": [
    {
     "data": {
      "text/plain": [
       "count    65.000000\n",
       "mean      3.953846\n",
       "std       1.874423\n",
       "min       1.000000\n",
       "25%       2.000000\n",
       "50%       4.000000\n",
       "75%       6.000000\n",
       "max       7.000000\n",
       "Name: mancheck2, dtype: float64"
      ]
     },
     "execution_count": 53,
     "metadata": {},
     "output_type": "execute_result"
    }
   ],
   "source": [
    "df['mancheck2'].describe()"
   ]
  },
  {
   "cell_type": "code",
   "execution_count": 54,
   "id": "190353ac-1678-42cf-bcff-7a4c5f0f7589",
   "metadata": {},
   "outputs": [
    {
     "name": "stdout",
     "output_type": "stream",
     "text": [
      "We compare 0 (M=3.65, SD=1.902) with 1 (M=4.12, SD=1.815), t(43.21900774469187)=-0.944, p=0.3506.\n"
     ]
    },
    {
     "data": {
      "text/html": [
       "<div>\n",
       "<style scoped>\n",
       "    .dataframe tbody tr th:only-of-type {\n",
       "        vertical-align: middle;\n",
       "    }\n",
       "\n",
       "    .dataframe tbody tr th {\n",
       "        vertical-align: top;\n",
       "    }\n",
       "\n",
       "    .dataframe thead th {\n",
       "        text-align: right;\n",
       "    }\n",
       "</style>\n",
       "<table border=\"1\" class=\"dataframe\">\n",
       "  <thead>\n",
       "    <tr style=\"text-align: right;\">\n",
       "      <th></th>\n",
       "      <th>T</th>\n",
       "      <th>dof</th>\n",
       "      <th>alternative</th>\n",
       "      <th>p-val</th>\n",
       "      <th>CI95%</th>\n",
       "      <th>cohen-d</th>\n",
       "      <th>BF10</th>\n",
       "      <th>power</th>\n",
       "    </tr>\n",
       "  </thead>\n",
       "  <tbody>\n",
       "    <tr>\n",
       "      <th>T-test</th>\n",
       "      <td>-0.943544</td>\n",
       "      <td>43.219008</td>\n",
       "      <td>two-sided</td>\n",
       "      <td>0.350648</td>\n",
       "      <td>[-1.46, 0.53]</td>\n",
       "      <td>0.248922</td>\n",
       "      <td>0.382</td>\n",
       "      <td>0.156906</td>\n",
       "    </tr>\n",
       "  </tbody>\n",
       "</table>\n",
       "</div>"
      ],
      "text/plain": [
       "               T        dof alternative     p-val          CI95%   cohen-d  \\\n",
       "T-test -0.943544  43.219008   two-sided  0.350648  [-1.46, 0.53]  0.248922   \n",
       "\n",
       "         BF10     power  \n",
       "T-test  0.382  0.156906  "
      ]
     },
     "execution_count": 54,
     "metadata": {},
     "output_type": "execute_result"
    }
   ],
   "source": [
    "(label1, values1), (label2, values2) = df.groupby('condition')['mancheck2']\n",
    "\n",
    "testresult = pg.ttest(values1, values2)\n",
    "\n",
    "print(f\"We compare {label1} (M={np.mean(values1):.2f}, SD={np.std(values1):.3f}) \"\n",
    "     f\"with {label2} (M={np.mean(values2):.2f}, SD={np.std(values2):.3f}), \"\n",
    "     f\"t({testresult.iloc[0,1]})={testresult.iloc[0,0]:.3f}, \"\n",
    "     f\"p={testresult.iloc[0,3]:.4f}.\")\n",
    "\n",
    "testresult"
   ]
  },
  {
   "cell_type": "markdown",
   "id": "8755dd43-fb82-4848-8886-1298b84c12b7",
   "metadata": {},
   "source": [
    "The manipulation check was not passed."
   ]
  },
  {
   "cell_type": "markdown",
   "id": "76a088e7-f60c-4e85-8eac-4030a25c73f2",
   "metadata": {},
   "source": [
    "### Manipulation check for yes-no question (\"There was a loading bar\")"
   ]
  },
  {
   "cell_type": "code",
   "execution_count": 55,
   "id": "9174e9d7-364d-46e3-8607-25ef816427d2",
   "metadata": {},
   "outputs": [
    {
     "data": {
      "text/plain": [
       "mancheck1\n",
       "1.0    46\n",
       "0.0    19\n",
       "Name: count, dtype: int64"
      ]
     },
     "execution_count": 55,
     "metadata": {},
     "output_type": "execute_result"
    }
   ],
   "source": [
    "df['mancheck1'].value_counts()"
   ]
  },
  {
   "cell_type": "code",
   "execution_count": 56,
   "id": "f334dac8-f9b4-4d2e-8369-bbdd2dfe8775",
   "metadata": {},
   "outputs": [
    {
     "data": {
      "text/html": [
       "<div>\n",
       "<style scoped>\n",
       "    .dataframe tbody tr th:only-of-type {\n",
       "        vertical-align: middle;\n",
       "    }\n",
       "\n",
       "    .dataframe tbody tr th {\n",
       "        vertical-align: top;\n",
       "    }\n",
       "\n",
       "    .dataframe thead th {\n",
       "        text-align: right;\n",
       "    }\n",
       "</style>\n",
       "<table border=\"1\" class=\"dataframe\">\n",
       "  <thead>\n",
       "    <tr style=\"text-align: right;\">\n",
       "      <th>condition</th>\n",
       "      <th>0</th>\n",
       "      <th>1</th>\n",
       "    </tr>\n",
       "    <tr>\n",
       "      <th>mancheck1</th>\n",
       "      <th></th>\n",
       "      <th></th>\n",
       "    </tr>\n",
       "  </thead>\n",
       "  <tbody>\n",
       "    <tr>\n",
       "      <th>0.0</th>\n",
       "      <td>11</td>\n",
       "      <td>8</td>\n",
       "    </tr>\n",
       "    <tr>\n",
       "      <th>1.0</th>\n",
       "      <td>12</td>\n",
       "      <td>34</td>\n",
       "    </tr>\n",
       "  </tbody>\n",
       "</table>\n",
       "</div>"
      ],
      "text/plain": [
       "condition   0   1\n",
       "mancheck1        \n",
       "0.0        11   8\n",
       "1.0        12  34"
      ]
     },
     "execution_count": 56,
     "metadata": {},
     "output_type": "execute_result"
    }
   ],
   "source": [
    "mycrosstab = pd.crosstab(df['mancheck1'], df['condition'])\n",
    "mycrosstab"
   ]
  },
  {
   "cell_type": "code",
   "execution_count": 57,
   "id": "76271972-d9cc-4afa-aa8a-4f989dde6331",
   "metadata": {
    "scrolled": true
   },
   "outputs": [
    {
     "name": "stdout",
     "output_type": "stream",
     "text": [
      "𝜒²(1) = 4.640, p = 0.031 \n",
      "V = 0.303\n"
     ]
    }
   ],
   "source": [
    "# and then get the chi2 test for that table\n",
    "c, p, dof, expected = contingency.chi2_contingency(mycrosstab)\n",
    "print(f\"𝜒²({dof:.0f}) = {c:.3f}, p = {p:.3f} \")\n",
    "\n",
    "# maybe Cramer's V as well?\n",
    "print(f\"V = {contingency.association(mycrosstab,method='cramer'):.3f}\")"
   ]
  },
  {
   "cell_type": "markdown",
   "id": "2b2f212c-d3de-49d5-bca8-61b1ea476185",
   "metadata": {},
   "source": [
    "The manipulation check was passed."
   ]
  },
  {
   "cell_type": "markdown",
   "id": "74166c19-813b-43b8-b11a-2a05da394eaa",
   "metadata": {},
   "source": [
    "## Constructing the scales needed for the DV and mediator"
   ]
  },
  {
   "cell_type": "markdown",
   "id": "edaea435-f5db-4a55-a1c5-058936367c3c",
   "metadata": {},
   "source": [
    "### DV: Satisfaction"
   ]
  },
  {
   "cell_type": "code",
   "execution_count": 58,
   "id": "629ae66a-89c6-49e2-af94-ee0e9274e550",
   "metadata": {},
   "outputs": [
    {
     "name": "stdout",
     "output_type": "stream",
     "text": [
      "399.98733503910046 6.959875111353427e-76\n",
      "0.8775137404282375\n"
     ]
    }
   ],
   "source": [
    "#factor analysis satisfaction\n",
    "items = df[[ 'satisfaction_1', 'satisfaction_2', 'satisfaction_3',\n",
    "       'satisfaction_4', 'satisfaction_5', 'satisfaction_6']]\n",
    "\n",
    "#CHECK ADEQUACY\n",
    "#Bartlett\n",
    "#p-value should be 0 (statistically sig.)\n",
    "chi_square_value,p_value=calculate_bartlett_sphericity(items)\n",
    "print(chi_square_value, p_value)\n",
    "\n",
    "#KMO\n",
    "#Value should be 0.6<\n",
    "kmo_all,kmo_model=calculate_kmo(items)\n",
    "print(kmo_model)"
   ]
  },
  {
   "cell_type": "markdown",
   "id": "142ffd07-470e-4211-81b1-53ff2e86346a",
   "metadata": {},
   "source": [
    "The p-value is very close to zero and the KMO measure is above the threshold of 0.6. This indicates that the sample is adequate for factor analysis."
   ]
  },
  {
   "cell_type": "code",
   "execution_count": 59,
   "id": "04382f82-98cf-4f99-85fb-06867e829b90",
   "metadata": {},
   "outputs": [
    {
     "name": "stderr",
     "output_type": "stream",
     "text": [
      "/Users/matilde/Library/jupyterlab-desktop/jlab_server/lib/python3.8/site-packages/factor_analyzer/factor_analyzer.py:663: UserWarning: No rotation will be performed when the number of factors equals 1.\n",
      "  warnings.warn(\n"
     ]
    },
    {
     "data": {
      "text/html": [
       "<style>#sk-container-id-1 {color: black;}#sk-container-id-1 pre{padding: 0;}#sk-container-id-1 div.sk-toggleable {background-color: white;}#sk-container-id-1 label.sk-toggleable__label {cursor: pointer;display: block;width: 100%;margin-bottom: 0;padding: 0.3em;box-sizing: border-box;text-align: center;}#sk-container-id-1 label.sk-toggleable__label-arrow:before {content: \"▸\";float: left;margin-right: 0.25em;color: #696969;}#sk-container-id-1 label.sk-toggleable__label-arrow:hover:before {color: black;}#sk-container-id-1 div.sk-estimator:hover label.sk-toggleable__label-arrow:before {color: black;}#sk-container-id-1 div.sk-toggleable__content {max-height: 0;max-width: 0;overflow: hidden;text-align: left;background-color: #f0f8ff;}#sk-container-id-1 div.sk-toggleable__content pre {margin: 0.2em;color: black;border-radius: 0.25em;background-color: #f0f8ff;}#sk-container-id-1 input.sk-toggleable__control:checked~div.sk-toggleable__content {max-height: 200px;max-width: 100%;overflow: auto;}#sk-container-id-1 input.sk-toggleable__control:checked~label.sk-toggleable__label-arrow:before {content: \"▾\";}#sk-container-id-1 div.sk-estimator input.sk-toggleable__control:checked~label.sk-toggleable__label {background-color: #d4ebff;}#sk-container-id-1 div.sk-label input.sk-toggleable__control:checked~label.sk-toggleable__label {background-color: #d4ebff;}#sk-container-id-1 input.sk-hidden--visually {border: 0;clip: rect(1px 1px 1px 1px);clip: rect(1px, 1px, 1px, 1px);height: 1px;margin: -1px;overflow: hidden;padding: 0;position: absolute;width: 1px;}#sk-container-id-1 div.sk-estimator {font-family: monospace;background-color: #f0f8ff;border: 1px dotted black;border-radius: 0.25em;box-sizing: border-box;margin-bottom: 0.5em;}#sk-container-id-1 div.sk-estimator:hover {background-color: #d4ebff;}#sk-container-id-1 div.sk-parallel-item::after {content: \"\";width: 100%;border-bottom: 1px solid gray;flex-grow: 1;}#sk-container-id-1 div.sk-label:hover label.sk-toggleable__label {background-color: #d4ebff;}#sk-container-id-1 div.sk-serial::before {content: \"\";position: absolute;border-left: 1px solid gray;box-sizing: border-box;top: 0;bottom: 0;left: 50%;z-index: 0;}#sk-container-id-1 div.sk-serial {display: flex;flex-direction: column;align-items: center;background-color: white;padding-right: 0.2em;padding-left: 0.2em;position: relative;}#sk-container-id-1 div.sk-item {position: relative;z-index: 1;}#sk-container-id-1 div.sk-parallel {display: flex;align-items: stretch;justify-content: center;background-color: white;position: relative;}#sk-container-id-1 div.sk-item::before, #sk-container-id-1 div.sk-parallel-item::before {content: \"\";position: absolute;border-left: 1px solid gray;box-sizing: border-box;top: 0;bottom: 0;left: 50%;z-index: -1;}#sk-container-id-1 div.sk-parallel-item {display: flex;flex-direction: column;z-index: 1;position: relative;background-color: white;}#sk-container-id-1 div.sk-parallel-item:first-child::after {align-self: flex-end;width: 50%;}#sk-container-id-1 div.sk-parallel-item:last-child::after {align-self: flex-start;width: 50%;}#sk-container-id-1 div.sk-parallel-item:only-child::after {width: 0;}#sk-container-id-1 div.sk-dashed-wrapped {border: 1px dashed gray;margin: 0 0.4em 0.5em 0.4em;box-sizing: border-box;padding-bottom: 0.4em;background-color: white;}#sk-container-id-1 div.sk-label label {font-family: monospace;font-weight: bold;display: inline-block;line-height: 1.2em;}#sk-container-id-1 div.sk-label-container {text-align: center;}#sk-container-id-1 div.sk-container {/* jupyter's `normalize.less` sets `[hidden] { display: none; }` but bootstrap.min.css set `[hidden] { display: none !important; }` so we also need the `!important` here to be able to override the default hidden behavior on the sphinx rendered scikit-learn.org. See: https://github.com/scikit-learn/scikit-learn/issues/21755 */display: inline-block !important;position: relative;}#sk-container-id-1 div.sk-text-repr-fallback {display: none;}</style><div id=\"sk-container-id-1\" class=\"sk-top-container\"><div class=\"sk-text-repr-fallback\"><pre>FactorAnalyzer(n_factors=1, rotation_kwargs={})</pre><b>In a Jupyter environment, please rerun this cell to show the HTML representation or trust the notebook. <br />On GitHub, the HTML representation is unable to render, please try loading this page with nbviewer.org.</b></div><div class=\"sk-container\" hidden><div class=\"sk-item\"><div class=\"sk-estimator sk-toggleable\"><input class=\"sk-toggleable__control sk-hidden--visually\" id=\"sk-estimator-id-1\" type=\"checkbox\" checked><label for=\"sk-estimator-id-1\" class=\"sk-toggleable__label sk-toggleable__label-arrow\">FactorAnalyzer</label><div class=\"sk-toggleable__content\"><pre>FactorAnalyzer(n_factors=1, rotation_kwargs={})</pre></div></div></div></div></div>"
      ],
      "text/plain": [
       "FactorAnalyzer(n_factors=1, rotation_kwargs={})"
      ]
     },
     "execution_count": 59,
     "metadata": {},
     "output_type": "execute_result"
    }
   ],
   "source": [
    "# performing the factor analysis using the FactorAnalyzer class. Extracting 1 factor\n",
    "fa = FactorAnalyzer(n_factors = 1)\n",
    "\n",
    "# fit the factor analysis model to your data\n",
    "fa.fit(df[['satisfaction_1', 'satisfaction_2', 'satisfaction_3',\n",
    "       'satisfaction_4', 'satisfaction_5', 'satisfaction_6']])"
   ]
  },
  {
   "cell_type": "code",
   "execution_count": 60,
   "id": "00098b04-b71b-44a2-bd88-89710f18d4be",
   "metadata": {},
   "outputs": [
    {
     "data": {
      "text/plain": [
       "array([[-0.8232612 ],\n",
       "       [-0.86142981],\n",
       "       [-0.92122235],\n",
       "       [-0.85951818],\n",
       "       [-0.88618287],\n",
       "       [-0.91419831]])"
      ]
     },
     "execution_count": 60,
     "metadata": {},
     "output_type": "execute_result"
    }
   ],
   "source": [
    "# Get the factor loadings\n",
    "loadings = fa.loadings_\n",
    "\n",
    "loadings"
   ]
  },
  {
   "cell_type": "code",
   "execution_count": 61,
   "id": "88d0be17-a8a9-4229-b084-1b504b7701c4",
   "metadata": {},
   "outputs": [
    {
     "data": {
      "text/plain": [
       "array([0.677759  , 0.74206132, 0.84865062, 0.7387715 , 0.78532007,\n",
       "       0.83575856])"
      ]
     },
     "execution_count": 61,
     "metadata": {},
     "output_type": "execute_result"
    }
   ],
   "source": [
    "# Get the communalities\n",
    "communalities = fa.get_communalities()\n",
    "\n",
    "communalities"
   ]
  },
  {
   "cell_type": "code",
   "execution_count": 62,
   "id": "ec4789b8-9af1-4302-9180-d38ef09eb143",
   "metadata": {},
   "outputs": [
    {
     "data": {
      "text/plain": [
       "array([[ 4.85,  0.48,  0.23,  0.18,  0.15,  0.09],\n",
       "       [ 4.63,  0.22,  0.02, -0.02, -0.07, -0.15]])"
      ]
     },
     "execution_count": 62,
     "metadata": {},
     "output_type": "execute_result"
    }
   ],
   "source": [
    "# Get the eigenvalues\n",
    "\n",
    "eigenvalues = fa.get_eigenvalues()\n",
    "\n",
    "np.round(eigenvalues, decimals = 2)"
   ]
  },
  {
   "cell_type": "code",
   "execution_count": 63,
   "id": "77ba4328-f24a-477c-ae8f-349a1a266133",
   "metadata": {},
   "outputs": [
    {
     "data": {
      "text/plain": [
       "(array([4.62832107]), array([0.77138684]), array([0.77138684]))"
      ]
     },
     "execution_count": 63,
     "metadata": {},
     "output_type": "execute_result"
    }
   ],
   "source": [
    "# Get the variance explained by each factor;  \n",
    "\n",
    "variance_explained = fa.get_factor_variance()\n",
    "\n",
    "variance_explained"
   ]
  },
  {
   "cell_type": "code",
   "execution_count": 64,
   "id": "0503106f-89e4-43ab-b6a0-1571120fd3e8",
   "metadata": {},
   "outputs": [
    {
     "data": {
      "text/plain": [
       "(0.951866315985229, array([0.931, 0.968]))"
      ]
     },
     "execution_count": 64,
     "metadata": {},
     "output_type": "execute_result"
    }
   ],
   "source": [
    "# Calculate the initial Cronbach's alpha\n",
    "pg.cronbach_alpha(items)"
   ]
  },
  {
   "cell_type": "markdown",
   "id": "0196efe9-67a5-4828-8b69-9c5b2a8d1879",
   "metadata": {},
   "source": [
    "The Cronbachs' alpha is high. "
   ]
  },
  {
   "cell_type": "code",
   "execution_count": 65,
   "id": "4d395f44-6ade-497e-aca2-8b35cbd5490d",
   "metadata": {},
   "outputs": [
    {
     "name": "stdout",
     "output_type": "stream",
     "text": [
      "Item removed: satisfaction_1\n",
      "Cronbach's alpha: (0.9484138048076807, array([0.926, 0.966]))\n",
      "\n",
      "Item removed: satisfaction_2\n",
      "Cronbach's alpha: (0.944693844785852, array([0.92 , 0.963]))\n",
      "\n",
      "Item removed: satisfaction_3\n",
      "Cronbach's alpha: (0.9377523772306893, array([0.91 , 0.959]))\n",
      "\n",
      "Item removed: satisfaction_4\n",
      "Cronbach's alpha: (0.9442131902036031, array([0.919, 0.963]))\n",
      "\n",
      "Item removed: satisfaction_5\n",
      "Cronbach's alpha: (0.9419299912885088, array([0.916, 0.962]))\n",
      "\n",
      "Item removed: satisfaction_6\n",
      "Cronbach's alpha: (0.9393453503374355, array([0.912, 0.96 ]))\n",
      "\n"
     ]
    }
   ],
   "source": [
    "# calculate the alpha value without each item\n",
    "alpha_deleted_items = []\n",
    "for item in items.columns:\n",
    "    reduced_data = items.drop(item, axis=1)\n",
    "    alpha = pg.cronbach_alpha(reduced_data)\n",
    "    alpha_deleted_items.append((item, alpha))\n",
    "\n",
    "for item, alpha in alpha_deleted_items:\n",
    "    print(\"Item removed:\", item)\n",
    "    print(\"Cronbach's alpha:\", alpha)\n",
    "    print()"
   ]
  },
  {
   "cell_type": "markdown",
   "id": "e63ae51f-5952-42ac-80bc-05623fcc5e9f",
   "metadata": {},
   "source": [
    "As the Cronbach's alpha is already high, it was decided to maintain all items for computing the meanscale."
   ]
  },
  {
   "cell_type": "code",
   "execution_count": 66,
   "id": "e75e3232-b11b-48a7-b92b-1c7a019517fb",
   "metadata": {},
   "outputs": [],
   "source": [
    "#mean scale satisfaction\n",
    "df['satisfaction'] = df[['satisfaction_1', 'satisfaction_2', 'satisfaction_3',\n",
    "       'satisfaction_4', 'satisfaction_5', 'satisfaction_6']].mean(axis=1)   # of course, only select those you're interested in"
   ]
  },
  {
   "cell_type": "code",
   "execution_count": 67,
   "id": "d28911b5-da6f-4252-8cc3-215451865cbd",
   "metadata": {},
   "outputs": [
    {
     "data": {
      "text/html": [
       "<div>\n",
       "<style scoped>\n",
       "    .dataframe tbody tr th:only-of-type {\n",
       "        vertical-align: middle;\n",
       "    }\n",
       "\n",
       "    .dataframe tbody tr th {\n",
       "        vertical-align: top;\n",
       "    }\n",
       "\n",
       "    .dataframe thead th {\n",
       "        text-align: right;\n",
       "    }\n",
       "</style>\n",
       "<table border=\"1\" class=\"dataframe\">\n",
       "  <thead>\n",
       "    <tr style=\"text-align: right;\">\n",
       "      <th></th>\n",
       "      <th>userid</th>\n",
       "      <th>satisfaction_1</th>\n",
       "      <th>satisfaction_2</th>\n",
       "      <th>satisfaction_3</th>\n",
       "      <th>satisfaction_4</th>\n",
       "      <th>satisfaction_5</th>\n",
       "      <th>satisfaction_6</th>\n",
       "      <th>credibility_1</th>\n",
       "      <th>credibility_2</th>\n",
       "      <th>credibility_3</th>\n",
       "      <th>...</th>\n",
       "      <th>prolific</th>\n",
       "      <th>timestart</th>\n",
       "      <th>genre</th>\n",
       "      <th>consent</th>\n",
       "      <th>mancheck1</th>\n",
       "      <th>mancheck2</th>\n",
       "      <th>calibrationid</th>\n",
       "      <th>recommendationid</th>\n",
       "      <th>_merge</th>\n",
       "      <th>satisfaction</th>\n",
       "    </tr>\n",
       "  </thead>\n",
       "  <tbody>\n",
       "    <tr>\n",
       "      <th>0</th>\n",
       "      <td>599</td>\n",
       "      <td>4</td>\n",
       "      <td>2</td>\n",
       "      <td>2</td>\n",
       "      <td>2</td>\n",
       "      <td>2.0</td>\n",
       "      <td>2.0</td>\n",
       "      <td>4.0</td>\n",
       "      <td>2.0</td>\n",
       "      <td>2.0</td>\n",
       "      <td>...</td>\n",
       "      <td>https://recipe-study.wur.nl/gr</td>\n",
       "      <td>2024-06-21 14:06:27</td>\n",
       "      <td>3.0</td>\n",
       "      <td>1.0</td>\n",
       "      <td>0.0</td>\n",
       "      <td>2.0</td>\n",
       "      <td>683.0</td>\n",
       "      <td>2017.0</td>\n",
       "      <td>both in master and using data</td>\n",
       "      <td>2.333333</td>\n",
       "    </tr>\n",
       "    <tr>\n",
       "      <th>1</th>\n",
       "      <td>600</td>\n",
       "      <td>7</td>\n",
       "      <td>7</td>\n",
       "      <td>7</td>\n",
       "      <td>7</td>\n",
       "      <td>7.0</td>\n",
       "      <td>7.0</td>\n",
       "      <td>5.0</td>\n",
       "      <td>5.0</td>\n",
       "      <td>5.0</td>\n",
       "      <td>...</td>\n",
       "      <td>https://recipe-study.wur.nl/gr</td>\n",
       "      <td>2024-06-21 14:29:48</td>\n",
       "      <td>1.0</td>\n",
       "      <td>1.0</td>\n",
       "      <td>0.0</td>\n",
       "      <td>4.0</td>\n",
       "      <td>769.0</td>\n",
       "      <td>1841.0</td>\n",
       "      <td>both in master and using data</td>\n",
       "      <td>7.000000</td>\n",
       "    </tr>\n",
       "    <tr>\n",
       "      <th>2</th>\n",
       "      <td>601</td>\n",
       "      <td>4</td>\n",
       "      <td>4</td>\n",
       "      <td>4</td>\n",
       "      <td>4</td>\n",
       "      <td>4.0</td>\n",
       "      <td>4.0</td>\n",
       "      <td>7.0</td>\n",
       "      <td>7.0</td>\n",
       "      <td>7.0</td>\n",
       "      <td>...</td>\n",
       "      <td>https://recipe-study.wur.nl/gr</td>\n",
       "      <td>2024-06-21 14:33:58</td>\n",
       "      <td>1.0</td>\n",
       "      <td>1.0</td>\n",
       "      <td>1.0</td>\n",
       "      <td>4.0</td>\n",
       "      <td>305.0</td>\n",
       "      <td>304.0</td>\n",
       "      <td>both in master and using data</td>\n",
       "      <td>4.000000</td>\n",
       "    </tr>\n",
       "    <tr>\n",
       "      <th>3</th>\n",
       "      <td>602</td>\n",
       "      <td>6</td>\n",
       "      <td>7</td>\n",
       "      <td>6</td>\n",
       "      <td>5</td>\n",
       "      <td>5.0</td>\n",
       "      <td>7.0</td>\n",
       "      <td>7.0</td>\n",
       "      <td>4.0</td>\n",
       "      <td>5.0</td>\n",
       "      <td>...</td>\n",
       "      <td>https://recipe-study.wur.nl/gr</td>\n",
       "      <td>2024-06-21 14:35:16</td>\n",
       "      <td>1.0</td>\n",
       "      <td>1.0</td>\n",
       "      <td>1.0</td>\n",
       "      <td>4.0</td>\n",
       "      <td>417.0</td>\n",
       "      <td>418.0</td>\n",
       "      <td>both in master and using data</td>\n",
       "      <td>6.000000</td>\n",
       "    </tr>\n",
       "    <tr>\n",
       "      <th>4</th>\n",
       "      <td>603</td>\n",
       "      <td>6</td>\n",
       "      <td>7</td>\n",
       "      <td>7</td>\n",
       "      <td>7</td>\n",
       "      <td>6.0</td>\n",
       "      <td>7.0</td>\n",
       "      <td>6.0</td>\n",
       "      <td>7.0</td>\n",
       "      <td>7.0</td>\n",
       "      <td>...</td>\n",
       "      <td>https://recipe-study.wur.nl/gr</td>\n",
       "      <td>2024-06-21 14:39:19</td>\n",
       "      <td>1.0</td>\n",
       "      <td>1.0</td>\n",
       "      <td>1.0</td>\n",
       "      <td>3.0</td>\n",
       "      <td>1277.0</td>\n",
       "      <td>1276.0</td>\n",
       "      <td>both in master and using data</td>\n",
       "      <td>6.666667</td>\n",
       "    </tr>\n",
       "  </tbody>\n",
       "</table>\n",
       "<p>5 rows × 58 columns</p>\n",
       "</div>"
      ],
      "text/plain": [
       "   userid  satisfaction_1  satisfaction_2  satisfaction_3  satisfaction_4  \\\n",
       "0     599               4               2               2               2   \n",
       "1     600               7               7               7               7   \n",
       "2     601               4               4               4               4   \n",
       "3     602               6               7               6               5   \n",
       "4     603               6               7               7               7   \n",
       "\n",
       "   satisfaction_5  satisfaction_6  credibility_1  credibility_2  \\\n",
       "0             2.0             2.0            4.0            2.0   \n",
       "1             7.0             7.0            5.0            5.0   \n",
       "2             4.0             4.0            7.0            7.0   \n",
       "3             5.0             7.0            7.0            4.0   \n",
       "4             6.0             7.0            6.0            7.0   \n",
       "\n",
       "   credibility_3  ...                        prolific            timestart  \\\n",
       "0            2.0  ...  https://recipe-study.wur.nl/gr  2024-06-21 14:06:27   \n",
       "1            5.0  ...  https://recipe-study.wur.nl/gr  2024-06-21 14:29:48   \n",
       "2            7.0  ...  https://recipe-study.wur.nl/gr  2024-06-21 14:33:58   \n",
       "3            5.0  ...  https://recipe-study.wur.nl/gr  2024-06-21 14:35:16   \n",
       "4            7.0  ...  https://recipe-study.wur.nl/gr  2024-06-21 14:39:19   \n",
       "\n",
       "   genre  consent  mancheck1  mancheck2  calibrationid  recommendationid  \\\n",
       "0    3.0      1.0        0.0        2.0          683.0            2017.0   \n",
       "1    1.0      1.0        0.0        4.0          769.0            1841.0   \n",
       "2    1.0      1.0        1.0        4.0          305.0             304.0   \n",
       "3    1.0      1.0        1.0        4.0          417.0             418.0   \n",
       "4    1.0      1.0        1.0        3.0         1277.0            1276.0   \n",
       "\n",
       "                          _merge  satisfaction  \n",
       "0  both in master and using data      2.333333  \n",
       "1  both in master and using data      7.000000  \n",
       "2  both in master and using data      4.000000  \n",
       "3  both in master and using data      6.000000  \n",
       "4  both in master and using data      6.666667  \n",
       "\n",
       "[5 rows x 58 columns]"
      ]
     },
     "execution_count": 67,
     "metadata": {},
     "output_type": "execute_result"
    }
   ],
   "source": [
    "df.head()"
   ]
  },
  {
   "cell_type": "code",
   "execution_count": 68,
   "id": "8596281e-d87d-46cd-8020-097201b8cd0c",
   "metadata": {},
   "outputs": [
    {
     "data": {
      "text/plain": [
       "count    65.000000\n",
       "mean      5.710256\n",
       "std       1.228028\n",
       "min       1.000000\n",
       "25%       5.166667\n",
       "50%       6.000000\n",
       "75%       6.666667\n",
       "max       7.000000\n",
       "Name: satisfaction, dtype: float64"
      ]
     },
     "execution_count": 68,
     "metadata": {},
     "output_type": "execute_result"
    }
   ],
   "source": [
    "df.satisfaction.describe()"
   ]
  },
  {
   "cell_type": "markdown",
   "id": "7f3548df-34c5-4230-90d9-4e20bd05d54c",
   "metadata": {},
   "source": [
    "Participants scored on average 5.71 , meaning that their satisfaction is higher than the scale mid-point."
   ]
  },
  {
   "cell_type": "code",
   "execution_count": 69,
   "id": "9e580140-108b-4bec-8bbb-056e029adab3",
   "metadata": {},
   "outputs": [
    {
     "data": {
      "text/plain": [
       "<Axes: xlabel='satisfaction', ylabel='Count'>"
      ]
     },
     "execution_count": 69,
     "metadata": {},
     "output_type": "execute_result"
    },
    {
     "data": {
      "image/png": "[encoded data removed]",
      "text/plain": [
       "<Figure size 640x480 with 1 Axes>"
      ]
     },
     "metadata": {},
     "output_type": "display_data"
    }
   ],
   "source": [
    "sns.histplot(x = 'satisfaction', data=df)"
   ]
  },
  {
   "cell_type": "markdown",
   "id": "8a7b5775-421f-4608-a382-e1e51f63dd06",
   "metadata": {},
   "source": [
    "### Mediator: Trust"
   ]
  },
  {
   "cell_type": "code",
   "execution_count": 70,
   "id": "bdbe067e-57d8-429f-81d1-e36ce94b7cd6",
   "metadata": {
    "scrolled": true
   },
   "outputs": [
    {
     "name": "stdout",
     "output_type": "stream",
     "text": [
      "195.46522093864286 2.8196728061025052e-30\n",
      "0.7801584680614011\n"
     ]
    }
   ],
   "source": [
    "items2 = df[['credibility_6', 'credibility_7', 'credibility_8', 'credibility_9',\n",
    "       'credibility_10', 'credibility_11', 'credibility_12']]\n",
    "\n",
    "#CHECK ADEQUACY\n",
    "#Bartlett\n",
    "#p-value should be 0 (statistically sig.)\n",
    "chi_square_value,p_value=calculate_bartlett_sphericity(items2)\n",
    "print(chi_square_value, p_value)\n",
    "\n",
    "#KMO\n",
    "#Value should be 0.6<\n",
    "kmo_all,kmo_model=calculate_kmo(items2)\n",
    "print(kmo_model)"
   ]
  },
  {
   "cell_type": "markdown",
   "id": "14a825c3-c4bc-4764-a0cc-acf985cf5a90",
   "metadata": {},
   "source": [
    "The p-value is extremely small and the KMO value is well above the threshold of 0.6, indicating that the sample is adequate for factor analysis."
   ]
  },
  {
   "cell_type": "code",
   "execution_count": 71,
   "id": "2d032a6b-1fd9-4aa6-bacb-8fa692396b1a",
   "metadata": {},
   "outputs": [
    {
     "name": "stderr",
     "output_type": "stream",
     "text": [
      "/Users/matilde/Library/jupyterlab-desktop/jlab_server/lib/python3.8/site-packages/factor_analyzer/factor_analyzer.py:663: UserWarning: No rotation will be performed when the number of factors equals 1.\n",
      "  warnings.warn(\n"
     ]
    },
    {
     "data": {
      "text/html": [
       "<style>#sk-container-id-2 {color: black;}#sk-container-id-2 pre{padding: 0;}#sk-container-id-2 div.sk-toggleable {background-color: white;}#sk-container-id-2 label.sk-toggleable__label {cursor: pointer;display: block;width: 100%;margin-bottom: 0;padding: 0.3em;box-sizing: border-box;text-align: center;}#sk-container-id-2 label.sk-toggleable__label-arrow:before {content: \"▸\";float: left;margin-right: 0.25em;color: #696969;}#sk-container-id-2 label.sk-toggleable__label-arrow:hover:before {color: black;}#sk-container-id-2 div.sk-estimator:hover label.sk-toggleable__label-arrow:before {color: black;}#sk-container-id-2 div.sk-toggleable__content {max-height: 0;max-width: 0;overflow: hidden;text-align: left;background-color: #f0f8ff;}#sk-container-id-2 div.sk-toggleable__content pre {margin: 0.2em;color: black;border-radius: 0.25em;background-color: #f0f8ff;}#sk-container-id-2 input.sk-toggleable__control:checked~div.sk-toggleable__content {max-height: 200px;max-width: 100%;overflow: auto;}#sk-container-id-2 input.sk-toggleable__control:checked~label.sk-toggleable__label-arrow:before {content: \"▾\";}#sk-container-id-2 div.sk-estimator input.sk-toggleable__control:checked~label.sk-toggleable__label {background-color: #d4ebff;}#sk-container-id-2 div.sk-label input.sk-toggleable__control:checked~label.sk-toggleable__label {background-color: #d4ebff;}#sk-container-id-2 input.sk-hidden--visually {border: 0;clip: rect(1px 1px 1px 1px);clip: rect(1px, 1px, 1px, 1px);height: 1px;margin: -1px;overflow: hidden;padding: 0;position: absolute;width: 1px;}#sk-container-id-2 div.sk-estimator {font-family: monospace;background-color: #f0f8ff;border: 1px dotted black;border-radius: 0.25em;box-sizing: border-box;margin-bottom: 0.5em;}#sk-container-id-2 div.sk-estimator:hover {background-color: #d4ebff;}#sk-container-id-2 div.sk-parallel-item::after {content: \"\";width: 100%;border-bottom: 1px solid gray;flex-grow: 1;}#sk-container-id-2 div.sk-label:hover label.sk-toggleable__label {background-color: #d4ebff;}#sk-container-id-2 div.sk-serial::before {content: \"\";position: absolute;border-left: 1px solid gray;box-sizing: border-box;top: 0;bottom: 0;left: 50%;z-index: 0;}#sk-container-id-2 div.sk-serial {display: flex;flex-direction: column;align-items: center;background-color: white;padding-right: 0.2em;padding-left: 0.2em;position: relative;}#sk-container-id-2 div.sk-item {position: relative;z-index: 1;}#sk-container-id-2 div.sk-parallel {display: flex;align-items: stretch;justify-content: center;background-color: white;position: relative;}#sk-container-id-2 div.sk-item::before, #sk-container-id-2 div.sk-parallel-item::before {content: \"\";position: absolute;border-left: 1px solid gray;box-sizing: border-box;top: 0;bottom: 0;left: 50%;z-index: -1;}#sk-container-id-2 div.sk-parallel-item {display: flex;flex-direction: column;z-index: 1;position: relative;background-color: white;}#sk-container-id-2 div.sk-parallel-item:first-child::after {align-self: flex-end;width: 50%;}#sk-container-id-2 div.sk-parallel-item:last-child::after {align-self: flex-start;width: 50%;}#sk-container-id-2 div.sk-parallel-item:only-child::after {width: 0;}#sk-container-id-2 div.sk-dashed-wrapped {border: 1px dashed gray;margin: 0 0.4em 0.5em 0.4em;box-sizing: border-box;padding-bottom: 0.4em;background-color: white;}#sk-container-id-2 div.sk-label label {font-family: monospace;font-weight: bold;display: inline-block;line-height: 1.2em;}#sk-container-id-2 div.sk-label-container {text-align: center;}#sk-container-id-2 div.sk-container {/* jupyter's `normalize.less` sets `[hidden] { display: none; }` but bootstrap.min.css set `[hidden] { display: none !important; }` so we also need the `!important` here to be able to override the default hidden behavior on the sphinx rendered scikit-learn.org. See: https://github.com/scikit-learn/scikit-learn/issues/21755 */display: inline-block !important;position: relative;}#sk-container-id-2 div.sk-text-repr-fallback {display: none;}</style><div id=\"sk-container-id-2\" class=\"sk-top-container\"><div class=\"sk-text-repr-fallback\"><pre>FactorAnalyzer(n_factors=1, rotation_kwargs={})</pre><b>In a Jupyter environment, please rerun this cell to show the HTML representation or trust the notebook. <br />On GitHub, the HTML representation is unable to render, please try loading this page with nbviewer.org.</b></div><div class=\"sk-container\" hidden><div class=\"sk-item\"><div class=\"sk-estimator sk-toggleable\"><input class=\"sk-toggleable__control sk-hidden--visually\" id=\"sk-estimator-id-2\" type=\"checkbox\" checked><label for=\"sk-estimator-id-2\" class=\"sk-toggleable__label sk-toggleable__label-arrow\">FactorAnalyzer</label><div class=\"sk-toggleable__content\"><pre>FactorAnalyzer(n_factors=1, rotation_kwargs={})</pre></div></div></div></div></div>"
      ],
      "text/plain": [
       "FactorAnalyzer(n_factors=1, rotation_kwargs={})"
      ]
     },
     "execution_count": 71,
     "metadata": {},
     "output_type": "execute_result"
    }
   ],
   "source": [
    "# performing the factor analysis using the FactorAnalyzer class. Extracting 1 factor.\n",
    "fa = FactorAnalyzer(n_factors = 1)\n",
    "\n",
    "# fit the factor analysis model to your data\n",
    "fa.fit(df[['credibility_6', 'credibility_7', 'credibility_8', 'credibility_9',\n",
    "       'credibility_10', 'credibility_11', 'credibility_12']])"
   ]
  },
  {
   "cell_type": "code",
   "execution_count": 72,
   "id": "8286a3a1-0d4c-46fa-a07a-99d2414cd6b4",
   "metadata": {},
   "outputs": [
    {
     "data": {
      "text/plain": [
       "array([[-0.66532575],\n",
       "       [-0.63013154],\n",
       "       [-0.65613893],\n",
       "       [-0.69203186],\n",
       "       [-0.65116424],\n",
       "       [-0.66857842],\n",
       "       [-0.7174611 ]])"
      ]
     },
     "execution_count": 72,
     "metadata": {},
     "output_type": "execute_result"
    }
   ],
   "source": [
    "# Get the factor loadings\n",
    "loadings = fa.loadings_\n",
    "\n",
    "loadings\n"
   ]
  },
  {
   "cell_type": "code",
   "execution_count": 73,
   "id": "839ad3c6-5560-4293-a7f2-61e828c21bac",
   "metadata": {},
   "outputs": [
    {
     "data": {
      "text/plain": [
       "array([0.44265835, 0.39706576, 0.43051829, 0.4789081 , 0.42401487,\n",
       "       0.4469971 , 0.51475043])"
      ]
     },
     "execution_count": 73,
     "metadata": {},
     "output_type": "execute_result"
    }
   ],
   "source": [
    "# Get the communalities\n",
    "communalities = fa.get_communalities()\n",
    "\n",
    "communalities"
   ]
  },
  {
   "cell_type": "code",
   "execution_count": 74,
   "id": "d49e8488-0654-4414-a967-fffb1cdc4bdf",
   "metadata": {},
   "outputs": [
    {
     "data": {
      "text/plain": [
       "array([[ 3.68,  1.17,  0.68,  0.59,  0.33,  0.32,  0.22],\n",
       "       [ 3.13,  0.62,  0.13,  0.03, -0.21, -0.23, -0.34]])"
      ]
     },
     "execution_count": 74,
     "metadata": {},
     "output_type": "execute_result"
    }
   ],
   "source": [
    "# Get the eigenvalues\n",
    "\n",
    "eigenvalues = fa.get_eigenvalues()\n",
    "\n",
    "np.round(eigenvalues, decimals = 2)"
   ]
  },
  {
   "cell_type": "code",
   "execution_count": 75,
   "id": "427aeeb8-3968-412c-b0c4-dea515c6400b",
   "metadata": {},
   "outputs": [
    {
     "data": {
      "text/plain": [
       "(array([3.13491291]), array([0.4478447]), array([0.4478447]))"
      ]
     },
     "execution_count": 75,
     "metadata": {},
     "output_type": "execute_result"
    }
   ],
   "source": [
    "# Get the variance explained by each factor;  \n",
    "\n",
    "variance_explained = fa.get_factor_variance()\n",
    "\n",
    "variance_explained"
   ]
  },
  {
   "cell_type": "code",
   "execution_count": 76,
   "id": "1e96a54a-d048-4ce2-91ec-ecae7204d333",
   "metadata": {},
   "outputs": [
    {
     "data": {
      "text/plain": [
       "(0.8490513316963768, array([0.786, 0.899]))"
      ]
     },
     "execution_count": 76,
     "metadata": {},
     "output_type": "execute_result"
    }
   ],
   "source": [
    "# Calculate the initial Cronbach's alpha\n",
    "pg.cronbach_alpha(items2)"
   ]
  },
  {
   "cell_type": "markdown",
   "id": "9aaf1232-cc1c-47ed-b7d6-1191b67feb8f",
   "metadata": {},
   "source": [
    "Cronbach's alpha is above .80, meaning there is high reliability."
   ]
  },
  {
   "cell_type": "code",
   "execution_count": 77,
   "id": "bdaa14ec-6f3d-4c37-bf93-1b671c9de081",
   "metadata": {},
   "outputs": [
    {
     "name": "stdout",
     "output_type": "stream",
     "text": [
      "Item removed: credibility_6\n",
      "Cronbach's alpha: (0.8289350986602664, array([0.755, 0.886]))\n",
      "\n",
      "Item removed: credibility_7\n",
      "Cronbach's alpha: (0.8332565291582713, array([0.762, 0.889]))\n",
      "\n",
      "Item removed: credibility_8\n",
      "Cronbach's alpha: (0.8297954040919181, array([0.757, 0.887]))\n",
      "\n",
      "Item removed: credibility_9\n",
      "Cronbach's alpha: (0.8255684807388788, array([0.751, 0.884]))\n",
      "\n",
      "Item removed: credibility_10\n",
      "Cronbach's alpha: (0.8299705935305767, array([0.757, 0.887]))\n",
      "\n",
      "Item removed: credibility_11\n",
      "Cronbach's alpha: (0.8287688118102335, array([0.755, 0.886]))\n",
      "\n",
      "Item removed: credibility_12\n",
      "Cronbach's alpha: (0.8209122062663186, array([0.744, 0.881]))\n",
      "\n"
     ]
    }
   ],
   "source": [
    "# calculate the alpha value without each item\n",
    "alpha_deleted_items2 = []\n",
    "for item in items2.columns:\n",
    "    reduced_data = items2.drop(item, axis=1)\n",
    "    alpha = pg.cronbach_alpha(reduced_data)\n",
    "    alpha_deleted_items2.append((item, alpha))\n",
    "\n",
    "for item, alpha in alpha_deleted_items2:\n",
    "    print(\"Item removed:\", item)\n",
    "    print(\"Cronbach's alpha:\", alpha)\n",
    "    print()"
   ]
  },
  {
   "cell_type": "markdown",
   "id": "5d1772b6-4048-4671-b30a-f59e3b25381a",
   "metadata": {},
   "source": [
    "As the Cronbach's alpha is already high, it was decided to maintain all items for computing the meanscale."
   ]
  },
  {
   "cell_type": "code",
   "execution_count": 78,
   "id": "50ed7417-f362-4d3b-82f3-e53befeebf24",
   "metadata": {},
   "outputs": [],
   "source": [
    "#mean scale trust\n",
    "df['trust'] = df[['credibility_6', 'credibility_7', 'credibility_8', 'credibility_9',\n",
    "       'credibility_10', 'credibility_11', 'credibility_12']].mean(axis=1)   # of course, only select those you're interested in"
   ]
  },
  {
   "cell_type": "code",
   "execution_count": 79,
   "id": "9ea58030-3123-4df8-86a7-f1c7fba1b970",
   "metadata": {},
   "outputs": [
    {
     "data": {
      "text/html": [
       "<div>\n",
       "<style scoped>\n",
       "    .dataframe tbody tr th:only-of-type {\n",
       "        vertical-align: middle;\n",
       "    }\n",
       "\n",
       "    .dataframe tbody tr th {\n",
       "        vertical-align: top;\n",
       "    }\n",
       "\n",
       "    .dataframe thead th {\n",
       "        text-align: right;\n",
       "    }\n",
       "</style>\n",
       "<table border=\"1\" class=\"dataframe\">\n",
       "  <thead>\n",
       "    <tr style=\"text-align: right;\">\n",
       "      <th></th>\n",
       "      <th>userid</th>\n",
       "      <th>satisfaction_1</th>\n",
       "      <th>satisfaction_2</th>\n",
       "      <th>satisfaction_3</th>\n",
       "      <th>satisfaction_4</th>\n",
       "      <th>satisfaction_5</th>\n",
       "      <th>satisfaction_6</th>\n",
       "      <th>credibility_1</th>\n",
       "      <th>credibility_2</th>\n",
       "      <th>credibility_3</th>\n",
       "      <th>...</th>\n",
       "      <th>timestart</th>\n",
       "      <th>genre</th>\n",
       "      <th>consent</th>\n",
       "      <th>mancheck1</th>\n",
       "      <th>mancheck2</th>\n",
       "      <th>calibrationid</th>\n",
       "      <th>recommendationid</th>\n",
       "      <th>_merge</th>\n",
       "      <th>satisfaction</th>\n",
       "      <th>trust</th>\n",
       "    </tr>\n",
       "  </thead>\n",
       "  <tbody>\n",
       "    <tr>\n",
       "      <th>0</th>\n",
       "      <td>599</td>\n",
       "      <td>4</td>\n",
       "      <td>2</td>\n",
       "      <td>2</td>\n",
       "      <td>2</td>\n",
       "      <td>2.0</td>\n",
       "      <td>2.0</td>\n",
       "      <td>4.0</td>\n",
       "      <td>2.0</td>\n",
       "      <td>2.0</td>\n",
       "      <td>...</td>\n",
       "      <td>2024-06-21 14:06:27</td>\n",
       "      <td>3.0</td>\n",
       "      <td>1.0</td>\n",
       "      <td>0.0</td>\n",
       "      <td>2.0</td>\n",
       "      <td>683.0</td>\n",
       "      <td>2017.0</td>\n",
       "      <td>both in master and using data</td>\n",
       "      <td>2.333333</td>\n",
       "      <td>2.000000</td>\n",
       "    </tr>\n",
       "    <tr>\n",
       "      <th>1</th>\n",
       "      <td>600</td>\n",
       "      <td>7</td>\n",
       "      <td>7</td>\n",
       "      <td>7</td>\n",
       "      <td>7</td>\n",
       "      <td>7.0</td>\n",
       "      <td>7.0</td>\n",
       "      <td>5.0</td>\n",
       "      <td>5.0</td>\n",
       "      <td>5.0</td>\n",
       "      <td>...</td>\n",
       "      <td>2024-06-21 14:29:48</td>\n",
       "      <td>1.0</td>\n",
       "      <td>1.0</td>\n",
       "      <td>0.0</td>\n",
       "      <td>4.0</td>\n",
       "      <td>769.0</td>\n",
       "      <td>1841.0</td>\n",
       "      <td>both in master and using data</td>\n",
       "      <td>7.000000</td>\n",
       "      <td>5.000000</td>\n",
       "    </tr>\n",
       "    <tr>\n",
       "      <th>2</th>\n",
       "      <td>601</td>\n",
       "      <td>4</td>\n",
       "      <td>4</td>\n",
       "      <td>4</td>\n",
       "      <td>4</td>\n",
       "      <td>4.0</td>\n",
       "      <td>4.0</td>\n",
       "      <td>7.0</td>\n",
       "      <td>7.0</td>\n",
       "      <td>7.0</td>\n",
       "      <td>...</td>\n",
       "      <td>2024-06-21 14:33:58</td>\n",
       "      <td>1.0</td>\n",
       "      <td>1.0</td>\n",
       "      <td>1.0</td>\n",
       "      <td>4.0</td>\n",
       "      <td>305.0</td>\n",
       "      <td>304.0</td>\n",
       "      <td>both in master and using data</td>\n",
       "      <td>4.000000</td>\n",
       "      <td>7.000000</td>\n",
       "    </tr>\n",
       "    <tr>\n",
       "      <th>3</th>\n",
       "      <td>602</td>\n",
       "      <td>6</td>\n",
       "      <td>7</td>\n",
       "      <td>6</td>\n",
       "      <td>5</td>\n",
       "      <td>5.0</td>\n",
       "      <td>7.0</td>\n",
       "      <td>7.0</td>\n",
       "      <td>4.0</td>\n",
       "      <td>5.0</td>\n",
       "      <td>...</td>\n",
       "      <td>2024-06-21 14:35:16</td>\n",
       "      <td>1.0</td>\n",
       "      <td>1.0</td>\n",
       "      <td>1.0</td>\n",
       "      <td>4.0</td>\n",
       "      <td>417.0</td>\n",
       "      <td>418.0</td>\n",
       "      <td>both in master and using data</td>\n",
       "      <td>6.000000</td>\n",
       "      <td>3.714286</td>\n",
       "    </tr>\n",
       "    <tr>\n",
       "      <th>4</th>\n",
       "      <td>603</td>\n",
       "      <td>6</td>\n",
       "      <td>7</td>\n",
       "      <td>7</td>\n",
       "      <td>7</td>\n",
       "      <td>6.0</td>\n",
       "      <td>7.0</td>\n",
       "      <td>6.0</td>\n",
       "      <td>7.0</td>\n",
       "      <td>7.0</td>\n",
       "      <td>...</td>\n",
       "      <td>2024-06-21 14:39:19</td>\n",
       "      <td>1.0</td>\n",
       "      <td>1.0</td>\n",
       "      <td>1.0</td>\n",
       "      <td>3.0</td>\n",
       "      <td>1277.0</td>\n",
       "      <td>1276.0</td>\n",
       "      <td>both in master and using data</td>\n",
       "      <td>6.666667</td>\n",
       "      <td>4.285714</td>\n",
       "    </tr>\n",
       "  </tbody>\n",
       "</table>\n",
       "<p>5 rows × 59 columns</p>\n",
       "</div>"
      ],
      "text/plain": [
       "   userid  satisfaction_1  satisfaction_2  satisfaction_3  satisfaction_4  \\\n",
       "0     599               4               2               2               2   \n",
       "1     600               7               7               7               7   \n",
       "2     601               4               4               4               4   \n",
       "3     602               6               7               6               5   \n",
       "4     603               6               7               7               7   \n",
       "\n",
       "   satisfaction_5  satisfaction_6  credibility_1  credibility_2  \\\n",
       "0             2.0             2.0            4.0            2.0   \n",
       "1             7.0             7.0            5.0            5.0   \n",
       "2             4.0             4.0            7.0            7.0   \n",
       "3             5.0             7.0            7.0            4.0   \n",
       "4             6.0             7.0            6.0            7.0   \n",
       "\n",
       "   credibility_3  ...            timestart  genre  consent  mancheck1  \\\n",
       "0            2.0  ...  2024-06-21 14:06:27    3.0      1.0        0.0   \n",
       "1            5.0  ...  2024-06-21 14:29:48    1.0      1.0        0.0   \n",
       "2            7.0  ...  2024-06-21 14:33:58    1.0      1.0        1.0   \n",
       "3            5.0  ...  2024-06-21 14:35:16    1.0      1.0        1.0   \n",
       "4            7.0  ...  2024-06-21 14:39:19    1.0      1.0        1.0   \n",
       "\n",
       "   mancheck2  calibrationid  recommendationid                         _merge  \\\n",
       "0        2.0          683.0            2017.0  both in master and using data   \n",
       "1        4.0          769.0            1841.0  both in master and using data   \n",
       "2        4.0          305.0             304.0  both in master and using data   \n",
       "3        4.0          417.0             418.0  both in master and using data   \n",
       "4        3.0         1277.0            1276.0  both in master and using data   \n",
       "\n",
       "   satisfaction     trust  \n",
       "0      2.333333  2.000000  \n",
       "1      7.000000  5.000000  \n",
       "2      4.000000  7.000000  \n",
       "3      6.000000  3.714286  \n",
       "4      6.666667  4.285714  \n",
       "\n",
       "[5 rows x 59 columns]"
      ]
     },
     "execution_count": 79,
     "metadata": {},
     "output_type": "execute_result"
    }
   ],
   "source": [
    "df.head()"
   ]
  },
  {
   "cell_type": "code",
   "execution_count": 80,
   "id": "c38c824f-e78f-4cfb-b5c7-d5a91ef635d1",
   "metadata": {},
   "outputs": [
    {
     "data": {
      "text/plain": [
       "count    65.000000\n",
       "mean      4.597802\n",
       "std       1.150059\n",
       "min       1.142857\n",
       "25%       4.142857\n",
       "50%       4.714286\n",
       "75%       5.142857\n",
       "max       7.000000\n",
       "Name: trust, dtype: float64"
      ]
     },
     "execution_count": 80,
     "metadata": {},
     "output_type": "execute_result"
    }
   ],
   "source": [
    "df.trust.describe()"
   ]
  },
  {
   "cell_type": "code",
   "execution_count": 81,
   "id": "e161c690-b355-46be-817a-3ddfc580afcf",
   "metadata": {
    "scrolled": true
   },
   "outputs": [
    {
     "data": {
      "text/plain": [
       "<Axes: xlabel='trust', ylabel='Count'>"
      ]
     },
     "execution_count": 81,
     "metadata": {},
     "output_type": "execute_result"
    },
    {
     "data": {
      "image/png": "[encoded data removed]",
      "text/plain": [
       "<Figure size 640x480 with 1 Axes>"
      ]
     },
     "metadata": {},
     "output_type": "display_data"
    }
   ],
   "source": [
    "sns.histplot(x = 'trust', data=df)"
   ]
  },
  {
   "cell_type": "markdown",
   "id": "294663f9-184c-4aff-8b26-b870139bf07e",
   "metadata": {},
   "source": [
    "Participants scored on average 4.60 on trust in the system, which is higher than the scale mid-point."
   ]
  },
  {
   "cell_type": "markdown",
   "id": "7610d349-5ee3-483a-be50-c4f5b795c315",
   "metadata": {},
   "source": [
    "## Randomization check"
   ]
  },
  {
   "cell_type": "markdown",
   "id": "fb72d593-8ed3-4bd4-a9bb-6cf90771ff00",
   "metadata": {},
   "source": [
    "### variable: education"
   ]
  },
  {
   "cell_type": "code",
   "execution_count": 82,
   "id": "2d19a835-9914-4e3c-a28f-a0f817d1716b",
   "metadata": {},
   "outputs": [
    {
     "data": {
      "text/html": [
       "<div>\n",
       "<style scoped>\n",
       "    .dataframe tbody tr th:only-of-type {\n",
       "        vertical-align: middle;\n",
       "    }\n",
       "\n",
       "    .dataframe tbody tr th {\n",
       "        vertical-align: top;\n",
       "    }\n",
       "\n",
       "    .dataframe thead th {\n",
       "        text-align: right;\n",
       "    }\n",
       "</style>\n",
       "<table border=\"1\" class=\"dataframe\">\n",
       "  <thead>\n",
       "    <tr style=\"text-align: right;\">\n",
       "      <th>condition</th>\n",
       "      <th>0</th>\n",
       "      <th>1</th>\n",
       "    </tr>\n",
       "    <tr>\n",
       "      <th>education</th>\n",
       "      <th></th>\n",
       "      <th></th>\n",
       "    </tr>\n",
       "  </thead>\n",
       "  <tbody>\n",
       "    <tr>\n",
       "      <th>1.0</th>\n",
       "      <td>1</td>\n",
       "      <td>0</td>\n",
       "    </tr>\n",
       "    <tr>\n",
       "      <th>2.0</th>\n",
       "      <td>14</td>\n",
       "      <td>26</td>\n",
       "    </tr>\n",
       "    <tr>\n",
       "      <th>3.0</th>\n",
       "      <td>1</td>\n",
       "      <td>0</td>\n",
       "    </tr>\n",
       "    <tr>\n",
       "      <th>4.0</th>\n",
       "      <td>2</td>\n",
       "      <td>12</td>\n",
       "    </tr>\n",
       "    <tr>\n",
       "      <th>5.0</th>\n",
       "      <td>5</td>\n",
       "      <td>4</td>\n",
       "    </tr>\n",
       "  </tbody>\n",
       "</table>\n",
       "</div>"
      ],
      "text/plain": [
       "condition   0   1\n",
       "education        \n",
       "1.0         1   0\n",
       "2.0        14  26\n",
       "3.0         1   0\n",
       "4.0         2  12\n",
       "5.0         5   4"
      ]
     },
     "execution_count": 82,
     "metadata": {},
     "output_type": "execute_result"
    }
   ],
   "source": [
    "#education\n",
    "#let's look at the crosstab\n",
    "education_mycrosstab = pd.crosstab(df['education'], df['condition'])\n",
    "education_mycrosstab"
   ]
  },
  {
   "cell_type": "code",
   "execution_count": 83,
   "id": "09eb9fbd-0fdd-421e-98cc-67f72e316b24",
   "metadata": {},
   "outputs": [
    {
     "name": "stdout",
     "output_type": "stream",
     "text": [
      "𝜒²(4) = 7.982, p = 0.092 \n",
      "V = 0.350\n"
     ]
    }
   ],
   "source": [
    "# and then get the chi2 test for that table\n",
    "c, p, dof, expected = contingency.chi2_contingency(education_mycrosstab)\n",
    "print(f\"𝜒²({dof:.0f}) = {c:.3f}, p = {p:.3f} \")\n",
    "\n",
    "# Cramer's V \n",
    "print(f\"V = {contingency.association(education_mycrosstab,method='cramer'):.3f}\")"
   ]
  },
  {
   "cell_type": "markdown",
   "id": "30f42bde-6ab2-42a4-a523-9de684fdbdad",
   "metadata": {},
   "source": [
    "There is no significant difference in the distribution of education across the two conditions, randomization check passed."
   ]
  },
  {
   "cell_type": "markdown",
   "id": "ee07046f-9ba9-4bd2-afdc-6e1ae3460b38",
   "metadata": {},
   "source": [
    "### variable: gender"
   ]
  },
  {
   "cell_type": "code",
   "execution_count": 84,
   "id": "859dda58-3f15-4971-9ba1-8077c569f537",
   "metadata": {},
   "outputs": [
    {
     "data": {
      "text/html": [
       "<div>\n",
       "<style scoped>\n",
       "    .dataframe tbody tr th:only-of-type {\n",
       "        vertical-align: middle;\n",
       "    }\n",
       "\n",
       "    .dataframe tbody tr th {\n",
       "        vertical-align: top;\n",
       "    }\n",
       "\n",
       "    .dataframe thead th {\n",
       "        text-align: right;\n",
       "    }\n",
       "</style>\n",
       "<table border=\"1\" class=\"dataframe\">\n",
       "  <thead>\n",
       "    <tr style=\"text-align: right;\">\n",
       "      <th>condition</th>\n",
       "      <th>0</th>\n",
       "      <th>1</th>\n",
       "    </tr>\n",
       "    <tr>\n",
       "      <th>gender</th>\n",
       "      <th></th>\n",
       "      <th></th>\n",
       "    </tr>\n",
       "  </thead>\n",
       "  <tbody>\n",
       "    <tr>\n",
       "      <th>1.0</th>\n",
       "      <td>15</td>\n",
       "      <td>33</td>\n",
       "    </tr>\n",
       "    <tr>\n",
       "      <th>2.0</th>\n",
       "      <td>8</td>\n",
       "      <td>9</td>\n",
       "    </tr>\n",
       "  </tbody>\n",
       "</table>\n",
       "</div>"
      ],
      "text/plain": [
       "condition   0   1\n",
       "gender           \n",
       "1.0        15  33\n",
       "2.0         8   9"
      ]
     },
     "execution_count": 84,
     "metadata": {},
     "output_type": "execute_result"
    }
   ],
   "source": [
    "#gender\n",
    "#let's look at the crosstab\n",
    "gender_mycrosstab = pd.crosstab(df['gender'], df['condition'])\n",
    "gender_mycrosstab"
   ]
  },
  {
   "cell_type": "code",
   "execution_count": 85,
   "id": "baee3433-1f26-4e18-a2c9-29d76838e4d6",
   "metadata": {},
   "outputs": [
    {
     "name": "stdout",
     "output_type": "stream",
     "text": [
      "𝜒²(1) = 0.768, p = 0.381 \n",
      "V = 0.145\n"
     ]
    }
   ],
   "source": [
    "# and then get the chi2 test for that table\n",
    "c, p, dof, expected = contingency.chi2_contingency(gender_mycrosstab)\n",
    "print(f\"𝜒²({dof:.0f}) = {c:.3f}, p = {p:.3f} \")\n",
    "\n",
    "# Cramer's V \n",
    "print(f\"V = {contingency.association(gender_mycrosstab,method='cramer'):.3f}\")"
   ]
  },
  {
   "cell_type": "markdown",
   "id": "685c5b1a-32d6-4ba9-a1f3-1de4782326e4",
   "metadata": {},
   "source": [
    "There is no significant difference in the distribution of gender across the two conditions, randomization check passed."
   ]
  },
  {
   "cell_type": "markdown",
   "id": "490c79fc-33ed-478d-b92b-ee50cff0c1f4",
   "metadata": {},
   "source": [
    "### variable: Age"
   ]
  },
  {
   "cell_type": "code",
   "execution_count": 86,
   "id": "ac176eca-ede8-4acc-a0a0-e8079cf282a5",
   "metadata": {},
   "outputs": [
    {
     "name": "stdout",
     "output_type": "stream",
     "text": [
      "We compare 0 (M=31.52, SD=18.443) with 1 (M=27.93, SD=15.277), t(38.38950800495643)=0.781, p=0.4395.\n"
     ]
    },
    {
     "data": {
      "text/html": [
       "<div>\n",
       "<style scoped>\n",
       "    .dataframe tbody tr th:only-of-type {\n",
       "        vertical-align: middle;\n",
       "    }\n",
       "\n",
       "    .dataframe tbody tr th {\n",
       "        vertical-align: top;\n",
       "    }\n",
       "\n",
       "    .dataframe thead th {\n",
       "        text-align: right;\n",
       "    }\n",
       "</style>\n",
       "<table border=\"1\" class=\"dataframe\">\n",
       "  <thead>\n",
       "    <tr style=\"text-align: right;\">\n",
       "      <th></th>\n",
       "      <th>T</th>\n",
       "      <th>dof</th>\n",
       "      <th>alternative</th>\n",
       "      <th>p-val</th>\n",
       "      <th>CI95%</th>\n",
       "      <th>cohen-d</th>\n",
       "      <th>BF10</th>\n",
       "      <th>power</th>\n",
       "    </tr>\n",
       "  </thead>\n",
       "  <tbody>\n",
       "    <tr>\n",
       "      <th>T-test</th>\n",
       "      <td>0.781223</td>\n",
       "      <td>38.389508</td>\n",
       "      <td>two-sided</td>\n",
       "      <td>0.439463</td>\n",
       "      <td>[-5.71, 12.9]</td>\n",
       "      <td>0.214815</td>\n",
       "      <td>0.34</td>\n",
       "      <td>0.128983</td>\n",
       "    </tr>\n",
       "  </tbody>\n",
       "</table>\n",
       "</div>"
      ],
      "text/plain": [
       "               T        dof alternative     p-val          CI95%   cohen-d  \\\n",
       "T-test  0.781223  38.389508   two-sided  0.439463  [-5.71, 12.9]  0.214815   \n",
       "\n",
       "        BF10     power  \n",
       "T-test  0.34  0.128983  "
      ]
     },
     "execution_count": 86,
     "metadata": {},
     "output_type": "execute_result"
    }
   ],
   "source": [
    "#age\n",
    "(label1, values1), (label2, values2) = df.groupby('condition')['age']\n",
    "\n",
    "testresult = pg.ttest(values1, values2)\n",
    "\n",
    "print(f\"We compare {label1} (M={np.mean(values1):.2f}, SD={np.std(values1):.3f}) \"\n",
    "     f\"with {label2} (M={np.mean(values2):.2f}, SD={np.std(values2):.3f}), \"\n",
    "     f\"t({testresult.iloc[0,1]})={testresult.iloc[0,0]:.3f}, \"\n",
    "     f\"p={testresult.iloc[0,3]:.4f}.\")\n",
    "\n",
    "testresult"
   ]
  },
  {
   "cell_type": "markdown",
   "id": "fe10aa69-6c6e-48c0-ab9c-6a2249dd15d0",
   "metadata": {},
   "source": [
    "There is no significant difference in the distribution of age across the two conditions, randomization check passed."
   ]
  },
  {
   "cell_type": "markdown",
   "id": "9ca18c7a-344e-41e9-a722-3e9e91a5042d",
   "metadata": {},
   "source": [
    "### variable: reading frequency"
   ]
  },
  {
   "cell_type": "code",
   "execution_count": 87,
   "id": "bf689d37-460e-40ea-8143-fab541028d2f",
   "metadata": {
    "scrolled": true
   },
   "outputs": [
    {
     "name": "stdout",
     "output_type": "stream",
     "text": [
      "We compare 0 (M=4.22, SD=1.768) with 1 (M=4.21, SD=1.641), t(42.192386366028295)=0.007, p=0.9946.\n"
     ]
    },
    {
     "data": {
      "text/html": [
       "<div>\n",
       "<style scoped>\n",
       "    .dataframe tbody tr th:only-of-type {\n",
       "        vertical-align: middle;\n",
       "    }\n",
       "\n",
       "    .dataframe tbody tr th {\n",
       "        vertical-align: top;\n",
       "    }\n",
       "\n",
       "    .dataframe thead th {\n",
       "        text-align: right;\n",
       "    }\n",
       "</style>\n",
       "<table border=\"1\" class=\"dataframe\">\n",
       "  <thead>\n",
       "    <tr style=\"text-align: right;\">\n",
       "      <th></th>\n",
       "      <th>T</th>\n",
       "      <th>dof</th>\n",
       "      <th>alternative</th>\n",
       "      <th>p-val</th>\n",
       "      <th>CI95%</th>\n",
       "      <th>cohen-d</th>\n",
       "      <th>BF10</th>\n",
       "      <th>power</th>\n",
       "    </tr>\n",
       "  </thead>\n",
       "  <tbody>\n",
       "    <tr>\n",
       "      <th>T-test</th>\n",
       "      <td>0.006813</td>\n",
       "      <td>42.192386</td>\n",
       "      <td>two-sided</td>\n",
       "      <td>0.994596</td>\n",
       "      <td>[-0.92, 0.92]</td>\n",
       "      <td>0.001812</td>\n",
       "      <td>0.263</td>\n",
       "      <td>0.050005</td>\n",
       "    </tr>\n",
       "  </tbody>\n",
       "</table>\n",
       "</div>"
      ],
      "text/plain": [
       "               T        dof alternative     p-val          CI95%   cohen-d  \\\n",
       "T-test  0.006813  42.192386   two-sided  0.994596  [-0.92, 0.92]  0.001812   \n",
       "\n",
       "         BF10     power  \n",
       "T-test  0.263  0.050005  "
      ]
     },
     "execution_count": 87,
     "metadata": {},
     "output_type": "execute_result"
    }
   ],
   "source": [
    "#reading frequency\n",
    "(label1, values1), (label2, values2) = df.groupby('condition')['control(reading_habits)']\n",
    "\n",
    "testresult = pg.ttest(values1, values2)\n",
    "\n",
    "print(f\"We compare {label1} (M={np.mean(values1):.2f}, SD={np.std(values1):.3f}) \"\n",
    "     f\"with {label2} (M={np.mean(values2):.2f}, SD={np.std(values2):.3f}), \"\n",
    "     f\"t({testresult.iloc[0,1]})={testresult.iloc[0,0]:.3f}, \"\n",
    "     f\"p={testresult.iloc[0,3]:.4f}.\")\n",
    "\n",
    "testresult"
   ]
  },
  {
   "cell_type": "markdown",
   "id": "4c167606-ffcb-446f-9e9b-8fafca7b1caa",
   "metadata": {},
   "source": [
    "There is no significant difference in the distribution of reading frequency across the two conditions, randomization check passed."
   ]
  },
  {
   "cell_type": "markdown",
   "id": "ca94ad90-e786-4310-94d9-3490f7fc4b2a",
   "metadata": {},
   "source": [
    "### variable: RS familiarity"
   ]
  },
  {
   "cell_type": "code",
   "execution_count": 88,
   "id": "93be5c34-0962-4b25-a803-39b85ed6a260",
   "metadata": {},
   "outputs": [
    {
     "name": "stdout",
     "output_type": "stream",
     "text": [
      "We compare 0 (M=3.65, SD=1.991) with 1 (M=3.57, SD=1.941), t(44.0148213756047)=0.155, p=0.8777.\n"
     ]
    },
    {
     "data": {
      "text/html": [
       "<div>\n",
       "<style scoped>\n",
       "    .dataframe tbody tr th:only-of-type {\n",
       "        vertical-align: middle;\n",
       "    }\n",
       "\n",
       "    .dataframe tbody tr th {\n",
       "        vertical-align: top;\n",
       "    }\n",
       "\n",
       "    .dataframe thead th {\n",
       "        text-align: right;\n",
       "    }\n",
       "</style>\n",
       "<table border=\"1\" class=\"dataframe\">\n",
       "  <thead>\n",
       "    <tr style=\"text-align: right;\">\n",
       "      <th></th>\n",
       "      <th>T</th>\n",
       "      <th>dof</th>\n",
       "      <th>alternative</th>\n",
       "      <th>p-val</th>\n",
       "      <th>CI95%</th>\n",
       "      <th>cohen-d</th>\n",
       "      <th>BF10</th>\n",
       "      <th>power</th>\n",
       "    </tr>\n",
       "  </thead>\n",
       "  <tbody>\n",
       "    <tr>\n",
       "      <th>T-test</th>\n",
       "      <td>0.154768</td>\n",
       "      <td>44.014821</td>\n",
       "      <td>two-sided</td>\n",
       "      <td>0.877712</td>\n",
       "      <td>[-0.97, 1.13]</td>\n",
       "      <td>0.040574</td>\n",
       "      <td>0.266</td>\n",
       "      <td>0.052723</td>\n",
       "    </tr>\n",
       "  </tbody>\n",
       "</table>\n",
       "</div>"
      ],
      "text/plain": [
       "               T        dof alternative     p-val          CI95%   cohen-d  \\\n",
       "T-test  0.154768  44.014821   two-sided  0.877712  [-0.97, 1.13]  0.040574   \n",
       "\n",
       "         BF10     power  \n",
       "T-test  0.266  0.052723  "
      ]
     },
     "execution_count": 88,
     "metadata": {},
     "output_type": "execute_result"
    }
   ],
   "source": [
    "#recommender system familiarity\n",
    "(label1, values1), (label2, values2) = df.groupby('condition')['control(previous_experience_with_RS)']\n",
    "\n",
    "testresult = pg.ttest(values1, values2)\n",
    "\n",
    "print(f\"We compare {label1} (M={np.mean(values1):.2f}, SD={np.std(values1):.3f}) \"\n",
    "     f\"with {label2} (M={np.mean(values2):.2f}, SD={np.std(values2):.3f}), \"\n",
    "     f\"t({testresult.iloc[0,1]})={testresult.iloc[0,0]:.3f}, \"\n",
    "     f\"p={testresult.iloc[0,3]:.4f}.\")\n",
    "\n",
    "testresult"
   ]
  },
  {
   "cell_type": "markdown",
   "id": "bba2db39-a53d-462b-9944-0a6c3e1f149b",
   "metadata": {},
   "source": [
    "here is no significant difference in the distribution of RS familiarity across the two conditions, randomization check passed."
   ]
  },
  {
   "cell_type": "markdown",
   "id": "07f16695-34d4-48d9-98df-d31f4f5d392f",
   "metadata": {},
   "source": [
    "# Hypothesis testing"
   ]
  },
  {
   "attachments": {},
   "cell_type": "markdown",
   "id": "21c8bf3e-ca2e-4eca-8292-82bb1eb59d6b",
   "metadata": {},
   "source": [
    "## H1\n",
    "### A recommender system with delayed response latency will result in lower user’s satisfaction than a recommender system with no delay in its response latency\n",
    "t-test"
   ]
  },
  {
   "cell_type": "code",
   "execution_count": 89,
   "id": "35a69e30-c0b5-4901-abf0-9174b8fffb29",
   "metadata": {
    "scrolled": true
   },
   "outputs": [
    {
     "name": "stdout",
     "output_type": "stream",
     "text": [
      "We compare 0 (M=5.68, SD=0.915) with 1 (M=5.73, SD=1.356), t(59.80999242820017)=-0.156, p=0.8763.\n"
     ]
    },
    {
     "data": {
      "text/html": [
       "<div>\n",
       "<style scoped>\n",
       "    .dataframe tbody tr th:only-of-type {\n",
       "        vertical-align: middle;\n",
       "    }\n",
       "\n",
       "    .dataframe tbody tr th {\n",
       "        vertical-align: top;\n",
       "    }\n",
       "\n",
       "    .dataframe thead th {\n",
       "        text-align: right;\n",
       "    }\n",
       "</style>\n",
       "<table border=\"1\" class=\"dataframe\">\n",
       "  <thead>\n",
       "    <tr style=\"text-align: right;\">\n",
       "      <th></th>\n",
       "      <th>T</th>\n",
       "      <th>dof</th>\n",
       "      <th>alternative</th>\n",
       "      <th>p-val</th>\n",
       "      <th>CI95%</th>\n",
       "      <th>cohen-d</th>\n",
       "      <th>BF10</th>\n",
       "      <th>power</th>\n",
       "    </tr>\n",
       "  </thead>\n",
       "  <tbody>\n",
       "    <tr>\n",
       "      <th>T-test</th>\n",
       "      <td>-0.156373</td>\n",
       "      <td>59.809992</td>\n",
       "      <td>two-sided</td>\n",
       "      <td>0.876265</td>\n",
       "      <td>[-0.62, 0.53]</td>\n",
       "      <td>0.036387</td>\n",
       "      <td>0.266</td>\n",
       "      <td>0.052189</td>\n",
       "    </tr>\n",
       "  </tbody>\n",
       "</table>\n",
       "</div>"
      ],
      "text/plain": [
       "               T        dof alternative     p-val          CI95%   cohen-d  \\\n",
       "T-test -0.156373  59.809992   two-sided  0.876265  [-0.62, 0.53]  0.036387   \n",
       "\n",
       "         BF10     power  \n",
       "T-test  0.266  0.052189  "
      ]
     },
     "execution_count": 89,
     "metadata": {},
     "output_type": "execute_result"
    }
   ],
   "source": [
    "(label1, values1), (label2, values2) = df.groupby('condition')['satisfaction']\n",
    "\n",
    "testresult = pg.ttest(values1, values2)\n",
    "\n",
    "print(f\"We compare {label1} (M={np.mean(values1):.2f}, SD={np.std(values1):.3f}) \"\n",
    "     f\"with {label2} (M={np.mean(values2):.2f}, SD={np.std(values2):.3f}), \"\n",
    "     f\"t({testresult.iloc[0,1]})={testresult.iloc[0,0]:.3f}, \"\n",
    "     f\"p={testresult.iloc[0,3]:.4f}.\")\n",
    "\n",
    "testresult"
   ]
  },
  {
   "attachments": {},
   "cell_type": "markdown",
   "id": "e4326d40-aa51-46e4-ba5e-1c5ce475346d",
   "metadata": {},
   "source": [
    "There was a non-significant difference between the participants of the two conditions in their score on user satisfaction. No support was found for H1"
   ]
  },
  {
   "attachments": {},
   "cell_type": "markdown",
   "id": "acded995-6dd3-4581-a75d-cab579e48719",
   "metadata": {},
   "source": [
    "## H2 mediation\n",
    "### A recommender system with delayed response latency will lead to lower user satisfaction because it reduces trust in the system, compared to a recommender system with no delay in its response latency.\n",
    "mediation analysis"
   ]
  },
  {
   "cell_type": "code",
   "execution_count": 90,
   "id": "36f3b6a1-ac2e-4cde-b7b9-0d54cf6c63fd",
   "metadata": {},
   "outputs": [
    {
     "data": {
      "text/html": [
       "<div>\n",
       "<style scoped>\n",
       "    .dataframe tbody tr th:only-of-type {\n",
       "        vertical-align: middle;\n",
       "    }\n",
       "\n",
       "    .dataframe tbody tr th {\n",
       "        vertical-align: top;\n",
       "    }\n",
       "\n",
       "    .dataframe thead th {\n",
       "        text-align: right;\n",
       "    }\n",
       "</style>\n",
       "<table border=\"1\" class=\"dataframe\">\n",
       "  <thead>\n",
       "    <tr style=\"text-align: right;\">\n",
       "      <th></th>\n",
       "      <th>path</th>\n",
       "      <th>coef</th>\n",
       "      <th>se</th>\n",
       "      <th>pval</th>\n",
       "      <th>CI[2.5%]</th>\n",
       "      <th>CI[97.5%]</th>\n",
       "      <th>sig</th>\n",
       "    </tr>\n",
       "  </thead>\n",
       "  <tbody>\n",
       "    <tr>\n",
       "      <th>0</th>\n",
       "      <td>trust ~ X</td>\n",
       "      <td>-0.237947</td>\n",
       "      <td>0.299184</td>\n",
       "      <td>0.429413</td>\n",
       "      <td>-0.835819</td>\n",
       "      <td>0.359924</td>\n",
       "      <td>No</td>\n",
       "    </tr>\n",
       "    <tr>\n",
       "      <th>1</th>\n",
       "      <td>Y ~ trust</td>\n",
       "      <td>0.527914</td>\n",
       "      <td>0.116938</td>\n",
       "      <td>0.000028</td>\n",
       "      <td>0.294231</td>\n",
       "      <td>0.761596</td>\n",
       "      <td>Yes</td>\n",
       "    </tr>\n",
       "    <tr>\n",
       "      <th>2</th>\n",
       "      <td>Total</td>\n",
       "      <td>0.045031</td>\n",
       "      <td>0.321017</td>\n",
       "      <td>0.888889</td>\n",
       "      <td>-0.596471</td>\n",
       "      <td>0.686533</td>\n",
       "      <td>No</td>\n",
       "    </tr>\n",
       "    <tr>\n",
       "      <th>3</th>\n",
       "      <td>Direct</td>\n",
       "      <td>0.172360</td>\n",
       "      <td>0.281885</td>\n",
       "      <td>0.543134</td>\n",
       "      <td>-0.391121</td>\n",
       "      <td>0.735841</td>\n",
       "      <td>No</td>\n",
       "    </tr>\n",
       "    <tr>\n",
       "      <th>4</th>\n",
       "      <td>Indirect</td>\n",
       "      <td>-0.127329</td>\n",
       "      <td>0.172702</td>\n",
       "      <td>0.442000</td>\n",
       "      <td>-0.610821</td>\n",
       "      <td>0.114802</td>\n",
       "      <td>No</td>\n",
       "    </tr>\n",
       "  </tbody>\n",
       "</table>\n",
       "</div>"
      ],
      "text/plain": [
       "        path      coef        se      pval  CI[2.5%]  CI[97.5%]  sig\n",
       "0  trust ~ X -0.237947  0.299184  0.429413 -0.835819   0.359924   No\n",
       "1  Y ~ trust  0.527914  0.116938  0.000028  0.294231   0.761596  Yes\n",
       "2      Total  0.045031  0.321017  0.888889 -0.596471   0.686533   No\n",
       "3     Direct  0.172360  0.281885  0.543134 -0.391121   0.735841   No\n",
       "4   Indirect -0.127329  0.172702  0.442000 -0.610821   0.114802   No"
      ]
     },
     "execution_count": 90,
     "metadata": {},
     "output_type": "execute_result"
    }
   ],
   "source": [
    "pg.mediation_analysis(data=df, x='condition', m='trust', y='satisfaction', seed=42, n_boot=1000)"
   ]
  },
  {
   "attachments": {},
   "cell_type": "markdown",
   "id": "d5d3c389-fdc8-49ad-9e2f-986117767e6f",
   "metadata": {},
   "source": [
    "No support was found for H2 but trust in the system significantly affected user satisfaction. "
   ]
  }
 ],
 "metadata": {
  "kernelspec": {
   "display_name": "Python 3 (ipykernel)",
   "language": "python",
   "name": "python3"
  },
  "language_info": {
   "codemirror_mode": {
    "name": "ipython",
    "version": 3
   },
   "file_extension": ".py",
   "mimetype": "text/x-python",
   "name": "python",
   "nbconvert_exporter": "python",
   "pygments_lexer": "ipython3",
   "version": "3.8.18"
  }
 },
 "nbformat": 4,
 "nbformat_minor": 5
}
