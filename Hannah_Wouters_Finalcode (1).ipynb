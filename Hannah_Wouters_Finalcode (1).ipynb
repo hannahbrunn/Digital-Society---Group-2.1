{
 "cells": [
  {
   "cell_type": "markdown",
   "id": "f24acd80-97e8-4fcb-80cf-c87bd6e06f56",
   "metadata": {},
   "source": [
    "# Python Code for Individual Research Project by Hannah Wouters"
   ]
  },
  {
   "cell_type": "markdown",
   "id": "6ae28a78-c1de-4fc8-ad3b-94e926308b08",
   "metadata": {},
   "source": [
    "## Data cleaning and preparation"
   ]
  },
  {
   "cell_type": "markdown",
   "id": "7719aa4f-ac8f-4498-9b68-7351727d4189",
   "metadata": {},
   "source": [
    "### All packages I will need for the analyses"
   ]
  },
  {
   "cell_type": "code",
   "execution_count": 1,
   "id": "b0ceeebb-4882-4d9b-a75e-232385d2d5c1",
   "metadata": {},
   "outputs": [],
   "source": [
    "import pandas as pd\n",
    "import seaborn as sns\n",
    "from statsmodels.formula.api import ols\n",
    "import numpy as np\n",
    "import psython as psy\n",
    "import pingouin as pg\n",
    "from scipy.stats import contingency \n",
    "from factor_analyzer import FactorAnalyzer\n",
    "from factor_analyzer.factor_analyzer import calculate_bartlett_sphericity\n",
    "from factor_analyzer.factor_analyzer import calculate_kmo"
   ]
  },
  {
   "cell_type": "markdown",
   "id": "481ecef2-f01c-4af8-8076-18db0b93d72f",
   "metadata": {},
   "source": [
    "### Reading in the data"
   ]
  },
  {
   "cell_type": "code",
   "execution_count": 2,
   "id": "07dd5125-749f-4ec6-a2e5-44a249647d19",
   "metadata": {},
   "outputs": [],
   "source": [
    "data = \"group21_alltogether.csv\"\n",
    "\n",
    "df = pd.read_csv(data)"
   ]
  },
  {
   "cell_type": "code",
   "execution_count": 3,
   "id": "8f5bfcfd-51e2-49f8-baf1-08206a54f062",
   "metadata": {},
   "outputs": [
    {
     "data": {
      "text/html": [
       "<div>\n",
       "<style scoped>\n",
       "    .dataframe tbody tr th:only-of-type {\n",
       "        vertical-align: middle;\n",
       "    }\n",
       "\n",
       "    .dataframe tbody tr th {\n",
       "        vertical-align: top;\n",
       "    }\n",
       "\n",
       "    .dataframe thead th {\n",
       "        text-align: right;\n",
       "    }\n",
       "</style>\n",
       "<table border=\"1\" class=\"dataframe\">\n",
       "  <thead>\n",
       "    <tr style=\"text-align: right;\">\n",
       "      <th></th>\n",
       "      <th>userid</th>\n",
       "      <th>Q2</th>\n",
       "      <th>Q3</th>\n",
       "      <th>Q4</th>\n",
       "      <th>Q5</th>\n",
       "      <th>Q6</th>\n",
       "      <th>Q7</th>\n",
       "      <th>Q8</th>\n",
       "      <th>Q9</th>\n",
       "      <th>Q10</th>\n",
       "      <th>...</th>\n",
       "      <th>condition</th>\n",
       "      <th>prolific</th>\n",
       "      <th>timestart</th>\n",
       "      <th>genre</th>\n",
       "      <th>consent</th>\n",
       "      <th>mancheck1</th>\n",
       "      <th>mancheck2</th>\n",
       "      <th>calibrationid</th>\n",
       "      <th>recommendationid</th>\n",
       "      <th>_merge</th>\n",
       "    </tr>\n",
       "  </thead>\n",
       "  <tbody>\n",
       "    <tr>\n",
       "      <th>0</th>\n",
       "      <td>485</td>\n",
       "      <td>2</td>\n",
       "      <td>2</td>\n",
       "      <td>2</td>\n",
       "      <td>2</td>\n",
       "      <td>NaN</td>\n",
       "      <td>NaN</td>\n",
       "      <td>NaN</td>\n",
       "      <td>NaN</td>\n",
       "      <td>NaN</td>\n",
       "      <td>...</td>\n",
       "      <td>1</td>\n",
       "      <td>http://localhost/group11/</td>\n",
       "      <td>2024-06-14 16:57:47</td>\n",
       "      <td>NaN</td>\n",
       "      <td>NaN</td>\n",
       "      <td>NaN</td>\n",
       "      <td>NaN</td>\n",
       "      <td>NaN</td>\n",
       "      <td>NaN</td>\n",
       "      <td>both in master and using data</td>\n",
       "    </tr>\n",
       "    <tr>\n",
       "      <th>1</th>\n",
       "      <td>488</td>\n",
       "      <td>2</td>\n",
       "      <td>2</td>\n",
       "      <td>2</td>\n",
       "      <td>2</td>\n",
       "      <td>NaN</td>\n",
       "      <td>NaN</td>\n",
       "      <td>NaN</td>\n",
       "      <td>NaN</td>\n",
       "      <td>NaN</td>\n",
       "      <td>...</td>\n",
       "      <td>0</td>\n",
       "      <td>http://localhost/group11/</td>\n",
       "      <td>2024-06-14 17:04:36</td>\n",
       "      <td>NaN</td>\n",
       "      <td>NaN</td>\n",
       "      <td>NaN</td>\n",
       "      <td>NaN</td>\n",
       "      <td>NaN</td>\n",
       "      <td>NaN</td>\n",
       "      <td>both in master and using data</td>\n",
       "    </tr>\n",
       "    <tr>\n",
       "      <th>2</th>\n",
       "      <td>489</td>\n",
       "      <td>2</td>\n",
       "      <td>2</td>\n",
       "      <td>2</td>\n",
       "      <td>2</td>\n",
       "      <td>NaN</td>\n",
       "      <td>NaN</td>\n",
       "      <td>NaN</td>\n",
       "      <td>NaN</td>\n",
       "      <td>NaN</td>\n",
       "      <td>...</td>\n",
       "      <td>1</td>\n",
       "      <td>http://localhost/group11/</td>\n",
       "      <td>2024-06-14 17:17:38</td>\n",
       "      <td>NaN</td>\n",
       "      <td>NaN</td>\n",
       "      <td>NaN</td>\n",
       "      <td>NaN</td>\n",
       "      <td>NaN</td>\n",
       "      <td>NaN</td>\n",
       "      <td>both in master and using data</td>\n",
       "    </tr>\n",
       "    <tr>\n",
       "      <th>3</th>\n",
       "      <td>492</td>\n",
       "      <td>2</td>\n",
       "      <td>2</td>\n",
       "      <td>2</td>\n",
       "      <td>2</td>\n",
       "      <td>NaN</td>\n",
       "      <td>NaN</td>\n",
       "      <td>NaN</td>\n",
       "      <td>NaN</td>\n",
       "      <td>NaN</td>\n",
       "      <td>...</td>\n",
       "      <td>1</td>\n",
       "      <td>http://localhost/group11/</td>\n",
       "      <td>2024-06-14 17:19:24</td>\n",
       "      <td>NaN</td>\n",
       "      <td>NaN</td>\n",
       "      <td>NaN</td>\n",
       "      <td>NaN</td>\n",
       "      <td>NaN</td>\n",
       "      <td>NaN</td>\n",
       "      <td>both in master and using data</td>\n",
       "    </tr>\n",
       "    <tr>\n",
       "      <th>4</th>\n",
       "      <td>497</td>\n",
       "      <td>3</td>\n",
       "      <td>2</td>\n",
       "      <td>2</td>\n",
       "      <td>2</td>\n",
       "      <td>NaN</td>\n",
       "      <td>NaN</td>\n",
       "      <td>NaN</td>\n",
       "      <td>NaN</td>\n",
       "      <td>NaN</td>\n",
       "      <td>...</td>\n",
       "      <td>0</td>\n",
       "      <td>1.5</td>\n",
       "      <td>2024-06-15 20:56:12</td>\n",
       "      <td>NaN</td>\n",
       "      <td>NaN</td>\n",
       "      <td>NaN</td>\n",
       "      <td>NaN</td>\n",
       "      <td>NaN</td>\n",
       "      <td>NaN</td>\n",
       "      <td>both in master and using data</td>\n",
       "    </tr>\n",
       "  </tbody>\n",
       "</table>\n",
       "<p>5 rows × 57 columns</p>\n",
       "</div>"
      ],
      "text/plain": [
       "   userid  Q2  Q3  Q4  Q5  Q6  Q7  Q8  Q9  Q10  ...  condition  \\\n",
       "0     485   2   2   2   2 NaN NaN NaN NaN  NaN  ...          1   \n",
       "1     488   2   2   2   2 NaN NaN NaN NaN  NaN  ...          0   \n",
       "2     489   2   2   2   2 NaN NaN NaN NaN  NaN  ...          1   \n",
       "3     492   2   2   2   2 NaN NaN NaN NaN  NaN  ...          1   \n",
       "4     497   3   2   2   2 NaN NaN NaN NaN  NaN  ...          0   \n",
       "\n",
       "                    prolific            timestart  genre  consent  mancheck1  \\\n",
       "0  http://localhost/group11/  2024-06-14 16:57:47    NaN      NaN        NaN   \n",
       "1  http://localhost/group11/  2024-06-14 17:04:36    NaN      NaN        NaN   \n",
       "2  http://localhost/group11/  2024-06-14 17:17:38    NaN      NaN        NaN   \n",
       "3  http://localhost/group11/  2024-06-14 17:19:24    NaN      NaN        NaN   \n",
       "4                        1.5  2024-06-15 20:56:12    NaN      NaN        NaN   \n",
       "\n",
       "   mancheck2  calibrationid  recommendationid                         _merge  \n",
       "0        NaN            NaN               NaN  both in master and using data  \n",
       "1        NaN            NaN               NaN  both in master and using data  \n",
       "2        NaN            NaN               NaN  both in master and using data  \n",
       "3        NaN            NaN               NaN  both in master and using data  \n",
       "4        NaN            NaN               NaN  both in master and using data  \n",
       "\n",
       "[5 rows x 57 columns]"
      ]
     },
     "execution_count": 3,
     "metadata": {},
     "output_type": "execute_result"
    }
   ],
   "source": [
    "#Checking what we are working with\n",
    "df.head()"
   ]
  },
  {
   "cell_type": "code",
   "execution_count": 4,
   "id": "c611e8cd-4f46-4e5f-bd32-f51a375eae6f",
   "metadata": {},
   "outputs": [
    {
     "data": {
      "text/plain": [
       "(136, 57)"
      ]
     },
     "execution_count": 4,
     "metadata": {},
     "output_type": "execute_result"
    }
   ],
   "source": [
    "df.shape"
   ]
  },
  {
   "cell_type": "code",
   "execution_count": 5,
   "id": "671a5a76-f998-4f37-8387-1f68e64b4e14",
   "metadata": {},
   "outputs": [
    {
     "data": {
      "text/plain": [
       "Index(['userid', 'Q2', 'Q3', 'Q4', 'Q5', 'Q6', 'Q7', 'Q8', 'Q9', 'Q10', 'Q11',\n",
       "       'Q12', 'Q13', 'Q14', 'Q15', 'Q16', 'Q17', 'Q18', 'Q19', 'Q20', 'Q21',\n",
       "       'Q22', 'Q23', 'Q24', 'Q25', 'Q26', 'Q27', 'Q28', 'Q29', 'Q30', 'Q31',\n",
       "       'Q32', 'Q33', 'Q34', 'Q35', 'Q36', 'Q37', 'Q38', 'Q39', 'Q40', 'Q41',\n",
       "       'Q42', 'age', 'gender', 'device', 'education', 'time', 'condition',\n",
       "       'prolific', 'timestart', 'genre', 'consent', 'mancheck1', 'mancheck2',\n",
       "       'calibrationid', 'recommendationid', '_merge'],\n",
       "      dtype='object')"
      ]
     },
     "execution_count": 5,
     "metadata": {},
     "output_type": "execute_result"
    }
   ],
   "source": [
    "df.columns"
   ]
  },
  {
   "cell_type": "markdown",
   "id": "db1cc782-75a9-49e7-916b-dbb0f45efa6d",
   "metadata": {},
   "source": [
    "### Dropping the users that answered before 2024-06-21 14:00"
   ]
  },
  {
   "cell_type": "code",
   "execution_count": 6,
   "id": "d1571227-b1c6-4220-acfe-c811bd8004d1",
   "metadata": {},
   "outputs": [
    {
     "data": {
      "text/plain": [
       "count                     136\n",
       "unique                    136\n",
       "top       2024-06-14 16:57:47\n",
       "freq                        1\n",
       "Name: timestart, dtype: object"
      ]
     },
     "execution_count": 6,
     "metadata": {},
     "output_type": "execute_result"
    }
   ],
   "source": [
    "#first checking the column\n",
    "df[\"timestart\"].describe()"
   ]
  },
  {
   "cell_type": "code",
   "execution_count": 7,
   "id": "f8d69c56-3eb6-47a6-a353-3820ca8a2d69",
   "metadata": {},
   "outputs": [
    {
     "data": {
      "text/plain": [
       "'2024-06-23 23:47:10'"
      ]
     },
     "execution_count": 7,
     "metadata": {},
     "output_type": "execute_result"
    }
   ],
   "source": [
    "df[\"timestart\"].max()"
   ]
  },
  {
   "cell_type": "code",
   "execution_count": 8,
   "id": "0fd38977-fd2c-44ae-b24a-9b5d0c685b6b",
   "metadata": {},
   "outputs": [
    {
     "data": {
      "text/plain": [
       "'2024-06-14 16:57:47'"
      ]
     },
     "execution_count": 8,
     "metadata": {},
     "output_type": "execute_result"
    }
   ],
   "source": [
    "df[\"timestart\"].min()"
   ]
  },
  {
   "cell_type": "code",
   "execution_count": 9,
   "id": "bc3bf8d9-e75c-4229-88b5-c559af7c8a6f",
   "metadata": {},
   "outputs": [],
   "source": [
    "#Convert the date\n",
    "df['timestart'] = pd.to_datetime(df['timestart'])"
   ]
  },
  {
   "cell_type": "code",
   "execution_count": 10,
   "id": "b58d2354-86e5-47c4-8885-7c8c70e7cb84",
   "metadata": {},
   "outputs": [
    {
     "data": {
      "text/plain": [
       "0     2024-06-14 16:57:47\n",
       "1     2024-06-14 17:04:36\n",
       "2     2024-06-14 17:17:38\n",
       "3     2024-06-14 17:19:24\n",
       "4     2024-06-15 20:56:12\n",
       "              ...        \n",
       "131   2024-06-22 21:18:03\n",
       "132   2024-06-23 01:38:36\n",
       "133   2024-06-23 15:17:58\n",
       "134   2024-06-23 16:17:09\n",
       "135   2024-06-23 23:47:10\n",
       "Name: timestart, Length: 136, dtype: datetime64[ns]"
      ]
     },
     "execution_count": 10,
     "metadata": {},
     "output_type": "execute_result"
    }
   ],
   "source": [
    "df['timestart']"
   ]
  },
  {
   "cell_type": "code",
   "execution_count": 11,
   "id": "9792f7a1-4a74-4a8b-ab15-795ea6874472",
   "metadata": {},
   "outputs": [],
   "source": [
    " # Filter data between two dates -> used this https://www.geeksforgeeks.org/how-to-filter-dataframe-rows-based-on-the-date-in-pandas/\n",
    "filtered_df = df.loc[(df['timestart'] >= '2024-06-21 14:00')\n",
    "                     & (df['timestart'] <= '2024-06-23 23:47:10')]"
   ]
  },
  {
   "cell_type": "code",
   "execution_count": 12,
   "id": "e6ba94cb-3ca1-4680-bb3e-32118d914e0c",
   "metadata": {},
   "outputs": [
    {
     "data": {
      "text/html": [
       "<div>\n",
       "<style scoped>\n",
       "    .dataframe tbody tr th:only-of-type {\n",
       "        vertical-align: middle;\n",
       "    }\n",
       "\n",
       "    .dataframe tbody tr th {\n",
       "        vertical-align: top;\n",
       "    }\n",
       "\n",
       "    .dataframe thead th {\n",
       "        text-align: right;\n",
       "    }\n",
       "</style>\n",
       "<table border=\"1\" class=\"dataframe\">\n",
       "  <thead>\n",
       "    <tr style=\"text-align: right;\">\n",
       "      <th></th>\n",
       "      <th>userid</th>\n",
       "      <th>Q2</th>\n",
       "      <th>Q3</th>\n",
       "      <th>Q4</th>\n",
       "      <th>Q5</th>\n",
       "      <th>Q6</th>\n",
       "      <th>Q7</th>\n",
       "      <th>Q8</th>\n",
       "      <th>Q9</th>\n",
       "      <th>Q10</th>\n",
       "      <th>...</th>\n",
       "      <th>condition</th>\n",
       "      <th>prolific</th>\n",
       "      <th>timestart</th>\n",
       "      <th>genre</th>\n",
       "      <th>consent</th>\n",
       "      <th>mancheck1</th>\n",
       "      <th>mancheck2</th>\n",
       "      <th>calibrationid</th>\n",
       "      <th>recommendationid</th>\n",
       "      <th>_merge</th>\n",
       "    </tr>\n",
       "  </thead>\n",
       "  <tbody>\n",
       "    <tr>\n",
       "      <th>50</th>\n",
       "      <td>599</td>\n",
       "      <td>4</td>\n",
       "      <td>2</td>\n",
       "      <td>2</td>\n",
       "      <td>2</td>\n",
       "      <td>2.0</td>\n",
       "      <td>2.0</td>\n",
       "      <td>4.0</td>\n",
       "      <td>2.0</td>\n",
       "      <td>2.0</td>\n",
       "      <td>...</td>\n",
       "      <td>1</td>\n",
       "      <td>https://recipe-study.wur.nl/gr</td>\n",
       "      <td>2024-06-21 14:06:27</td>\n",
       "      <td>3.0</td>\n",
       "      <td>1.0</td>\n",
       "      <td>0.0</td>\n",
       "      <td>2.0</td>\n",
       "      <td>683.0</td>\n",
       "      <td>2017.0</td>\n",
       "      <td>both in master and using data</td>\n",
       "    </tr>\n",
       "    <tr>\n",
       "      <th>51</th>\n",
       "      <td>600</td>\n",
       "      <td>7</td>\n",
       "      <td>7</td>\n",
       "      <td>7</td>\n",
       "      <td>7</td>\n",
       "      <td>7.0</td>\n",
       "      <td>7.0</td>\n",
       "      <td>5.0</td>\n",
       "      <td>5.0</td>\n",
       "      <td>5.0</td>\n",
       "      <td>...</td>\n",
       "      <td>1</td>\n",
       "      <td>https://recipe-study.wur.nl/gr</td>\n",
       "      <td>2024-06-21 14:29:48</td>\n",
       "      <td>1.0</td>\n",
       "      <td>1.0</td>\n",
       "      <td>0.0</td>\n",
       "      <td>4.0</td>\n",
       "      <td>769.0</td>\n",
       "      <td>1841.0</td>\n",
       "      <td>both in master and using data</td>\n",
       "    </tr>\n",
       "    <tr>\n",
       "      <th>52</th>\n",
       "      <td>601</td>\n",
       "      <td>4</td>\n",
       "      <td>4</td>\n",
       "      <td>4</td>\n",
       "      <td>4</td>\n",
       "      <td>4.0</td>\n",
       "      <td>4.0</td>\n",
       "      <td>7.0</td>\n",
       "      <td>7.0</td>\n",
       "      <td>7.0</td>\n",
       "      <td>...</td>\n",
       "      <td>0</td>\n",
       "      <td>https://recipe-study.wur.nl/gr</td>\n",
       "      <td>2024-06-21 14:33:58</td>\n",
       "      <td>1.0</td>\n",
       "      <td>1.0</td>\n",
       "      <td>1.0</td>\n",
       "      <td>4.0</td>\n",
       "      <td>305.0</td>\n",
       "      <td>304.0</td>\n",
       "      <td>both in master and using data</td>\n",
       "    </tr>\n",
       "    <tr>\n",
       "      <th>53</th>\n",
       "      <td>602</td>\n",
       "      <td>6</td>\n",
       "      <td>7</td>\n",
       "      <td>6</td>\n",
       "      <td>5</td>\n",
       "      <td>5.0</td>\n",
       "      <td>7.0</td>\n",
       "      <td>7.0</td>\n",
       "      <td>4.0</td>\n",
       "      <td>5.0</td>\n",
       "      <td>...</td>\n",
       "      <td>1</td>\n",
       "      <td>https://recipe-study.wur.nl/gr</td>\n",
       "      <td>2024-06-21 14:35:16</td>\n",
       "      <td>1.0</td>\n",
       "      <td>1.0</td>\n",
       "      <td>1.0</td>\n",
       "      <td>4.0</td>\n",
       "      <td>417.0</td>\n",
       "      <td>418.0</td>\n",
       "      <td>both in master and using data</td>\n",
       "    </tr>\n",
       "    <tr>\n",
       "      <th>54</th>\n",
       "      <td>603</td>\n",
       "      <td>6</td>\n",
       "      <td>7</td>\n",
       "      <td>7</td>\n",
       "      <td>7</td>\n",
       "      <td>6.0</td>\n",
       "      <td>7.0</td>\n",
       "      <td>6.0</td>\n",
       "      <td>7.0</td>\n",
       "      <td>7.0</td>\n",
       "      <td>...</td>\n",
       "      <td>1</td>\n",
       "      <td>https://recipe-study.wur.nl/gr</td>\n",
       "      <td>2024-06-21 14:39:19</td>\n",
       "      <td>1.0</td>\n",
       "      <td>1.0</td>\n",
       "      <td>1.0</td>\n",
       "      <td>3.0</td>\n",
       "      <td>1277.0</td>\n",
       "      <td>1276.0</td>\n",
       "      <td>both in master and using data</td>\n",
       "    </tr>\n",
       "  </tbody>\n",
       "</table>\n",
       "<p>5 rows × 57 columns</p>\n",
       "</div>"
      ],
      "text/plain": [
       "    userid  Q2  Q3  Q4  Q5   Q6   Q7   Q8   Q9  Q10  ...  condition  \\\n",
       "50     599   4   2   2   2  2.0  2.0  4.0  2.0  2.0  ...          1   \n",
       "51     600   7   7   7   7  7.0  7.0  5.0  5.0  5.0  ...          1   \n",
       "52     601   4   4   4   4  4.0  4.0  7.0  7.0  7.0  ...          0   \n",
       "53     602   6   7   6   5  5.0  7.0  7.0  4.0  5.0  ...          1   \n",
       "54     603   6   7   7   7  6.0  7.0  6.0  7.0  7.0  ...          1   \n",
       "\n",
       "                          prolific           timestart  genre  consent  \\\n",
       "50  https://recipe-study.wur.nl/gr 2024-06-21 14:06:27    3.0      1.0   \n",
       "51  https://recipe-study.wur.nl/gr 2024-06-21 14:29:48    1.0      1.0   \n",
       "52  https://recipe-study.wur.nl/gr 2024-06-21 14:33:58    1.0      1.0   \n",
       "53  https://recipe-study.wur.nl/gr 2024-06-21 14:35:16    1.0      1.0   \n",
       "54  https://recipe-study.wur.nl/gr 2024-06-21 14:39:19    1.0      1.0   \n",
       "\n",
       "    mancheck1  mancheck2  calibrationid  recommendationid  \\\n",
       "50        0.0        2.0          683.0            2017.0   \n",
       "51        0.0        4.0          769.0            1841.0   \n",
       "52        1.0        4.0          305.0             304.0   \n",
       "53        1.0        4.0          417.0             418.0   \n",
       "54        1.0        3.0         1277.0            1276.0   \n",
       "\n",
       "                           _merge  \n",
       "50  both in master and using data  \n",
       "51  both in master and using data  \n",
       "52  both in master and using data  \n",
       "53  both in master and using data  \n",
       "54  both in master and using data  \n",
       "\n",
       "[5 rows x 57 columns]"
      ]
     },
     "execution_count": 12,
     "metadata": {},
     "output_type": "execute_result"
    }
   ],
   "source": [
    "filtered_df.head()"
   ]
  },
  {
   "cell_type": "code",
   "execution_count": 13,
   "id": "08ab253d-77d0-4e2c-bd23-ac390f8d5b36",
   "metadata": {},
   "outputs": [
    {
     "name": "stdout",
     "output_type": "stream",
     "text": [
      "Original df was (136, 57)\n",
      "Filtered df is (86, 57)\n"
     ]
    }
   ],
   "source": [
    "print(f'Original df was {df.shape}')\n",
    "print(f'Filtered df is {filtered_df.shape}')"
   ]
  },
  {
   "cell_type": "code",
   "execution_count": 14,
   "id": "292484ad-41eb-41aa-acf1-5cba56007f6b",
   "metadata": {},
   "outputs": [
    {
     "name": "stdout",
     "output_type": "stream",
     "text": [
      "Removed 50 values from the original DF\n"
     ]
    }
   ],
   "source": [
    "print(f'Removed {len(df)-len(filtered_df)} values from the original DF')"
   ]
  },
  {
   "cell_type": "markdown",
   "id": "276d9791-8cf7-4bd8-93fa-2d7fa6ef3275",
   "metadata": {},
   "source": [
    "### Removing Data based on Prolific"
   ]
  },
  {
   "cell_type": "code",
   "execution_count": 15,
   "id": "32151565-802c-4e4c-8d1c-940a3d793ece",
   "metadata": {},
   "outputs": [
    {
     "data": {
      "text/plain": [
       "prolific\n",
       "https://recipe-study.wur.nl/gr                          76\n",
       "https://recipe-study.wur.nl/group21_bookrecommender/     6\n",
       "fbclid=PAZXh0bgNhZW0CMTEAAab6i                           1\n",
       "fbclid=PAZXh0bgNhZW0CMTEAAabVk                           1\n",
       "fbclid=PAZXh0bgNhZW0CMTEAAaZaA                           1\n",
       "fbclid=PAZXh0bgNhZW0CMTEAAaY85                           1\n",
       "Name: count, dtype: int64"
      ]
     },
     "execution_count": 15,
     "metadata": {},
     "output_type": "execute_result"
    }
   ],
   "source": [
    "filtered_df['prolific'].value_counts()"
   ]
  },
  {
   "cell_type": "code",
   "execution_count": 16,
   "id": "76548431-f2d7-49e7-886f-a74acf025f5e",
   "metadata": {},
   "outputs": [],
   "source": [
    "values_to_keep = ['https://recipe-study.wur.nl/gr']\n",
    "\n",
    "filtered_df2 = filtered_df[filtered_df['prolific'].isin(values_to_keep)]"
   ]
  },
  {
   "cell_type": "code",
   "execution_count": 17,
   "id": "e38fe847-2261-4074-8f50-30f9abd657df",
   "metadata": {},
   "outputs": [
    {
     "data": {
      "text/plain": [
       "prolific\n",
       "https://recipe-study.wur.nl/gr    76\n",
       "Name: count, dtype: int64"
      ]
     },
     "execution_count": 17,
     "metadata": {},
     "output_type": "execute_result"
    }
   ],
   "source": [
    "filtered_df2['prolific'].value_counts()"
   ]
  },
  {
   "cell_type": "code",
   "execution_count": 18,
   "id": "06ba9c24-e244-4b02-917b-42a9993c68e0",
   "metadata": {},
   "outputs": [
    {
     "data": {
      "text/plain": [
       "(76, 57)"
      ]
     },
     "execution_count": 18,
     "metadata": {},
     "output_type": "execute_result"
    }
   ],
   "source": [
    "filtered_df2.shape"
   ]
  },
  {
   "cell_type": "code",
   "execution_count": 19,
   "id": "ae040ef8-7742-439f-aec0-25374fe90e2d",
   "metadata": {},
   "outputs": [
    {
     "name": "stdout",
     "output_type": "stream",
     "text": [
      "Original df was (86, 57)\n",
      "Filtered df is (76, 57)\n"
     ]
    }
   ],
   "source": [
    "print(f'Original df was {filtered_df.shape}')\n",
    "print(f'Filtered df is {filtered_df2.shape}')"
   ]
  },
  {
   "cell_type": "markdown",
   "id": "a9575e43-67f6-4636-a9dd-06103af5788b",
   "metadata": {},
   "source": [
    "### Dropping Nan Results"
   ]
  },
  {
   "cell_type": "code",
   "execution_count": 20,
   "id": "7eff60b3-ddd4-4000-9582-e67598c09212",
   "metadata": {},
   "outputs": [],
   "source": [
    "filtered_df3=filtered_df2.dropna()"
   ]
  },
  {
   "cell_type": "code",
   "execution_count": 21,
   "id": "c7305da1-a0b3-4906-8cf0-1527e33999a9",
   "metadata": {},
   "outputs": [
    {
     "data": {
      "text/html": [
       "<div>\n",
       "<style scoped>\n",
       "    .dataframe tbody tr th:only-of-type {\n",
       "        vertical-align: middle;\n",
       "    }\n",
       "\n",
       "    .dataframe tbody tr th {\n",
       "        vertical-align: top;\n",
       "    }\n",
       "\n",
       "    .dataframe thead th {\n",
       "        text-align: right;\n",
       "    }\n",
       "</style>\n",
       "<table border=\"1\" class=\"dataframe\">\n",
       "  <thead>\n",
       "    <tr style=\"text-align: right;\">\n",
       "      <th></th>\n",
       "      <th>userid</th>\n",
       "      <th>Q2</th>\n",
       "      <th>Q3</th>\n",
       "      <th>Q4</th>\n",
       "      <th>Q5</th>\n",
       "      <th>Q6</th>\n",
       "      <th>Q7</th>\n",
       "      <th>Q8</th>\n",
       "      <th>Q9</th>\n",
       "      <th>Q10</th>\n",
       "      <th>...</th>\n",
       "      <th>condition</th>\n",
       "      <th>prolific</th>\n",
       "      <th>timestart</th>\n",
       "      <th>genre</th>\n",
       "      <th>consent</th>\n",
       "      <th>mancheck1</th>\n",
       "      <th>mancheck2</th>\n",
       "      <th>calibrationid</th>\n",
       "      <th>recommendationid</th>\n",
       "      <th>_merge</th>\n",
       "    </tr>\n",
       "  </thead>\n",
       "  <tbody>\n",
       "    <tr>\n",
       "      <th>50</th>\n",
       "      <td>599</td>\n",
       "      <td>4</td>\n",
       "      <td>2</td>\n",
       "      <td>2</td>\n",
       "      <td>2</td>\n",
       "      <td>2.0</td>\n",
       "      <td>2.0</td>\n",
       "      <td>4.0</td>\n",
       "      <td>2.0</td>\n",
       "      <td>2.0</td>\n",
       "      <td>...</td>\n",
       "      <td>1</td>\n",
       "      <td>https://recipe-study.wur.nl/gr</td>\n",
       "      <td>2024-06-21 14:06:27</td>\n",
       "      <td>3.0</td>\n",
       "      <td>1.0</td>\n",
       "      <td>0.0</td>\n",
       "      <td>2.0</td>\n",
       "      <td>683.0</td>\n",
       "      <td>2017.0</td>\n",
       "      <td>both in master and using data</td>\n",
       "    </tr>\n",
       "    <tr>\n",
       "      <th>51</th>\n",
       "      <td>600</td>\n",
       "      <td>7</td>\n",
       "      <td>7</td>\n",
       "      <td>7</td>\n",
       "      <td>7</td>\n",
       "      <td>7.0</td>\n",
       "      <td>7.0</td>\n",
       "      <td>5.0</td>\n",
       "      <td>5.0</td>\n",
       "      <td>5.0</td>\n",
       "      <td>...</td>\n",
       "      <td>1</td>\n",
       "      <td>https://recipe-study.wur.nl/gr</td>\n",
       "      <td>2024-06-21 14:29:48</td>\n",
       "      <td>1.0</td>\n",
       "      <td>1.0</td>\n",
       "      <td>0.0</td>\n",
       "      <td>4.0</td>\n",
       "      <td>769.0</td>\n",
       "      <td>1841.0</td>\n",
       "      <td>both in master and using data</td>\n",
       "    </tr>\n",
       "    <tr>\n",
       "      <th>52</th>\n",
       "      <td>601</td>\n",
       "      <td>4</td>\n",
       "      <td>4</td>\n",
       "      <td>4</td>\n",
       "      <td>4</td>\n",
       "      <td>4.0</td>\n",
       "      <td>4.0</td>\n",
       "      <td>7.0</td>\n",
       "      <td>7.0</td>\n",
       "      <td>7.0</td>\n",
       "      <td>...</td>\n",
       "      <td>0</td>\n",
       "      <td>https://recipe-study.wur.nl/gr</td>\n",
       "      <td>2024-06-21 14:33:58</td>\n",
       "      <td>1.0</td>\n",
       "      <td>1.0</td>\n",
       "      <td>1.0</td>\n",
       "      <td>4.0</td>\n",
       "      <td>305.0</td>\n",
       "      <td>304.0</td>\n",
       "      <td>both in master and using data</td>\n",
       "    </tr>\n",
       "    <tr>\n",
       "      <th>53</th>\n",
       "      <td>602</td>\n",
       "      <td>6</td>\n",
       "      <td>7</td>\n",
       "      <td>6</td>\n",
       "      <td>5</td>\n",
       "      <td>5.0</td>\n",
       "      <td>7.0</td>\n",
       "      <td>7.0</td>\n",
       "      <td>4.0</td>\n",
       "      <td>5.0</td>\n",
       "      <td>...</td>\n",
       "      <td>1</td>\n",
       "      <td>https://recipe-study.wur.nl/gr</td>\n",
       "      <td>2024-06-21 14:35:16</td>\n",
       "      <td>1.0</td>\n",
       "      <td>1.0</td>\n",
       "      <td>1.0</td>\n",
       "      <td>4.0</td>\n",
       "      <td>417.0</td>\n",
       "      <td>418.0</td>\n",
       "      <td>both in master and using data</td>\n",
       "    </tr>\n",
       "    <tr>\n",
       "      <th>54</th>\n",
       "      <td>603</td>\n",
       "      <td>6</td>\n",
       "      <td>7</td>\n",
       "      <td>7</td>\n",
       "      <td>7</td>\n",
       "      <td>6.0</td>\n",
       "      <td>7.0</td>\n",
       "      <td>6.0</td>\n",
       "      <td>7.0</td>\n",
       "      <td>7.0</td>\n",
       "      <td>...</td>\n",
       "      <td>1</td>\n",
       "      <td>https://recipe-study.wur.nl/gr</td>\n",
       "      <td>2024-06-21 14:39:19</td>\n",
       "      <td>1.0</td>\n",
       "      <td>1.0</td>\n",
       "      <td>1.0</td>\n",
       "      <td>3.0</td>\n",
       "      <td>1277.0</td>\n",
       "      <td>1276.0</td>\n",
       "      <td>both in master and using data</td>\n",
       "    </tr>\n",
       "  </tbody>\n",
       "</table>\n",
       "<p>5 rows × 57 columns</p>\n",
       "</div>"
      ],
      "text/plain": [
       "    userid  Q2  Q3  Q4  Q5   Q6   Q7   Q8   Q9  Q10  ...  condition  \\\n",
       "50     599   4   2   2   2  2.0  2.0  4.0  2.0  2.0  ...          1   \n",
       "51     600   7   7   7   7  7.0  7.0  5.0  5.0  5.0  ...          1   \n",
       "52     601   4   4   4   4  4.0  4.0  7.0  7.0  7.0  ...          0   \n",
       "53     602   6   7   6   5  5.0  7.0  7.0  4.0  5.0  ...          1   \n",
       "54     603   6   7   7   7  6.0  7.0  6.0  7.0  7.0  ...          1   \n",
       "\n",
       "                          prolific           timestart  genre  consent  \\\n",
       "50  https://recipe-study.wur.nl/gr 2024-06-21 14:06:27    3.0      1.0   \n",
       "51  https://recipe-study.wur.nl/gr 2024-06-21 14:29:48    1.0      1.0   \n",
       "52  https://recipe-study.wur.nl/gr 2024-06-21 14:33:58    1.0      1.0   \n",
       "53  https://recipe-study.wur.nl/gr 2024-06-21 14:35:16    1.0      1.0   \n",
       "54  https://recipe-study.wur.nl/gr 2024-06-21 14:39:19    1.0      1.0   \n",
       "\n",
       "    mancheck1  mancheck2  calibrationid  recommendationid  \\\n",
       "50        0.0        2.0          683.0            2017.0   \n",
       "51        0.0        4.0          769.0            1841.0   \n",
       "52        1.0        4.0          305.0             304.0   \n",
       "53        1.0        4.0          417.0             418.0   \n",
       "54        1.0        3.0         1277.0            1276.0   \n",
       "\n",
       "                           _merge  \n",
       "50  both in master and using data  \n",
       "51  both in master and using data  \n",
       "52  both in master and using data  \n",
       "53  both in master and using data  \n",
       "54  both in master and using data  \n",
       "\n",
       "[5 rows x 57 columns]"
      ]
     },
     "execution_count": 21,
     "metadata": {},
     "output_type": "execute_result"
    }
   ],
   "source": [
    "filtered_df3.head()"
   ]
  },
  {
   "cell_type": "code",
   "execution_count": 22,
   "id": "28ceb235-d19b-4b0d-87df-eacfd27ccb83",
   "metadata": {},
   "outputs": [
    {
     "data": {
      "text/plain": [
       "(66, 57)"
      ]
     },
     "execution_count": 22,
     "metadata": {},
     "output_type": "execute_result"
    }
   ],
   "source": [
    "filtered_df3.shape"
   ]
  },
  {
   "cell_type": "code",
   "execution_count": 23,
   "id": "15ef98e4-bfe2-4d6d-abbe-4022956a415b",
   "metadata": {},
   "outputs": [
    {
     "name": "stdout",
     "output_type": "stream",
     "text": [
      "Original df was (76, 57)\n",
      "Filtered df is (66, 57)\n"
     ]
    }
   ],
   "source": [
    "print(f'Original df was {filtered_df2.shape}')\n",
    "print(f'Filtered df is {filtered_df3.shape}')"
   ]
  },
  {
   "cell_type": "markdown",
   "id": "454ab846-f221-4769-88c5-28786ae85e97",
   "metadata": {},
   "source": [
    "### Renaming Columns"
   ]
  },
  {
   "cell_type": "code",
   "execution_count": 24,
   "id": "c2fba7e1-5f1b-46ba-b0a2-f3acefbe8068",
   "metadata": {},
   "outputs": [
    {
     "name": "stderr",
     "output_type": "stream",
     "text": [
      "/var/folders/wp/4_jtn9zx1v1_c66jqrb898k00000gn/T/ipykernel_33804/2120619129.py:1: SettingWithCopyWarning: \n",
      "A value is trying to be set on a copy of a slice from a DataFrame\n",
      "\n",
      "See the caveats in the documentation: https://pandas.pydata.org/pandas-docs/stable/user_guide/indexing.html#returning-a-view-versus-a-copy\n",
      "  filtered_df3.rename(columns={'Q2': 'satisfaction_1', 'Q3': 'satisfaction_2', 'Q4': 'satisfaction_3', 'Q5': 'satisfaction_4', 'Q6': 'satisfaction_5', 'Q7': 'satisfaction_6'}, inplace=True)\n"
     ]
    }
   ],
   "source": [
    "filtered_df3.rename(columns={'Q2': 'satisfaction_1', 'Q3': 'satisfaction_2', 'Q4': 'satisfaction_3', 'Q5': 'satisfaction_4', 'Q6': 'satisfaction_5', 'Q7': 'satisfaction_6'}, inplace=True)"
   ]
  },
  {
   "cell_type": "code",
   "execution_count": 25,
   "id": "65743959-5858-4fa0-b924-8bf5c35850b0",
   "metadata": {},
   "outputs": [
    {
     "name": "stderr",
     "output_type": "stream",
     "text": [
      "/var/folders/wp/4_jtn9zx1v1_c66jqrb898k00000gn/T/ipykernel_33804/1841839145.py:1: SettingWithCopyWarning: \n",
      "A value is trying to be set on a copy of a slice from a DataFrame\n",
      "\n",
      "See the caveats in the documentation: https://pandas.pydata.org/pandas-docs/stable/user_guide/indexing.html#returning-a-view-versus-a-copy\n",
      "  filtered_df3.rename(columns={'Q8': 'credibility_1', 'Q9': 'credibility_2', 'Q10': 'credibility_3', 'Q11': 'credibility_4', 'Q12': 'credibility_5', 'Q13': 'credibility_6', 'Q14': 'credibility_7', 'Q15': 'credibility_8', 'Q16': 'credibility_9', 'Q17': 'credibility_10', 'Q18': 'credibility_11', 'Q19': 'credibility_12'}, inplace=True)\n"
     ]
    }
   ],
   "source": [
    "filtered_df3.rename(columns={'Q8': 'credibility_1', 'Q9': 'credibility_2', 'Q10': 'credibility_3', 'Q11': 'credibility_4', 'Q12': 'credibility_5', 'Q13': 'credibility_6', 'Q14': 'credibility_7', 'Q15': 'credibility_8', 'Q16': 'credibility_9', 'Q17': 'credibility_10', 'Q18': 'credibility_11', 'Q19': 'credibility_12'}, inplace=True)"
   ]
  },
  {
   "cell_type": "code",
   "execution_count": 26,
   "id": "decc76ed-c5e8-4d14-8e85-b213ec7a85d5",
   "metadata": {},
   "outputs": [
    {
     "name": "stderr",
     "output_type": "stream",
     "text": [
      "/var/folders/wp/4_jtn9zx1v1_c66jqrb898k00000gn/T/ipykernel_33804/4024581968.py:1: SettingWithCopyWarning: \n",
      "A value is trying to be set on a copy of a slice from a DataFrame\n",
      "\n",
      "See the caveats in the documentation: https://pandas.pydata.org/pandas-docs/stable/user_guide/indexing.html#returning-a-view-versus-a-copy\n",
      "  filtered_df3.rename(columns={'Q20': 'motivation_1', 'Q21': 'motivation_2', 'Q22': 'motivation_3', 'Q23': 'motivation_4', 'Q24': 'motivation_5', 'Q25': 'motivation_6', 'Q26': 'motivation_7', 'Q27': 'motivation_8', 'Q28': 'motivation_9', 'Q29': 'motivation_10', 'Q30': 'motivation_11', 'Q31': 'motivation_12'}, inplace=True)\n"
     ]
    }
   ],
   "source": [
    "filtered_df3.rename(columns={'Q20': 'motivation_1', 'Q21': 'motivation_2', 'Q22': 'motivation_3', 'Q23': 'motivation_4', 'Q24': 'motivation_5', 'Q25': 'motivation_6', 'Q26': 'motivation_7', 'Q27': 'motivation_8', 'Q28': 'motivation_9', 'Q29': 'motivation_10', 'Q30': 'motivation_11', 'Q31': 'motivation_12'}, inplace=True)"
   ]
  },
  {
   "cell_type": "code",
   "execution_count": 27,
   "id": "56811220-29d0-4b61-b4c2-dc70568bcaa6",
   "metadata": {},
   "outputs": [
    {
     "name": "stderr",
     "output_type": "stream",
     "text": [
      "/var/folders/wp/4_jtn9zx1v1_c66jqrb898k00000gn/T/ipykernel_33804/2626641718.py:1: SettingWithCopyWarning: \n",
      "A value is trying to be set on a copy of a slice from a DataFrame\n",
      "\n",
      "See the caveats in the documentation: https://pandas.pydata.org/pandas-docs/stable/user_guide/indexing.html#returning-a-view-versus-a-copy\n",
      "  filtered_df3.rename(columns={'Q32': 'anthropomorphism_1', 'Q33': 'anthropomorphism_2', 'Q34': 'anthropomorphism_3', 'Q35': 'anthropomorphism_4'}, inplace=True)\n"
     ]
    }
   ],
   "source": [
    "filtered_df3.rename(columns={'Q32': 'anthropomorphism_1', 'Q33': 'anthropomorphism_2', 'Q34': 'anthropomorphism_3', 'Q35': 'anthropomorphism_4'}, inplace=True)"
   ]
  },
  {
   "cell_type": "code",
   "execution_count": 28,
   "id": "44cd3e3d-a7a4-4b70-85fe-10faf6cda039",
   "metadata": {},
   "outputs": [
    {
     "name": "stderr",
     "output_type": "stream",
     "text": [
      "/var/folders/wp/4_jtn9zx1v1_c66jqrb898k00000gn/T/ipykernel_33804/1940005018.py:1: SettingWithCopyWarning: \n",
      "A value is trying to be set on a copy of a slice from a DataFrame\n",
      "\n",
      "See the caveats in the documentation: https://pandas.pydata.org/pandas-docs/stable/user_guide/indexing.html#returning-a-view-versus-a-copy\n",
      "  filtered_df3.rename(columns={'Q36': 'control(reading_habits)', 'Q37': 'control(previous_experience_with_RS)'}, inplace=True)\n"
     ]
    }
   ],
   "source": [
    "filtered_df3.rename(columns={'Q36': 'control(reading_habits)', 'Q37': 'control(previous_experience_with_RS)'}, inplace=True)"
   ]
  },
  {
   "cell_type": "code",
   "execution_count": 29,
   "id": "4d4da5cc-0bf3-4714-bbb9-0c93b1f36544",
   "metadata": {},
   "outputs": [
    {
     "name": "stderr",
     "output_type": "stream",
     "text": [
      "/var/folders/wp/4_jtn9zx1v1_c66jqrb898k00000gn/T/ipykernel_33804/3687310035.py:1: SettingWithCopyWarning: \n",
      "A value is trying to be set on a copy of a slice from a DataFrame\n",
      "\n",
      "See the caveats in the documentation: https://pandas.pydata.org/pandas-docs/stable/user_guide/indexing.html#returning-a-view-versus-a-copy\n",
      "  filtered_df3.rename(columns={'Q38': 'conscientiousness_1', 'Q39': 'conscientiousness_2', 'Q40': 'conscientiousness_3', 'Q41': 'conscientiousness_4', 'Q42': 'conscientiousness_5'}, inplace=True)\n"
     ]
    }
   ],
   "source": [
    "filtered_df3.rename(columns={'Q38': 'conscientiousness_1', 'Q39': 'conscientiousness_2', 'Q40': 'conscientiousness_3', 'Q41': 'conscientiousness_4', 'Q42': 'conscientiousness_5'}, inplace=True)"
   ]
  },
  {
   "cell_type": "code",
   "execution_count": 30,
   "id": "06b8c86d-a523-47bb-b679-c9145ac68a2a",
   "metadata": {},
   "outputs": [
    {
     "data": {
      "text/plain": [
       "Index(['userid', 'satisfaction_1', 'satisfaction_2', 'satisfaction_3',\n",
       "       'satisfaction_4', 'satisfaction_5', 'satisfaction_6', 'credibility_1',\n",
       "       'credibility_2', 'credibility_3', 'credibility_4', 'credibility_5',\n",
       "       'credibility_6', 'credibility_7', 'credibility_8', 'credibility_9',\n",
       "       'credibility_10', 'credibility_11', 'credibility_12', 'motivation_1',\n",
       "       'motivation_2', 'motivation_3', 'motivation_4', 'motivation_5',\n",
       "       'motivation_6', 'motivation_7', 'motivation_8', 'motivation_9',\n",
       "       'motivation_10', 'motivation_11', 'motivation_12', 'anthropomorphism_1',\n",
       "       'anthropomorphism_2', 'anthropomorphism_3', 'anthropomorphism_4',\n",
       "       'control(reading_habits)', 'control(previous_experience_with_RS)',\n",
       "       'conscientiousness_1', 'conscientiousness_2', 'conscientiousness_3',\n",
       "       'conscientiousness_4', 'conscientiousness_5', 'age', 'gender', 'device',\n",
       "       'education', 'time', 'condition', 'prolific', 'timestart', 'genre',\n",
       "       'consent', 'mancheck1', 'mancheck2', 'calibrationid',\n",
       "       'recommendationid', '_merge'],\n",
       "      dtype='object')"
      ]
     },
     "execution_count": 30,
     "metadata": {},
     "output_type": "execute_result"
    }
   ],
   "source": [
    "filtered_df3.columns"
   ]
  },
  {
   "cell_type": "markdown",
   "id": "9f0e01c7-0aa4-40a6-8091-247487850d4c",
   "metadata": {},
   "source": [
    "### Saving CSV"
   ]
  },
  {
   "cell_type": "code",
   "execution_count": 31,
   "id": "a1b1449a-037f-4526-801a-769d281f9707",
   "metadata": {},
   "outputs": [],
   "source": [
    "filtered_df3.to_csv(\"results.csv\", index = False)"
   ]
  },
  {
   "cell_type": "markdown",
   "id": "e5a40433-3451-4dcd-b491-ed470fa8922a",
   "metadata": {},
   "source": [
    "### Removing those who did not consent and are under 18"
   ]
  },
  {
   "cell_type": "code",
   "execution_count": 32,
   "id": "fbc062e8-007d-48f3-b2e3-0b8a231a21a2",
   "metadata": {},
   "outputs": [],
   "source": [
    "data = \"results.csv\"\n",
    "\n",
    "df = pd.read_csv(data)"
   ]
  },
  {
   "cell_type": "code",
   "execution_count": 57,
   "id": "bd100e54-1b4a-4bc9-b362-20a4911f0e7d",
   "metadata": {},
   "outputs": [],
   "source": [
    "df = df[(df[\"consent\"] == 1) & (df[\"age\"] >= 18)]"
   ]
  },
  {
   "cell_type": "code",
   "execution_count": 58,
   "id": "642a8b5e-3d50-4f35-9e18-462bc64d636a",
   "metadata": {},
   "outputs": [
    {
     "data": {
      "text/plain": [
       "consent\n",
       "1.0    64\n",
       "Name: count, dtype: int64"
      ]
     },
     "execution_count": 58,
     "metadata": {},
     "output_type": "execute_result"
    }
   ],
   "source": [
    "df['consent'].value_counts()"
   ]
  },
  {
   "cell_type": "code",
   "execution_count": 59,
   "id": "fe50311b-f0b5-472d-86f4-176a501b672c",
   "metadata": {},
   "outputs": [],
   "source": [
    "#saving those that consented, and are above 18 to a csv\n",
    "df.to_csv(\"filtered.csv\", index = False)"
   ]
  },
  {
   "cell_type": "markdown",
   "id": "2d8e890b-5546-4908-bc09-19e12e877bdc",
   "metadata": {},
   "source": [
    "### Making new variables"
   ]
  },
  {
   "cell_type": "code",
   "execution_count": 60,
   "id": "b4854967-9d25-46fa-95fd-7775420c9528",
   "metadata": {},
   "outputs": [],
   "source": [
    "#make the variable satisfaction\n",
    "df['satisfaction'] = df[['satisfaction_1', 'satisfaction_2', 'satisfaction_3', 'satisfaction_4', 'satisfaction_5', 'satisfaction_6']].mean(axis=1)"
   ]
  },
  {
   "cell_type": "code",
   "execution_count": 61,
   "id": "8ef748fe-87e5-4a00-a619-4f5f133f8f30",
   "metadata": {},
   "outputs": [],
   "source": [
    "#make the variable motivation\n",
    "df['motivation'] = df[['motivation_1', 'motivation_2', 'motivation_3', 'motivation_4', 'motivation_5', 'motivation_6', 'motivation_7']].mean(axis=1)"
   ]
  },
  {
   "cell_type": "markdown",
   "id": "59b7f0a3-9728-4d14-bca7-331d87764de0",
   "metadata": {},
   "source": [
    "### Removing -1 values from manipulation check"
   ]
  },
  {
   "cell_type": "code",
   "execution_count": 62,
   "id": "e2c11fd5-1738-46d8-bc3e-4cbe50accfb2",
   "metadata": {},
   "outputs": [],
   "source": [
    "df = df[df['mancheck1'] != -1]"
   ]
  },
  {
   "cell_type": "code",
   "execution_count": 63,
   "id": "39cbcc8d-b736-4cb2-ab49-0d9a2f87bdeb",
   "metadata": {},
   "outputs": [],
   "source": [
    "df.to_csv('filtered.csv', index = False)"
   ]
  },
  {
   "cell_type": "markdown",
   "id": "4dd0a3f0-940c-47c0-b78d-dd2463c8f25d",
   "metadata": {},
   "source": [
    "## Exploratory Analysis"
   ]
  },
  {
   "cell_type": "code",
   "execution_count": 64,
   "id": "266dcaed-d13f-44dd-b2a3-8ca8d3962e70",
   "metadata": {},
   "outputs": [
    {
     "data": {
      "text/html": [
       "<div>\n",
       "<style scoped>\n",
       "    .dataframe tbody tr th:only-of-type {\n",
       "        vertical-align: middle;\n",
       "    }\n",
       "\n",
       "    .dataframe tbody tr th {\n",
       "        vertical-align: top;\n",
       "    }\n",
       "\n",
       "    .dataframe thead th {\n",
       "        text-align: right;\n",
       "    }\n",
       "</style>\n",
       "<table border=\"1\" class=\"dataframe\">\n",
       "  <thead>\n",
       "    <tr style=\"text-align: right;\">\n",
       "      <th></th>\n",
       "      <th>userid</th>\n",
       "      <th>satisfaction_1</th>\n",
       "      <th>satisfaction_2</th>\n",
       "      <th>satisfaction_3</th>\n",
       "      <th>satisfaction_4</th>\n",
       "      <th>satisfaction_5</th>\n",
       "      <th>satisfaction_6</th>\n",
       "      <th>credibility_1</th>\n",
       "      <th>credibility_2</th>\n",
       "      <th>credibility_3</th>\n",
       "      <th>...</th>\n",
       "      <th>timestart</th>\n",
       "      <th>genre</th>\n",
       "      <th>consent</th>\n",
       "      <th>mancheck1</th>\n",
       "      <th>mancheck2</th>\n",
       "      <th>calibrationid</th>\n",
       "      <th>recommendationid</th>\n",
       "      <th>_merge</th>\n",
       "      <th>satisfaction</th>\n",
       "      <th>motivation</th>\n",
       "    </tr>\n",
       "  </thead>\n",
       "  <tbody>\n",
       "    <tr>\n",
       "      <th>0</th>\n",
       "      <td>599</td>\n",
       "      <td>4</td>\n",
       "      <td>2</td>\n",
       "      <td>2</td>\n",
       "      <td>2</td>\n",
       "      <td>2.0</td>\n",
       "      <td>2.0</td>\n",
       "      <td>4.0</td>\n",
       "      <td>2.0</td>\n",
       "      <td>2.0</td>\n",
       "      <td>...</td>\n",
       "      <td>2024-06-21 14:06:27</td>\n",
       "      <td>3.0</td>\n",
       "      <td>1.0</td>\n",
       "      <td>0.0</td>\n",
       "      <td>2.0</td>\n",
       "      <td>683.0</td>\n",
       "      <td>2017.0</td>\n",
       "      <td>both in master and using data</td>\n",
       "      <td>2.333333</td>\n",
       "      <td>3.000000</td>\n",
       "    </tr>\n",
       "    <tr>\n",
       "      <th>1</th>\n",
       "      <td>600</td>\n",
       "      <td>7</td>\n",
       "      <td>7</td>\n",
       "      <td>7</td>\n",
       "      <td>7</td>\n",
       "      <td>7.0</td>\n",
       "      <td>7.0</td>\n",
       "      <td>5.0</td>\n",
       "      <td>5.0</td>\n",
       "      <td>5.0</td>\n",
       "      <td>...</td>\n",
       "      <td>2024-06-21 14:29:48</td>\n",
       "      <td>1.0</td>\n",
       "      <td>1.0</td>\n",
       "      <td>0.0</td>\n",
       "      <td>4.0</td>\n",
       "      <td>769.0</td>\n",
       "      <td>1841.0</td>\n",
       "      <td>both in master and using data</td>\n",
       "      <td>7.000000</td>\n",
       "      <td>3.285714</td>\n",
       "    </tr>\n",
       "    <tr>\n",
       "      <th>2</th>\n",
       "      <td>601</td>\n",
       "      <td>4</td>\n",
       "      <td>4</td>\n",
       "      <td>4</td>\n",
       "      <td>4</td>\n",
       "      <td>4.0</td>\n",
       "      <td>4.0</td>\n",
       "      <td>7.0</td>\n",
       "      <td>7.0</td>\n",
       "      <td>7.0</td>\n",
       "      <td>...</td>\n",
       "      <td>2024-06-21 14:33:58</td>\n",
       "      <td>1.0</td>\n",
       "      <td>1.0</td>\n",
       "      <td>1.0</td>\n",
       "      <td>4.0</td>\n",
       "      <td>305.0</td>\n",
       "      <td>304.0</td>\n",
       "      <td>both in master and using data</td>\n",
       "      <td>4.000000</td>\n",
       "      <td>7.000000</td>\n",
       "    </tr>\n",
       "    <tr>\n",
       "      <th>3</th>\n",
       "      <td>602</td>\n",
       "      <td>6</td>\n",
       "      <td>7</td>\n",
       "      <td>6</td>\n",
       "      <td>5</td>\n",
       "      <td>5.0</td>\n",
       "      <td>7.0</td>\n",
       "      <td>7.0</td>\n",
       "      <td>4.0</td>\n",
       "      <td>5.0</td>\n",
       "      <td>...</td>\n",
       "      <td>2024-06-21 14:35:16</td>\n",
       "      <td>1.0</td>\n",
       "      <td>1.0</td>\n",
       "      <td>1.0</td>\n",
       "      <td>4.0</td>\n",
       "      <td>417.0</td>\n",
       "      <td>418.0</td>\n",
       "      <td>both in master and using data</td>\n",
       "      <td>6.000000</td>\n",
       "      <td>3.857143</td>\n",
       "    </tr>\n",
       "    <tr>\n",
       "      <th>4</th>\n",
       "      <td>603</td>\n",
       "      <td>6</td>\n",
       "      <td>7</td>\n",
       "      <td>7</td>\n",
       "      <td>7</td>\n",
       "      <td>6.0</td>\n",
       "      <td>7.0</td>\n",
       "      <td>6.0</td>\n",
       "      <td>7.0</td>\n",
       "      <td>7.0</td>\n",
       "      <td>...</td>\n",
       "      <td>2024-06-21 14:39:19</td>\n",
       "      <td>1.0</td>\n",
       "      <td>1.0</td>\n",
       "      <td>1.0</td>\n",
       "      <td>3.0</td>\n",
       "      <td>1277.0</td>\n",
       "      <td>1276.0</td>\n",
       "      <td>both in master and using data</td>\n",
       "      <td>6.666667</td>\n",
       "      <td>4.714286</td>\n",
       "    </tr>\n",
       "  </tbody>\n",
       "</table>\n",
       "<p>5 rows × 59 columns</p>\n",
       "</div>"
      ],
      "text/plain": [
       "   userid  satisfaction_1  satisfaction_2  satisfaction_3  satisfaction_4  \\\n",
       "0     599               4               2               2               2   \n",
       "1     600               7               7               7               7   \n",
       "2     601               4               4               4               4   \n",
       "3     602               6               7               6               5   \n",
       "4     603               6               7               7               7   \n",
       "\n",
       "   satisfaction_5  satisfaction_6  credibility_1  credibility_2  \\\n",
       "0             2.0             2.0            4.0            2.0   \n",
       "1             7.0             7.0            5.0            5.0   \n",
       "2             4.0             4.0            7.0            7.0   \n",
       "3             5.0             7.0            7.0            4.0   \n",
       "4             6.0             7.0            6.0            7.0   \n",
       "\n",
       "   credibility_3  ...            timestart  genre  consent  mancheck1  \\\n",
       "0            2.0  ...  2024-06-21 14:06:27    3.0      1.0        0.0   \n",
       "1            5.0  ...  2024-06-21 14:29:48    1.0      1.0        0.0   \n",
       "2            7.0  ...  2024-06-21 14:33:58    1.0      1.0        1.0   \n",
       "3            5.0  ...  2024-06-21 14:35:16    1.0      1.0        1.0   \n",
       "4            7.0  ...  2024-06-21 14:39:19    1.0      1.0        1.0   \n",
       "\n",
       "   mancheck2  calibrationid  recommendationid                         _merge  \\\n",
       "0        2.0          683.0            2017.0  both in master and using data   \n",
       "1        4.0          769.0            1841.0  both in master and using data   \n",
       "2        4.0          305.0             304.0  both in master and using data   \n",
       "3        4.0          417.0             418.0  both in master and using data   \n",
       "4        3.0         1277.0            1276.0  both in master and using data   \n",
       "\n",
       "   satisfaction  motivation  \n",
       "0      2.333333    3.000000  \n",
       "1      7.000000    3.285714  \n",
       "2      4.000000    7.000000  \n",
       "3      6.000000    3.857143  \n",
       "4      6.666667    4.714286  \n",
       "\n",
       "[5 rows x 59 columns]"
      ]
     },
     "execution_count": 64,
     "metadata": {},
     "output_type": "execute_result"
    }
   ],
   "source": [
    "df.head()"
   ]
  },
  {
   "cell_type": "code",
   "execution_count": 65,
   "id": "178d58ca-8758-4ae7-8575-56723844d846",
   "metadata": {},
   "outputs": [
    {
     "data": {
      "text/plain": [
       "(64, 59)"
      ]
     },
     "execution_count": 65,
     "metadata": {},
     "output_type": "execute_result"
    }
   ],
   "source": [
    "df.shape"
   ]
  },
  {
   "cell_type": "code",
   "execution_count": 66,
   "id": "d796dfe4-ec95-40a0-8b9d-802f620ad08a",
   "metadata": {},
   "outputs": [
    {
     "data": {
      "text/plain": [
       "Index(['userid', 'satisfaction_1', 'satisfaction_2', 'satisfaction_3',\n",
       "       'satisfaction_4', 'satisfaction_5', 'satisfaction_6', 'credibility_1',\n",
       "       'credibility_2', 'credibility_3', 'credibility_4', 'credibility_5',\n",
       "       'credibility_6', 'credibility_7', 'credibility_8', 'credibility_9',\n",
       "       'credibility_10', 'credibility_11', 'credibility_12', 'motivation_1',\n",
       "       'motivation_2', 'motivation_3', 'motivation_4', 'motivation_5',\n",
       "       'motivation_6', 'motivation_7', 'motivation_8', 'motivation_9',\n",
       "       'motivation_10', 'motivation_11', 'motivation_12', 'anthropomorphism_1',\n",
       "       'anthropomorphism_2', 'anthropomorphism_3', 'anthropomorphism_4',\n",
       "       'control(reading_habits)', 'control(previous_experience_with_RS)',\n",
       "       'conscientiousness_1', 'conscientiousness_2', 'conscientiousness_3',\n",
       "       'conscientiousness_4', 'conscientiousness_5', 'age', 'gender', 'device',\n",
       "       'education', 'time', 'condition', 'prolific', 'timestart', 'genre',\n",
       "       'consent', 'mancheck1', 'mancheck2', 'calibrationid',\n",
       "       'recommendationid', '_merge', 'satisfaction', 'motivation'],\n",
       "      dtype='object')"
      ]
     },
     "execution_count": 66,
     "metadata": {},
     "output_type": "execute_result"
    }
   ],
   "source": [
    "df.columns"
   ]
  },
  {
   "cell_type": "markdown",
   "id": "616f97fe-f755-4020-a7da-d742f121d9c5",
   "metadata": {},
   "source": [
    "### Descriptives and visualisation"
   ]
  },
  {
   "cell_type": "markdown",
   "id": "bfd543e2-77e0-4fb4-b501-b5bb9271749b",
   "metadata": {},
   "source": [
    "#### Condition"
   ]
  },
  {
   "cell_type": "code",
   "execution_count": 67,
   "id": "11da4a96-ef1f-43dc-9777-61de0c12a9d0",
   "metadata": {},
   "outputs": [
    {
     "data": {
      "text/plain": [
       "condition\n",
       "1    41\n",
       "0    23\n",
       "Name: count, dtype: int64"
      ]
     },
     "execution_count": 67,
     "metadata": {},
     "output_type": "execute_result"
    }
   ],
   "source": [
    "df['condition'].value_counts()"
   ]
  },
  {
   "cell_type": "code",
   "execution_count": 68,
   "id": "b06ce6a2-7b30-4ac4-89a4-a4e4c688fd34",
   "metadata": {},
   "outputs": [
    {
     "data": {
      "text/plain": [
       "<Axes: xlabel='condition', ylabel='count'>"
      ]
     },
     "execution_count": 68,
     "metadata": {},
     "output_type": "execute_result"
    },
    {
     "data": {
      "image/png": "[encoded data removed]",
      "text/plain": [
       "<Figure size 640x480 with 1 Axes>"
      ]
     },
     "metadata": {},
     "output_type": "display_data"
    }
   ],
   "source": [
    "sns.countplot(x='condition', data=df)"
   ]
  },
  {
   "cell_type": "markdown",
   "id": "226b1475-0c23-412f-8de0-2c04c16dea27",
   "metadata": {},
   "source": [
    "#### Education"
   ]
  },
  {
   "cell_type": "code",
   "execution_count": 48,
   "id": "95ba6767-37ac-4037-82ac-7e16aba62c25",
   "metadata": {},
   "outputs": [
    {
     "data": {
      "text/plain": [
       "education\n",
       "2.0    39\n",
       "4.0    14\n",
       "5.0     9\n",
       "3.0     1\n",
       "1.0     1\n",
       "Name: count, dtype: int64"
      ]
     },
     "execution_count": 48,
     "metadata": {},
     "output_type": "execute_result"
    }
   ],
   "source": [
    "df['education'].value_counts()"
   ]
  },
  {
   "cell_type": "code",
   "execution_count": 51,
   "id": "ccb131d9-28e4-4cf8-a916-3b2e7ae27c8f",
   "metadata": {},
   "outputs": [
    {
     "data": {
      "text/plain": [
       "count    64.000000\n",
       "mean      2.859375\n",
       "std       1.206690\n",
       "min       1.000000\n",
       "25%       2.000000\n",
       "50%       2.000000\n",
       "75%       4.000000\n",
       "max       5.000000\n",
       "Name: education, dtype: float64"
      ]
     },
     "execution_count": 51,
     "metadata": {},
     "output_type": "execute_result"
    }
   ],
   "source": [
    "df['education'].describe()"
   ]
  },
  {
   "cell_type": "code",
   "execution_count": 52,
   "id": "f1292d83-8667-45e3-8242-453164a1e5d2",
   "metadata": {},
   "outputs": [
    {
     "data": {
      "text/plain": [
       "<Axes: xlabel='education', ylabel='Count'>"
      ]
     },
     "execution_count": 52,
     "metadata": {},
     "output_type": "execute_result"
    },
    {
     "data": {
      "image/png": "[encoded data removed]",
      "text/plain": [
       "<Figure size 640x480 with 1 Axes>"
      ]
     },
     "metadata": {},
     "output_type": "display_data"
    }
   ],
   "source": [
    "sns.histplot(x = 'education', data = df)"
   ]
  },
  {
   "cell_type": "markdown",
   "id": "53dbcfbe-6fd2-4b7c-911c-e41f322ea315",
   "metadata": {},
   "source": [
    "#### Gender"
   ]
  },
  {
   "cell_type": "code",
   "execution_count": 49,
   "id": "519c7e07-89b3-4032-b2da-b579f216845e",
   "metadata": {},
   "outputs": [
    {
     "data": {
      "text/plain": [
       "gender\n",
       "1.0    47\n",
       "2.0    17\n",
       "Name: count, dtype: int64"
      ]
     },
     "execution_count": 49,
     "metadata": {},
     "output_type": "execute_result"
    }
   ],
   "source": [
    "df['gender'].value_counts()"
   ]
  },
  {
   "cell_type": "code",
   "execution_count": 53,
   "id": "f9d7b33a-115d-4919-91e7-f4ac0303933a",
   "metadata": {},
   "outputs": [
    {
     "data": {
      "text/plain": [
       "<Axes: xlabel='gender', ylabel='Count'>"
      ]
     },
     "execution_count": 53,
     "metadata": {},
     "output_type": "execute_result"
    },
    {
     "data": {
      "image/png": "[encoded data removed]",
      "text/plain": [
       "<Figure size 640x480 with 1 Axes>"
      ]
     },
     "metadata": {},
     "output_type": "display_data"
    }
   ],
   "source": [
    "sns.histplot(x = 'gender', data = df)"
   ]
  },
  {
   "cell_type": "markdown",
   "id": "fdf1d853-af91-4591-addf-72f18c30af79",
   "metadata": {},
   "source": [
    "#### Age"
   ]
  },
  {
   "cell_type": "code",
   "execution_count": 69,
   "id": "314e1955-72d0-4db0-b2c1-34cf06083a10",
   "metadata": {},
   "outputs": [
    {
     "data": {
      "text/plain": [
       "count    64.000000\n",
       "mean     29.375000\n",
       "std      16.757372\n",
       "min      19.000000\n",
       "25%      20.000000\n",
       "50%      21.000000\n",
       "75%      24.250000\n",
       "max      74.000000\n",
       "Name: age, dtype: float64"
      ]
     },
     "execution_count": 69,
     "metadata": {},
     "output_type": "execute_result"
    }
   ],
   "source": [
    "df['age'].describe()"
   ]
  },
  {
   "cell_type": "code",
   "execution_count": 55,
   "id": "2eb22d0f-e069-4ca6-9c20-2c7ce8b21779",
   "metadata": {},
   "outputs": [
    {
     "data": {
      "text/plain": [
       "<Axes: xlabel='age', ylabel='Count'>"
      ]
     },
     "execution_count": 55,
     "metadata": {},
     "output_type": "execute_result"
    },
    {
     "data": {
      "image/png": "[encoded data removed]",
      "text/plain": [
       "<Figure size 640x480 with 1 Axes>"
      ]
     },
     "metadata": {},
     "output_type": "display_data"
    }
   ],
   "source": [
    "sns.histplot(x = 'age', data = df)"
   ]
  },
  {
   "cell_type": "markdown",
   "id": "6532ace4-227d-4024-82f1-fa6f103e08ed",
   "metadata": {},
   "source": [
    "## Randomization Checks"
   ]
  },
  {
   "cell_type": "markdown",
   "id": "ef4652f6-b4f3-4fcf-b798-2823e3dc6621",
   "metadata": {},
   "source": [
    "### Gender"
   ]
  },
  {
   "cell_type": "code",
   "execution_count": 87,
   "id": "f72959ea-c4f0-4de7-a4f8-abc4a0dcf0c9",
   "metadata": {},
   "outputs": [
    {
     "data": {
      "text/html": [
       "<div>\n",
       "<style scoped>\n",
       "    .dataframe tbody tr th:only-of-type {\n",
       "        vertical-align: middle;\n",
       "    }\n",
       "\n",
       "    .dataframe tbody tr th {\n",
       "        vertical-align: top;\n",
       "    }\n",
       "\n",
       "    .dataframe thead th {\n",
       "        text-align: right;\n",
       "    }\n",
       "</style>\n",
       "<table border=\"1\" class=\"dataframe\">\n",
       "  <thead>\n",
       "    <tr style=\"text-align: right;\">\n",
       "      <th>condition</th>\n",
       "      <th>0</th>\n",
       "      <th>1</th>\n",
       "    </tr>\n",
       "    <tr>\n",
       "      <th>gender</th>\n",
       "      <th></th>\n",
       "      <th></th>\n",
       "    </tr>\n",
       "  </thead>\n",
       "  <tbody>\n",
       "    <tr>\n",
       "      <th>1.0</th>\n",
       "      <td>15</td>\n",
       "      <td>32</td>\n",
       "    </tr>\n",
       "    <tr>\n",
       "      <th>2.0</th>\n",
       "      <td>8</td>\n",
       "      <td>9</td>\n",
       "    </tr>\n",
       "  </tbody>\n",
       "</table>\n",
       "</div>"
      ],
      "text/plain": [
       "condition   0   1\n",
       "gender           \n",
       "1.0        15  32\n",
       "2.0         8   9"
      ]
     },
     "execution_count": 87,
     "metadata": {},
     "output_type": "execute_result"
    }
   ],
   "source": [
    "#Crosstab for gender\n",
    "mycrosstab = pd.crosstab(df['gender'], df[\"condition\"])\n",
    "mycrosstab"
   ]
  },
  {
   "cell_type": "code",
   "execution_count": 84,
   "id": "253e3384-d8e6-46da-8d65-b0eddd832b93",
   "metadata": {},
   "outputs": [
    {
     "name": "stdout",
     "output_type": "stream",
     "text": [
      "𝜒²(1) = 0.673, p = 0.412 \n",
      "V = 0.139\n"
     ]
    }
   ],
   "source": [
    "#Chisquare analysis for gender\n",
    "c, p, dof, expected = contingency.chi2_contingency(mycrosstab)\n",
    "print(f\"𝜒²({dof:.0f}) = {c:.3f}, p = {p:.3f} \")\n",
    "\n",
    "# Cramer's V \n",
    "print(f\"V = {contingency.association(mycrosstab,method='cramer'):.3f}\")"
   ]
  },
  {
   "cell_type": "markdown",
   "id": "73a2f2a3-469f-4155-bc91-92be4ec9c274",
   "metadata": {},
   "source": [
    "### Education"
   ]
  },
  {
   "cell_type": "code",
   "execution_count": 85,
   "id": "f7161bcf-cda4-431a-b4e7-552437702a20",
   "metadata": {},
   "outputs": [
    {
     "data": {
      "text/html": [
       "<div>\n",
       "<style scoped>\n",
       "    .dataframe tbody tr th:only-of-type {\n",
       "        vertical-align: middle;\n",
       "    }\n",
       "\n",
       "    .dataframe tbody tr th {\n",
       "        vertical-align: top;\n",
       "    }\n",
       "\n",
       "    .dataframe thead th {\n",
       "        text-align: right;\n",
       "    }\n",
       "</style>\n",
       "<table border=\"1\" class=\"dataframe\">\n",
       "  <thead>\n",
       "    <tr style=\"text-align: right;\">\n",
       "      <th>condition</th>\n",
       "      <th>0</th>\n",
       "      <th>1</th>\n",
       "    </tr>\n",
       "    <tr>\n",
       "      <th>education</th>\n",
       "      <th></th>\n",
       "      <th></th>\n",
       "    </tr>\n",
       "  </thead>\n",
       "  <tbody>\n",
       "    <tr>\n",
       "      <th>1.0</th>\n",
       "      <td>1</td>\n",
       "      <td>0</td>\n",
       "    </tr>\n",
       "    <tr>\n",
       "      <th>2.0</th>\n",
       "      <td>14</td>\n",
       "      <td>25</td>\n",
       "    </tr>\n",
       "    <tr>\n",
       "      <th>3.0</th>\n",
       "      <td>1</td>\n",
       "      <td>0</td>\n",
       "    </tr>\n",
       "    <tr>\n",
       "      <th>4.0</th>\n",
       "      <td>2</td>\n",
       "      <td>12</td>\n",
       "    </tr>\n",
       "    <tr>\n",
       "      <th>5.0</th>\n",
       "      <td>5</td>\n",
       "      <td>4</td>\n",
       "    </tr>\n",
       "  </tbody>\n",
       "</table>\n",
       "</div>"
      ],
      "text/plain": [
       "condition   0   1\n",
       "education        \n",
       "1.0         1   0\n",
       "2.0        14  25\n",
       "3.0         1   0\n",
       "4.0         2  12\n",
       "5.0         5   4"
      ]
     },
     "execution_count": 85,
     "metadata": {},
     "output_type": "execute_result"
    }
   ],
   "source": [
    "#crosstab for education\n",
    "mycrosstab = pd.crosstab(df['education'], df[\"condition\"])\n",
    "mycrosstab"
   ]
  },
  {
   "cell_type": "code",
   "execution_count": 86,
   "id": "bc6244d9-e3f2-45b7-ba63-cc3921bc1594",
   "metadata": {},
   "outputs": [
    {
     "name": "stdout",
     "output_type": "stream",
     "text": [
      "𝜒²(4) = 7.921, p = 0.095 \n",
      "V = 0.352\n"
     ]
    }
   ],
   "source": [
    "# Chisquare analysis for education\n",
    "c, p, dof, expected = contingency.chi2_contingency(mycrosstab)\n",
    "print(f\"𝜒²({dof:.0f}) = {c:.3f}, p = {p:.3f} \")\n",
    "\n",
    "# Cramer's V for education\n",
    "print(f\"V = {contingency.association(mycrosstab,method='cramer'):.3f}\")"
   ]
  },
  {
   "cell_type": "markdown",
   "id": "a49119e7-194b-4146-9a1c-5278c1835a61",
   "metadata": {},
   "source": [
    "### Age"
   ]
  },
  {
   "cell_type": "code",
   "execution_count": 88,
   "id": "dca98602-0c0d-433d-beff-f013167ce769",
   "metadata": {},
   "outputs": [
    {
     "name": "stdout",
     "output_type": "stream",
     "text": [
      "We compare 0 (M=31.52, SD=18.443) with 1 (M=28.17, SD=15.383), t(38.921246238017)=0.725, p=0.4729.\n"
     ]
    },
    {
     "data": {
      "text/html": [
       "<div>\n",
       "<style scoped>\n",
       "    .dataframe tbody tr th:only-of-type {\n",
       "        vertical-align: middle;\n",
       "    }\n",
       "\n",
       "    .dataframe tbody tr th {\n",
       "        vertical-align: top;\n",
       "    }\n",
       "\n",
       "    .dataframe thead th {\n",
       "        text-align: right;\n",
       "    }\n",
       "</style>\n",
       "<table border=\"1\" class=\"dataframe\">\n",
       "  <thead>\n",
       "    <tr style=\"text-align: right;\">\n",
       "      <th></th>\n",
       "      <th>T</th>\n",
       "      <th>dof</th>\n",
       "      <th>alternative</th>\n",
       "      <th>p-val</th>\n",
       "      <th>CI95%</th>\n",
       "      <th>cohen-d</th>\n",
       "      <th>BF10</th>\n",
       "      <th>power</th>\n",
       "    </tr>\n",
       "  </thead>\n",
       "  <tbody>\n",
       "    <tr>\n",
       "      <th>T-test</th>\n",
       "      <td>0.724762</td>\n",
       "      <td>38.921246</td>\n",
       "      <td>two-sided</td>\n",
       "      <td>0.472933</td>\n",
       "      <td>[-6.0, 12.7]</td>\n",
       "      <td>0.199313</td>\n",
       "      <td>0.329</td>\n",
       "      <td>0.117107</td>\n",
       "    </tr>\n",
       "  </tbody>\n",
       "</table>\n",
       "</div>"
      ],
      "text/plain": [
       "               T        dof alternative     p-val         CI95%   cohen-d  \\\n",
       "T-test  0.724762  38.921246   two-sided  0.472933  [-6.0, 12.7]  0.199313   \n",
       "\n",
       "         BF10     power  \n",
       "T-test  0.329  0.117107  "
      ]
     },
     "execution_count": 88,
     "metadata": {},
     "output_type": "execute_result"
    }
   ],
   "source": [
    "#Using a t-test to check randomization for the variable age\n",
    "(label1, values1), (label2, values2) = df.groupby('condition')['age']\n",
    "\n",
    "testresult = pg.ttest(values1, values2)\n",
    "\n",
    "print(f\"We compare {label1} (M={np.mean(values1):.2f}, SD={np.std(values1):.3f}) \"\n",
    "     f\"with {label2} (M={np.mean(values2):.2f}, SD={np.std(values2):.3f}), \"\n",
    "     f\"t({testresult.iloc[0,1]})={testresult.iloc[0,0]:.3f}, \"\n",
    "     f\"p={testresult.iloc[0,3]:.4f}.\")\n",
    "\n",
    "testresult"
   ]
  },
  {
   "cell_type": "markdown",
   "id": "16961de0-89ca-472e-a709-b8dafedf1039",
   "metadata": {},
   "source": [
    "### Reading frequency - Control variable"
   ]
  },
  {
   "cell_type": "code",
   "execution_count": 90,
   "id": "d05e2696-b566-46ac-afef-4501706992b0",
   "metadata": {},
   "outputs": [
    {
     "name": "stdout",
     "output_type": "stream",
     "text": [
      "We compare 0 (M=4.22, SD=1.768) with 1 (M=4.22, SD=1.660), t(42.954431202754535)=-0.005, p=0.9963.\n"
     ]
    },
    {
     "data": {
      "text/html": [
       "<div>\n",
       "<style scoped>\n",
       "    .dataframe tbody tr th:only-of-type {\n",
       "        vertical-align: middle;\n",
       "    }\n",
       "\n",
       "    .dataframe tbody tr th {\n",
       "        vertical-align: top;\n",
       "    }\n",
       "\n",
       "    .dataframe thead th {\n",
       "        text-align: right;\n",
       "    }\n",
       "</style>\n",
       "<table border=\"1\" class=\"dataframe\">\n",
       "  <thead>\n",
       "    <tr style=\"text-align: right;\">\n",
       "      <th></th>\n",
       "      <th>T</th>\n",
       "      <th>dof</th>\n",
       "      <th>alternative</th>\n",
       "      <th>p-val</th>\n",
       "      <th>CI95%</th>\n",
       "      <th>cohen-d</th>\n",
       "      <th>BF10</th>\n",
       "      <th>power</th>\n",
       "    </tr>\n",
       "  </thead>\n",
       "  <tbody>\n",
       "    <tr>\n",
       "      <th>T-test</th>\n",
       "      <td>-0.004617</td>\n",
       "      <td>42.954431</td>\n",
       "      <td>two-sided</td>\n",
       "      <td>0.996338</td>\n",
       "      <td>[-0.93, 0.92]</td>\n",
       "      <td>0.001228</td>\n",
       "      <td>0.264</td>\n",
       "      <td>0.050002</td>\n",
       "    </tr>\n",
       "  </tbody>\n",
       "</table>\n",
       "</div>"
      ],
      "text/plain": [
       "               T        dof alternative     p-val          CI95%   cohen-d  \\\n",
       "T-test -0.004617  42.954431   two-sided  0.996338  [-0.93, 0.92]  0.001228   \n",
       "\n",
       "         BF10     power  \n",
       "T-test  0.264  0.050002  "
      ]
     },
     "execution_count": 90,
     "metadata": {},
     "output_type": "execute_result"
    }
   ],
   "source": [
    "#Using a t-test to check randomization for the control variable reading habits\n",
    "(label1, values1), (label2, values2) = df.groupby('condition')['control(reading_habits)']\n",
    "\n",
    "testresult = pg.ttest(values1, values2)\n",
    "\n",
    "print(f\"We compare {label1} (M={np.mean(values1):.2f}, SD={np.std(values1):.3f}) \"\n",
    "     f\"with {label2} (M={np.mean(values2):.2f}, SD={np.std(values2):.3f}), \"\n",
    "     f\"t({testresult.iloc[0,1]})={testresult.iloc[0,0]:.3f}, \"\n",
    "     f\"p={testresult.iloc[0,3]:.4f}.\")\n",
    "\n",
    "testresult"
   ]
  },
  {
   "cell_type": "markdown",
   "id": "659a9770-0ae6-4b68-b13c-575e17900dba",
   "metadata": {},
   "source": [
    "### Previous experience with Recommender Systems"
   ]
  },
  {
   "cell_type": "code",
   "execution_count": 91,
   "id": "2387d41b-9a28-4776-9b81-216b878782c5",
   "metadata": {},
   "outputs": [
    {
     "name": "stdout",
     "output_type": "stream",
     "text": [
      "We compare 0 (M=3.65, SD=1.991) with 1 (M=3.61, SD=1.949), t(44.49458981495145)=0.081, p=0.9359.\n"
     ]
    },
    {
     "data": {
      "text/html": [
       "<div>\n",
       "<style scoped>\n",
       "    .dataframe tbody tr th:only-of-type {\n",
       "        vertical-align: middle;\n",
       "    }\n",
       "\n",
       "    .dataframe tbody tr th {\n",
       "        vertical-align: top;\n",
       "    }\n",
       "\n",
       "    .dataframe thead th {\n",
       "        text-align: right;\n",
       "    }\n",
       "</style>\n",
       "<table border=\"1\" class=\"dataframe\">\n",
       "  <thead>\n",
       "    <tr style=\"text-align: right;\">\n",
       "      <th></th>\n",
       "      <th>T</th>\n",
       "      <th>dof</th>\n",
       "      <th>alternative</th>\n",
       "      <th>p-val</th>\n",
       "      <th>CI95%</th>\n",
       "      <th>cohen-d</th>\n",
       "      <th>BF10</th>\n",
       "      <th>power</th>\n",
       "    </tr>\n",
       "  </thead>\n",
       "  <tbody>\n",
       "    <tr>\n",
       "      <th>T-test</th>\n",
       "      <td>0.080852</td>\n",
       "      <td>44.49459</td>\n",
       "      <td>two-sided</td>\n",
       "      <td>0.935923</td>\n",
       "      <td>[-1.01, 1.1]</td>\n",
       "      <td>0.021253</td>\n",
       "      <td>0.265</td>\n",
       "      <td>0.050739</td>\n",
       "    </tr>\n",
       "  </tbody>\n",
       "</table>\n",
       "</div>"
      ],
      "text/plain": [
       "               T       dof alternative     p-val         CI95%   cohen-d  \\\n",
       "T-test  0.080852  44.49459   two-sided  0.935923  [-1.01, 1.1]  0.021253   \n",
       "\n",
       "         BF10     power  \n",
       "T-test  0.265  0.050739  "
      ]
     },
     "execution_count": 91,
     "metadata": {},
     "output_type": "execute_result"
    }
   ],
   "source": [
    "#Using a t-test to check randomization for the control variable previous experience\n",
    "(label1, values1), (label2, values2) = df.groupby('condition')['control(previous_experience_with_RS)']\n",
    "\n",
    "testresult = pg.ttest(values1, values2)\n",
    "\n",
    "print(f\"We compare {label1} (M={np.mean(values1):.2f}, SD={np.std(values1):.3f}) \"\n",
    "     f\"with {label2} (M={np.mean(values2):.2f}, SD={np.std(values2):.3f}), \"\n",
    "     f\"t({testresult.iloc[0,1]})={testresult.iloc[0,0]:.3f}, \"\n",
    "     f\"p={testresult.iloc[0,3]:.4f}.\")\n",
    "\n",
    "testresult"
   ]
  },
  {
   "cell_type": "markdown",
   "id": "32121245-3964-456c-aded-fc74357d4fcb",
   "metadata": {},
   "source": [
    "## Factor analysis"
   ]
  },
  {
   "cell_type": "markdown",
   "id": "2a5a7805-765b-4f35-9f1f-ed764c6ebf25",
   "metadata": {},
   "source": [
    "### Satisfaction"
   ]
  },
  {
   "cell_type": "code",
   "execution_count": 70,
   "id": "a460230c-fccc-4874-b828-770410714fa6",
   "metadata": {},
   "outputs": [
    {
     "name": "stdout",
     "output_type": "stream",
     "text": [
      "398.9874084290611 1.1290238187686243e-75\n",
      "0.8789911143153291\n"
     ]
    }
   ],
   "source": [
    "#for satisfaction\n",
    "items = df[['satisfaction_1','satisfaction_2','satisfaction_3','satisfaction_4','satisfaction_5', 'satisfaction_6']]\n",
    "\n",
    "#CHECK ADEQUACY\n",
    "#Bartlett\n",
    "#p-value should be 0 (statistically sig.)\n",
    "chi_square_value,p_value=calculate_bartlett_sphericity(items)\n",
    "print(chi_square_value, p_value)\n",
    "\n",
    "#KMO\n",
    "#Value should be 0.6<\n",
    "kmo_all,kmo_model=calculate_kmo(items)\n",
    "print(kmo_model)"
   ]
  },
  {
   "cell_type": "code",
   "execution_count": 92,
   "id": "c57e90ab-fa45-4aa1-a9a2-fcd9307a0818",
   "metadata": {},
   "outputs": [
    {
     "name": "stderr",
     "output_type": "stream",
     "text": [
      "/Users/hannahwouters/Library/jupyterlab-desktop/jlab_server/lib/python3.8/site-packages/factor_analyzer/factor_analyzer.py:663: UserWarning: No rotation will be performed when the number of factors equals 1.\n",
      "  warnings.warn(\n"
     ]
    },
    {
     "data": {
      "text/html": [
       "<style>#sk-container-id-1 {color: black;}#sk-container-id-1 pre{padding: 0;}#sk-container-id-1 div.sk-toggleable {background-color: white;}#sk-container-id-1 label.sk-toggleable__label {cursor: pointer;display: block;width: 100%;margin-bottom: 0;padding: 0.3em;box-sizing: border-box;text-align: center;}#sk-container-id-1 label.sk-toggleable__label-arrow:before {content: \"▸\";float: left;margin-right: 0.25em;color: #696969;}#sk-container-id-1 label.sk-toggleable__label-arrow:hover:before {color: black;}#sk-container-id-1 div.sk-estimator:hover label.sk-toggleable__label-arrow:before {color: black;}#sk-container-id-1 div.sk-toggleable__content {max-height: 0;max-width: 0;overflow: hidden;text-align: left;background-color: #f0f8ff;}#sk-container-id-1 div.sk-toggleable__content pre {margin: 0.2em;color: black;border-radius: 0.25em;background-color: #f0f8ff;}#sk-container-id-1 input.sk-toggleable__control:checked~div.sk-toggleable__content {max-height: 200px;max-width: 100%;overflow: auto;}#sk-container-id-1 input.sk-toggleable__control:checked~label.sk-toggleable__label-arrow:before {content: \"▾\";}#sk-container-id-1 div.sk-estimator input.sk-toggleable__control:checked~label.sk-toggleable__label {background-color: #d4ebff;}#sk-container-id-1 div.sk-label input.sk-toggleable__control:checked~label.sk-toggleable__label {background-color: #d4ebff;}#sk-container-id-1 input.sk-hidden--visually {border: 0;clip: rect(1px 1px 1px 1px);clip: rect(1px, 1px, 1px, 1px);height: 1px;margin: -1px;overflow: hidden;padding: 0;position: absolute;width: 1px;}#sk-container-id-1 div.sk-estimator {font-family: monospace;background-color: #f0f8ff;border: 1px dotted black;border-radius: 0.25em;box-sizing: border-box;margin-bottom: 0.5em;}#sk-container-id-1 div.sk-estimator:hover {background-color: #d4ebff;}#sk-container-id-1 div.sk-parallel-item::after {content: \"\";width: 100%;border-bottom: 1px solid gray;flex-grow: 1;}#sk-container-id-1 div.sk-label:hover label.sk-toggleable__label {background-color: #d4ebff;}#sk-container-id-1 div.sk-serial::before {content: \"\";position: absolute;border-left: 1px solid gray;box-sizing: border-box;top: 0;bottom: 0;left: 50%;z-index: 0;}#sk-container-id-1 div.sk-serial {display: flex;flex-direction: column;align-items: center;background-color: white;padding-right: 0.2em;padding-left: 0.2em;position: relative;}#sk-container-id-1 div.sk-item {position: relative;z-index: 1;}#sk-container-id-1 div.sk-parallel {display: flex;align-items: stretch;justify-content: center;background-color: white;position: relative;}#sk-container-id-1 div.sk-item::before, #sk-container-id-1 div.sk-parallel-item::before {content: \"\";position: absolute;border-left: 1px solid gray;box-sizing: border-box;top: 0;bottom: 0;left: 50%;z-index: -1;}#sk-container-id-1 div.sk-parallel-item {display: flex;flex-direction: column;z-index: 1;position: relative;background-color: white;}#sk-container-id-1 div.sk-parallel-item:first-child::after {align-self: flex-end;width: 50%;}#sk-container-id-1 div.sk-parallel-item:last-child::after {align-self: flex-start;width: 50%;}#sk-container-id-1 div.sk-parallel-item:only-child::after {width: 0;}#sk-container-id-1 div.sk-dashed-wrapped {border: 1px dashed gray;margin: 0 0.4em 0.5em 0.4em;box-sizing: border-box;padding-bottom: 0.4em;background-color: white;}#sk-container-id-1 div.sk-label label {font-family: monospace;font-weight: bold;display: inline-block;line-height: 1.2em;}#sk-container-id-1 div.sk-label-container {text-align: center;}#sk-container-id-1 div.sk-container {/* jupyter's `normalize.less` sets `[hidden] { display: none; }` but bootstrap.min.css set `[hidden] { display: none !important; }` so we also need the `!important` here to be able to override the default hidden behavior on the sphinx rendered scikit-learn.org. See: https://github.com/scikit-learn/scikit-learn/issues/21755 */display: inline-block !important;position: relative;}#sk-container-id-1 div.sk-text-repr-fallback {display: none;}</style><div id=\"sk-container-id-1\" class=\"sk-top-container\"><div class=\"sk-text-repr-fallback\"><pre>FactorAnalyzer(n_factors=1, rotation_kwargs={})</pre><b>In a Jupyter environment, please rerun this cell to show the HTML representation or trust the notebook. <br />On GitHub, the HTML representation is unable to render, please try loading this page with nbviewer.org.</b></div><div class=\"sk-container\" hidden><div class=\"sk-item\"><div class=\"sk-estimator sk-toggleable\"><input class=\"sk-toggleable__control sk-hidden--visually\" id=\"sk-estimator-id-1\" type=\"checkbox\" checked><label for=\"sk-estimator-id-1\" class=\"sk-toggleable__label sk-toggleable__label-arrow\">FactorAnalyzer</label><div class=\"sk-toggleable__content\"><pre>FactorAnalyzer(n_factors=1, rotation_kwargs={})</pre></div></div></div></div></div>"
      ],
      "text/plain": [
       "FactorAnalyzer(n_factors=1, rotation_kwargs={})"
      ]
     },
     "execution_count": 92,
     "metadata": {},
     "output_type": "execute_result"
    }
   ],
   "source": [
    "# perform the factor analysis using the FactorAnalyzer class. You can specify the number of factors you want to extract using the n_factors parameter:\n",
    "fa = FactorAnalyzer(n_factors = 1)\n",
    "\n",
    "# fit the factor analysis model to your data\n",
    "fa.fit(df[['satisfaction_1','satisfaction_2','satisfaction_3','satisfaction_4','satisfaction_5', 'satisfaction_6']])"
   ]
  },
  {
   "cell_type": "code",
   "execution_count": 93,
   "id": "48b42204-bdb1-4aa4-85b8-4ebedfbd4aae",
   "metadata": {},
   "outputs": [
    {
     "data": {
      "text/plain": [
       "array([[-0.83075842],\n",
       "       [-0.86176644],\n",
       "       [-0.92446819],\n",
       "       [-0.85789451],\n",
       "       [-0.88507098],\n",
       "       [-0.91821079]])"
      ]
     },
     "execution_count": 93,
     "metadata": {},
     "output_type": "execute_result"
    }
   ],
   "source": [
    "# Get the factor loadings\n",
    "loadings = fa.loadings_\n",
    "\n",
    "loadings"
   ]
  },
  {
   "cell_type": "code",
   "execution_count": 94,
   "id": "6b843d4c-ddf4-48eb-ba13-5edef22cab72",
   "metadata": {},
   "outputs": [
    {
     "data": {
      "text/plain": [
       "array([0.69015956, 0.74264139, 0.85464143, 0.73598298, 0.78335064,\n",
       "       0.84311105])"
      ]
     },
     "execution_count": 94,
     "metadata": {},
     "output_type": "execute_result"
    }
   ],
   "source": [
    "# Get the communalities\n",
    "communalities = fa.get_communalities()\n",
    "\n",
    "communalities"
   ]
  },
  {
   "cell_type": "code",
   "execution_count": 95,
   "id": "45dc04ab-b762-4491-8c5c-d69c709623b3",
   "metadata": {},
   "outputs": [
    {
     "data": {
      "text/plain": [
       "array([[ 4.87,  0.48,  0.23,  0.18,  0.15,  0.09],\n",
       "       [ 4.65,  0.22,  0.03, -0.03, -0.07, -0.15]])"
      ]
     },
     "execution_count": 95,
     "metadata": {},
     "output_type": "execute_result"
    }
   ],
   "source": [
    "# Get the eigenvalues\n",
    "#         Returns\n",
    "#         -------\n",
    "#         original_eigen_values : :obj:`numpy.ndarray`\n",
    "#             The original eigenvalues\n",
    "#         common_factor_eigen_values : :obj:`numpy.ndarray`\n",
    "#             The common factor eigenvalues\n",
    "eigenvalues = fa.get_eigenvalues()\n",
    "\n",
    "np.round(eigenvalues, decimals = 2)"
   ]
  },
  {
   "cell_type": "code",
   "execution_count": 96,
   "id": "486a555c-2529-4f96-a94d-6752d2f87119",
   "metadata": {},
   "outputs": [
    {
     "data": {
      "text/plain": [
       "(array([4.64988706]), array([0.77498118]), array([0.77498118]))"
      ]
     },
     "execution_count": 96,
     "metadata": {},
     "output_type": "execute_result"
    }
   ],
   "source": [
    "# Get the variance explained by each factor;  \n",
    "#         Returns\n",
    "#         -------\n",
    "#         variance : :obj:`numpy.ndarray`\n",
    "#             The factor variances.\n",
    "#         proportional_variance : :obj:`numpy.ndarray`\n",
    "#             The proportional factor variances.\n",
    "#         cumulative_variances : :obj:`numpy.ndarray`\n",
    "#             The cumulative factor variances.\n",
    "variance_explained = fa.get_factor_variance()\n",
    "\n",
    "variance_explained"
   ]
  },
  {
   "cell_type": "markdown",
   "id": "312dc704-78db-4fac-95ce-a0f49efec9d9",
   "metadata": {},
   "source": [
    "### Checking validity of the variable satisfaction"
   ]
  },
  {
   "cell_type": "code",
   "execution_count": 97,
   "id": "bdca8174-528c-468f-b8a1-4457c69198c7",
   "metadata": {},
   "outputs": [
    {
     "data": {
      "text/plain": [
       "(0.952713821725009, array([0.932, 0.969]))"
      ]
     },
     "execution_count": 97,
     "metadata": {},
     "output_type": "execute_result"
    }
   ],
   "source": [
    "# Calculate the initial Cronbach's alpha\n",
    "pg.cronbach_alpha(items)"
   ]
  },
  {
   "cell_type": "code",
   "execution_count": 98,
   "id": "9bbf2595-3ade-4b17-8039-f8a010ad3572",
   "metadata": {},
   "outputs": [
    {
     "name": "stdout",
     "output_type": "stream",
     "text": [
      "Item removed: satisfaction_1\n",
      "Cronbach's alpha: (0.9489063462723352, array([0.926, 0.966]))\n",
      "\n",
      "Item removed: satisfaction_2\n",
      "Cronbach's alpha: (0.945911973402216, array([0.922, 0.964]))\n",
      "\n",
      "Item removed: satisfaction_3\n",
      "Cronbach's alpha: (0.938603315181617, array([0.911, 0.96 ]))\n",
      "\n",
      "Item removed: satisfaction_4\n",
      "Cronbach's alpha: (0.9455365492518704, array([0.921, 0.964]))\n",
      "\n",
      "Item removed: satisfaction_5\n",
      "Cronbach's alpha: (0.9432677303056393, array([0.918, 0.963]))\n",
      "\n",
      "Item removed: satisfaction_6\n",
      "Cronbach's alpha: (0.9401118174450411, array([0.913, 0.961]))\n",
      "\n"
     ]
    }
   ],
   "source": [
    "# calculate the alpha value without each item\n",
    "alpha_deleted_items = []\n",
    "for item in items.columns:\n",
    "    reduced_data = items.drop(item, axis=1)\n",
    "    alpha = pg.cronbach_alpha(reduced_data)\n",
    "    alpha_deleted_items.append((item, alpha))\n",
    "\n",
    "for item, alpha in alpha_deleted_items:\n",
    "    print(\"Item removed:\", item)\n",
    "    print(\"Cronbach's alpha:\", alpha)\n",
    "    print()"
   ]
  },
  {
   "cell_type": "markdown",
   "id": "802b94c8-3bb9-44a2-9223-764d7511442e",
   "metadata": {},
   "source": [
    "### Motivation"
   ]
  },
  {
   "cell_type": "code",
   "execution_count": 100,
   "id": "0de57cc7-d4dc-4698-852f-fdf6fc1f0209",
   "metadata": {},
   "outputs": [
    {
     "name": "stdout",
     "output_type": "stream",
     "text": [
      "353.770865041216 3.178335700995149e-62\n",
      "0.8173086237911033\n"
     ]
    }
   ],
   "source": [
    "#for motivation\n",
    "itemsmot = df[['motivation_1','motivation_2','motivation_3','motivation_4','motivation_5', 'motivation_6', 'motivation_7']]\n",
    "\n",
    "#CHECK ADEQUACY\n",
    "#Bartlett\n",
    "#p-value should be 0 (statistically sig.)\n",
    "chi_square_value,p_value=calculate_bartlett_sphericity(itemsmot)\n",
    "print(chi_square_value, p_value)\n",
    "\n",
    "#KMO\n",
    "#Value should be 0.6<\n",
    "kmo_all,kmo_model=calculate_kmo(itemsmot)\n",
    "print(kmo_model)"
   ]
  },
  {
   "cell_type": "code",
   "execution_count": 104,
   "id": "4145edd2-c6ec-439f-a83c-32e8ed844bb8",
   "metadata": {},
   "outputs": [
    {
     "name": "stderr",
     "output_type": "stream",
     "text": [
      "/Users/hannahwouters/Library/jupyterlab-desktop/jlab_server/lib/python3.8/site-packages/factor_analyzer/factor_analyzer.py:663: UserWarning: No rotation will be performed when the number of factors equals 1.\n",
      "  warnings.warn(\n"
     ]
    },
    {
     "data": {
      "text/html": [
       "<style>#sk-container-id-5 {color: black;}#sk-container-id-5 pre{padding: 0;}#sk-container-id-5 div.sk-toggleable {background-color: white;}#sk-container-id-5 label.sk-toggleable__label {cursor: pointer;display: block;width: 100%;margin-bottom: 0;padding: 0.3em;box-sizing: border-box;text-align: center;}#sk-container-id-5 label.sk-toggleable__label-arrow:before {content: \"▸\";float: left;margin-right: 0.25em;color: #696969;}#sk-container-id-5 label.sk-toggleable__label-arrow:hover:before {color: black;}#sk-container-id-5 div.sk-estimator:hover label.sk-toggleable__label-arrow:before {color: black;}#sk-container-id-5 div.sk-toggleable__content {max-height: 0;max-width: 0;overflow: hidden;text-align: left;background-color: #f0f8ff;}#sk-container-id-5 div.sk-toggleable__content pre {margin: 0.2em;color: black;border-radius: 0.25em;background-color: #f0f8ff;}#sk-container-id-5 input.sk-toggleable__control:checked~div.sk-toggleable__content {max-height: 200px;max-width: 100%;overflow: auto;}#sk-container-id-5 input.sk-toggleable__control:checked~label.sk-toggleable__label-arrow:before {content: \"▾\";}#sk-container-id-5 div.sk-estimator input.sk-toggleable__control:checked~label.sk-toggleable__label {background-color: #d4ebff;}#sk-container-id-5 div.sk-label input.sk-toggleable__control:checked~label.sk-toggleable__label {background-color: #d4ebff;}#sk-container-id-5 input.sk-hidden--visually {border: 0;clip: rect(1px 1px 1px 1px);clip: rect(1px, 1px, 1px, 1px);height: 1px;margin: -1px;overflow: hidden;padding: 0;position: absolute;width: 1px;}#sk-container-id-5 div.sk-estimator {font-family: monospace;background-color: #f0f8ff;border: 1px dotted black;border-radius: 0.25em;box-sizing: border-box;margin-bottom: 0.5em;}#sk-container-id-5 div.sk-estimator:hover {background-color: #d4ebff;}#sk-container-id-5 div.sk-parallel-item::after {content: \"\";width: 100%;border-bottom: 1px solid gray;flex-grow: 1;}#sk-container-id-5 div.sk-label:hover label.sk-toggleable__label {background-color: #d4ebff;}#sk-container-id-5 div.sk-serial::before {content: \"\";position: absolute;border-left: 1px solid gray;box-sizing: border-box;top: 0;bottom: 0;left: 50%;z-index: 0;}#sk-container-id-5 div.sk-serial {display: flex;flex-direction: column;align-items: center;background-color: white;padding-right: 0.2em;padding-left: 0.2em;position: relative;}#sk-container-id-5 div.sk-item {position: relative;z-index: 1;}#sk-container-id-5 div.sk-parallel {display: flex;align-items: stretch;justify-content: center;background-color: white;position: relative;}#sk-container-id-5 div.sk-item::before, #sk-container-id-5 div.sk-parallel-item::before {content: \"\";position: absolute;border-left: 1px solid gray;box-sizing: border-box;top: 0;bottom: 0;left: 50%;z-index: -1;}#sk-container-id-5 div.sk-parallel-item {display: flex;flex-direction: column;z-index: 1;position: relative;background-color: white;}#sk-container-id-5 div.sk-parallel-item:first-child::after {align-self: flex-end;width: 50%;}#sk-container-id-5 div.sk-parallel-item:last-child::after {align-self: flex-start;width: 50%;}#sk-container-id-5 div.sk-parallel-item:only-child::after {width: 0;}#sk-container-id-5 div.sk-dashed-wrapped {border: 1px dashed gray;margin: 0 0.4em 0.5em 0.4em;box-sizing: border-box;padding-bottom: 0.4em;background-color: white;}#sk-container-id-5 div.sk-label label {font-family: monospace;font-weight: bold;display: inline-block;line-height: 1.2em;}#sk-container-id-5 div.sk-label-container {text-align: center;}#sk-container-id-5 div.sk-container {/* jupyter's `normalize.less` sets `[hidden] { display: none; }` but bootstrap.min.css set `[hidden] { display: none !important; }` so we also need the `!important` here to be able to override the default hidden behavior on the sphinx rendered scikit-learn.org. See: https://github.com/scikit-learn/scikit-learn/issues/21755 */display: inline-block !important;position: relative;}#sk-container-id-5 div.sk-text-repr-fallback {display: none;}</style><div id=\"sk-container-id-5\" class=\"sk-top-container\"><div class=\"sk-text-repr-fallback\"><pre>FactorAnalyzer(n_factors=1, rotation_kwargs={})</pre><b>In a Jupyter environment, please rerun this cell to show the HTML representation or trust the notebook. <br />On GitHub, the HTML representation is unable to render, please try loading this page with nbviewer.org.</b></div><div class=\"sk-container\" hidden><div class=\"sk-item\"><div class=\"sk-estimator sk-toggleable\"><input class=\"sk-toggleable__control sk-hidden--visually\" id=\"sk-estimator-id-5\" type=\"checkbox\" checked><label for=\"sk-estimator-id-5\" class=\"sk-toggleable__label sk-toggleable__label-arrow\">FactorAnalyzer</label><div class=\"sk-toggleable__content\"><pre>FactorAnalyzer(n_factors=1, rotation_kwargs={})</pre></div></div></div></div></div>"
      ],
      "text/plain": [
       "FactorAnalyzer(n_factors=1, rotation_kwargs={})"
      ]
     },
     "execution_count": 104,
     "metadata": {},
     "output_type": "execute_result"
    }
   ],
   "source": [
    "# perform the factor analysis using the FactorAnalyzer class. You can specify the number of factors you want to extract using the n_factors parameter:\n",
    "fa2 = FactorAnalyzer(n_factors = 1)\n",
    "\n",
    "# fit the factor analysis model to your data\n",
    "fa2.fit(df[['motivation_1','motivation_2','motivation_3','motivation_4','motivation_5', 'motivation_6', 'motivation_7']])"
   ]
  },
  {
   "cell_type": "code",
   "execution_count": 108,
   "id": "665e3d60-9a0a-4266-8ebd-4128acfce2c6",
   "metadata": {},
   "outputs": [
    {
     "data": {
      "text/plain": [
       "array([[-0.79429817],\n",
       "       [-0.73682683],\n",
       "       [-0.76031785],\n",
       "       [-0.78678047],\n",
       "       [-0.77848662],\n",
       "       [-0.83327733],\n",
       "       [-0.83055302]])"
      ]
     },
     "execution_count": 108,
     "metadata": {},
     "output_type": "execute_result"
    }
   ],
   "source": [
    "# Get the factor loadings\n",
    "loadings2 = fa2.loadings_\n",
    "\n",
    "loadings2"
   ]
  },
  {
   "cell_type": "code",
   "execution_count": 109,
   "id": "928ed83a-5ffa-4fd0-9894-3132038a1cd8",
   "metadata": {},
   "outputs": [
    {
     "data": {
      "text/plain": [
       "array([0.63090958, 0.54291378, 0.57808324, 0.6190235 , 0.60604142,\n",
       "       0.69435112, 0.68981832])"
      ]
     },
     "execution_count": 109,
     "metadata": {},
     "output_type": "execute_result"
    }
   ],
   "source": [
    "# Get the communalities\n",
    "communalities2 = fa2.get_communalities()\n",
    "\n",
    "communalities2"
   ]
  },
  {
   "cell_type": "code",
   "execution_count": 110,
   "id": "3956b686-6ae3-4fae-ab17-8b2aa66f5377",
   "metadata": {},
   "outputs": [
    {
     "data": {
      "text/plain": [
       "array([[ 4.73,  1.06,  0.36,  0.31,  0.23,  0.19,  0.11],\n",
       "       [ 4.36,  0.66,  0.01, -0.03, -0.17, -0.24, -0.25]])"
      ]
     },
     "execution_count": 110,
     "metadata": {},
     "output_type": "execute_result"
    }
   ],
   "source": [
    "# Get the eigenvalues\n",
    "#         Returns\n",
    "#         -------\n",
    "#         original_eigen_values : :obj:`numpy.ndarray`\n",
    "#             The original eigenvalues\n",
    "#         common_factor_eigen_values : :obj:`numpy.ndarray`\n",
    "#             The common factor eigenvalues\n",
    "eigenvalues2 = fa2.get_eigenvalues()\n",
    "\n",
    "np.round(eigenvalues2, decimals = 2)"
   ]
  },
  {
   "cell_type": "code",
   "execution_count": 111,
   "id": "7dcf7a9d-9cfb-4479-a8e8-0e8b81fb0aec",
   "metadata": {},
   "outputs": [
    {
     "data": {
      "text/plain": [
       "(array([4.36114096]), array([0.62302014]), array([0.62302014]))"
      ]
     },
     "execution_count": 111,
     "metadata": {},
     "output_type": "execute_result"
    }
   ],
   "source": [
    "# Get the variance explained by each factor;  \n",
    "#         Returns\n",
    "#         -------\n",
    "#         variance : :obj:`numpy.ndarray`\n",
    "#             The factor variances.\n",
    "#         proportional_variance : :obj:`numpy.ndarray`\n",
    "#             The proportional factor variances.\n",
    "#         cumulative_variances : :obj:`numpy.ndarray`\n",
    "#             The cumulative factor variances.\n",
    "variance_explained2 = fa2.get_factor_variance()\n",
    "\n",
    "variance_explained2"
   ]
  },
  {
   "cell_type": "markdown",
   "id": "24b4c65c-247c-42fc-a881-db2582bd8866",
   "metadata": {},
   "source": [
    "### Checking validity of the variable motivation"
   ]
  },
  {
   "cell_type": "code",
   "execution_count": 112,
   "id": "d760230d-5d46-4833-852f-92615f7932d5",
   "metadata": {},
   "outputs": [
    {
     "data": {
      "text/plain": [
       "(0.9193696444175244, array([0.885, 0.946]))"
      ]
     },
     "execution_count": 112,
     "metadata": {},
     "output_type": "execute_result"
    }
   ],
   "source": [
    "# Calculate the initial Cronbach's alpha\n",
    "pg.cronbach_alpha(itemsmot)"
   ]
  },
  {
   "cell_type": "code",
   "execution_count": 113,
   "id": "b8595980-f8df-43eb-b3ce-93964adf5ce7",
   "metadata": {},
   "outputs": [
    {
     "name": "stdout",
     "output_type": "stream",
     "text": [
      "Item removed: motivation_1\n",
      "Cronbach's alpha: (0.90746192893401, array([0.867, 0.939]))\n",
      "\n",
      "Item removed: motivation_2\n",
      "Cronbach's alpha: (0.9125354080900404, array([0.875, 0.942]))\n",
      "\n",
      "Item removed: motivation_3\n",
      "Cronbach's alpha: (0.9104768795462472, array([0.872, 0.941]))\n",
      "\n",
      "Item removed: motivation_4\n",
      "Cronbach's alpha: (0.906817929489185, array([0.866, 0.938]))\n",
      "\n",
      "Item removed: motivation_5\n",
      "Cronbach's alpha: (0.9075842838524564, array([0.867, 0.939]))\n",
      "\n",
      "Item removed: motivation_6\n",
      "Cronbach's alpha: (0.9022728835233131, array([0.86 , 0.935]))\n",
      "\n",
      "Item removed: motivation_7\n",
      "Cronbach's alpha: (0.9024822695035459, array([0.86 , 0.935]))\n",
      "\n"
     ]
    }
   ],
   "source": [
    "# calculate the alpha value without each item\n",
    "alpha_deleted_itemsmot = []\n",
    "for item in itemsmot.columns:\n",
    "    reduced_data = itemsmot.drop(item, axis=1)\n",
    "    alpha = pg.cronbach_alpha(reduced_data)\n",
    "    alpha_deleted_itemsmot.append((item, alpha))\n",
    "\n",
    "for item, alpha in alpha_deleted_itemsmot:\n",
    "    print(\"Item removed:\", item)\n",
    "    print(\"Cronbach's alpha:\", alpha)\n",
    "    print()"
   ]
  },
  {
   "cell_type": "markdown",
   "id": "96ea19cf-d9d7-4053-9562-4958b3b57407",
   "metadata": {},
   "source": [
    "## Manipulation Checks"
   ]
  },
  {
   "cell_type": "markdown",
   "id": "177ab396-e030-430c-8921-7f8552a1ce20",
   "metadata": {},
   "source": [
    "### Check 1"
   ]
  },
  {
   "cell_type": "code",
   "execution_count": 114,
   "id": "7f0a10ed-99d7-4ecd-b412-6e4c67d0caa3",
   "metadata": {},
   "outputs": [
    {
     "data": {
      "text/html": [
       "<div>\n",
       "<style scoped>\n",
       "    .dataframe tbody tr th:only-of-type {\n",
       "        vertical-align: middle;\n",
       "    }\n",
       "\n",
       "    .dataframe tbody tr th {\n",
       "        vertical-align: top;\n",
       "    }\n",
       "\n",
       "    .dataframe thead th {\n",
       "        text-align: right;\n",
       "    }\n",
       "</style>\n",
       "<table border=\"1\" class=\"dataframe\">\n",
       "  <thead>\n",
       "    <tr style=\"text-align: right;\">\n",
       "      <th>mancheck1</th>\n",
       "      <th>0.0</th>\n",
       "      <th>1.0</th>\n",
       "    </tr>\n",
       "    <tr>\n",
       "      <th>condition</th>\n",
       "      <th></th>\n",
       "      <th></th>\n",
       "    </tr>\n",
       "  </thead>\n",
       "  <tbody>\n",
       "    <tr>\n",
       "      <th>0</th>\n",
       "      <td>11</td>\n",
       "      <td>12</td>\n",
       "    </tr>\n",
       "    <tr>\n",
       "      <th>1</th>\n",
       "      <td>8</td>\n",
       "      <td>33</td>\n",
       "    </tr>\n",
       "  </tbody>\n",
       "</table>\n",
       "</div>"
      ],
      "text/plain": [
       "mancheck1  0.0  1.0\n",
       "condition          \n",
       "0           11   12\n",
       "1            8   33"
      ]
     },
     "execution_count": 114,
     "metadata": {},
     "output_type": "execute_result"
    }
   ],
   "source": [
    "#Crosstab for mancheck1\n",
    "mycrosstab = pd.crosstab(df['condition'], df[\"mancheck1\"])\n",
    "mycrosstab"
   ]
  },
  {
   "cell_type": "code",
   "execution_count": 115,
   "id": "008dc335-74a3-4c89-9b21-1edec40862b2",
   "metadata": {},
   "outputs": [
    {
     "name": "stdout",
     "output_type": "stream",
     "text": [
      "𝜒²(1) = 4.384, p = 0.036 \n",
      "V = 0.297\n"
     ]
    }
   ],
   "source": [
    "#Chisquare for mancheck 1\n",
    "c, p, dof, expected = contingency.chi2_contingency(mycrosstab)\n",
    "print(f\"𝜒²({dof:.0f}) = {c:.3f}, p = {p:.3f} \")\n",
    "\n",
    "# Cramer's V for mancheck1\n",
    "print(f\"V = {contingency.association(mycrosstab,method='cramer'):.3f}\")"
   ]
  },
  {
   "cell_type": "markdown",
   "id": "fd37be30-d812-4905-8ff6-52fe8c5ac0ed",
   "metadata": {},
   "source": [
    "### Check 2"
   ]
  },
  {
   "cell_type": "code",
   "execution_count": 117,
   "id": "5e4a3bcd-9335-434c-83c9-e7e76ee55a42",
   "metadata": {},
   "outputs": [
    {
     "name": "stdout",
     "output_type": "stream",
     "text": [
      "We compare 0 (M=3.65, SD=1.902) with 1 (M=4.10, SD=1.832), t(43.89170179921014)=-0.894, p=0.3764.\n"
     ]
    },
    {
     "data": {
      "text/html": [
       "<div>\n",
       "<style scoped>\n",
       "    .dataframe tbody tr th:only-of-type {\n",
       "        vertical-align: middle;\n",
       "    }\n",
       "\n",
       "    .dataframe tbody tr th {\n",
       "        vertical-align: top;\n",
       "    }\n",
       "\n",
       "    .dataframe thead th {\n",
       "        text-align: right;\n",
       "    }\n",
       "</style>\n",
       "<table border=\"1\" class=\"dataframe\">\n",
       "  <thead>\n",
       "    <tr style=\"text-align: right;\">\n",
       "      <th></th>\n",
       "      <th>T</th>\n",
       "      <th>dof</th>\n",
       "      <th>alternative</th>\n",
       "      <th>p-val</th>\n",
       "      <th>CI95%</th>\n",
       "      <th>cohen-d</th>\n",
       "      <th>BF10</th>\n",
       "      <th>power</th>\n",
       "    </tr>\n",
       "  </thead>\n",
       "  <tbody>\n",
       "    <tr>\n",
       "      <th>T-test</th>\n",
       "      <td>-0.893693</td>\n",
       "      <td>43.891702</td>\n",
       "      <td>two-sided</td>\n",
       "      <td>0.37636</td>\n",
       "      <td>[-1.45, 0.56]</td>\n",
       "      <td>0.235997</td>\n",
       "      <td>0.369</td>\n",
       "      <td>0.144921</td>\n",
       "    </tr>\n",
       "  </tbody>\n",
       "</table>\n",
       "</div>"
      ],
      "text/plain": [
       "               T        dof alternative    p-val          CI95%   cohen-d  \\\n",
       "T-test -0.893693  43.891702   two-sided  0.37636  [-1.45, 0.56]  0.235997   \n",
       "\n",
       "         BF10     power  \n",
       "T-test  0.369  0.144921  "
      ]
     },
     "execution_count": 117,
     "metadata": {},
     "output_type": "execute_result"
    }
   ],
   "source": [
    "#T-test for mancheck2\n",
    "(label1, values1), (label2, values2) = df.groupby('condition')['mancheck2']\n",
    "\n",
    "testresult = pg.ttest(values1, values2)\n",
    "\n",
    "print(f\"We compare {label1} (M={np.mean(values1):.2f}, SD={np.std(values1):.3f}) \"\n",
    "     f\"with {label2} (M={np.mean(values2):.2f}, SD={np.std(values2):.3f}), \"\n",
    "     f\"t({testresult.iloc[0,1]})={testresult.iloc[0,0]:.3f}, \"\n",
    "     f\"p={testresult.iloc[0,3]:.4f}.\")\n",
    "\n",
    "testresult"
   ]
  },
  {
   "cell_type": "markdown",
   "id": "f40619ef-207f-400a-88f0-e8e18d101fb7",
   "metadata": {},
   "source": [
    "## Main Analysis"
   ]
  },
  {
   "cell_type": "markdown",
   "id": "a449eeef-8ec0-4d3e-ae0a-c05e12de03e8",
   "metadata": {},
   "source": [
    "### Mediation Analysis"
   ]
  },
  {
   "cell_type": "code",
   "execution_count": 77,
   "id": "cbda1081-0beb-44fe-b4ff-46748b9bc25a",
   "metadata": {},
   "outputs": [
    {
     "data": {
      "text/html": [
       "<div>\n",
       "<style scoped>\n",
       "    .dataframe tbody tr th:only-of-type {\n",
       "        vertical-align: middle;\n",
       "    }\n",
       "\n",
       "    .dataframe tbody tr th {\n",
       "        vertical-align: top;\n",
       "    }\n",
       "\n",
       "    .dataframe thead th {\n",
       "        text-align: right;\n",
       "    }\n",
       "</style>\n",
       "<table border=\"1\" class=\"dataframe\">\n",
       "  <thead>\n",
       "    <tr style=\"text-align: right;\">\n",
       "      <th></th>\n",
       "      <th>path</th>\n",
       "      <th>coef</th>\n",
       "      <th>se</th>\n",
       "      <th>pval</th>\n",
       "      <th>CI[2.5%]</th>\n",
       "      <th>CI[97.5%]</th>\n",
       "      <th>sig</th>\n",
       "    </tr>\n",
       "  </thead>\n",
       "  <tbody>\n",
       "    <tr>\n",
       "      <th>0</th>\n",
       "      <td>motivation ~ X</td>\n",
       "      <td>-0.516134</td>\n",
       "      <td>0.371547</td>\n",
       "      <td>0.169757</td>\n",
       "      <td>-1.258845</td>\n",
       "      <td>0.226577</td>\n",
       "      <td>No</td>\n",
       "    </tr>\n",
       "    <tr>\n",
       "      <th>1</th>\n",
       "      <td>Y ~ motivation</td>\n",
       "      <td>0.389237</td>\n",
       "      <td>0.097419</td>\n",
       "      <td>0.000174</td>\n",
       "      <td>0.194499</td>\n",
       "      <td>0.583975</td>\n",
       "      <td>Yes</td>\n",
       "    </tr>\n",
       "    <tr>\n",
       "      <th>2</th>\n",
       "      <td>Total</td>\n",
       "      <td>0.058678</td>\n",
       "      <td>0.324449</td>\n",
       "      <td>0.857072</td>\n",
       "      <td>-0.589885</td>\n",
       "      <td>0.707241</td>\n",
       "      <td>No</td>\n",
       "    </tr>\n",
       "    <tr>\n",
       "      <th>3</th>\n",
       "      <td>Direct</td>\n",
       "      <td>0.267656</td>\n",
       "      <td>0.294287</td>\n",
       "      <td>0.366663</td>\n",
       "      <td>-0.320807</td>\n",
       "      <td>0.856119</td>\n",
       "      <td>No</td>\n",
       "    </tr>\n",
       "    <tr>\n",
       "      <th>4</th>\n",
       "      <td>Indirect</td>\n",
       "      <td>-0.208978</td>\n",
       "      <td>0.183418</td>\n",
       "      <td>0.188000</td>\n",
       "      <td>-0.697469</td>\n",
       "      <td>0.048673</td>\n",
       "      <td>No</td>\n",
       "    </tr>\n",
       "  </tbody>\n",
       "</table>\n",
       "</div>"
      ],
      "text/plain": [
       "             path      coef        se      pval  CI[2.5%]  CI[97.5%]  sig\n",
       "0  motivation ~ X -0.516134  0.371547  0.169757 -1.258845   0.226577   No\n",
       "1  Y ~ motivation  0.389237  0.097419  0.000174  0.194499   0.583975  Yes\n",
       "2           Total  0.058678  0.324449  0.857072 -0.589885   0.707241   No\n",
       "3          Direct  0.267656  0.294287  0.366663 -0.320807   0.856119   No\n",
       "4        Indirect -0.208978  0.183418  0.188000 -0.697469   0.048673   No"
      ]
     },
     "execution_count": 77,
     "metadata": {},
     "output_type": "execute_result"
    }
   ],
   "source": [
    "#mediation analysis\n",
    "pg.mediation_analysis(data=df, x='condition', m='motivation', y='satisfaction', seed=42, n_boot=1000)"
   ]
  },
  {
   "cell_type": "markdown",
   "id": "08911ffd-fb28-4caf-9b2c-f89a25314a91",
   "metadata": {},
   "source": [
    "### Regression Analyses for mediator"
   ]
  },
  {
   "cell_type": "code",
   "execution_count": 78,
   "id": "c6b8f4a9-756d-4304-a838-4b006326d79d",
   "metadata": {},
   "outputs": [
    {
     "name": "stdout",
     "output_type": "stream",
     "text": [
      "                            OLS Regression Results                            \n",
      "==============================================================================\n",
      "Dep. Variable:             motivation   R-squared:                       0.030\n",
      "Model:                            OLS   Adj. R-squared:                  0.015\n",
      "Method:                 Least Squares   F-statistic:                     1.930\n",
      "Date:                Tue, 25 Jun 2024   Prob (F-statistic):              0.170\n",
      "Time:                        12:13:29   Log-Likelihood:                -112.52\n",
      "No. Observations:                  64   AIC:                             229.0\n",
      "Df Residuals:                      62   BIC:                             233.4\n",
      "Df Model:                           1                                         \n",
      "Covariance Type:            nonrobust                                         \n",
      "==============================================================================\n",
      "                 coef    std err          t      P>|t|      [0.025      0.975]\n",
      "------------------------------------------------------------------------------\n",
      "Intercept      4.5963      0.297     15.456      0.000       4.002       5.191\n",
      "condition     -0.5161      0.372     -1.389      0.170      -1.259       0.227\n",
      "==============================================================================\n",
      "Omnibus:                        4.933   Durbin-Watson:                   1.794\n",
      "Prob(Omnibus):                  0.085   Jarque-Bera (JB):                4.820\n",
      "Skew:                          -0.627   Prob(JB):                       0.0898\n",
      "Kurtosis:                       2.517   Cond. No.                         3.10\n",
      "==============================================================================\n",
      "\n",
      "Notes:\n",
      "[1] Standard Errors assume that the covariance matrix of the errors is correctly specified.\n"
     ]
    }
   ],
   "source": [
    "#mediator model\n",
    "model_mediator = ols('motivation ~ condition', data=df).fit()\n",
    "print(model_mediator.summary())"
   ]
  },
  {
   "cell_type": "markdown",
   "id": "6177a2f7-54e4-4331-84aa-37193c215487",
   "metadata": {},
   "source": [
    "### Regression for main effect"
   ]
  },
  {
   "cell_type": "code",
   "execution_count": 79,
   "id": "cac08e78-7918-4718-803c-786665e97658",
   "metadata": {},
   "outputs": [
    {
     "name": "stdout",
     "output_type": "stream",
     "text": [
      "                            OLS Regression Results                            \n",
      "==============================================================================\n",
      "Dep. Variable:           satisfaction   R-squared:                       0.215\n",
      "Model:                            OLS   Adj. R-squared:                  0.190\n",
      "Method:                 Least Squares   F-statistic:                     8.373\n",
      "Date:                Tue, 25 Jun 2024   Prob (F-statistic):           0.000612\n",
      "Time:                        12:14:36   Log-Likelihood:                -96.096\n",
      "No. Observations:                  64   AIC:                             198.2\n",
      "Df Residuals:                      61   BIC:                             204.7\n",
      "Df Model:                           2                                         \n",
      "Covariance Type:            nonrobust                                         \n",
      "==============================================================================\n",
      "                 coef    std err          t      P>|t|      [0.025      0.975]\n",
      "------------------------------------------------------------------------------\n",
      "Intercept      3.8202      0.511      7.476      0.000       2.798       4.842\n",
      "condition      0.2677      0.294      0.910      0.367      -0.321       0.856\n",
      "motivation     0.4049      0.099      4.087      0.000       0.207       0.603\n",
      "==============================================================================\n",
      "Omnibus:                       13.994   Durbin-Watson:                   2.116\n",
      "Prob(Omnibus):                  0.001   Jarque-Bera (JB):               15.174\n",
      "Skew:                          -1.079   Prob(JB):                     0.000507\n",
      "Kurtosis:                       4.017   Cond. No.                         18.2\n",
      "==============================================================================\n",
      "\n",
      "Notes:\n",
      "[1] Standard Errors assume that the covariance matrix of the errors is correctly specified.\n"
     ]
    }
   ],
   "source": [
    "#regression for dependent variable\n",
    "model_dv = ols('satisfaction ~ condition + motivation', data=df).fit()\n",
    "print(model_dv.summary())"
   ]
  },
  {
   "cell_type": "code",
   "execution_count": 72,
   "id": "edd40a54-60b9-40f8-ac7b-2e43c0b55420",
   "metadata": {},
   "outputs": [
    {
     "data": {
      "image/png": "[encoded data removed]",
      "text/plain": [
       "<Figure size 800x600 with 1 Axes>"
      ]
     },
     "metadata": {},
     "output_type": "display_data"
    }
   ],
   "source": [
    "#Visualisation of significant effect\n",
    "import matplotlib.pyplot as plt\n",
    "plt.figure(figsize=(8, 6))\n",
    "sns.regplot(x='motivation', y='satisfaction', data=df, scatter_kws={'alpha': 0.7})\n",
    "plt.title('Motivation and Satisfaction')\n",
    "plt.xlabel('Motivation')\n",
    "plt.ylabel('Satisfaction')\n",
    "plt.show()"
   ]
  }
 ],
 "metadata": {
  "kernelspec": {
   "display_name": "Python 3 (ipykernel)",
   "language": "python",
   "name": "python3"
  },
  "language_info": {
   "codemirror_mode": {
    "name": "ipython",
    "version": 3
   },
   "file_extension": ".py",
   "mimetype": "text/x-python",
   "name": "python",
   "nbconvert_exporter": "python",
   "pygments_lexer": "ipython3",
   "version": "3.8.18"
  }
 },
 "nbformat": 4,
 "nbformat_minor": 5
}
