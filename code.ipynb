{
 "cells": [
  {
   "cell_type": "code",
   "execution_count": 1,
   "metadata": {},
   "outputs": [],
   "source": [
    "import pandas as pd\n",
    "from sklearn.feature_extraction.text import CountVectorizer, TfidfVectorizer\n",
    "from sklearn.metrics.pairwise import cosine_similarity"
   ]
  },
  {
   "cell_type": "code",
   "execution_count": 2,
   "metadata": {},
   "outputs": [],
   "source": [
    "def results(insert_book_name, num_recs):\n",
    "    insert_book_name =insert_book_name.lower()\n",
    "\n",
    "    books = pd.read_csv(\"final.csv\")\n",
    "\n",
    "    from sklearn.feature_extraction.text import CountVectorizer, TfidfVectorizer\n",
    "    from sklearn.metrics.pairwise import cosine_similarity\n",
    "    \n",
    "    tfidf = TfidfVectorizer(stop_words='english')\n",
    "    tfidf_matrix = tfidf.fit_transform(books['combined_features'])\n",
    "    cosine_sim = cosine_similarity(tfidf_matrix)\n",
    "\n",
    "    if insert_book_name not in books[\"lower_title\"].unique():\n",
    "        return 'Book not in Database'\n",
    "\n",
    "    else:\n",
    "        indices = pd.Series(books.index, index = books[\"lower_title\"])\n",
    "        index = indices[insert_book_name]\n",
    "        sim_scores = list(enumerate(cosine_sim[index])) \n",
    "        sim_scores = sorted(sim_scores, key=lambda x: x[1], reverse=True)\n",
    "        sim_scores = sim_scores[1:num_recs]\n",
    "        books_indices = [i[0] for i in sim_scores]\n",
    "        return books.iloc[books_indices]['title']\n"
   ]
  },
  {
   "cell_type": "code",
   "execution_count": 3,
   "metadata": {},
   "outputs": [
    {
     "data": {
      "text/plain": [
       "2127       A Picture Book of Anne Frank\n",
       "2128                Who Was Anne Frank?\n",
       "1683    The Secret Diary of Anne Boleyn\n",
       "1256                              Diary\n",
       "1223                  Diary of a Spider\n",
       "1           Bill Bryson's African Diary\n",
       "1387             A Birthday for Frances\n",
       "508        Suzanne's Diary for Nicholas\n",
       "Name: title, dtype: object"
      ]
     },
     "execution_count": 3,
     "metadata": {},
     "output_type": "execute_result"
    }
   ],
   "source": [
    "results(\"The Diary of Anne Frank\", 9)"
   ]
  },
  {
   "cell_type": "code",
   "execution_count": null,
   "metadata": {},
   "outputs": [],
   "source": []
  }
 ],
 "metadata": {
  "kernelspec": {
   "display_name": "Python 3 (ipykernel)",
   "language": "python",
   "name": "python3"
  },
  "language_info": {
   "codemirror_mode": {
    "name": "ipython",
    "version": 3
   },
   "file_extension": ".py",
   "mimetype": "text/x-python",
   "name": "python",
   "nbconvert_exporter": "python",
   "pygments_lexer": "ipython3",
   "version": "3.12.2"
  }
 },
 "nbformat": 4,
 "nbformat_minor": 4
}
