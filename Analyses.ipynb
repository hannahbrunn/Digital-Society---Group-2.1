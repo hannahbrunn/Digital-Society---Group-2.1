{
 "cells": [
  {
   "cell_type": "markdown",
   "id": "388bf280-822c-4c22-96af-84003ffb839b",
   "metadata": {},
   "source": [
    "# To install"
   ]
  },
  {
   "cell_type": "code",
   "execution_count": 3,
   "id": "dfd72589-b4af-4ba7-869e-5bf19138e3a8",
   "metadata": {},
   "outputs": [],
   "source": [
    "import pandas as pd\n",
    "import seaborn as sns"
   ]
  },
  {
   "cell_type": "markdown",
   "id": "9ea1f622-38f6-4731-bcf4-37b61dfb2209",
   "metadata": {},
   "source": [
    "# Pre analysis"
   ]
  },
  {
   "cell_type": "code",
   "execution_count": 4,
   "id": "f22495ee-cc33-48bf-859b-4e28df4cd877",
   "metadata": {},
   "outputs": [],
   "source": [
    "data = \"group21_alltogether.csv\"\n",
    "\n",
    "df = pd.read_csv(data)"
   ]
  },
  {
   "cell_type": "code",
   "execution_count": 5,
   "id": "99edd6ce-9840-44a6-8fcb-fd5d7439a6a0",
   "metadata": {},
   "outputs": [
    {
     "data": {
      "text/html": [
       "<div>\n",
       "<style scoped>\n",
       "    .dataframe tbody tr th:only-of-type {\n",
       "        vertical-align: middle;\n",
       "    }\n",
       "\n",
       "    .dataframe tbody tr th {\n",
       "        vertical-align: top;\n",
       "    }\n",
       "\n",
       "    .dataframe thead th {\n",
       "        text-align: right;\n",
       "    }\n",
       "</style>\n",
       "<table border=\"1\" class=\"dataframe\">\n",
       "  <thead>\n",
       "    <tr style=\"text-align: right;\">\n",
       "      <th></th>\n",
       "      <th>userid</th>\n",
       "      <th>Q2</th>\n",
       "      <th>Q3</th>\n",
       "      <th>Q4</th>\n",
       "      <th>Q5</th>\n",
       "      <th>Q6</th>\n",
       "      <th>Q7</th>\n",
       "      <th>Q8</th>\n",
       "      <th>Q9</th>\n",
       "      <th>Q10</th>\n",
       "      <th>...</th>\n",
       "      <th>condition</th>\n",
       "      <th>prolific</th>\n",
       "      <th>timestart</th>\n",
       "      <th>genre</th>\n",
       "      <th>consent</th>\n",
       "      <th>mancheck1</th>\n",
       "      <th>mancheck2</th>\n",
       "      <th>calibrationid</th>\n",
       "      <th>recommendationid</th>\n",
       "      <th>_merge</th>\n",
       "    </tr>\n",
       "  </thead>\n",
       "  <tbody>\n",
       "    <tr>\n",
       "      <th>0</th>\n",
       "      <td>485</td>\n",
       "      <td>2</td>\n",
       "      <td>2</td>\n",
       "      <td>2</td>\n",
       "      <td>2</td>\n",
       "      <td>NaN</td>\n",
       "      <td>NaN</td>\n",
       "      <td>NaN</td>\n",
       "      <td>NaN</td>\n",
       "      <td>NaN</td>\n",
       "      <td>...</td>\n",
       "      <td>1</td>\n",
       "      <td>http://localhost/group11/</td>\n",
       "      <td>2024-06-14 16:57:47</td>\n",
       "      <td>NaN</td>\n",
       "      <td>NaN</td>\n",
       "      <td>NaN</td>\n",
       "      <td>NaN</td>\n",
       "      <td>NaN</td>\n",
       "      <td>NaN</td>\n",
       "      <td>both in master and using data</td>\n",
       "    </tr>\n",
       "    <tr>\n",
       "      <th>1</th>\n",
       "      <td>488</td>\n",
       "      <td>2</td>\n",
       "      <td>2</td>\n",
       "      <td>2</td>\n",
       "      <td>2</td>\n",
       "      <td>NaN</td>\n",
       "      <td>NaN</td>\n",
       "      <td>NaN</td>\n",
       "      <td>NaN</td>\n",
       "      <td>NaN</td>\n",
       "      <td>...</td>\n",
       "      <td>0</td>\n",
       "      <td>http://localhost/group11/</td>\n",
       "      <td>2024-06-14 17:04:36</td>\n",
       "      <td>NaN</td>\n",
       "      <td>NaN</td>\n",
       "      <td>NaN</td>\n",
       "      <td>NaN</td>\n",
       "      <td>NaN</td>\n",
       "      <td>NaN</td>\n",
       "      <td>both in master and using data</td>\n",
       "    </tr>\n",
       "    <tr>\n",
       "      <th>2</th>\n",
       "      <td>489</td>\n",
       "      <td>2</td>\n",
       "      <td>2</td>\n",
       "      <td>2</td>\n",
       "      <td>2</td>\n",
       "      <td>NaN</td>\n",
       "      <td>NaN</td>\n",
       "      <td>NaN</td>\n",
       "      <td>NaN</td>\n",
       "      <td>NaN</td>\n",
       "      <td>...</td>\n",
       "      <td>1</td>\n",
       "      <td>http://localhost/group11/</td>\n",
       "      <td>2024-06-14 17:17:38</td>\n",
       "      <td>NaN</td>\n",
       "      <td>NaN</td>\n",
       "      <td>NaN</td>\n",
       "      <td>NaN</td>\n",
       "      <td>NaN</td>\n",
       "      <td>NaN</td>\n",
       "      <td>both in master and using data</td>\n",
       "    </tr>\n",
       "    <tr>\n",
       "      <th>3</th>\n",
       "      <td>492</td>\n",
       "      <td>2</td>\n",
       "      <td>2</td>\n",
       "      <td>2</td>\n",
       "      <td>2</td>\n",
       "      <td>NaN</td>\n",
       "      <td>NaN</td>\n",
       "      <td>NaN</td>\n",
       "      <td>NaN</td>\n",
       "      <td>NaN</td>\n",
       "      <td>...</td>\n",
       "      <td>1</td>\n",
       "      <td>http://localhost/group11/</td>\n",
       "      <td>2024-06-14 17:19:24</td>\n",
       "      <td>NaN</td>\n",
       "      <td>NaN</td>\n",
       "      <td>NaN</td>\n",
       "      <td>NaN</td>\n",
       "      <td>NaN</td>\n",
       "      <td>NaN</td>\n",
       "      <td>both in master and using data</td>\n",
       "    </tr>\n",
       "    <tr>\n",
       "      <th>4</th>\n",
       "      <td>497</td>\n",
       "      <td>3</td>\n",
       "      <td>2</td>\n",
       "      <td>2</td>\n",
       "      <td>2</td>\n",
       "      <td>NaN</td>\n",
       "      <td>NaN</td>\n",
       "      <td>NaN</td>\n",
       "      <td>NaN</td>\n",
       "      <td>NaN</td>\n",
       "      <td>...</td>\n",
       "      <td>0</td>\n",
       "      <td>1.5</td>\n",
       "      <td>2024-06-15 20:56:12</td>\n",
       "      <td>NaN</td>\n",
       "      <td>NaN</td>\n",
       "      <td>NaN</td>\n",
       "      <td>NaN</td>\n",
       "      <td>NaN</td>\n",
       "      <td>NaN</td>\n",
       "      <td>both in master and using data</td>\n",
       "    </tr>\n",
       "  </tbody>\n",
       "</table>\n",
       "<p>5 rows × 57 columns</p>\n",
       "</div>"
      ],
      "text/plain": [
       "   userid  Q2  Q3  Q4  Q5  Q6  Q7  Q8  Q9  Q10  ...  condition  \\\n",
       "0     485   2   2   2   2 NaN NaN NaN NaN  NaN  ...          1   \n",
       "1     488   2   2   2   2 NaN NaN NaN NaN  NaN  ...          0   \n",
       "2     489   2   2   2   2 NaN NaN NaN NaN  NaN  ...          1   \n",
       "3     492   2   2   2   2 NaN NaN NaN NaN  NaN  ...          1   \n",
       "4     497   3   2   2   2 NaN NaN NaN NaN  NaN  ...          0   \n",
       "\n",
       "                    prolific            timestart  genre  consent  mancheck1  \\\n",
       "0  http://localhost/group11/  2024-06-14 16:57:47    NaN      NaN        NaN   \n",
       "1  http://localhost/group11/  2024-06-14 17:04:36    NaN      NaN        NaN   \n",
       "2  http://localhost/group11/  2024-06-14 17:17:38    NaN      NaN        NaN   \n",
       "3  http://localhost/group11/  2024-06-14 17:19:24    NaN      NaN        NaN   \n",
       "4                        1.5  2024-06-15 20:56:12    NaN      NaN        NaN   \n",
       "\n",
       "   mancheck2  calibrationid  recommendationid                         _merge  \n",
       "0        NaN            NaN               NaN  both in master and using data  \n",
       "1        NaN            NaN               NaN  both in master and using data  \n",
       "2        NaN            NaN               NaN  both in master and using data  \n",
       "3        NaN            NaN               NaN  both in master and using data  \n",
       "4        NaN            NaN               NaN  both in master and using data  \n",
       "\n",
       "[5 rows x 57 columns]"
      ]
     },
     "execution_count": 5,
     "metadata": {},
     "output_type": "execute_result"
    }
   ],
   "source": [
    "df.head()"
   ]
  },
  {
   "cell_type": "code",
   "execution_count": 6,
   "id": "7facfa85-882d-41ea-9a06-f0966d8077ca",
   "metadata": {},
   "outputs": [
    {
     "data": {
      "text/plain": [
       "(136, 57)"
      ]
     },
     "execution_count": 6,
     "metadata": {},
     "output_type": "execute_result"
    }
   ],
   "source": [
    "df.shape"
   ]
  },
  {
   "cell_type": "code",
   "execution_count": 7,
   "id": "3737372d-bb3b-4be5-b243-29c8d0bbbc85",
   "metadata": {},
   "outputs": [
    {
     "data": {
      "text/plain": [
       "Index(['userid', 'Q2', 'Q3', 'Q4', 'Q5', 'Q6', 'Q7', 'Q8', 'Q9', 'Q10', 'Q11',\n",
       "       'Q12', 'Q13', 'Q14', 'Q15', 'Q16', 'Q17', 'Q18', 'Q19', 'Q20', 'Q21',\n",
       "       'Q22', 'Q23', 'Q24', 'Q25', 'Q26', 'Q27', 'Q28', 'Q29', 'Q30', 'Q31',\n",
       "       'Q32', 'Q33', 'Q34', 'Q35', 'Q36', 'Q37', 'Q38', 'Q39', 'Q40', 'Q41',\n",
       "       'Q42', 'age', 'gender', 'device', 'education', 'time', 'condition',\n",
       "       'prolific', 'timestart', 'genre', 'consent', 'mancheck1', 'mancheck2',\n",
       "       'calibrationid', 'recommendationid', '_merge'],\n",
       "      dtype='object')"
      ]
     },
     "execution_count": 7,
     "metadata": {},
     "output_type": "execute_result"
    }
   ],
   "source": [
    "df.columns"
   ]
  },
  {
   "cell_type": "code",
   "execution_count": 8,
   "id": "c1dbfdfb-1c89-4556-a6de-a303dbe2f2a9",
   "metadata": {},
   "outputs": [
    {
     "data": {
      "text/plain": [
       "userid                int64\n",
       "Q2                    int64\n",
       "Q3                    int64\n",
       "Q4                    int64\n",
       "Q5                    int64\n",
       "Q6                  float64\n",
       "Q7                  float64\n",
       "Q8                  float64\n",
       "Q9                  float64\n",
       "Q10                 float64\n",
       "Q11                 float64\n",
       "Q12                 float64\n",
       "Q13                 float64\n",
       "Q14                 float64\n",
       "Q15                 float64\n",
       "Q16                 float64\n",
       "Q17                 float64\n",
       "Q18                 float64\n",
       "Q19                 float64\n",
       "Q20                 float64\n",
       "Q21                 float64\n",
       "Q22                 float64\n",
       "Q23                 float64\n",
       "Q24                 float64\n",
       "Q25                 float64\n",
       "Q26                 float64\n",
       "Q27                 float64\n",
       "Q28                 float64\n",
       "Q29                 float64\n",
       "Q30                 float64\n",
       "Q31                 float64\n",
       "Q32                 float64\n",
       "Q33                 float64\n",
       "Q34                 float64\n",
       "Q35                 float64\n",
       "Q36                 float64\n",
       "Q37                 float64\n",
       "Q38                 float64\n",
       "Q39                 float64\n",
       "Q40                 float64\n",
       "Q41                 float64\n",
       "Q42                 float64\n",
       "age                 float64\n",
       "gender              float64\n",
       "device              float64\n",
       "education           float64\n",
       "time                 object\n",
       "condition             int64\n",
       "prolific             object\n",
       "timestart            object\n",
       "genre               float64\n",
       "consent             float64\n",
       "mancheck1           float64\n",
       "mancheck2           float64\n",
       "calibrationid       float64\n",
       "recommendationid    float64\n",
       "_merge               object\n",
       "dtype: object"
      ]
     },
     "execution_count": 8,
     "metadata": {},
     "output_type": "execute_result"
    }
   ],
   "source": [
    "df.dtypes"
   ]
  },
  {
   "cell_type": "markdown",
   "id": "db8dd0c7-b284-4124-851c-b5c4731f0787",
   "metadata": {},
   "source": [
    "## Dropping the users that answered before 2024-06-21 14:00"
   ]
  },
  {
   "cell_type": "code",
   "execution_count": 9,
   "id": "c509746f-be3f-4111-b530-40f2a1d5e132",
   "metadata": {},
   "outputs": [
    {
     "data": {
      "text/plain": [
       "count                     136\n",
       "unique                    136\n",
       "top       2024-06-14 16:57:47\n",
       "freq                        1\n",
       "Name: timestart, dtype: object"
      ]
     },
     "execution_count": 9,
     "metadata": {},
     "output_type": "execute_result"
    }
   ],
   "source": [
    "#first checking the column\n",
    "df[\"timestart\"].describe()"
   ]
  },
  {
   "cell_type": "code",
   "execution_count": 10,
   "id": "8dcf8fa0-5470-4575-8817-daa72a300698",
   "metadata": {},
   "outputs": [
    {
     "data": {
      "text/plain": [
       "'2024-06-23 23:47:10'"
      ]
     },
     "execution_count": 10,
     "metadata": {},
     "output_type": "execute_result"
    }
   ],
   "source": [
    "df[\"timestart\"].max()"
   ]
  },
  {
   "cell_type": "code",
   "execution_count": 11,
   "id": "f9b09a5c-1e5c-428a-b8e2-49f0212ec46e",
   "metadata": {},
   "outputs": [
    {
     "data": {
      "text/plain": [
       "'2024-06-14 16:57:47'"
      ]
     },
     "execution_count": 11,
     "metadata": {},
     "output_type": "execute_result"
    }
   ],
   "source": [
    "df[\"timestart\"].min()"
   ]
  },
  {
   "cell_type": "code",
   "execution_count": 12,
   "id": "3b42d288-f910-46bc-8879-5b5a94f5128f",
   "metadata": {},
   "outputs": [],
   "source": [
    "#Convert the date\n",
    "df['timestart'] = pd.to_datetime(df['timestart'])"
   ]
  },
  {
   "cell_type": "code",
   "execution_count": 13,
   "id": "65466db0-a5ed-438d-af4c-44c8933eb93b",
   "metadata": {},
   "outputs": [
    {
     "data": {
      "text/plain": [
       "0     2024-06-14 16:57:47\n",
       "1     2024-06-14 17:04:36\n",
       "2     2024-06-14 17:17:38\n",
       "3     2024-06-14 17:19:24\n",
       "4     2024-06-15 20:56:12\n",
       "              ...        \n",
       "131   2024-06-22 21:18:03\n",
       "132   2024-06-23 01:38:36\n",
       "133   2024-06-23 15:17:58\n",
       "134   2024-06-23 16:17:09\n",
       "135   2024-06-23 23:47:10\n",
       "Name: timestart, Length: 136, dtype: datetime64[ns]"
      ]
     },
     "execution_count": 13,
     "metadata": {},
     "output_type": "execute_result"
    }
   ],
   "source": [
    "df['timestart']"
   ]
  },
  {
   "cell_type": "code",
   "execution_count": 14,
   "id": "913624bf-446c-450d-9167-13042ae4a857",
   "metadata": {},
   "outputs": [],
   "source": [
    " # Filter data between two dates -> used this https://www.geeksforgeeks.org/how-to-filter-dataframe-rows-based-on-the-date-in-pandas/\n",
    "filtered_df = df.loc[(df['timestart'] >= '2024-06-21 14:00')\n",
    "                     & (df['timestart'] <= '2024-06-23 23:47:10')]"
   ]
  },
  {
   "cell_type": "code",
   "execution_count": 15,
   "id": "6ae409da-4ae4-4c05-9e07-550d2da3eb42",
   "metadata": {
    "scrolled": true
   },
   "outputs": [
    {
     "data": {
      "text/html": [
       "<div>\n",
       "<style scoped>\n",
       "    .dataframe tbody tr th:only-of-type {\n",
       "        vertical-align: middle;\n",
       "    }\n",
       "\n",
       "    .dataframe tbody tr th {\n",
       "        vertical-align: top;\n",
       "    }\n",
       "\n",
       "    .dataframe thead th {\n",
       "        text-align: right;\n",
       "    }\n",
       "</style>\n",
       "<table border=\"1\" class=\"dataframe\">\n",
       "  <thead>\n",
       "    <tr style=\"text-align: right;\">\n",
       "      <th></th>\n",
       "      <th>userid</th>\n",
       "      <th>Q2</th>\n",
       "      <th>Q3</th>\n",
       "      <th>Q4</th>\n",
       "      <th>Q5</th>\n",
       "      <th>Q6</th>\n",
       "      <th>Q7</th>\n",
       "      <th>Q8</th>\n",
       "      <th>Q9</th>\n",
       "      <th>Q10</th>\n",
       "      <th>...</th>\n",
       "      <th>condition</th>\n",
       "      <th>prolific</th>\n",
       "      <th>timestart</th>\n",
       "      <th>genre</th>\n",
       "      <th>consent</th>\n",
       "      <th>mancheck1</th>\n",
       "      <th>mancheck2</th>\n",
       "      <th>calibrationid</th>\n",
       "      <th>recommendationid</th>\n",
       "      <th>_merge</th>\n",
       "    </tr>\n",
       "  </thead>\n",
       "  <tbody>\n",
       "    <tr>\n",
       "      <th>50</th>\n",
       "      <td>599</td>\n",
       "      <td>4</td>\n",
       "      <td>2</td>\n",
       "      <td>2</td>\n",
       "      <td>2</td>\n",
       "      <td>2.0</td>\n",
       "      <td>2.0</td>\n",
       "      <td>4.0</td>\n",
       "      <td>2.0</td>\n",
       "      <td>2.0</td>\n",
       "      <td>...</td>\n",
       "      <td>1</td>\n",
       "      <td>https://recipe-study.wur.nl/gr</td>\n",
       "      <td>2024-06-21 14:06:27</td>\n",
       "      <td>3.0</td>\n",
       "      <td>1.0</td>\n",
       "      <td>0.0</td>\n",
       "      <td>2.0</td>\n",
       "      <td>683.0</td>\n",
       "      <td>2017.0</td>\n",
       "      <td>both in master and using data</td>\n",
       "    </tr>\n",
       "    <tr>\n",
       "      <th>51</th>\n",
       "      <td>600</td>\n",
       "      <td>7</td>\n",
       "      <td>7</td>\n",
       "      <td>7</td>\n",
       "      <td>7</td>\n",
       "      <td>7.0</td>\n",
       "      <td>7.0</td>\n",
       "      <td>5.0</td>\n",
       "      <td>5.0</td>\n",
       "      <td>5.0</td>\n",
       "      <td>...</td>\n",
       "      <td>1</td>\n",
       "      <td>https://recipe-study.wur.nl/gr</td>\n",
       "      <td>2024-06-21 14:29:48</td>\n",
       "      <td>1.0</td>\n",
       "      <td>1.0</td>\n",
       "      <td>0.0</td>\n",
       "      <td>4.0</td>\n",
       "      <td>769.0</td>\n",
       "      <td>1841.0</td>\n",
       "      <td>both in master and using data</td>\n",
       "    </tr>\n",
       "    <tr>\n",
       "      <th>52</th>\n",
       "      <td>601</td>\n",
       "      <td>4</td>\n",
       "      <td>4</td>\n",
       "      <td>4</td>\n",
       "      <td>4</td>\n",
       "      <td>4.0</td>\n",
       "      <td>4.0</td>\n",
       "      <td>7.0</td>\n",
       "      <td>7.0</td>\n",
       "      <td>7.0</td>\n",
       "      <td>...</td>\n",
       "      <td>0</td>\n",
       "      <td>https://recipe-study.wur.nl/gr</td>\n",
       "      <td>2024-06-21 14:33:58</td>\n",
       "      <td>1.0</td>\n",
       "      <td>1.0</td>\n",
       "      <td>1.0</td>\n",
       "      <td>4.0</td>\n",
       "      <td>305.0</td>\n",
       "      <td>304.0</td>\n",
       "      <td>both in master and using data</td>\n",
       "    </tr>\n",
       "    <tr>\n",
       "      <th>53</th>\n",
       "      <td>602</td>\n",
       "      <td>6</td>\n",
       "      <td>7</td>\n",
       "      <td>6</td>\n",
       "      <td>5</td>\n",
       "      <td>5.0</td>\n",
       "      <td>7.0</td>\n",
       "      <td>7.0</td>\n",
       "      <td>4.0</td>\n",
       "      <td>5.0</td>\n",
       "      <td>...</td>\n",
       "      <td>1</td>\n",
       "      <td>https://recipe-study.wur.nl/gr</td>\n",
       "      <td>2024-06-21 14:35:16</td>\n",
       "      <td>1.0</td>\n",
       "      <td>1.0</td>\n",
       "      <td>1.0</td>\n",
       "      <td>4.0</td>\n",
       "      <td>417.0</td>\n",
       "      <td>418.0</td>\n",
       "      <td>both in master and using data</td>\n",
       "    </tr>\n",
       "    <tr>\n",
       "      <th>54</th>\n",
       "      <td>603</td>\n",
       "      <td>6</td>\n",
       "      <td>7</td>\n",
       "      <td>7</td>\n",
       "      <td>7</td>\n",
       "      <td>6.0</td>\n",
       "      <td>7.0</td>\n",
       "      <td>6.0</td>\n",
       "      <td>7.0</td>\n",
       "      <td>7.0</td>\n",
       "      <td>...</td>\n",
       "      <td>1</td>\n",
       "      <td>https://recipe-study.wur.nl/gr</td>\n",
       "      <td>2024-06-21 14:39:19</td>\n",
       "      <td>1.0</td>\n",
       "      <td>1.0</td>\n",
       "      <td>1.0</td>\n",
       "      <td>3.0</td>\n",
       "      <td>1277.0</td>\n",
       "      <td>1276.0</td>\n",
       "      <td>both in master and using data</td>\n",
       "    </tr>\n",
       "  </tbody>\n",
       "</table>\n",
       "<p>5 rows × 57 columns</p>\n",
       "</div>"
      ],
      "text/plain": [
       "    userid  Q2  Q3  Q4  Q5   Q6   Q7   Q8   Q9  Q10  ...  condition  \\\n",
       "50     599   4   2   2   2  2.0  2.0  4.0  2.0  2.0  ...          1   \n",
       "51     600   7   7   7   7  7.0  7.0  5.0  5.0  5.0  ...          1   \n",
       "52     601   4   4   4   4  4.0  4.0  7.0  7.0  7.0  ...          0   \n",
       "53     602   6   7   6   5  5.0  7.0  7.0  4.0  5.0  ...          1   \n",
       "54     603   6   7   7   7  6.0  7.0  6.0  7.0  7.0  ...          1   \n",
       "\n",
       "                          prolific           timestart  genre  consent  \\\n",
       "50  https://recipe-study.wur.nl/gr 2024-06-21 14:06:27    3.0      1.0   \n",
       "51  https://recipe-study.wur.nl/gr 2024-06-21 14:29:48    1.0      1.0   \n",
       "52  https://recipe-study.wur.nl/gr 2024-06-21 14:33:58    1.0      1.0   \n",
       "53  https://recipe-study.wur.nl/gr 2024-06-21 14:35:16    1.0      1.0   \n",
       "54  https://recipe-study.wur.nl/gr 2024-06-21 14:39:19    1.0      1.0   \n",
       "\n",
       "    mancheck1  mancheck2  calibrationid  recommendationid  \\\n",
       "50        0.0        2.0          683.0            2017.0   \n",
       "51        0.0        4.0          769.0            1841.0   \n",
       "52        1.0        4.0          305.0             304.0   \n",
       "53        1.0        4.0          417.0             418.0   \n",
       "54        1.0        3.0         1277.0            1276.0   \n",
       "\n",
       "                           _merge  \n",
       "50  both in master and using data  \n",
       "51  both in master and using data  \n",
       "52  both in master and using data  \n",
       "53  both in master and using data  \n",
       "54  both in master and using data  \n",
       "\n",
       "[5 rows x 57 columns]"
      ]
     },
     "execution_count": 15,
     "metadata": {},
     "output_type": "execute_result"
    }
   ],
   "source": [
    "filtered_df.head()"
   ]
  },
  {
   "cell_type": "code",
   "execution_count": 16,
   "id": "f2fa6192-f74a-4540-a35a-329c20e4080f",
   "metadata": {},
   "outputs": [
    {
     "data": {
      "text/plain": [
       "Timestamp('2024-06-14 16:57:47')"
      ]
     },
     "execution_count": 16,
     "metadata": {},
     "output_type": "execute_result"
    }
   ],
   "source": [
    "#checking it worked \n",
    "df[\"timestart\"].min()"
   ]
  },
  {
   "cell_type": "code",
   "execution_count": 17,
   "id": "4a712787-b11e-4a1a-8747-bedd6adec97b",
   "metadata": {},
   "outputs": [
    {
     "data": {
      "text/plain": [
       "Timestamp('2024-06-23 23:47:10')"
      ]
     },
     "execution_count": 17,
     "metadata": {},
     "output_type": "execute_result"
    }
   ],
   "source": [
    "df[\"timestart\"].max()"
   ]
  },
  {
   "cell_type": "code",
   "execution_count": 18,
   "id": "d896b147-edaf-4bdf-ac96-5901d119bb03",
   "metadata": {},
   "outputs": [
    {
     "name": "stdout",
     "output_type": "stream",
     "text": [
      "Original df was (136, 57)\n",
      "Filtered df is (86, 57)\n"
     ]
    }
   ],
   "source": [
    "print(f'Original df was {df.shape}')\n",
    "print(f'Filtered df is {filtered_df.shape}')"
   ]
  },
  {
   "cell_type": "code",
   "execution_count": 19,
   "id": "2d906367-f9b5-41c2-849b-f9a95cec1115",
   "metadata": {},
   "outputs": [
    {
     "name": "stdout",
     "output_type": "stream",
     "text": [
      "Removed 50 values from the original DF\n"
     ]
    }
   ],
   "source": [
    "print(f'Removed {len(df)-len(filtered_df)} values from the original DF')"
   ]
  },
  {
   "cell_type": "code",
   "execution_count": 20,
   "id": "d4c474ea-408e-4b0f-b51d-3be96f977062",
   "metadata": {},
   "outputs": [],
   "source": [
    "#saving to csv\n",
    "filtered_df.to_csv(\"removed_dates.csv\", index = False)"
   ]
  },
  {
   "cell_type": "markdown",
   "id": "b9e89413-dcd0-4bab-a29e-97b547b89430",
   "metadata": {},
   "source": [
    "## Removing those who did not consent and are under 18"
   ]
  },
  {
   "cell_type": "code",
   "execution_count": 21,
   "id": "66af8486-545c-484d-8ae6-72c69bfc1416",
   "metadata": {},
   "outputs": [],
   "source": [
    "data = \"removed_dates.csv\"\n",
    "\n",
    "df = pd.read_csv(data)"
   ]
  },
  {
   "cell_type": "code",
   "execution_count": 22,
   "id": "58001595-6549-49db-a2b2-fcf45cb7a655",
   "metadata": {},
   "outputs": [],
   "source": [
    "df_consent = df[(df[\"consent\"] == 1) & (df[\"age\"] >= 18)]"
   ]
  },
  {
   "cell_type": "code",
   "execution_count": 23,
   "id": "a98175ba-a947-4d2a-991f-b4b3d6cf89f4",
   "metadata": {},
   "outputs": [
    {
     "name": "stdout",
     "output_type": "stream",
     "text": [
      "Removed 10 values from the original DF\n"
     ]
    }
   ],
   "source": [
    "print(f'Removed {len(df)-len(df_consent)} values from the original DF')"
   ]
  },
  {
   "cell_type": "code",
   "execution_count": 24,
   "id": "1c2e632a-5d62-46cd-b2df-89190b19640e",
   "metadata": {},
   "outputs": [],
   "source": [
    "#saving those that consented, and are above 18 to a csv\n",
    "df_consent.to_csv(\"consent.csv\", index = False)"
   ]
  },
  {
   "cell_type": "markdown",
   "id": "99da821d-02f9-42be-8633-1a476be90f0f",
   "metadata": {},
   "source": [
    "## Removing Data based on Prolific"
   ]
  },
  {
   "cell_type": "code",
   "execution_count": 25,
   "id": "adde7af6-2ffd-44d1-ab09-468266d27d09",
   "metadata": {},
   "outputs": [],
   "source": [
    "df=pd.read_csv(\"consent.csv\")"
   ]
  },
  {
   "cell_type": "code",
   "execution_count": 26,
   "id": "ba58049c-25af-464f-8a6e-8713030295ba",
   "metadata": {},
   "outputs": [
    {
     "data": {
      "text/plain": [
       "prolific\n",
       "https://recipe-study.wur.nl/gr                          68\n",
       "https://recipe-study.wur.nl/group21_bookrecommender/     5\n",
       "fbclid=PAZXh0bgNhZW0CMTEAAab6i                           1\n",
       "fbclid=PAZXh0bgNhZW0CMTEAAabVk                           1\n",
       "fbclid=PAZXh0bgNhZW0CMTEAAaY85                           1\n",
       "Name: count, dtype: int64"
      ]
     },
     "execution_count": 26,
     "metadata": {},
     "output_type": "execute_result"
    }
   ],
   "source": [
    "df['prolific'].value_counts()"
   ]
  },
  {
   "cell_type": "code",
   "execution_count": 27,
   "id": "00ce968b-7b44-4bdf-8273-d2b16680af84",
   "metadata": {},
   "outputs": [],
   "source": [
    "values_to_keep = ['https://recipe-study.wur.nl/gr']\n",
    "\n",
    "filtered_df = df[df['prolific'].isin(values_to_keep)]"
   ]
  },
  {
   "cell_type": "code",
   "execution_count": 28,
   "id": "aeba76f9-d2fb-4bec-b913-c5dd86b1f95c",
   "metadata": {},
   "outputs": [
    {
     "data": {
      "text/plain": [
       "prolific\n",
       "https://recipe-study.wur.nl/gr    68\n",
       "Name: count, dtype: int64"
      ]
     },
     "execution_count": 28,
     "metadata": {},
     "output_type": "execute_result"
    }
   ],
   "source": [
    "filtered_df['prolific'].value_counts()"
   ]
  },
  {
   "cell_type": "code",
   "execution_count": 29,
   "id": "ab224ee1-6fd8-47d8-b9c9-74f41ececfee",
   "metadata": {},
   "outputs": [
    {
     "name": "stdout",
     "output_type": "stream",
     "text": [
      "Original df was (76, 57)\n",
      "Filtered df is (68, 57)\n"
     ]
    }
   ],
   "source": [
    "print(f'Original df was {df.shape}')\n",
    "print(f'Filtered df is {filtered_df.shape}')"
   ]
  },
  {
   "cell_type": "code",
   "execution_count": 30,
   "id": "a54d574d-5afb-4e57-b83c-08ee0d586e15",
   "metadata": {},
   "outputs": [],
   "source": [
    "filtered_df.to_csv(\"prolific.csv\", index = False)"
   ]
  },
  {
   "cell_type": "markdown",
   "id": "57ec40b6-9af3-44c6-af4a-0431e72080ec",
   "metadata": {},
   "source": [
    "## Changing column names"
   ]
  },
  {
   "cell_type": "code",
   "execution_count": 31,
   "id": "42dd95e4-9172-4ff5-8151-c4903bb1d4a6",
   "metadata": {},
   "outputs": [],
   "source": [
    "df = pd.read_csv(\"prolific.csv\")"
   ]
  },
  {
   "cell_type": "code",
   "execution_count": 32,
   "id": "9b7a2d3e-2276-4271-8218-1625e802862b",
   "metadata": {},
   "outputs": [
    {
     "data": {
      "text/plain": [
       "Index(['userid', 'Q2', 'Q3', 'Q4', 'Q5', 'Q6', 'Q7', 'Q8', 'Q9', 'Q10', 'Q11',\n",
       "       'Q12', 'Q13', 'Q14', 'Q15', 'Q16', 'Q17', 'Q18', 'Q19', 'Q20', 'Q21',\n",
       "       'Q22', 'Q23', 'Q24', 'Q25', 'Q26', 'Q27', 'Q28', 'Q29', 'Q30', 'Q31',\n",
       "       'Q32', 'Q33', 'Q34', 'Q35', 'Q36', 'Q37', 'Q38', 'Q39', 'Q40', 'Q41',\n",
       "       'Q42', 'age', 'gender', 'device', 'education', 'time', 'condition',\n",
       "       'prolific', 'timestart', 'genre', 'consent', 'mancheck1', 'mancheck2',\n",
       "       'calibrationid', 'recommendationid', '_merge'],\n",
       "      dtype='object')"
      ]
     },
     "execution_count": 32,
     "metadata": {},
     "output_type": "execute_result"
    }
   ],
   "source": [
    "df.columns"
   ]
  },
  {
   "cell_type": "code",
   "execution_count": 33,
   "id": "8e143bb7-8ab5-4ad2-9c5b-6cce0fd64e60",
   "metadata": {},
   "outputs": [],
   "source": [
    "df.rename(columns={'Q2': 'satisfaction_1', 'Q3': 'satisfaction_2', 'Q4': 'satisfaction_3', 'Q5': 'satisfaction_4', 'Q6': 'satisfaction_5', 'Q7': 'satisfaction_6'}, inplace=True)"
   ]
  },
  {
   "cell_type": "code",
   "execution_count": 34,
   "id": "f0257917-2620-4748-92d1-4e677101fd49",
   "metadata": {},
   "outputs": [],
   "source": [
    "df.rename(columns={'Q8': 'credibility_1', 'Q9': 'credibility_2', 'Q10': 'credibility_3', 'Q11': 'credibility_4', 'Q12': 'credibility_5', 'Q13': 'credibility_6', 'Q14': 'credibility_7', 'Q15': 'credibility_8', 'Q16': 'credibility_9', 'Q17': 'credibility_10', 'Q18': 'credibility_11', 'Q19': 'credibility_12'}, inplace=True)"
   ]
  },
  {
   "cell_type": "code",
   "execution_count": 35,
   "id": "ea850a90-b4af-4cd1-9f7a-f0b230ede6b9",
   "metadata": {},
   "outputs": [],
   "source": [
    "df.rename(columns={'Q20': 'motivation_1', 'Q21': 'motivation_2', 'Q22': 'motivation_3', 'Q23': 'motivation_4', 'Q24': 'motivation_5', 'Q25': 'motivation_6', 'Q26': 'motivation_7', 'Q27': 'motivation_8', 'Q28': 'motivation_9', 'Q29': 'motivation_10', 'Q30': 'motivation_11', 'Q31': 'motivation_12'}, inplace=True)"
   ]
  },
  {
   "cell_type": "code",
   "execution_count": 36,
   "id": "b3695465-009a-4912-8494-acc0383b2865",
   "metadata": {},
   "outputs": [],
   "source": [
    "df.rename(columns={'Q32': 'anthropomorphism_1', 'Q33': 'anthropomorphism_2', 'Q34': 'anthropomorphism_3', 'Q35': 'anthropomorphism_4'}, inplace=True)"
   ]
  },
  {
   "cell_type": "code",
   "execution_count": 37,
   "id": "d24b0e65-4c31-485e-9b21-82b8a1ad5487",
   "metadata": {},
   "outputs": [],
   "source": [
    "df.rename(columns={'Q36': 'control(reading_habits)', 'Q37': 'control(previous_experience_with_RS)'}, inplace=True)"
   ]
  },
  {
   "cell_type": "code",
   "execution_count": 38,
   "id": "a39cbaee-7534-447f-814d-d94b59fbd1b8",
   "metadata": {},
   "outputs": [],
   "source": [
    "df.rename(columns={'Q38': 'conscientiousness_1', 'Q39': 'conscientiousness_2', 'Q40': 'conscientiousness_3', 'Q41': 'conscientiousness_4', 'Q42': 'conscientiousness_5'}, inplace=True)"
   ]
  },
  {
   "cell_type": "code",
   "execution_count": 39,
   "id": "8d77bd5c-e01c-4091-be18-062e131632bd",
   "metadata": {},
   "outputs": [
    {
     "data": {
      "text/plain": [
       "Index(['userid', 'satisfaction_1', 'satisfaction_2', 'satisfaction_3',\n",
       "       'satisfaction_4', 'satisfaction_5', 'satisfaction_6', 'credibility_1',\n",
       "       'credibility_2', 'credibility_3', 'credibility_4', 'credibility_5',\n",
       "       'credibility_6', 'credibility_7', 'credibility_8', 'credibility_9',\n",
       "       'credibility_10', 'credibility_11', 'credibility_12', 'motivation_1',\n",
       "       'motivation_2', 'motivation_3', 'motivation_4', 'motivation_5',\n",
       "       'motivation_6', 'motivation_7', 'motivation_8', 'motivation_9',\n",
       "       'motivation_10', 'motivation_11', 'motivation_12', 'anthropomorphism_1',\n",
       "       'anthropomorphism_2', 'anthropomorphism_3', 'anthropomorphism_4',\n",
       "       'control(reading_habits)', 'control(previous_experience_with_RS)',\n",
       "       'conscientiousness_1', 'conscientiousness_2', 'conscientiousness_3',\n",
       "       'conscientiousness_4', 'conscientiousness_5', 'age', 'gender', 'device',\n",
       "       'education', 'time', 'condition', 'prolific', 'timestart', 'genre',\n",
       "       'consent', 'mancheck1', 'mancheck2', 'calibrationid',\n",
       "       'recommendationid', '_merge'],\n",
       "      dtype='object')"
      ]
     },
     "execution_count": 39,
     "metadata": {},
     "output_type": "execute_result"
    }
   ],
   "source": [
    "df.columns"
   ]
  },
  {
   "cell_type": "code",
   "execution_count": 40,
   "id": "f9cd4e5b-5f16-42c2-a063-2afa1bf0c770",
   "metadata": {},
   "outputs": [],
   "source": [
    "#save to df\n",
    "df.to_csv(\"renamed.csv\", index = False)"
   ]
  },
  {
   "cell_type": "markdown",
   "id": "8ecb389d-d420-4135-8513-f30a598914ee",
   "metadata": {},
   "source": [
    "# Removing NA"
   ]
  },
  {
   "cell_type": "code",
   "execution_count": 41,
   "id": "7455948f-4b01-460d-9832-d2d4ced32451",
   "metadata": {},
   "outputs": [],
   "source": [
    "df = pd.read_csv(\"renamed.csv\")"
   ]
  },
  {
   "cell_type": "code",
   "execution_count": 42,
   "id": "26b52bf7-12ef-43a4-98ba-f2daf395e9c4",
   "metadata": {},
   "outputs": [],
   "source": [
    "df_na = df.dropna()"
   ]
  },
  {
   "cell_type": "code",
   "execution_count": 43,
   "id": "25cf522e-376e-4618-aa8f-d00aaadc10eb",
   "metadata": {},
   "outputs": [
    {
     "name": "stdout",
     "output_type": "stream",
     "text": [
      "Original df was (68, 57)\n",
      "Filtered df is (66, 57)\n"
     ]
    }
   ],
   "source": [
    "print(f'Original df was {df.shape}')\n",
    "print(f'Filtered df is {df_na.shape}')"
   ]
  },
  {
   "cell_type": "markdown",
   "id": "374a5f1a-8ee2-4a2c-9f76-adad5356b93f",
   "metadata": {},
   "source": [
    "# removing -1 value"
   ]
  },
  {
   "cell_type": "code",
   "execution_count": 44,
   "id": "82f889b2-957d-4948-8434-db91d4ba2d4b",
   "metadata": {},
   "outputs": [],
   "source": [
    "df_one= df_na[df_na['mancheck1'] != -1]"
   ]
  },
  {
   "cell_type": "code",
   "execution_count": 45,
   "id": "0839c592-8e63-4261-b04c-1744bb91313c",
   "metadata": {},
   "outputs": [
    {
     "name": "stdout",
     "output_type": "stream",
     "text": [
      "Original df was (66, 57)\n",
      "Checking if one was removed from df (65, 57)\n"
     ]
    }
   ],
   "source": [
    "print(f'Original df was {df_na.shape}')\n",
    "print(f'Checking if one was removed from df {df_one.shape}')"
   ]
  },
  {
   "cell_type": "code",
   "execution_count": 46,
   "id": "41839a25-7851-477b-aa3f-a122705d944e",
   "metadata": {},
   "outputs": [],
   "source": [
    "#saving again\n",
    "df_one.to_csv(\"removed.csv\", index = False)"
   ]
  },
  {
   "cell_type": "markdown",
   "id": "34de2a32-d8d5-47a2-85c2-3f156a573530",
   "metadata": {},
   "source": [
    "# Making variable - device type (just for my analysis)"
   ]
  },
  {
   "cell_type": "code",
   "execution_count": 47,
   "id": "9bc1dcda-3d64-4d08-a143-a4e8c23097bd",
   "metadata": {},
   "outputs": [],
   "source": [
    "df = pd.read_csv(\"removed.csv\")"
   ]
  },
  {
   "cell_type": "code",
   "execution_count": 48,
   "id": "b0824ae1-316b-498f-852e-333b0b1d93c9",
   "metadata": {},
   "outputs": [
    {
     "data": {
      "text/plain": [
       "65"
      ]
     },
     "execution_count": 48,
     "metadata": {},
     "output_type": "execute_result"
    }
   ],
   "source": [
    "len(df)"
   ]
  },
  {
   "cell_type": "code",
   "execution_count": 49,
   "id": "ed8f75c3-cd02-468a-93f6-22b7b8498328",
   "metadata": {},
   "outputs": [
    {
     "data": {
      "text/plain": [
       "device_type\n",
       "non-computer    58\n",
       "computer         7\n",
       "Name: count, dtype: int64"
      ]
     },
     "execution_count": 49,
     "metadata": {},
     "output_type": "execute_result"
    }
   ],
   "source": [
    "#making device type -> using code from the notebook (only necessary for my analysis)\n",
    "\n",
    "def makemygroups(row):     \n",
    "    #any combination of contitions can be entered here     \n",
    "    if row['device'] == 1:        \n",
    "        return \"computer\"     \n",
    "    else:         \n",
    "        return \"non-computer\"      \n",
    "\n",
    "\n",
    "df['device_type'] = df.apply(makemygroups,axis=1) \n",
    "df['device_type'].value_counts()"
   ]
  },
  {
   "cell_type": "code",
   "execution_count": 50,
   "id": "810f061e-6da4-4008-a041-2a98948ee5d9",
   "metadata": {},
   "outputs": [
    {
     "data": {
      "text/plain": [
       "<Axes: xlabel='device_type', ylabel='count'>"
      ]
     },
     "execution_count": 50,
     "metadata": {},
     "output_type": "execute_result"
    },
    {
     "data": {
      "image/png": "[encoded data removed]",
      "text/plain": [
       "<Figure size 640x480 with 1 Axes>"
      ]
     },
     "metadata": {},
     "output_type": "display_data"
    }
   ],
   "source": [
    "sns.countplot(data = df, x = \"device_type\",  hue = \"condition\")"
   ]
  },
  {
   "cell_type": "code",
   "execution_count": 51,
   "id": "5c045483-5b63-4620-9c2b-7ade9b39da29",
   "metadata": {},
   "outputs": [],
   "source": [
    "#saving to final csv\n",
    "\n",
    "df.to_csv(\"final_cleaned.csv\", index = False)"
   ]
  }
 ],
 "metadata": {
  "kernelspec": {
   "display_name": "Python 3 (ipykernel)",
   "language": "python",
   "name": "python3"
  },
  "language_info": {
   "codemirror_mode": {
    "name": "ipython",
    "version": 3
   },
   "file_extension": ".py",
   "mimetype": "text/x-python",
   "name": "python",
   "nbconvert_exporter": "python",
   "pygments_lexer": "ipython3",
   "version": "3.12.2"
  }
 },
 "nbformat": 4,
 "nbformat_minor": 5
}
